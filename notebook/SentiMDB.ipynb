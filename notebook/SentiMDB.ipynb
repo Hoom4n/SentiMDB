{
 "cells": [
  {
   "cell_type": "markdown",
   "id": "e7c363b2-e7ba-4e36-ad5a-edebaded60d3",
   "metadata": {
    "id": "e7c363b2-e7ba-4e36-ad5a-edebaded60d3"
   },
   "source": [
    "<center> <h1> IMDB Reviews Sentiment Analysis"
   ]
  },
  {
   "cell_type": "markdown",
   "id": "a2ef9a61-881a-4da0-a061-767c417632ba",
   "metadata": {
    "id": "a2ef9a61-881a-4da0-a061-767c417632ba"
   },
   "source": [
    "**Introduction**\n",
    "\n",
    "This notebook presents the development of a **lightweight, production-ready sentiment analysis pipeline** built on IMDb movie reviews. The objective is to classify text as positive or negative using traditional NLP and machine learning techniques—**no deep learning or embeddings**, to keep the solution interpretable and easy to deploy.\n",
    "\n",
    "The project begins with a brief exploratory data analysis to understand class balance, review length, and basic patterns. In Part 2, multiple **text preprocessing techniques** are demonstrated—from basic cleaning to more advanced steps like contraction expansion and punctuation handling—both to improve model performance and highlight their individual impact for educational purposes.\n",
    "\n",
    "A custom `TextPreprocessor` class, fully compatible with Scikit-Learn pipelines, is created to make preprocessing modular, configurable, and production-friendly. Several machine learning models are evaluated through cross-validation. Among them, **Logistic Regression** consistently delivers the best results when paired with tuned preprocessing and model hyperparameters—achieving a final accuracy of **91.67%**.\n",
    "\n",
    "The final model is saved as a complete Scikit-Learn pipeline, ready for reuse.\n",
    "\n",
    "**Deployment-Ready**\n",
    "\n",
    "This project is designed with deployment in mind. The full pipeline can be served using:\n",
    "\n",
    "* A **Flask-based web application** with a clean interface for inference\n",
    "* A **Dockerized version** of the app for containerized deployment on any platform\n",
    "* A published preprocessing module (`hoomanmltk`) installable via PyPI or GitHub, making it easy to reuse the core text cleaning component in any project\n",
    "\n",
    "All deployment options and setup instructions are available in the project repository:\n",
    "**[https://github.com/Hoom4n/SentiMDB](https://github.com/Hoom4n/SentiMDB)**\n",
    "\n",
    "This is a full end-to-end solution—from raw text to a Dockerized web app—built entirely on classical NLP and machine learning."
   ]
  },
  {
   "cell_type": "markdown",
   "id": "d4c283be-aebb-42b0-86a9-55d65490bb6c",
   "metadata": {
    "id": "d4c283be-aebb-42b0-86a9-55d65490bb6c",
    "jp-MarkdownHeadingCollapsed": true
   },
   "source": [
    "## Part 1: Data Preparation & Quick EDA"
   ]
  },
  {
   "cell_type": "markdown",
   "id": "99c5c34c-43a7-4623-915d-3020b3ca6c36",
   "metadata": {
    "jp-MarkdownHeadingCollapsed": true
   },
   "source": [
    "### 1.1. Imports"
   ]
  },
  {
   "cell_type": "code",
   "execution_count": 2,
   "id": "f477c84f-4d26-4994-946c-1af39a4ff9b7",
   "metadata": {
    "executionInfo": {
     "elapsed": 13269,
     "status": "ok",
     "timestamp": 1747049998333,
     "user": {
      "displayName": "Briareos AQR",
      "userId": "09540852608963434189"
     },
     "user_tz": -210
    },
    "id": "f477c84f-4d26-4994-946c-1af39a4ff9b7"
   },
   "outputs": [],
   "source": [
    "# Core Libraries\n",
    "import re\n",
    "import string\n",
    "import time\n",
    "import warnings\n",
    "import logging\n",
    "import os\n",
    "\n",
    "#from optuna.exceptions import TrialPruned\n",
    "from sklearn.metrics import f1_score, accuracy_score\n",
    "\n",
    "# Data Handling\n",
    "import numpy as np\n",
    "import pandas as pd\n",
    "import optuna\n",
    "\n",
    "# Visualization\n",
    "import matplotlib.pyplot as plt\n",
    "from wordcloud import WordCloud\n",
    "from tqdm import tqdm\n",
    "from sklearn.metrics import ConfusionMatrixDisplay, classification_report\n",
    "from sklearn.model_selection import learning_curve\n",
    "import seaborn as sns\n",
    "\n",
    "# Text Processing\n",
    "import contractions\n",
    "from nltk.tokenize import word_tokenize\n",
    "from nltk.stem import PorterStemmer, WordNetLemmatizer\n",
    "from nltk.sentiment.vader import SentimentIntensityAnalyzer\n",
    "from textblob import TextBlob\n",
    "from nltk.corpus import stopwords\n",
    "\n",
    "# Scikit-learn Utilities\n",
    "from sklearn.base import BaseEstimator, TransformerMixin\n",
    "from sklearn.utils.validation import check_is_fitted\n",
    "from sklearn.preprocessing import LabelEncoder, FunctionTransformer\n",
    "from sklearn.pipeline import Pipeline, make_pipeline\n",
    "from sklearn.model_selection import (train_test_split, GridSearchCV, cross_validate, StratifiedKFold, cross_val_predict, cross_val_score)\n",
    "from sklearn.feature_extraction.text import CountVectorizer, TfidfVectorizer\n",
    "\n",
    "# Classifiers\n",
    "from sklearn.linear_model import LogisticRegression\n",
    "from sklearn.svm import LinearSVC\n",
    "from sklearn.ensemble import (RandomForestClassifier, ExtraTreesClassifier, AdaBoostClassifier, StackingClassifier)\n",
    "from sklearn.neighbors import KNeighborsClassifier\n",
    "from sklearn.naive_bayes import MultinomialNB\n",
    "from lightgbm import LGBMClassifier\n",
    "from xgboost import XGBClassifier\n",
    "\n",
    "# Parallel Processing\n",
    "from joblib import Parallel, delayed"
   ]
  },
  {
   "cell_type": "code",
   "execution_count": null,
   "id": "88c1ef37-4e7d-40cb-af58-212147a0fa12",
   "metadata": {},
   "outputs": [],
   "source": [
    "# Download necessary NLTK resources\n",
    "import nltk\n",
    "\n",
    "nltk.download('punkt')\n",
    "nltk.download('vader_lexicon')  \n",
    "nltk.download('stopwords') \n",
    "nltk.download('wordnet')  \n",
    "nltk.download('punkt_tab')"
   ]
  },
  {
   "cell_type": "code",
   "execution_count": null,
   "id": "6ee755a1-c91b-4778-bc49-59a6bb1bcdbe",
   "metadata": {},
   "outputs": [],
   "source": [
    "# Loading DataSet from Kaggle\n",
    "\n",
    "import kagglehub\n",
    "\n",
    "\n",
    "path = kagglehub.dataset_download(\"lakshmi25npathi/imdb-dataset-of-50k-movie-reviews\")\n",
    "\n",
    "imdb_df = pd.read_csv(os.path.join(path, \"IMDB Dataset.csv\"))"
   ]
  },
  {
   "cell_type": "markdown",
   "id": "a8a61012-dc16-4a4b-a9df-817cb7137b07",
   "metadata": {
    "jp-MarkdownHeadingCollapsed": true
   },
   "source": [
    "### 1.2. Quick EDA"
   ]
  },
  {
   "cell_type": "code",
   "execution_count": 5,
   "id": "ed0fcb1c-b6e8-44e7-8747-c35e3ce4fcf7",
   "metadata": {},
   "outputs": [
    {
     "name": "stdout",
     "output_type": "stream",
     "text": [
      "<class 'pandas.core.frame.DataFrame'>\n",
      "RangeIndex: 50000 entries, 0 to 49999\n",
      "Data columns (total 2 columns):\n",
      " #   Column     Non-Null Count  Dtype \n",
      "---  ------     --------------  ----- \n",
      " 0   review     50000 non-null  object\n",
      " 1   sentiment  50000 non-null  object\n",
      "dtypes: object(2)\n",
      "memory usage: 781.4+ KB\n"
     ]
    }
   ],
   "source": [
    "imdb_df.info()"
   ]
  },
  {
   "cell_type": "code",
   "execution_count": 3,
   "id": "8282c004-02b7-4861-8f5e-dc5c6ba5c714",
   "metadata": {},
   "outputs": [
    {
     "data": {
      "text/html": [
       "<div>\n",
       "<style scoped>\n",
       "    .dataframe tbody tr th:only-of-type {\n",
       "        vertical-align: middle;\n",
       "    }\n",
       "\n",
       "    .dataframe tbody tr th {\n",
       "        vertical-align: top;\n",
       "    }\n",
       "\n",
       "    .dataframe thead th {\n",
       "        text-align: right;\n",
       "    }\n",
       "</style>\n",
       "<table border=\"1\" class=\"dataframe\">\n",
       "  <thead>\n",
       "    <tr style=\"text-align: right;\">\n",
       "      <th></th>\n",
       "      <th>review</th>\n",
       "      <th>sentiment</th>\n",
       "    </tr>\n",
       "  </thead>\n",
       "  <tbody>\n",
       "    <tr>\n",
       "      <th>0</th>\n",
       "      <td>One of the other reviewers has mentioned that ...</td>\n",
       "      <td>positive</td>\n",
       "    </tr>\n",
       "    <tr>\n",
       "      <th>1</th>\n",
       "      <td>A wonderful little production. &lt;br /&gt;&lt;br /&gt;The...</td>\n",
       "      <td>positive</td>\n",
       "    </tr>\n",
       "    <tr>\n",
       "      <th>2</th>\n",
       "      <td>I thought this was a wonderful way to spend ti...</td>\n",
       "      <td>positive</td>\n",
       "    </tr>\n",
       "    <tr>\n",
       "      <th>3</th>\n",
       "      <td>Basically there's a family where a little boy ...</td>\n",
       "      <td>negative</td>\n",
       "    </tr>\n",
       "    <tr>\n",
       "      <th>4</th>\n",
       "      <td>Petter Mattei's \"Love in the Time of Money\" is...</td>\n",
       "      <td>positive</td>\n",
       "    </tr>\n",
       "  </tbody>\n",
       "</table>\n",
       "</div>"
      ],
      "text/plain": [
       "                                              review sentiment\n",
       "0  One of the other reviewers has mentioned that ...  positive\n",
       "1  A wonderful little production. <br /><br />The...  positive\n",
       "2  I thought this was a wonderful way to spend ti...  positive\n",
       "3  Basically there's a family where a little boy ...  negative\n",
       "4  Petter Mattei's \"Love in the Time of Money\" is...  positive"
      ]
     },
     "execution_count": 3,
     "metadata": {},
     "output_type": "execute_result"
    }
   ],
   "source": [
    "imdb_df.head()"
   ]
  },
  {
   "cell_type": "code",
   "execution_count": 12,
   "id": "4ac1e191-bee0-4f0c-ba06-e0844e3f5ecf",
   "metadata": {},
   "outputs": [
    {
     "name": "stdout",
     "output_type": "stream",
     "text": [
      "Average Reviews word count: 231.15694\n",
      "\n"
     ]
    },
    {
     "data": {
      "image/png": "[encoded data removed]",
      "text/plain": [
       "<Figure size 640x480 with 1 Axes>"
      ]
     },
     "metadata": {},
     "output_type": "display_data"
    }
   ],
   "source": [
    "# Distribution of Review Lengths (in Words)\n",
    "\n",
    "imdb_df['word_count'] = imdb_df['review'].apply(lambda x: len(x.split()))\n",
    "print(f\"Average Reviews word count: {imdb_df['word_count'].mean()}\\n\")\n",
    "sns.histplot(imdb_df['word_count'] , kde=True)\n",
    "plt.xlabel(\"Word Count\")\n",
    "plt.title(\"Distribution of Review Lengths (in Words)\")\n",
    "plt.xlim(0,1000)\n",
    "plt.show()"
   ]
  },
  {
   "cell_type": "code",
   "execution_count": 29,
   "id": "5426b051-9d7c-4a81-9460-6e8a1bc2b53a",
   "metadata": {},
   "outputs": [
    {
     "data": {
      "image/png": "[encoded data removed]",
      "text/plain": [
       "<Figure size 640x480 with 1 Axes>"
      ]
     },
     "metadata": {},
     "output_type": "display_data"
    }
   ],
   "source": [
    "# Word Count Distribution vs Sentiment\n",
    "\n",
    "sns.boxplot(x='sentiment', y='word_count', data=imdb_df)\n",
    "plt.title(\"Word Count Distribution by Sentiment\")\n",
    "plt.show()"
   ]
  },
  {
   "cell_type": "code",
   "execution_count": 13,
   "id": "329fe09b-bb7e-4364-8744-4a325f23046a",
   "metadata": {
    "id": "329fe09b-bb7e-4364-8744-4a325f23046a",
    "outputId": "cde8b32d-2cc4-4f52-b10a-51cb3a1e4e06"
   },
   "outputs": [
    {
     "data": {
      "image/png": "[encoded data removed]",
      "text/plain": [
       "<Figure size 640x480 with 1 Axes>"
      ]
     },
     "metadata": {},
     "output_type": "display_data"
    }
   ],
   "source": [
    "# Target Distributation Inspection\n",
    "\n",
    "def target_pie(y, y_encoded=True):\n",
    "    if not y_encoded:\n",
    "        y = LabelEncoder().fit_transform(y)\n",
    "    plt.pie([sum(y==0), sum(y==1)], labels=[\"Class Negative\" , \"Class Positive\"] , autopct='%1.1f%%', labeldistance=.3,\n",
    "           pctdistance=1.25, explode=(0,0.1), shadow=True, startangle=9)\n",
    "    plt.title(\"Class Distributation\")\n",
    "    plt.show()\n",
    "\n",
    "target_pie(imdb_df.iloc[:,1], y_encoded=False)"
   ]
  },
  {
   "cell_type": "code",
   "execution_count": 19,
   "id": "9095da59-8490-4309-9e61-91a95e68f773",
   "metadata": {},
   "outputs": [
    {
     "data": {
      "text/plain": [
       "array(['positive', 'negative'], dtype=object)"
      ]
     },
     "execution_count": 19,
     "metadata": {},
     "output_type": "execute_result"
    }
   ],
   "source": [
    "# Check for not acceptable target values\n",
    "\n",
    "imdb_df.iloc[:,1].unique()"
   ]
  },
  {
   "cell_type": "code",
   "execution_count": 16,
   "id": "8f695060-8a3f-4b2a-a37c-74f0136a7b78",
   "metadata": {},
   "outputs": [
    {
     "name": "stdout",
     "output_type": "stream",
     "text": [
      "One of the other reviewers has mentioned that after watching just 1 Oz episode you'll be hooked. They are right, as this is exactly what happened with me.<br /><br />The first thing that struck me about Oz was its brutality and unflinching scenes of violence, which set in right from the word GO. Trust me, this is not a show for the faint hearted or timid. This show pulls no punches with regards to drugs, sex or violence. Its is hardcore, in the classic use of the word.<br /><br />It is called OZ as that is the nickname given to the Oswald Maximum Security State Penitentary. It focuses mainly on Emerald City, an experimental section of the prison where all the cells have glass fronts and face inwards, so privacy is not high on the agenda. Em City is home to many..Aryans, Muslims, gangstas, Latinos, Christians, Italians, Irish and more....so scuffles, death stares, dodgy dealings and shady agreements are never far away.<br /><br />I would say the main appeal of the show is due to the fact that it goes where other shows wouldn't dare. Forget pretty pictures painted for mainstream audiences, forget charm, forget romance...OZ doesn't mess around. The first episode I ever saw struck me as so nasty it was surreal, I couldn't say I was ready for it, but as I watched more, I developed a taste for Oz, and got accustomed to the high levels of graphic violence. Not just violence, but injustice (crooked guards who'll be sold out for a nickel, inmates who'll kill on order and get away with it, well mannered, middle class inmates being turned into prison bitches due to their lack of street skills or prison experience) Watching Oz, you may become comfortable with what is uncomfortable viewing....thats if you can get in touch with your darker side.\n"
     ]
    }
   ],
   "source": [
    "# Prinitng a sample\n",
    "\n",
    "print(imdb_df.iloc[0,0])"
   ]
  },
  {
   "cell_type": "markdown",
   "id": "99a6fef5-bade-4b26-b1b0-fc864698a386",
   "metadata": {},
   "source": [
    "**Data Analysis**\n",
    "\n",
    "- The dataset consists of 50,000 movie reviews collected from the IMDb website, with two polarities: Negative & Postive.\n",
    "- Balanced Target Classes: The dataset contains roughly equal numbers of positive and negative reviews, so stratified sampling for the test set is not necessary.\n",
    "- On average, each review contains approximately 230 words. However, the exact number will be determined after preprocessing steps such as removing markdown tags. Most reviews tend to be around 180 words in length.\n",
    "- No significant difference in word count was observed between positive and negative reviews."
   ]
  },
  {
   "cell_type": "code",
   "execution_count": 3,
   "id": "a909a0e4-7f1f-4350-b1b0-412677c9e45d",
   "metadata": {
    "executionInfo": {
     "elapsed": 309,
     "status": "ok",
     "timestamp": 1747050530612,
     "user": {
      "displayName": "Briareos AQR",
      "userId": "09540852608963434189"
     },
     "user_tz": -210
    },
    "id": "a909a0e4-7f1f-4350-b1b0-412677c9e45d"
   },
   "outputs": [],
   "source": [
    "# Since classes are equally distibuted, I'll shuffle them and pick 0.15 of data as Test Set\n",
    "\n",
    "X_train, X_test, y_train, y_test = train_test_split(imdb_df[\"review\"], imdb_df[\"sentiment\"], test_size=0.15, shuffle=True, random_state=42)\n",
    "\n",
    "X_train.reset_index(drop=True, inplace=True)\n",
    "y_train.reset_index(drop=True, inplace=True)\n",
    "\n",
    "encoder = LabelEncoder()\n",
    "y_train = encoder.fit_transform(y_train)\n",
    "y_test = encoder.transform(y_test)"
   ]
  },
  {
   "cell_type": "markdown",
   "id": "85212059-cf71-47d8-ab76-b658ad52c5bf",
   "metadata": {
    "id": "85212059-cf71-47d8-ab76-b658ad52c5bf",
    "jp-MarkdownHeadingCollapsed": true
   },
   "source": [
    "## Part 2: Exploring Text Preprocessing Techniques"
   ]
  },
  {
   "cell_type": "markdown",
   "id": "0e6263ef-9538-4dbd-b644-ecc2a86e02de",
   "metadata": {
    "id": "0e6263ef-9538-4dbd-b644-ecc2a86e02de",
    "jp-MarkdownHeadingCollapsed": true
   },
   "source": [
    "### 2.1. Text Cleaning"
   ]
  },
  {
   "cell_type": "markdown",
   "id": "b0413bc5-ea0f-4171-9e51-c47825b97acf",
   "metadata": {
    "id": "b0413bc5-ea0f-4171-9e51-c47825b97acf"
   },
   "source": [
    "Text cleaning steps are necessary to prepare raw text for analysis or machine learning by eliminating unwanted characters and inconsistencies.\n",
    "\n",
    "**Removing HTML/Markdown Tags**\n",
    "HTML or Markdown tags (e.g., `<br>`, `**`) are formatting elements that do not provide meaningful information for sentiment analysis. Removing\n",
    "\n",
    "**Removing Special Characters, Punctuation, and Digits**\n",
    "Special characters and punctuation marks (e.g., `!`, `@`, `#`) usually don't carry significant sentiment information. Digits (e.g., \"2025\", \"123\") may also be irrelevant in some contexts. Removing them ensures the focus remains on the words.\n",
    "\n",
    "**Removing Extra Whitespace**\n",
    "Extra spaces, tabs, or line breaks can distort the text and cause issues in tokenization. Removing unnecessary whitespace ensures uniformity and cleaner data for further processing.\n",
    "\n",
    "**Lowercasing**\n",
    "Converting all text to lowercase ensures that words like \"Movie\" and \"movie\" are treated as the same, which helps reduce redundancy and improves the model's performance.\n",
    "Here’s a polished version of your note in a more formal, robot-generated tone:\n",
    "\n",
    "**<i>Note:** It is possible to replace numbers or URLs with a constant, such as `NUMBER`, to reduce noise. Raw digits themselves can introduce noise, as machine learning algorithms may learn that specific numbers (e.g., the digit \"6\") frequently appear in negative reviews, which could lead to misclassification in future predictions. By replacing numbers or URLs, we remove this noise while preserving the information that these elements represent a number or a URL. This approach has been implemented in the `TextProcessor` transformer class."
   ]
  },
  {
   "cell_type": "code",
   "execution_count": 29,
   "id": "0a53fc02-2b7c-422f-bc9a-f417dd3e9fd9",
   "metadata": {},
   "outputs": [
    {
     "data": {
      "text/plain": [
       "'If it wasn\\'t for some immature gullible idiot I know insisting that I watch this \"documentary\" I would never have seen this comedy! This film is full of bad scripting and laughable moments. One in particular is where the Afghan police / soldiers arrest Don Larson for filming in the streets while they allow the cameraman to carry on filming his arrest and then drive away, still filming, presumably to his plush hotel. Then there\\'s the scene where a car crashes into another car which has been turned upside down and parked nicely on the side of the road without any evidence of it being in a crash or explosion.<br /><br />I am surprised this has currently got the rating it has (5.8 / 10). I thought IMDb users had more sense.www.example.url'"
      ]
     },
     "execution_count": 29,
     "metadata": {},
     "output_type": "execute_result"
    }
   ],
   "source": [
    "# TrainSet sample text\n",
    "\n",
    "text = X_train[6] + \"www.example.url\"\n",
    "text"
   ]
  },
  {
   "cell_type": "code",
   "execution_count": 30,
   "id": "c5af65c1-a7ba-468e-a4cc-9c51191ab17b",
   "metadata": {
    "id": "c5af65c1-a7ba-468e-a4cc-9c51191ab17b",
    "outputId": "ee0d159f-a7ee-47c1-94c8-01493310d134"
   },
   "outputs": [
    {
     "data": {
      "text/plain": [
       "'If it wasn\\'t for some immature gullible idiot I know insisting that I watch this \"documentary\" I would never have seen this comedy! This film is full of bad scripting and laughable moments. One in particular is where the Afghan police / soldiers arrest Don Larson for filming in the streets while they allow the cameraman to carry on filming his arrest and then drive away, still filming, presumably to his plush hotel. Then there\\'s the scene where a car crashes into another car which has been turned upside down and parked nicely on the side of the road without any evidence of it being in a crash or explosion.  I am surprised this has currently got the rating it has (5.8 / 10). I thought IMDb users had more sense.www.example.url'"
      ]
     },
     "execution_count": 30,
     "metadata": {},
     "output_type": "execute_result"
    }
   ],
   "source": [
    "# removing markdowns\n",
    "\n",
    "text = re.sub(r'<[^>]+>|#+\\s|\\*\\*?|-{2,}', ' ', text)\n",
    "text"
   ]
  },
  {
   "cell_type": "code",
   "execution_count": 31,
   "id": "dbfd7454-8e13-4771-a319-8e24d4fece3a",
   "metadata": {
    "id": "dbfd7454-8e13-4771-a319-8e24d4fece3a",
    "outputId": "be57910d-3108-4750-8280-f4ef4ba3831f"
   },
   "outputs": [
    {
     "data": {
      "text/plain": [
       "'If it wasn\\'t for some immature gullible idiot I know insisting that I watch this \"documentary\" I would never have seen this comedy! This film is full of bad scripting and laughable moments. One in particular is where the Afghan police / soldiers arrest Don Larson for filming in the streets while they allow the cameraman to carry on filming his arrest and then drive away, still filming, presumably to his plush hotel. Then there\\'s the scene where a car crashes into another car which has been turned upside down and parked nicely on the side of the road without any evidence of it being in a crash or explosion.  I am surprised this has currently got the rating it has (5.8 / 10). I thought IMDb users had more sense. '"
      ]
     },
     "execution_count": 31,
     "metadata": {},
     "output_type": "execute_result"
    }
   ],
   "source": [
    "# removing urls\n",
    "\n",
    "text = re.sub(r'https?://\\S+|www\\.\\S+', ' ', text)\n",
    "text"
   ]
  },
  {
   "cell_type": "code",
   "execution_count": 32,
   "id": "d4bf0bb7-8ce1-4d70-b8a5-60d2d56264c1",
   "metadata": {
    "id": "d4bf0bb7-8ce1-4d70-b8a5-60d2d56264c1",
    "outputId": "a57acee2-edec-471d-ab9a-0ddeda9fb85b"
   },
   "outputs": [
    {
     "data": {
      "text/plain": [
       "'If it wasnt for some immature gullible idiot I know insisting that I watch this documentary I would never have seen this comedy This film is full of bad scripting and laughable moments One in particular is where the Afghan police  soldiers arrest Don Larson for filming in the streets while they allow the cameraman to carry on filming his arrest and then drive away still filming presumably to his plush hotel Then theres the scene where a car crashes into another car which has been turned upside down and parked nicely on the side of the road without any evidence of it being in a crash or explosion  I am surprised this has currently got the rating it has 58  10 I thought IMDb users had more sense '"
      ]
     },
     "execution_count": 32,
     "metadata": {},
     "output_type": "execute_result"
    }
   ],
   "source": [
    "# remove punctuations\n",
    "\n",
    "text = text.translate(str.maketrans('', '', string.punctuation))\n",
    "text"
   ]
  },
  {
   "cell_type": "code",
   "execution_count": 33,
   "id": "a18ed3e8-2ed6-408f-b167-034c98a40b3f",
   "metadata": {
    "id": "a18ed3e8-2ed6-408f-b167-034c98a40b3f",
    "outputId": "af9370f2-3ae3-4037-cb8b-37ede25b86fd"
   },
   "outputs": [
    {
     "data": {
      "text/plain": [
       "'If it wasnt for some immature gullible idiot I know insisting that I watch this documentary I would never have seen this comedy This film is full of bad scripting and laughable moments One in particular is where the Afghan police  soldiers arrest Don Larson for filming in the streets while they allow the cameraman to carry on filming his arrest and then drive away still filming presumably to his plush hotel Then theres the scene where a car crashes into another car which has been turned upside down and parked nicely on the side of the road without any evidence of it being in a crash or explosion  I am surprised this has currently got the rating it has    I thought IMDb users had more sense '"
      ]
     },
     "execution_count": 33,
     "metadata": {},
     "output_type": "execute_result"
    }
   ],
   "source": [
    "# remove numbers\n",
    "\n",
    "text = re.sub(r'\\d+', '', text)\n",
    "text"
   ]
  },
  {
   "cell_type": "code",
   "execution_count": 34,
   "id": "b56d3689-3208-4779-a99e-9c7e80f2aa87",
   "metadata": {
    "id": "b56d3689-3208-4779-a99e-9c7e80f2aa87",
    "outputId": "ccd9d682-a81c-439d-bb2d-d63a5ff47a44"
   },
   "outputs": [
    {
     "name": "stdout",
     "output_type": "stream",
     "text": [
      "if it wasnt for some immature gullible idiot i know insisting that i watch this documentary i would never have seen this comedy this film is full of bad scripting and laughable moments one in particular is where the afghan police  soldiers arrest don larson for filming in the streets while they allow the cameraman to carry on filming his arrest and then drive away still filming presumably to his plush hotel then theres the scene where a car crashes into another car which has been turned upside down and parked nicely on the side of the road without any evidence of it being in a crash or explosion  i am surprised this has currently got the rating it has    i thought imdb users had more sense \n"
     ]
    }
   ],
   "source": [
    "# lower casing\n",
    "\n",
    "text = text.lower()\n",
    "print(text)"
   ]
  },
  {
   "cell_type": "markdown",
   "id": "f9fc93ef-ebd4-4e08-a023-3789f016eaaa",
   "metadata": {
    "id": "f9fc93ef-ebd4-4e08-a023-3789f016eaaa",
    "jp-MarkdownHeadingCollapsed": true
   },
   "source": [
    "### 2.2. Text Normalization"
   ]
  },
  {
   "cell_type": "markdown",
   "id": "f05a9bc9-2500-49d6-829e-9a0c7acfed8f",
   "metadata": {
    "id": "f05a9bc9-2500-49d6-829e-9a0c7acfed8f"
   },
   "source": [
    "Text normalization is the process of transforming text into a standard, consistent format. It's often used to make text data more uniform and easier to analyze."
   ]
  },
  {
   "cell_type": "markdown",
   "id": "4d7fab80-e403-4102-b862-fa06f5d58dca",
   "metadata": {
    "id": "4d7fab80-e403-4102-b862-fa06f5d58dca"
   },
   "source": [
    "**Expanding Contractions**\n",
    "\n",
    "Converts contractions like *\"don't\"* to *\"do not\"*, or *\"it's\"* to *\"it is\"*. This helps in preserving semantic meaning and improves model understanding. I will use `contractions` class to apply this step"
   ]
  },
  {
   "cell_type": "code",
   "execution_count": null,
   "id": "02fc9e8b-5e2c-4550-a512-43d6a15dbba0",
   "metadata": {
    "id": "02fc9e8b-5e2c-4550-a512-43d6a15dbba0",
    "outputId": "5d8b259f-8da3-4ebf-af4d-067864ce7b35"
   },
   "outputs": [
    {
     "name": "stdout",
     "output_type": "stream",
     "text": [
      "== Original Text: ==\n",
      "I can't believe it's already over I've never seen anything like it\n",
      "\n",
      "== Expand Contractions: ==\n",
      "I cannot believe it is already over I have never seen anything like it\n"
     ]
    }
   ],
   "source": [
    "# Expand Contractions\n",
    "\n",
    "text = \"I can't believe it's already over I've never seen anything like it\"\n",
    "print(f\"== Original Text: ==\\n{text}\")\n",
    "text = contractions.fix(text)\n",
    "print(f\"\\n== Expand Contractions: ==\\n{text}\")"
   ]
  },
  {
   "cell_type": "markdown",
   "id": "5f4b1863-bc76-41cc-bb2b-8cb4d8d1ecd1",
   "metadata": {
    "id": "5f4b1863-bc76-41cc-bb2b-8cb4d8d1ecd1"
   },
   "source": [
    "**Spell Checking**\n",
    "\n",
    "Corrects common typos or misspellings to ensure consistency (e.g., *\"amazng\"* → *\"amazing\"*), especially useful in user-generated content like reviews.\n",
    "While it enhances token quality and model robustness, it’s computationally expensive and may introduce errors by misinterpreting context, requiring careful consideration in the processing pipeline."
   ]
  },
  {
   "cell_type": "code",
   "execution_count": null,
   "id": "c74d4aba-e515-4b75-ab28-b6de3fbbcebc",
   "metadata": {
    "id": "c74d4aba-e515-4b75-ab28-b6de3fbbcebc",
    "outputId": "68b0d7eb-01dc-49a9-b4bc-3ecd89a245e5"
   },
   "outputs": [
    {
     "name": "stdout",
     "output_type": "stream",
     "text": [
      "== Original Text: ==\n",
      "I cheaded overr there and misinterpret him. reviewers  dont this befur\n",
      "\n",
      "== Expand Contractions: ==\n",
      "I headed over there and misinterpret him. reviews  dont this before\n"
     ]
    }
   ],
   "source": [
    "# spell checking\n",
    "\n",
    "text = \"I cheaded overr there and misinterpret him. reviewers  dont this befur\"\n",
    "print(f\"== Original Text: ==\\n{text}\")\n",
    "txtblob = TextBlob(text)\n",
    "text = txtblob.correct().string\n",
    "print(f\"\\n== Expand Contractions: ==\\n{text}\")"
   ]
  },
  {
   "cell_type": "markdown",
   "id": "b82612d2-672a-41ee-82bd-6caf43e5158d",
   "metadata": {
    "id": "b82612d2-672a-41ee-82bd-6caf43e5158d"
   },
   "source": [
    "**Stemming**\n",
    "\n",
    "- Stemming is the process of reducing words to their root or base form by removing suffixes. The goal of stemming is to normalize words, making different forms of a word (such as plurals, tenses, or derivations) appear as a single word. (for example: \"Running\" → \"Run\" , \"Happiness\" → \"Happi\" , \"Easily\" → \"Eas\")\n",
    "- Stemming helps to reduce the dimensionality of the text data, making it easier for machine learning algorithms to process. By mapping different forms of a word to the same root form, we ensure that the model treats them as the same concept, which can improve accuracy and performance\n",
    "\n",
    "**How Stemming Works**\n",
    "\n",
    "Stemming algorithms typically use a set of predefined rules to chop off word endings. These rules are based on common patterns in language. For example, a common stemming algorithm (like Porter Stemmer) might remove:\n",
    "\n",
    " - \"ing\" from verbs (e.g., \"playing\" → \"play\")\n",
    " - \"ly\" from adjectives/adverbs (e.g., \"quickly\" → \"quick\")\n",
    " - \"es\" from plural nouns (e.g., \"boxes\" → \"box\").\n",
    "\n",
    "**Limitations of Stemming**\n",
    "\n",
    "- Over-stemming: The process can sometimes remove too much, leading to incorrect roots. For instance, \"happiness\" becomes \"happi\", which may not be useful or meaningful in context.\n",
    "- Loss of Meaning: Unlike lemmatization, which takes context into account to find the proper base form, stemming often results in stems that are not real words, which can reduce interpretability."
   ]
  },
  {
   "cell_type": "code",
   "execution_count": null,
   "id": "2b9cdf6f-0668-4c51-96ed-112a49647e74",
   "metadata": {
    "id": "2b9cdf6f-0668-4c51-96ed-112a49647e74",
    "outputId": "7f85273f-3ac1-4713-f66b-b7c40fa6a367"
   },
   "outputs": [
    {
     "name": "stdout",
     "output_type": "stream",
     "text": [
      "{'Running': 'run', 'jumped': 'jump', 'playing': 'play', 'wanted': 'want', 'better': 'better', 'enjoying': 'enjoy', 'explored': 'explor', 'studies': 'studi', 'trying': 'tri', 'studied': 'studi', 'goes': 'goe', 'walking': 'walk', 'healthier': 'healthier', 'larger': 'larger', 'running': 'run'}\n"
     ]
    }
   ],
   "source": [
    "# stemming\n",
    "\n",
    "words = \"Running jumped playing wanted better enjoying explored studies trying studied goes walking healthier larger running\".split()\n",
    "\n",
    "stemmer = PorterStemmer()\n",
    "\n",
    "stemmed_tokens = {word : stemmer.stem(word) for word in words}\n",
    "\n",
    "print(stemmed_tokens)"
   ]
  },
  {
   "cell_type": "markdown",
   "id": "0d9e42fa-d3e5-4ade-9ed4-ffc30aa5ab98",
   "metadata": {
    "id": "0d9e42fa-d3e5-4ade-9ed4-ffc30aa5ab98"
   },
   "source": [
    "**Lemmatization**\n",
    "\n",
    "- Lemmatization is the process of reducing a word to its base or dictionary form, known as a lemma. Unlike stemming (which just chops off word endings), lemmatization uses vocabulary and morphological analysis to return a proper word that actually appears in the language. (for example running, ran, runs to run, better to good)\n",
    "- Improves the quality of text analysis (e.g., in search engines or NLP) and also helps with tasks like text classification, sentiment analysis, and topic modeling by standardizing words.\n",
    "\n",
    "**How It Works:**\n",
    "- Part-of-speech tagging: Determines the role of the word (verb, noun, etc.).\n",
    "- Dictionary lookup: Matches the word with its root form in a lexicon.\n",
    "\n",
    "**Limitations**\n",
    "- Lemmatization is context-sensitive, meaning it may struggle with ambiguous words.\n",
    "- It requires a dictionary or lexical resource, limiting its coverage.\n",
    "- The process can be computationally expensive and may lose nuanced information."
   ]
  },
  {
   "cell_type": "code",
   "execution_count": null,
   "id": "0c5ed683-fb80-487a-bc36-01212dd2e017",
   "metadata": {
    "id": "0c5ed683-fb80-487a-bc36-01212dd2e017",
    "outputId": "059517c4-9ed6-4e9f-9bf4-c9d20def6f08"
   },
   "outputs": [
    {
     "name": "stdout",
     "output_type": "stream",
     "text": [
      "{'Running': 'Running', 'jumped': 'jumped', 'playing': 'playing', 'wanted': 'wanted', 'better': 'better', 'enjoying': 'enjoying', 'explored': 'explored', 'studies': 'study', 'trying': 'trying', 'studied': 'studied', 'goes': 'go', 'walking': 'walking', 'healthier': 'healthier', 'larger': 'larger', 'running': 'running'}\n"
     ]
    }
   ],
   "source": [
    "# lemmatize\n",
    "\n",
    "lemmatizer = WordNetLemmatizer()\n",
    "\n",
    "lemmatized_tokens = {token : lemmatizer.lemmatize(token) for token in words}\n",
    "\n",
    "print(lemmatized_tokens)"
   ]
  },
  {
   "cell_type": "markdown",
   "id": "6b823b5a-e91b-4c05-a480-86b3c33fffe6",
   "metadata": {
    "id": "6b823b5a-e91b-4c05-a480-86b3c33fffe6"
   },
   "source": [
    "**Stopword Removal**\n",
    "\n",
    "Stopwords are common words that occur frequently in a language but carry little to no meaningful information for text analysis. Examples include \"the,\" \"is,\" \"in,\" \"on,\" \"and,\" \"of,\" etc."
   ]
  },
  {
   "cell_type": "code",
   "execution_count": null,
   "id": "3a776c33-8a12-43e6-837d-9d0f953a8ded",
   "metadata": {
    "id": "3a776c33-8a12-43e6-837d-9d0f953a8ded",
    "outputId": "3fb8d14e-45d0-4d16-b13b-91cc8a73c47c"
   },
   "outputs": [
    {
     "name": "stdout",
     "output_type": "stream",
     "text": [
      "a , about , above , after , again , against , ain , all , am , an , and , any , are , aren , aren't , as , at , be , because , been , before , being , below , between , both , but , by , can , couldn , couldn't , d , did , didn , didn't , do , does , doesn , doesn't , doing , don , don't , down , during , each , few , for , from , further , had , hadn , hadn't , has , hasn , hasn't , have , haven , haven't , having , he , he'd , he'll , her , here , hers , herself , he's , him , himself , his , how , i , i'd , if , i'll , i'm , in , into , is , isn , isn't , it , it'd , it'll , it's , its , itself , i've , just , ll , m , ma , me , mightn , mightn't , more , most , mustn , mustn't , my , myself\n"
     ]
    }
   ],
   "source": [
    "# NLTK stopwords\n",
    "\n",
    "print(\" , \".join(stopwords.words('english')[:100]))"
   ]
  },
  {
   "cell_type": "markdown",
   "id": "c8ece844-1233-4e52-99ec-3e807dcd8ffe",
   "metadata": {
    "id": "c8ece844-1233-4e52-99ec-3e807dcd8ffe",
    "jp-MarkdownHeadingCollapsed": true
   },
   "source": [
    "### 2.3. Tokenization"
   ]
  },
  {
   "cell_type": "markdown",
   "id": "cd2ac895-ca53-4e29-9681-b504f6d4815b",
   "metadata": {
    "id": "cd2ac895-ca53-4e29-9681-b504f6d4815b"
   },
   "source": [
    "Tokenization is the process of splitting text into smaller units, called tokens, such as words, sentences, or subwords, to facilitate further text analysis or processing in NLP.\n",
    "\n",
    "**Methods**:\n",
    "\n",
    "1. **Word Tokenization**\n",
    "\n",
    "   * **Definition**: Splits text into individual words.\n",
    "   * **Example**: \"I love NLP!\" → \\['I', 'love', 'NLP']\n",
    "\n",
    "2. **Sentence Tokenization**\n",
    "\n",
    "   * **Definition**: Splits text into sentences.\n",
    "   * **Example**: \"I love NLP. It's amazing.\" → \\['I love NLP.', 'It's amazing.']\n",
    "\n",
    "3. **Subword Tokenization**\n",
    "\n",
    "   * **Definition**: Breaks words into smaller meaningful units or subwords.\n",
    "   * **Example**: \"unhappiness\" → \\['un', 'happi', 'ness']\n",
    "\n",
    "4. **Whitespace-based Tokenization**\n",
    "\n",
    "   * **Definition**: Splits text based on spaces.\n",
    "   * **Example**: \"Hello World!\" → \\['Hello', 'World!']\n",
    "\n",
    "5. **Regex-based Tokenization**\n",
    "\n",
    "   * **Definition**: Uses regular expressions to define splitting rules.\n",
    "   * **Example**: \"It's a well-known fact.\" → \\['It', \"'\", 's', 'a', 'well-known', 'fact']"
   ]
  },
  {
   "cell_type": "code",
   "execution_count": 35,
   "id": "ba58c254-5573-4036-b881-7ce45a279748",
   "metadata": {
    "id": "ba58c254-5573-4036-b881-7ce45a279748",
    "outputId": "52c2e4c0-ab85-4243-b795-5fb37943dd27"
   },
   "outputs": [
    {
     "name": "stdout",
     "output_type": "stream",
     "text": [
      "['if', 'it', 'wasnt', 'for', 'some', 'immature', 'gullible', 'idiot', 'i', 'know', 'insisting', 'that', 'i', 'watch', 'this', 'documentary', 'i', 'would', 'never', 'have', 'seen', 'this', 'comedy', 'this', 'film', 'is', 'full', 'of', 'bad', 'scripting', 'and', 'laughable', 'moments', 'one', 'in', 'particular', 'is', 'where', 'the', 'afghan', 'police', 'soldiers', 'arrest', 'don', 'larson', 'for', 'filming', 'in', 'the', 'streets', 'while', 'they', 'allow', 'the', 'cameraman', 'to', 'carry', 'on', 'filming', 'his', 'arrest', 'and', 'then', 'drive', 'away', 'still', 'filming', 'presumably', 'to', 'his', 'plush', 'hotel', 'then', 'theres', 'the', 'scene', 'where', 'a', 'car', 'crashes', 'into', 'another', 'car', 'which', 'has', 'been', 'turned', 'upside', 'down', 'and', 'parked', 'nicely', 'on', 'the', 'side', 'of', 'the', 'road', 'without', 'any', 'evidence', 'of', 'it', 'being', 'in', 'a', 'crash', 'or', 'explosion', 'i', 'am', 'surprised', 'this', 'has', 'currently', 'got', 'the', 'rating', 'it', 'has', 'i', 'thought', 'imdb', 'users', 'had', 'more', 'sense']\n"
     ]
    }
   ],
   "source": [
    "# tokenize\n",
    "\n",
    "tokens = word_tokenize(text)\n",
    "print(tokens)"
   ]
  },
  {
   "cell_type": "markdown",
   "id": "073c772f-7201-4e7a-9271-7238c1748aa5",
   "metadata": {
    "id": "073c772f-7201-4e7a-9271-7238c1748aa5",
    "jp-MarkdownHeadingCollapsed": true
   },
   "source": [
    "### 2.4. Vectorization"
   ]
  },
  {
   "cell_type": "markdown",
   "id": "3cb011fd-5c23-41e7-bb59-1d728debcaf7",
   "metadata": {
    "id": "3cb011fd-5c23-41e7-bb59-1d728debcaf7"
   },
   "source": [
    "Machine learning algorithms require numeric inputs. Techniques like Bag of Words (BoW), TF-IDF, and word embeddings transform text into vectors or matrices."
   ]
  },
  {
   "cell_type": "markdown",
   "id": "8f2811f9-69eb-4f78-bf02-49890773a4ba",
   "metadata": {
    "id": "8f2811f9-69eb-4f78-bf02-49890773a4ba"
   },
   "source": [
    "#### 2.4.1. Bag of Words"
   ]
  },
  {
   "cell_type": "markdown",
   "id": "baced8a3-cc6f-4edd-8835-1403bacddf35",
   "metadata": {
    "id": "baced8a3-cc6f-4edd-8835-1403bacddf35"
   },
   "source": [
    "As the naming suggesuts, First, you build a vocabulary (bag) of all the words in the training corpus, Then, each document (or text) is represented as a vector of word counts.\n",
    "- If corpus is [\"I love NLP\", \"NLP is amazing\"], the vocabulary could be [\"I\", \"love\", \"NLP\", \"is\", \"amazing\"]. The corresponding vectors would be:\n",
    "- \"I love NLP\" → [1, 1, 1, 0, 0]\n",
    "- \"NLP is amazing\" → [0, 0, 1, 1, 1]\n",
    "\n",
    "  \n",
    "Scikit-Learn's `CountVectorizer` implements the BoW. It's important to note that the output of both `CountVectorizer` and `TfidfVectorizer` are Scipy Sparse matrices."
   ]
  },
  {
   "cell_type": "code",
   "execution_count": null,
   "id": "4bc27cfe-7af1-48ce-9ffb-d95ce249be51",
   "metadata": {
    "id": "4bc27cfe-7af1-48ce-9ffb-d95ce249be51",
    "outputId": "aadf5371-f273-440b-b9c9-0f32f37e873b"
   },
   "outputs": [
    {
     "data": {
      "text/plain": [
       "array([[0, 0, 1, 1],\n",
       "       [1, 1, 0, 1]], dtype=int64)"
      ]
     },
     "execution_count": 82,
     "metadata": {},
     "output_type": "execute_result"
    }
   ],
   "source": [
    "corpus = [\"I love NLP\", \"NLP is amazing\"]\n",
    "vectorizer = CountVectorizer()\n",
    "vectorizer.fit_transform(corpus).toarray()"
   ]
  },
  {
   "cell_type": "code",
   "execution_count": null,
   "id": "584ffaed-543e-4ed9-b763-65e4197e8ddd",
   "metadata": {
    "id": "584ffaed-543e-4ed9-b763-65e4197e8ddd",
    "outputId": "a6afbb13-6f3e-4f2f-e504-efe8de35dd16"
   },
   "outputs": [
    {
     "data": {
      "text/plain": [
       "array(['amazing', 'is', 'love', 'nlp'], dtype=object)"
      ]
     },
     "execution_count": 81,
     "metadata": {},
     "output_type": "execute_result"
    }
   ],
   "source": [
    "# list of features\n",
    "vectorizer.get_feature_names_out()"
   ]
  },
  {
   "cell_type": "markdown",
   "id": "e9e23b47-75e0-48cc-9e20-a84631e5ec64",
   "metadata": {
    "id": "e9e23b47-75e0-48cc-9e20-a84631e5ec64"
   },
   "source": [
    "#### 2.4.1. TF-IDF"
   ]
  },
  {
   "cell_type": "markdown",
   "id": "d6473ec5-ccc5-4454-9d8a-63fb132631e8",
   "metadata": {
    "id": "d6473ec5-ccc5-4454-9d8a-63fb132631e8"
   },
   "source": [
    "**TF-IDF** (Term Frequency-Inverse Document Frequency) is a statistical measure used to evaluate the importance of a word within a document relative to a collection of documents (or corpus).\n",
    "\n",
    "TF-IDF is composed of two parts:\n",
    "\n",
    "1. **Term Frequency (TF)**: This measures how frequently a word appears in a document. The intuition is that the more times a word appears in a document, the more important it is for that document. It is usually calculated as:\n",
    "\n",
    "   $$\n",
    "   \\text{TF}(t, d) = \\frac{\\text{Number of times term t appears in document d}}{\\text{Total number of terms in document d}}\n",
    "   $$\n",
    "\n",
    "2. **Inverse Document Frequency (IDF)**: This measures how important a word is across all documents in the corpus. Words that are common across many documents (like \"the\" or \"and\") are not useful in **distinguishing documents**. IDF reduces the weight of such words. It is calculated as:\n",
    "\n",
    "   $$\n",
    "   \\text{IDF}(t) = \\log \\left( \\frac{\\text{Total number of documents}}{\\text{Number of documents containing term t}} \\right)\n",
    "   $$\n",
    "\n",
    "   The idea is that terms that appear in many documents have a lower IDF, while terms that appear in fewer documents have a higher IDF.\n",
    "\n",
    "3. **TF-IDF**: The final score for a word in a document is the product of its TF and IDF values:\n",
    "\n",
    "   $$\n",
    "   \\text{TF-IDF}(t, d) = \\text{TF}(t, d) \\times \\text{IDF}(t)\n",
    "   $$\n",
    "\n",
    "   This gives a weight to each word in the document based on its frequency in the document and its rarity in the entire corpus.\n",
    "\n",
    "\n",
    "\n",
    "\n",
    "**Example:**\n",
    "\n",
    "Consider the following three documents:\n",
    "\n",
    "1. \"I love machine learning\"\n",
    "2. \"Machine learning is fun\"\n",
    "3. \"I love fun things\"\n",
    "\n",
    "**Step 1: Create the vocabulary**\n",
    "The vocabulary (unique words) from all three documents is:\n",
    "`[\"I\", \"love\", \"machine\", \"learning\", \"is\", \"fun\", \"things\"]`\n",
    "\n",
    "**Step 2: Calculate Term Frequency (TF)**\n",
    "For each document, count how often each word appears, then divide by the total number of words in that document.\n",
    "\n",
    "For example, in the first document (\"I love machine learning\"):\n",
    "\n",
    "* TF(\"I\") = 1/4\n",
    "* TF(\"love\") = 1/4\n",
    "* TF(\"machine\") = 1/4\n",
    "* TF(\"learning\") = 1/4\n",
    "\n",
    "**Step 3: Calculate Inverse Document Frequency (IDF)**\n",
    "IDF is calculated for each word based on how many documents it appears in. The formula is:\n",
    "\n",
    "$$\n",
    "\\text{IDF}(t) = \\log \\left( \\frac{\\text{Total documents}}{\\text{Documents containing the term}} \\right)\n",
    "$$\n",
    "\n",
    "For example, the word \"machine\" appears in 2 out of 3 documents, so:\n",
    "\n",
    "$$\n",
    "\\text{IDF}(\\text{machine}) = \\log \\left( \\frac{3}{2} \\right)\n",
    "$$\n",
    "\n",
    "**Step 4: Calculate TF-IDF**\n",
    "Multiply the TF and IDF for each term in each document. For example:\n",
    "\n",
    "$$\n",
    "\\text{TF-IDF}(\\text{machine}, \\text{Doc1}) = \\text{TF}(\\text{machine}, \\text{Doc1}) \\times \\text{IDF}(\\text{machine})\n",
    "$$\n",
    "\n",
    "**Step 5: Create the final TF-IDF matrix**\n",
    "Each document is now represented by a vector of TF-IDF values for each term in the vocabulary, creating a matrix where each row represents a document and each column represents a word from the vocabulary."
   ]
  },
  {
   "cell_type": "code",
   "execution_count": null,
   "id": "d95696a2-d680-4dd2-85a1-a9b8ff9d1656",
   "metadata": {
    "id": "d95696a2-d680-4dd2-85a1-a9b8ff9d1656",
    "outputId": "7f1cee3a-d33f-4f33-fa51-c0fa935bed20"
   },
   "outputs": [
    {
     "name": "stdout",
     "output_type": "stream",
     "text": [
      "[[0.         0.         0.57735027 0.57735027 0.57735027 0.        ]\n",
      " [0.45985353 0.60465213 0.45985353 0.         0.45985353 0.        ]\n",
      " [0.51785612 0.         0.         0.51785612 0.         0.68091856]]\n"
     ]
    }
   ],
   "source": [
    "corpus = [\"I love machine learning\", \"Machine learning is fun\", \"I love fun things\"]\n",
    "tfidf = TfidfVectorizer()\n",
    "\n",
    "print(tfidf.fit_transform(corpus).toarray())"
   ]
  },
  {
   "cell_type": "code",
   "execution_count": null,
   "id": "a9e68ae8-5260-4a75-b2ac-b450f37aec56",
   "metadata": {
    "id": "a9e68ae8-5260-4a75-b2ac-b450f37aec56",
    "outputId": "444d5114-93ee-4755-ae32-926d384f8fff"
   },
   "outputs": [
    {
     "data": {
      "text/plain": [
       "{'love': 3, 'machine': 4, 'learning': 2, 'is': 1, 'fun': 0, 'things': 5}"
      ]
     },
     "execution_count": 89,
     "metadata": {},
     "output_type": "execute_result"
    }
   ],
   "source": [
    "tfidf.vocabulary_"
   ]
  },
  {
   "cell_type": "markdown",
   "id": "137ecea7-5574-433a-9db6-4322ad1bea61",
   "metadata": {
    "id": "137ecea7-5574-433a-9db6-4322ad1bea61",
    "jp-MarkdownHeadingCollapsed": true
   },
   "source": [
    "## Part 3: Model Development and Optimization"
   ]
  },
  {
   "cell_type": "markdown",
   "id": "2714b51c-d42f-4ae5-a95d-4ddfa6006833",
   "metadata": {
    "id": "2714b51c-d42f-4ae5-a95d-4ddfa6006833"
   },
   "source": [
    "### 3.1. Preprocessing Pipelines"
   ]
  },
  {
   "cell_type": "markdown",
   "id": "f9d53111-e709-4716-9ce6-161a3a3a5c8d",
   "metadata": {
    "id": "f9d53111-e709-4716-9ce6-161a3a3a5c8d"
   },
   "source": [
    "- The `TextPreprocessor` is a flexible and efficient transformer class designed to encapsulate all the text preprocessing steps outlined in the previous section. It integrates seamlessly into Scikit-learn pipelines and offers customizable tuning through its arguments. Input validation has been incorporated to ensure that the transformer only accepts iterable objects, consistent with the behavior of vectorizers.\n",
    "\n",
    "- To enhance performance, the class utilizes Joblib for **parallel processing**, which accelerates text preprocessing by leveraging multiple CPU cores and threads. Additionally, a logging mechanism has been implemented to issue warnings in the event of a preprocessing failure, ensuring the pipeline continues running smoothly without interruption.\n",
    "\n",
    "- By default, the class outputs text, as subsequent vectorizers that include built-in tokenization will handle tokenization later in the pipeline. However, it also offers the flexibility to output tokens if needed."
   ]
  },
  {
   "cell_type": "code",
   "execution_count": null,
   "id": "90edbb60-f5c9-46c3-9543-d3ec65bb82a6",
   "metadata": {},
   "outputs": [],
   "source": [
    "# Text Processor\n",
    "\n",
    "# Logger for warning and error messages\n",
    "logger = logging.getLogger(__name__)\n",
    "logging.basicConfig(level=logging.WARNING)\n",
    "\n",
    "\n",
    "\n",
    "class TextPreprocessor(BaseEstimator, TransformerMixin):\n",
    "    \"\"\"\n",
    "    A flexible and efficient transformer for cleaning tasks such as URL removal, \n",
    "    contraction expansion, punctuation removal, spell checking, stemming, lemmatization, \n",
    "    and more. It supports parallel processing for faster transformations on large datasets.\n",
    "\n",
    "    Parameters:\n",
    "    ----------\n",
    "    url_remove : bool, default=True\n",
    "        If True, removes URLs from the text.\n",
    "\n",
    "    numbers : {\"remove\", \"replace\", \"leave_them_be\", None}, default=\"remove\"\n",
    "        Specifies how to handle numbers (remove, replace with \"NUMBER\", or leave unchanged).\n",
    "\n",
    "    expand_contractions : bool, default=False\n",
    "        If True, expands contractions like \"don't\" to \"do not\".\n",
    "\n",
    "    spell_checking : bool, default=False\n",
    "        If True, applies spell correction using TextBlob.\n",
    "\n",
    "    stemming : bool, default=False\n",
    "        If True, applies Porter Stemming.\n",
    "\n",
    "    lemmatize : bool, default=False\n",
    "        If True, applies WordNet Lemmatization.\n",
    "\n",
    "    markdown_remove : bool, default=True\n",
    "        If True, removes markdown formatting from the text.\n",
    "\n",
    "    remove_punctuation : bool, default=True\n",
    "        If True, removes punctuation characters from the text.\n",
    "\n",
    "    output_mode : {\"text\", \"tokens\"}, default=\"text\"\n",
    "        If \"text\", outputs preprocessed text; if \"tokens\", outputs tokenized words.\n",
    "\n",
    "    n_jobs : int, default=1\n",
    "        Number of jobs for parallel processing (set >1 for multi-core).\n",
    "\n",
    "    raise_errors : bool, default=False\n",
    "        If True, raises errors during processing; if False, logs a warning.\n",
    "\n",
    "    Methods:\n",
    "    -------\n",
    "    fit(X, y=None) : Fit the transformer to the input data.\n",
    "    transform(X) : Preprocess the text data.\n",
    "    \"\"\"\n",
    "    \n",
    "    def __init__(self, url_remove=True, numbers=\"remove\", expand_contractions=False, spell_checking=False,\n",
    "                 stemming=False, lemmatize=False, markdown_remove=True, remove_punctuation=True, output_mode=\"text\", \n",
    "                 n_jobs=1, raise_errors=False):\n",
    "        # Initialize the preprocessing parameters\n",
    "        self.url_remove = url_remove\n",
    "        if numbers not in [\"remove\", \"replace\", \"leave_them_be\", None]:\n",
    "            raise ValueError(\"numbers must be 'remove', 'replace', 'leave_them_be' or None\")\n",
    "        self.numbers = numbers\n",
    "        self.stemming = stemming\n",
    "        self.lemmatize = lemmatize\n",
    "        self.markdown_remove = markdown_remove\n",
    "        self.remove_punctuation = remove_punctuation\n",
    "        self.expand_contractions = expand_contractions\n",
    "        self.spell_checking = spell_checking\n",
    "        if output_mode not in [\"text\", \"tokens\"]:\n",
    "            raise ValueError(\"output_mode must be 'text' or 'tokens'\")\n",
    "        self.output_mode = output_mode\n",
    "        self.n_jobs = n_jobs\n",
    "        self.raise_errors = raise_errors\n",
    "\n",
    "        # Initialize tools for stemming and lemmatization\n",
    "        self.lemmatizer_ = WordNetLemmatizer() if lemmatize else None\n",
    "        self.stemmer_ = PorterStemmer() if stemming else None\n",
    "\n",
    "        # Define regex patterns for URL and markdown removal\n",
    "        self._url_pattern = re.compile(\n",
    "            r'((http|https)\\:\\/\\/)?[a-zA-Z0-9\\.\\/\\?\\:@\\-_=#]+\\.([a-zA-Z]){2,6}([a-zA-Z0-9\\.\\&\\/\\?\\:@\\-_=#])*'\n",
    "        ) if url_remove else None\n",
    "        \n",
    "        self._markdown_pattern = re.compile(\n",
    "            r'(\\#{1,6}\\s*)|(\\*{1,2})|(__)|(\\~\\~)|`{1,3}|!\\[.*?\\]\\(.*?\\)|\\[.*?\\]\\(.*?\\)|<.*?>'\n",
    "        ) if markdown_remove else None\n",
    "\n",
    "    def fit(self, X, y=None):\n",
    "        # Validate input and prepare the transformer\n",
    "        self._validate_input(X)\n",
    "        self.n_features_in_ = 1\n",
    "        return self\n",
    "\n",
    "    def transform(self, X):\n",
    "        # Ensure the transformer is fitted and preprocess the input data\n",
    "        check_is_fitted(self)\n",
    "        X = self._validate_input(X)\n",
    "        \n",
    "        # Apply preprocessing in parallel if multiple jobs are specified\n",
    "        if self.n_jobs == 1:\n",
    "            return np.array([self._preprocess_text(text) for text in X], dtype=object)\n",
    "        else:\n",
    "            return np.array(Parallel(n_jobs=self.n_jobs)(\n",
    "                delayed(self._preprocess_text)(text) for text in X), dtype=object)\n",
    "\n",
    "    def _validate_input(self, X):\n",
    "        # Validate and preprocess the input (DataFrame, Series, ndarray, or list)\n",
    "        if isinstance(X, pd.DataFrame):\n",
    "            if X.shape[1] != 1:\n",
    "                raise ValueError(\"DataFrame must have exactly one column\")\n",
    "            return X.squeeze().astype(str).tolist()\n",
    "        elif isinstance(X, (pd.Series, np.ndarray)):\n",
    "            return pd.Series(X).astype(str).tolist()\n",
    "        elif isinstance(X, list):\n",
    "            return [str(x) for x in X]\n",
    "        else:\n",
    "            raise ValueError(f\"Unsupported input type: {type(X)}\")\n",
    "\n",
    "    def _preprocess_text(self, text):\n",
    "        try:\n",
    "            # Perform various text preprocessing steps\n",
    "            if self.markdown_remove:\n",
    "                text = self._markdown_pattern.sub(' ', text)\n",
    "            if self.url_remove:\n",
    "                text = self._url_pattern.sub(' ', text)\n",
    "            if self.expand_contractions:\n",
    "                text = contractions.fix(text)\n",
    "            text = text.lower() \n",
    "            if self.remove_punctuation:\n",
    "                text = text.translate(str.maketrans('', '', string.punctuation)) \n",
    "            tokens = word_tokenize(text)  \n",
    "\n",
    "            # Apply spell checking if enabled\n",
    "            if self.spell_checking:\n",
    "                tokens = [TextBlob(token).correct().string for token in tokens]\n",
    "            \n",
    "            # Handle numbers based on the specified mode\n",
    "            if self.numbers == \"remove\":\n",
    "                tokens = [t for t in tokens if not re.search(r'\\d', t)]\n",
    "            elif self.numbers == \"replace\":\n",
    "                tokens = [\"NUMBER\" if re.search(r'\\d', t) else t for t in tokens]\n",
    "            \n",
    "            # Apply stemming or lemmatization\n",
    "            if self.stemming and self.lemmatize:\n",
    "                raise ValueError(\"Both Stemming & Lemmatizing cannot be applied at the same time!\")\n",
    "            if self.stemming:\n",
    "                tokens = [self.stemmer_.stem(t) for t in tokens]\n",
    "            elif self.lemmatize:\n",
    "                tokens = [self.lemmatizer_.lemmatize(t) for t in tokens]\n",
    "\n",
    "            # Return processed text or tokens based on output_mode\n",
    "            return ' '.join(tokens) if self.output_mode == \"text\" else tokens\n",
    "\n",
    "        except Exception as e:\n",
    "            # Handle errors by logging a warning or raising an error\n",
    "            if self.raise_errors:\n",
    "                raise\n",
    "            else:\n",
    "                logger.warning(f\"Error processing text: {str(e)}\")\n",
    "                return \"\" if self.output_mode == \"text\" else []\n",
    "\n",
    "    def get_feature_names_out(self, input_features=None):\n",
    "        # Return the name of the processed text feature\n",
    "        return np.array(['processed_text'])\n"
   ]
  },
  {
   "cell_type": "code",
   "execution_count": 5,
   "id": "2e1f718f-d357-45ae-ad12-ac5117a47c0e",
   "metadata": {
    "id": "2e1f718f-d357-45ae-ad12-ac5117a47c0e"
   },
   "outputs": [],
   "source": [
    "# Function to convert elements of the input to float32\n",
    "# Note: This will convert a sparse matrix to dense, which can be memory-intensive for large datasets\n",
    "\n",
    "def convert_to_float32(X):\n",
    "    return X.astype(np.float32)\n",
    "\n",
    "# FunctionTransformerapplies the convert_to_float32 function\n",
    "float32convertor = FunctionTransformer(convert_to_float32, validate=False)"
   ]
  },
  {
   "cell_type": "markdown",
   "id": "f54af1b6-878f-4dcf-850d-147bb7173dda",
   "metadata": {
    "id": "f54af1b6-878f-4dcf-850d-147bb7173dda",
    "jp-MarkdownHeadingCollapsed": true
   },
   "source": [
    "### 3.2. Baseline Establishment"
   ]
  },
  {
   "cell_type": "code",
   "execution_count": null,
   "id": "439cffd3-aee7-4e10-852a-36fb84cdf76f",
   "metadata": {
    "id": "439cffd3-aee7-4e10-852a-36fb84cdf76f",
    "outputId": "ba91958e-1d96-42e7-f7fe-d21e1f2de284"
   },
   "outputs": [
    {
     "name": "stderr",
     "output_type": "stream",
     "text": [
      "Evaluating models: 100%|██████████| 8/8 [16:46<00:00, 125.78s/model, MultinomialNB]         \n"
     ]
    },
    {
     "data": {
      "text/html": [
       "<div>\n",
       "<style scoped>\n",
       "    .dataframe tbody tr th:only-of-type {\n",
       "        vertical-align: middle;\n",
       "    }\n",
       "\n",
       "    .dataframe tbody tr th {\n",
       "        vertical-align: top;\n",
       "    }\n",
       "\n",
       "    .dataframe thead th {\n",
       "        text-align: right;\n",
       "    }\n",
       "</style>\n",
       "<table border=\"1\" class=\"dataframe\">\n",
       "  <thead>\n",
       "    <tr style=\"text-align: right;\">\n",
       "      <th></th>\n",
       "      <th>Model</th>\n",
       "      <th>Train F1</th>\n",
       "      <th>CV F1</th>\n",
       "      <th>CV F1 STD</th>\n",
       "      <th>Runtime (s)</th>\n",
       "    </tr>\n",
       "  </thead>\n",
       "  <tbody>\n",
       "    <tr>\n",
       "      <th>0</th>\n",
       "      <td>LogisticRegression</td>\n",
       "      <td>0.974079</td>\n",
       "      <td>0.885690</td>\n",
       "      <td>0.002817</td>\n",
       "      <td>93.4</td>\n",
       "    </tr>\n",
       "    <tr>\n",
       "      <th>1</th>\n",
       "      <td>LinearSVC</td>\n",
       "      <td>0.999988</td>\n",
       "      <td>0.869542</td>\n",
       "      <td>0.002235</td>\n",
       "      <td>96.6</td>\n",
       "    </tr>\n",
       "    <tr>\n",
       "      <th>2</th>\n",
       "      <td>LGBMClassifier</td>\n",
       "      <td>0.896871</td>\n",
       "      <td>0.860718</td>\n",
       "      <td>0.001084</td>\n",
       "      <td>97.3</td>\n",
       "    </tr>\n",
       "    <tr>\n",
       "      <th>3</th>\n",
       "      <td>XGBClassifier</td>\n",
       "      <td>0.935447</td>\n",
       "      <td>0.860142</td>\n",
       "      <td>0.001935</td>\n",
       "      <td>107.5</td>\n",
       "    </tr>\n",
       "    <tr>\n",
       "      <th>4</th>\n",
       "      <td>RandomForestClassifier</td>\n",
       "      <td>1.000000</td>\n",
       "      <td>0.847550</td>\n",
       "      <td>0.000990</td>\n",
       "      <td>195.4</td>\n",
       "    </tr>\n",
       "    <tr>\n",
       "      <th>5</th>\n",
       "      <td>MultinomialNB</td>\n",
       "      <td>0.898916</td>\n",
       "      <td>0.843079</td>\n",
       "      <td>0.002726</td>\n",
       "      <td>90.8</td>\n",
       "    </tr>\n",
       "    <tr>\n",
       "      <th>6</th>\n",
       "      <td>AdaBoostClassifier</td>\n",
       "      <td>0.809510</td>\n",
       "      <td>0.806884</td>\n",
       "      <td>0.006110</td>\n",
       "      <td>114.4</td>\n",
       "    </tr>\n",
       "    <tr>\n",
       "      <th>7</th>\n",
       "      <td>KNeighborsClassifier</td>\n",
       "      <td>0.780701</td>\n",
       "      <td>0.662799</td>\n",
       "      <td>0.003233</td>\n",
       "      <td>210.8</td>\n",
       "    </tr>\n",
       "  </tbody>\n",
       "</table>\n",
       "</div>"
      ],
      "text/plain": [
       "                    Model  Train F1     CV F1  CV F1 STD Runtime (s)\n",
       "0      LogisticRegression  0.974079  0.885690   0.002817        93.4\n",
       "1               LinearSVC  0.999988  0.869542   0.002235        96.6\n",
       "2          LGBMClassifier  0.896871  0.860718   0.001084        97.3\n",
       "3           XGBClassifier  0.935447  0.860142   0.001935       107.5\n",
       "4  RandomForestClassifier  1.000000  0.847550   0.000990       195.4\n",
       "5           MultinomialNB  0.898916  0.843079   0.002726        90.8\n",
       "6      AdaBoostClassifier  0.809510  0.806884   0.006110       114.4\n",
       "7    KNeighborsClassifier  0.780701  0.662799   0.003233       210.8"
      ]
     },
     "execution_count": 83,
     "metadata": {},
     "output_type": "execute_result"
    }
   ],
   "source": [
    "# List of model configurations: each tuple contains a model class, model hyperparameters, and any additional transformers\n",
    "model_configs = [\n",
    "    (LogisticRegression, {\"random_state\": 42, \"n_jobs\": -1}, []),\n",
    "    (RandomForestClassifier, {\"random_state\": 42, \"n_jobs\": -1}, []),\n",
    "    (KNeighborsClassifier, {\"n_jobs\": -1}, []),\n",
    "    (LGBMClassifier, {\"random_state\": 42, \"n_jobs\": -1, \"verbose\": -1}, [float32convertor]), # LGBM requires a float32/64 convertion\n",
    "    (XGBClassifier, {\"random_state\": 42, \"n_jobs\": -1}, []),\n",
    "    (AdaBoostClassifier, {\"random_state\": 42}, []),\n",
    "    (LinearSVC, {\"random_state\": 42}, []),\n",
    "    (MultinomialNB, {}, []),  ]\n",
    "\n",
    "\n",
    "# Function to benchmark multiple models, evaluate using cross-validation, and store results\n",
    "def benchmark_models(model_configs, X, y, cv_count=5, scoring=\"f1\"):\n",
    "    \n",
    "    # Creating pipelines for each model. Each pipeline includes: TextPreprocessor, CountVectorizer, Any additional transformers \n",
    "    pipelines = [(model.__name__, make_pipeline(TextPreprocessor(n_jobs=-1), CountVectorizer(),\n",
    "                                                *extras, model(**params))) for model, params, extras in model_configs]\n",
    "    \n",
    "    results = []  # Store the results for each model\n",
    "    kcv = StratifiedKFold(n_splits=cv_count, shuffle=True, random_state=42)  # Stratified k-fold for cross-validation\n",
    "    # Format the metric label to display it properly\n",
    "    metric_label = scoring.replace('_', ' ').title()\n",
    "    # Initialize a progress bar for tracking model evaluation progress\n",
    "    progress_bar = tqdm(pipelines, desc=\"Evaluating models\", unit=\"model\")\n",
    "    # Iterate through each model and its pipeline\n",
    "    for name, pipe in progress_bar:\n",
    "        progress_bar.set_postfix_str(name)  \n",
    "        try:\n",
    "            start_time = time()  \n",
    "            \n",
    "            # unlike cross_validate_score, cross_validate can return a train score as well\n",
    "            scores = cross_validate(pipe, X, y, cv=kcv, scoring=scoring, n_jobs=-1, return_train_score=True, error_score=\"raise\")\n",
    "            \n",
    "            runtime = time() - start_time\n",
    "            results.append({\n",
    "                \"Model\": name,\n",
    "                f\"Train {metric_label}\": scores[\"train_score\"].mean(),  \n",
    "                f\"CV {metric_label}\": scores[\"test_score\"].mean(),  #\n",
    "                f\"CV {metric_label} STD\": scores[\"test_score\"].std(),  \n",
    "                \"Runtime (s)\": f\"{runtime:.1f}\"\n",
    "            })\n",
    "\n",
    "        except Exception as e:\n",
    "            # If an error occurs during the evaluation of a model, log a warning and mark it as failed\n",
    "            warnings.warn(f\"\\nModel {name} failed: {str(e)}\", category=UserWarning)\n",
    "            results.append({\n",
    "                \"Model\": name,\n",
    "                f\"Train {metric_label}\": \"FAILED\", \n",
    "                f\"CV {metric_label}\": \"FAILED\", \n",
    "                f\"CV {metric_label} STD\": \"FAILED\",\n",
    "                \"Runtime (s)\": \"N/A\"  # No runtime since the model failed\n",
    "            })\n",
    "\n",
    "    results_df = pd.DataFrame(results)\n",
    "\n",
    "    # If the cross-validation column contains valid numbers, sort the models by the score\n",
    "    if results_df[sort_col].dtype == 'float64':\n",
    "        return results_df.sort_values(f\"CV {metric_label}\", ascending=False).reset_index(drop=True)  # Sort by the metric and reset index\n",
    "    \n",
    "    return results_df.reset_index(drop=True)  # Return the results without sorting if one of evaluations failed\n",
    "\n",
    "results = benchmark_models(model_configs, X=X_train, y=y_train, cv_count=5, scoring=\"f1\")\n",
    "results"
   ]
  },
  {
   "cell_type": "markdown",
   "id": "51ef9c81-a7bf-4b74-82b4-105382e016cc",
   "metadata": {
    "id": "51ef9c81-a7bf-4b74-82b4-105382e016cc"
   },
   "source": [
    "These are 5-fold cross-validation results for a set of classifiers. I included a diverse range of predictors—from simple linear models to tree-based boosting and bagging algorithms, as well as Naive Bayes and KNN.\n",
    "\n",
    "**Analysis of Results**\n",
    "\n",
    "- Logistic Regression outperforms the other classifiers but shows signs of overfitting, despite having a reasonable runtime compared to others.\n",
    "- Tree-based boosting models follow, with LightGBM standing out as both faster and better-generalized than XGBoost or Logistic Regression. Despite the curse of dimensionality, Logistic Regression often performs well in high-dimensional, sparse feature spaces, which is typical in text data.\n",
    "- KNN yields the worst performance, which is expected, as it relies on distance metrics and suffers significantly in high-dimensional spaces where data points become increasingly distant and less informative.\n",
    "- Based on this evaluation, I will proceed with Logistic Regression for further tuning and optimization."
   ]
  },
  {
   "cell_type": "markdown",
   "id": "60c4e1dd-069b-4f54-ad1c-85ee3db2bfdb",
   "metadata": {
    "id": "60c4e1dd-069b-4f54-ad1c-85ee3db2bfdb"
   },
   "source": [
    "### 3.3. Error Analysis"
   ]
  },
  {
   "cell_type": "markdown",
   "id": "3afc2a84-cc41-467c-8eab-30732a65a1d0",
   "metadata": {
    "id": "3afc2a84-cc41-467c-8eab-30732a65a1d0",
    "jp-MarkdownHeadingCollapsed": true
   },
   "source": [
    "#### 3.3.1. Performance Metrics & Confusion Matrix"
   ]
  },
  {
   "cell_type": "code",
   "execution_count": null,
   "id": "36512599-a861-4e85-8344-b40c011cfcbf",
   "metadata": {
    "id": "36512599-a861-4e85-8344-b40c011cfcbf",
    "outputId": "c248d722-c9a6-416d-9cce-a312e4d91dca"
   },
   "outputs": [
    {
     "name": "stdout",
     "output_type": "stream",
     "text": [
      "==== TrainSet CV5 Out-of-Sample Classification Metrics ====\n",
      "              precision    recall  f1-score   support\n",
      "\n",
      "           0       0.89      0.88      0.89     21292\n",
      "           1       0.88      0.89      0.89     21208\n",
      "\n",
      "    accuracy                           0.89     42500\n",
      "   macro avg       0.89      0.89      0.89     42500\n",
      "weighted avg       0.89      0.89      0.89     42500\n",
      "\n"
     ]
    },
    {
     "data": {
      "image/png": "[encoded data removed]",
      "text/plain": [
       "<Figure size 640x480 with 2 Axes>"
      ]
     },
     "metadata": {},
     "output_type": "display_data"
    }
   ],
   "source": [
    "def clfeval(predictor, X,y,cv=5,train_report=False, conf_mtx=False):\n",
    "    kcv = StratifiedKFold(n_splits=cv,shuffle=True,random_state=42)\n",
    "    yhat_oos = cross_val_predict(predictor, X, y, cv=kcv, n_jobs=-1)\n",
    "    if train_report:\n",
    "        yhat = predictor.fit(X,y).predict(X)\n",
    "        print(f\"==== TrainSet Classification Metrics ====\")\n",
    "        print(classification_report(y, yhat),\"\\n\")\n",
    "    print(f\"==== TrainSet CV5 Out-of-Sample Classification Metrics ====\")\n",
    "    print(classification_report(y, yhat_oos))\n",
    "    if conf_mtx:\n",
    "        ConfusionMatrixDisplay.from_predictions(y, yhat_oos,normalize=\"true\", values_format=\".0%\")\n",
    "        plt.title(\"Normalized Confusion Matrix\")\n",
    "        plt.show()\n",
    "\n",
    "logr = make_pipeline(preprocessing, LogisticRegression(random_state=42, n_jobs=-1))\n",
    "clfeval(logr, X_train,y_train,cv=5,train_report=False, conf_mtx=True)"
   ]
  },
  {
   "cell_type": "markdown",
   "id": "476a8a36-8b3e-4f93-a4d4-3402eb8387dc",
   "metadata": {
    "id": "476a8a36-8b3e-4f93-a4d4-3402eb8387dc"
   },
   "source": [
    "**Results Analysis**\n",
    "\n",
    "- The results are based on an out-of-sample evaluation using Scikit-learn's `cross_val_predict`\n",
    "- Accuracy and F-score are identical, as expected due to the perfectly balanced target class distribution.\n",
    "- Precision and recall for both the positive and negative classes are nearly identical.\n",
    "- The number of false positives and false negatives is very similar, indicating that both classes have an equal level of detection error."
   ]
  },
  {
   "cell_type": "markdown",
   "id": "a9e52b73-b3e3-4142-a06d-f323a63c8081",
   "metadata": {
    "id": "a9e52b73-b3e3-4142-a06d-f323a63c8081"
   },
   "source": [
    "#### 3.3.2. Analysis of Misclassified Samples"
   ]
  },
  {
   "cell_type": "code",
   "execution_count": null,
   "id": "d2131b37-3e69-4707-855c-51e5b999f161",
   "metadata": {
    "id": "d2131b37-3e69-4707-855c-51e5b999f161"
   },
   "outputs": [],
   "source": [
    "# Get Out-of-Sample predictions from Logistic Regression\n",
    "\n",
    "logr = make_pipeline(preprocessing, LogisticRegression(n_jobs=-1,random_state=42)).fit(X_train,y_train)\n",
    "yhat_oos = cross_val_predict(logr, X_train, y_train, cv=5, n_jobs=-1)"
   ]
  },
  {
   "cell_type": "code",
   "execution_count": null,
   "id": "07cc4b62-81db-4042-9b5e-d5a9cd49b6bf",
   "metadata": {
    "id": "07cc4b62-81db-4042-9b5e-d5a9cd49b6bf",
    "outputId": "a0b1daaa-1b8e-465b-a8df-d4cf091e507a"
   },
   "outputs": [
    {
     "name": "stdout",
     "output_type": "stream",
     "text": [
      "==sample== \n",
      ":Although Charlie Chaplin made some great short comedies in the late 1910's, others don't quite make it. Examples like His New Job and Shanghaied come to mind, and I would also The Floorwalker in this category.<br /><br />Charlie gets mistaken for a manager of a department store (and vice versa). This manager tries to steal money from the cash register and make a run for it, and Charlie is just an honest costumer but getting blamed for some missing objects, stolen by other costumers.<br /><br />There aren't many laughs in it, except for the last couple of minutes or so with some great scenes on the escalator. For the rest, quite disappointing.<br /><br />4/10.\n",
      "==sample== \n",
      ":I understand there was some conflict between Leigh and the great Maggie Smith during the filming. Understandable when you put one of the world's greatest actresses of all time (Smith, of course) with one whose performances seem to get worse with each subsequent film.\n",
      "==sample== \n",
      ":A combat veteran, fresh from completion of ninjutsu training, reunites with an old friend in Manila and gets caught up in a power struggle with a ruthless land baron.<br /><br />But, do you really care about that? If you're even reading this page, you must know something of what to expect. It's your typical chop-socky, complete with ridiculous dialouge, mega-corny villains, apocalyptic sound editing, and a camera that begs for your attention. The only reason for being seen in public with this film is the fight sequences, wonderfully choreographed by Mike Stone and true master Sho Kosugi. Franco Nero ain't no slouch either, assuming you can see around the mustache.<br /><br />Well, I'm being too harsh. There are some good laughs--enjoy Christopher George repeatedly screaming \"Ninja!\" and delivering arguably the goofiest death scene ever captured on film.\n"
     ]
    }
   ],
   "source": [
    "# Priniting some false positives\n",
    "\n",
    "false_positives = X_train[(y_train == 0) & (yhat_oos == 1)]\n",
    "\n",
    "for i in [13,25,632]:\n",
    "    print(f\"==sample== \\n:{false_positives.iloc[i]}\")"
   ]
  },
  {
   "cell_type": "markdown",
   "id": "d89ab845-750b-4749-8865-7d6e207a96d5",
   "metadata": {
    "id": "d89ab845-750b-4749-8865-7d6e207a96d5"
   },
   "source": [
    "**Analysis**\n",
    "\n",
    "- Sample 1: Opens with positive praise but quickly turns negative, ending with \"4/10\". The shift isn’t recognized well by the model.\n",
    "- Sample 2: Positive comments about one actress clash with the negative review of another, but the model might be swayed by the first part.\n",
    "- Sample 3: Mix of harsh criticism (\"ridiculous dialogue\") and humor (\"good laughs\"), with a sarcastic tone. The positive ending misleads sentiment.\n",
    "\n",
    "All samples contain mixed sentiment, with shifts from positive to negative, and irony/sarcasm.\n",
    "\n",
    "**Suggestions**\n",
    "\n",
    "- Negation Handling: Implement a method to detect negations (e.g., \"not good\") to adjust sentiment appropriately. I plan to experiment with expanding contractions and using bigrams for better context understanding.\n",
    "\n",
    "- Rating Extraction: Numerical ratings (e.g., \"4/10\") often carry strong sentiment cues. However, since I have removed whole numbers, explicit handling of such ratings is not feasible.\n",
    "\n",
    "- Sentiment Shift Awareness: To capture sentiment changes within a sentence or paragraph, more advanced techniques like Deep Learning would be required to detect and manage sentiment shifts accurately.\n",
    "\n",
    "- Sarcasm Detection: Identifying sarcasm in reviews is challenging. Specialized models, potentially leveraging Deep Learning and sarcasm detection techniques, would be necessary to handle this effectively.\n",
    "\n"
   ]
  },
  {
   "cell_type": "code",
   "execution_count": null,
   "id": "42d1e1b0-90c1-4c97-ae84-f51df872c149",
   "metadata": {
    "id": "42d1e1b0-90c1-4c97-ae84-f51df872c149",
    "outputId": "d950aafd-9ac0-497a-ca7d-633b65805a40"
   },
   "outputs": [
    {
     "name": "stdout",
     "output_type": "stream",
     "text": [
      "==sample== \n",
      ":Considering all the teen films like \"the Breakfast Club\" and \"Pretty In Pink\" that are lionized. It is surprising that this one is so ignored.<br /><br />There is no sex in it, but sex is thought of, including the idea that it may matter what others think about it. The kids do not always get along with their parents, but neither the parents or the kids are seen as always right or wrong, and the parents are not seen as monsters.<br /><br />It deals with hero-worship. How one girl does a dangerous thing, which could have lead to real dustier, before realizing that she was wrong.<br /><br />The movie is kind of ahead of its' time. One kid asks another kid what birth control she uses. She says she is doing nothing to need birth control. She replies (wrongly) \"oral sex\".\n",
      "==sample== \n",
      ":Great cult flick for MST-3K types: Richard Boone is a mess -- bad hair, arthritis, even his dark glasses aren't right; about as good as a bad dino-flick can get... actually, that charging saber-toothed Styracosaurus was pretty cool -- maybe Spielberg should take a couple of notes from that one.\n",
      "==sample== \n",
      ":as can be read in many reviews here it is a movie you love or hate - apparently not so much space for opinions in between. I for one think that is a good sign. <br /><br />I always appreciated this movie, although the genre is not my typical style (I never watched Titanic for instance, and am not planning to).<br /><br />The English Patient grips because it shows how people can be different when they are in an exotic environment as opposed when they are 'home' (Katherine), it shows how destructive love can be in a slow, strong and utterly painful way, it excites because of the extremely passionate affair, the pain of the one(s) who leave behind, how pointless one can feel to move on. <br /><br />The photography is just stunning, not to mention the play of the actors. The pace is slow, but timely, and that does justice to the book, the timeline, and the depth/development of the characters. To put this in 110 minutes (as some seem to suggest here) would amputate the multi-layeredness of this movie. People tend to have difficulties with the pace of movies... as if they are in a rush to get to work.. hey - get a life ! ;-) enjoy...<br /><br />I give this movie 4.5 out of 5.\n"
     ]
    }
   ],
   "source": [
    "# Priniting some false negatives\n",
    "\n",
    "false_negatives = X_train[(y_train == 1) & (yhat_oos == 0)]\n",
    "\n",
    "for i in [131,257,63]:\n",
    "    print(f\"==sample== \\n:{false_negatives.iloc[i]}\")"
   ]
  },
  {
   "cell_type": "markdown",
   "id": "0c18db34-3a64-454c-b173-74321bdbe8d6",
   "metadata": {
    "id": "0c18db34-3a64-454c-b173-74321bdbe8d6"
   },
   "source": [
    "**Analysis**\n",
    "- Sample 1: Despite discussing themes of teen angst, sex, and hero-worship, the sentiment is largely neutral to negative in tone. It discusses problematic teenage behaviors but is not overly positive.\n",
    "- Sample 2: Although it acknowledges the film’s low quality (bad acting, hair, etc.), the humor and cult appeal of the movie are positive (\"pretty cool\" dinosaur), which could be missed by models focusing solely on negative cues.\n",
    "- Sample 3: The review expresses appreciation for the movie’s depth, photography, and acting, but it contains critical comments about the movie’s slow pace. The mix of appreciation and criticism might be misclassified.\n",
    "- In all three samples, the overall sentiment is mixed, with both positive and negative aspects, but key positive points (e.g., \"ahead of its time\", \"pretty cool\", \"grips\") may be underweighted by the model.\n",
    "\n",
    "**Suggestion**\n",
    "- Improve Mixed Sentiment Detection: Implement more sophisticated Deep Learning methods (such as BERT) to better handle and detect mixed sentiments in reviews.\n",
    "\n",
    "- Sarcasm Detection: Use specialized Deep Learning techniques, potentially including sarcasm detection models, to accurately identify and address sarcasm in reviews.\n",
    "\n",
    "- Contextual Embeddings: Leverage advanced models like BERT to capture the context of words within a sentence, improving overall sentiment analysis accuracy by understanding nuanced meanings."
   ]
  },
  {
   "cell_type": "markdown",
   "id": "8617e57f-2a73-44a0-b3d4-6666f4268895",
   "metadata": {
    "id": "8617e57f-2a73-44a0-b3d4-6666f4268895",
    "jp-MarkdownHeadingCollapsed": true
   },
   "source": [
    "#### 3.3.3. Learning Curve"
   ]
  },
  {
   "cell_type": "code",
   "execution_count": null,
   "id": "48c4096f-7622-42fd-bb63-21ef2e51ebeb",
   "metadata": {
    "id": "48c4096f-7622-42fd-bb63-21ef2e51ebeb",
    "outputId": "3fbfa41a-f569-485b-c8b3-88ff2a878756"
   },
   "outputs": [
    {
     "data": {
      "image/png": "[encoded data removed]",
      "text/plain": [
       "<Figure size 640x480 with 1 Axes>"
      ]
     },
     "metadata": {},
     "output_type": "display_data"
    }
   ],
   "source": [
    "def learning_curve_plot(predictor, X, y, cv=5, scoring=\"f1\", exploit_incremental_learning=False):\n",
    "    skf = StratifiedKFold(n_splits=cv, shuffle=True, random_state=42)\n",
    "    train_sizes, train_scores, valid_scores = learning_curve(predictor, X, y,train_sizes=np.linspace(0.1, 1.0, 10),\n",
    "        cv=skf, scoring=scoring, n_jobs=-1, exploit_incremental_learning=exploit_incremental_learning)\n",
    "\n",
    "    plt.plot(train_sizes, train_scores.mean(axis=1), \"r-+\", label=\"Training F1\")\n",
    "    plt.plot(train_sizes, valid_scores.mean(axis=1), \"b-\", label=\"Validation F1\")\n",
    "    plt.title(f\"Learning Curve: {predictor.__class__.__name__}\")\n",
    "    plt.xlabel(\"Training Set Size\")\n",
    "    plt.ylabel(\"F1 Score\")\n",
    "    plt.legend()\n",
    "    plt.grid()\n",
    "    plt.show()\n",
    "    return train_sizes, train_scores, valid_scores\n",
    "\n",
    "train_sizes, train_scores, valid_scores = learning_curve_plot(logr, X_train,y_train, cv=5, scoring=\"f1\", exploit_incremental_learning=False)"
   ]
  },
  {
   "cell_type": "markdown",
   "id": "a6c14fd8-4d50-4b6c-a838-f18c58cd024b",
   "metadata": {
    "id": "a6c14fd8-4d50-4b6c-a838-f18c58cd024b"
   },
   "source": [
    "This plot clearly indicates overfitting: there's a noticeable gap between the final training and validation performance, and the gap narrows as more data is added—a classic sign of overfitting. While adding more data is one of the best ways to address overfitting, it's unfortunately not an option in our project.\n",
    "\n",
    "What we can do, however, is constrain the Logistic Regression model using regularization techniques. This will be applied in hyperparameter tuning. Although this may result in a slight drop in training performance, it is expected to significantly improve generalization to unseen data."
   ]
  },
  {
   "cell_type": "markdown",
   "id": "7a54bd5d-8823-4f7e-9934-2c7357f00ea6",
   "metadata": {
    "id": "7a54bd5d-8823-4f7e-9934-2c7357f00ea6",
    "jp-MarkdownHeadingCollapsed": true
   },
   "source": [
    "#### 3.3.4. Word Importance"
   ]
  },
  {
   "cell_type": "code",
   "execution_count": null,
   "id": "963b86f9-7ff7-4769-8cf2-a1ecf288784a",
   "metadata": {
    "id": "963b86f9-7ff7-4769-8cf2-a1ecf288784a",
    "outputId": "c5aa24f7-3067-4e21-e7ea-458ad0834f8a"
   },
   "outputs": [
    {
     "data": {
      "image/png": "[encoded data removed]",
      "text/plain": [
       "<Figure size 1000x500 with 1 Axes>"
      ]
     },
     "metadata": {},
     "output_type": "display_data"
    }
   ],
   "source": [
    "# using LGBM since it supports feature importance\n",
    "lgbm = make_pipeline(preprocessing,float32convertor,LGBMClassifier(n_jobs=-1, random_state=42, verbose=-1)).fit(X_train,y_train)\n",
    "\n",
    "word_importance = dict(zip(lgbm.named_steps[\"pipeline\"].named_steps[\"countvectorizer\"].get_feature_names_out()\n",
    "                            , lgbm.named_steps[\"lgbmclassifier\"].booster_.feature_importance()))\n",
    "\n",
    "top_n = 50\n",
    "word_importance = dict(sorted(word_importance.items(), key=lambda x: x[1], reverse=True)[:top_n])\n",
    "\n",
    "wordcloud = WordCloud(width=800,height=400,background_color='white',colormap='viridis', min_font_size=10,max_font_size=150,\n",
    "    random_state=42).generate_from_frequencies(word_importance)\n",
    "\n",
    "plt.figure(figsize=(10, 5))\n",
    "plt.imshow(wordcloud, interpolation='bilinear')\n",
    "plt.axis('off')\n",
    "plt.title('Top Words by LGBM Feature Importance', fontsize=14)\n",
    "plt.show()"
   ]
  },
  {
   "cell_type": "markdown",
   "id": "03b5df44-d381-487d-bbd3-6e9d257946bd",
   "metadata": {
    "id": "03b5df44-d381-487d-bbd3-6e9d257946bd"
   },
   "source": [
    "The size of each word reflects its feature importance as determined by the **LGBM** algorithm. Adjectives such as *\"great\"*, *\"worst\"*, and *\"excellent\"* are examples of *sentiment words* or *opinion words*, which play a crucial role in distinguishing between the two classes of data.\n",
    "\n",
    "An interesting observation is the importance of the stop word 'and,' which does not convey sentiment. To address this, I will use TF-IDF and remove stopwords"
   ]
  },
  {
   "cell_type": "markdown",
   "id": "60016b25-84c4-4ab5-bf77-46cefea31ccc",
   "metadata": {
    "id": "60016b25-84c4-4ab5-bf77-46cefea31ccc"
   },
   "source": [
    "### 3.4. Fine-Tuning Sentiment Analysis Pipeline"
   ]
  },
  {
   "cell_type": "markdown",
   "id": "67bbc41a-bad2-4c01-8625-8b71eda3533d",
   "metadata": {
    "id": "67bbc41a-bad2-4c01-8625-8b71eda3533d"
   },
   "source": [
    "In this section, I will aim to improve the predictive performance of the outperforming pipeline by tweaking various text preprocessing steps and tuning the hyperparameters of the logistic regression model to maximize performance while controlling overfitting.\n"
   ]
  },
  {
   "cell_type": "markdown",
   "id": "510fb147-0c3c-49e0-84c5-bde76d7c425b",
   "metadata": {
    "id": "510fb147-0c3c-49e0-84c5-bde76d7c425b"
   },
   "source": [
    "#### 3.4.1. Fine-Tuning Text Preprocessing Pipeline with Optuna"
   ]
  },
  {
   "cell_type": "markdown",
   "id": "067bf514-d6c8-4b85-9b5e-142376bd7fed",
   "metadata": {
    "id": "067bf514-d6c8-4b85-9b5e-142376bd7fed"
   },
   "source": [
    "In the baseline establishment step, I compared several classification models using default settings for both preprocessing and model parameters. The basic preprocessing included lowercasing the text and removing numbers, markdown tags, and punctuation that don’t meaningfully contribute to sentiment.\n",
    "\n",
    "In the next phase, I will try a few additional techniques to improve performance:\n",
    "\n",
    "* **Stemming**: This reduces words to their base or root form (e.g., “running” becomes “run”).\n",
    "* **Different vectorization methods**: I’ll test both CountVectorizer and TF-IDF. TF-IDF helps reduce the influence of very common words that don’t help distinguish between texts.\n",
    "* **Bigrams**: Instead of looking at individual words, I’ll also consider pairs of consecutive words. For example, in the sentence *\"This movie is not funny,\"* the bigram *\"not funny\"* can help preserve the negative sentiment, which a simple bag-of-words model might miss.\n",
    "* **Removing stop words**: These are common words like “the” or “is” that usually don’t add much meaning. I’ll test whether removing them improves results.\n",
    "* **Max features**: I’ll limit the vocabulary to the top N most frequent terms, ignoring less relevant ones.\n",
    "* **min\\_df and max\\_df**: These help filter out very rare or overly common words by setting thresholds based on how often a word appears across documents.\n",
    "\n",
    "I’ve also enabled contraction expansion by default to help with handling negations, based on Error Analysis insights.\n",
    "\n",
    "All these steps and their possible configurations create a large search space, making an exhaustive grid search impractical. So instead, I’ll use **Optuna**, a hyperparameter optimization library based on Bayesian methods. It searches more efficiently by learning from past trials.\n",
    "\n",
    "To speed things up even further, I’m using Optuna’s pruner, which stops poor-performing trials early. The optimization process is run using 3-fold cross-validation on a subset of 25,000 samples to balance thoroughness and efficiency.\n"
   ]
  },
  {
   "cell_type": "code",
   "execution_count": null,
   "id": "3ef944b7-5b29-43f9-849c-8e0e54e2a1b4",
   "metadata": {
    "id": "3ef944b7-5b29-43f9-849c-8e0e54e2a1b4"
   },
   "outputs": [],
   "source": [
    "def objective(trial):\n",
    "    # Defining seach space\n",
    "    use_stem=trial.suggest_categorical(\"stemmed\",[True,False])\n",
    "    X_sub= X_train_stem if use_stem else X_train_nostem\n",
    "    vec_type=trial.suggest_categorical(\"vectorizer\",[\"count\",\"tfidf\"])\n",
    "    ngram=trial.suggest_categorical(\"ngram_range\",[(1,1),(1,2)])\n",
    "    stop=trial.suggest_categorical(\"stop_words\",[None,\"english\"])\n",
    "    max_feat=trial.suggest_int(\"max_features\",1000,50000,log=True)\n",
    "    min_df=trial.suggest_categorical(\"min_df\",[2,5,10])\n",
    "    max_df=trial.suggest_categorical(\"max_df\",[0.75,0.85,0.9,1.0])\n",
    "\n",
    "    # vectorizer specific settings\n",
    "    if vec_type==\"count\":\n",
    "        vec=CountVectorizer(ngram_range=ngram,stop_words=stop,\n",
    "                            max_features=max_feat,min_df=min_df,max_df=max_df)\n",
    "    else:\n",
    "        vec=TfidfVectorizer(ngram_range=ngram,stop_words=stop,\n",
    "                            max_features=max_feat,min_df=min_df,max_df=max_df)\n",
    "\n",
    "    pipe=Pipeline([(\"vect\",vec),(\"clf\",LogisticRegression(random_state=42,n_jobs=-1))])\n",
    "\n",
    "    skf=StratifiedKFold(n_splits=3,shuffle=True,random_state=42)\n",
    "    scores=[]\n",
    "\n",
    "    # a custom cross-validation to integrate Optuna pruner\n",
    "    for fold,(tr_idx,val_idx) in enumerate(skf.split(X_sub,y_sub)):\n",
    "        pipe.fit(X_sub[tr_idx],y_sub[tr_idx])\n",
    "        preds=pipe.predict(X_sub[val_idx])\n",
    "        score=f1_score(y_sub[val_idx],preds)\n",
    "        trial.report(score,fold)\n",
    "        if trial.should_prune():\n",
    "            raise TrialPruned()\n",
    "        scores.append(score)\n",
    "    return sum(scores)/len(scores)"
   ]
  },
  {
   "cell_type": "code",
   "execution_count": null,
   "id": "fb8712af-c6e9-468f-9914-97bdeeb0bb95",
   "metadata": {
    "id": "fb8712af-c6e9-468f-9914-97bdeeb0bb95",
    "outputId": "174a7921-b085-42c5-ddff-740a01e6388c",
    "scrolled": true
   },
   "outputs": [
    {
     "name": "stderr",
     "output_type": "stream",
     "text": [
      "[I 2025-05-09 15:01:25,886] A new study created in memory with name: no-name-af014447-cecd-4eb7-8019-8e22cb245f10\n",
      "\\\\?\\C:\\Users\\ASUS\\AppData\\Roaming\\jupyterlab-desktop\\jlab_server\\Lib\\site-packages\\optuna\\distributions.py:515: UserWarning: Choices for a categorical distribution should be a tuple of None, bool, int, float and str for persistent storage but contains (1, 1) which is of type tuple.\n",
      "  warnings.warn(message)\n",
      "\\\\?\\C:\\Users\\ASUS\\AppData\\Roaming\\jupyterlab-desktop\\jlab_server\\Lib\\site-packages\\optuna\\distributions.py:515: UserWarning: Choices for a categorical distribution should be a tuple of None, bool, int, float and str for persistent storage but contains (1, 2) which is of type tuple.\n",
      "  warnings.warn(message)\n",
      "[I 2025-05-09 15:01:59,180] Trial 0 finished with value: 0.8947107370132352 and parameters: {'stemmed': True, 'vectorizer': 'tfidf', 'ngram_range': (1, 2), 'stop_words': None, 'max_features': 24855, 'min_df': 2, 'max_df': 0.9}. Best is trial 0 with value: 0.8947107370132352.\n",
      "\\\\?\\C:\\Users\\ASUS\\AppData\\Roaming\\jupyterlab-desktop\\jlab_server\\Lib\\site-packages\\optuna\\distributions.py:515: UserWarning: Choices for a categorical distribution should be a tuple of None, bool, int, float and str for persistent storage but contains (1, 1) which is of type tuple.\n",
      "  warnings.warn(message)\n",
      "\\\\?\\C:\\Users\\ASUS\\AppData\\Roaming\\jupyterlab-desktop\\jlab_server\\Lib\\site-packages\\optuna\\distributions.py:515: UserWarning: Choices for a categorical distribution should be a tuple of None, bool, int, float and str for persistent storage but contains (1, 2) which is of type tuple.\n",
      "  warnings.warn(message)\n",
      "[I 2025-05-09 15:02:10,671] Trial 1 finished with value: 0.8650342837073999 and parameters: {'stemmed': True, 'vectorizer': 'count', 'ngram_range': (1, 1), 'stop_words': None, 'max_features': 10532, 'min_df': 2, 'max_df': 0.75}. Best is trial 0 with value: 0.8947107370132352.\n",
      "\\\\?\\C:\\Users\\ASUS\\AppData\\Roaming\\jupyterlab-desktop\\jlab_server\\Lib\\site-packages\\optuna\\distributions.py:515: UserWarning: Choices for a categorical distribution should be a tuple of None, bool, int, float and str for persistent storage but contains (1, 1) which is of type tuple.\n",
      "  warnings.warn(message)\n",
      "\\\\?\\C:\\Users\\ASUS\\AppData\\Roaming\\jupyterlab-desktop\\jlab_server\\Lib\\site-packages\\optuna\\distributions.py:515: UserWarning: Choices for a categorical distribution should be a tuple of None, bool, int, float and str for persistent storage but contains (1, 2) which is of type tuple.\n",
      "  warnings.warn(message)\n",
      "[I 2025-05-09 15:02:46,983] Trial 2 finished with value: 0.8836927325139903 and parameters: {'stemmed': False, 'vectorizer': 'count', 'ngram_range': (1, 2), 'stop_words': None, 'max_features': 18458, 'min_df': 2, 'max_df': 0.9}. Best is trial 0 with value: 0.8947107370132352.\n",
      "\\\\?\\C:\\Users\\ASUS\\AppData\\Roaming\\jupyterlab-desktop\\jlab_server\\Lib\\site-packages\\optuna\\distributions.py:515: UserWarning: Choices for a categorical distribution should be a tuple of None, bool, int, float and str for persistent storage but contains (1, 1) which is of type tuple.\n",
      "  warnings.warn(message)\n",
      "\\\\?\\C:\\Users\\ASUS\\AppData\\Roaming\\jupyterlab-desktop\\jlab_server\\Lib\\site-packages\\optuna\\distributions.py:515: UserWarning: Choices for a categorical distribution should be a tuple of None, bool, int, float and str for persistent storage but contains (1, 2) which is of type tuple.\n",
      "  warnings.warn(message)\n",
      "[I 2025-05-09 15:03:13,603] Trial 3 finished with value: 0.8456583189537229 and parameters: {'stemmed': False, 'vectorizer': 'count', 'ngram_range': (1, 2), 'stop_words': 'english', 'max_features': 1004, 'min_df': 10, 'max_df': 1.0}. Best is trial 0 with value: 0.8947107370132352.\n",
      "\\\\?\\C:\\Users\\ASUS\\AppData\\Roaming\\jupyterlab-desktop\\jlab_server\\Lib\\site-packages\\optuna\\distributions.py:515: UserWarning: Choices for a categorical distribution should be a tuple of None, bool, int, float and str for persistent storage but contains (1, 1) which is of type tuple.\n",
      "  warnings.warn(message)\n",
      "\\\\?\\C:\\Users\\ASUS\\AppData\\Roaming\\jupyterlab-desktop\\jlab_server\\Lib\\site-packages\\optuna\\distributions.py:515: UserWarning: Choices for a categorical distribution should be a tuple of None, bool, int, float and str for persistent storage but contains (1, 2) which is of type tuple.\n",
      "  warnings.warn(message)\n",
      "[I 2025-05-09 15:03:43,683] Trial 4 finished with value: 0.877158758767607 and parameters: {'stemmed': True, 'vectorizer': 'tfidf', 'ngram_range': (1, 2), 'stop_words': None, 'max_features': 2278, 'min_df': 10, 'max_df': 0.9}. Best is trial 0 with value: 0.8947107370132352.\n",
      "\\\\?\\C:\\Users\\ASUS\\AppData\\Roaming\\jupyterlab-desktop\\jlab_server\\Lib\\site-packages\\optuna\\distributions.py:515: UserWarning: Choices for a categorical distribution should be a tuple of None, bool, int, float and str for persistent storage but contains (1, 1) which is of type tuple.\n",
      "  warnings.warn(message)\n",
      "\\\\?\\C:\\Users\\ASUS\\AppData\\Roaming\\jupyterlab-desktop\\jlab_server\\Lib\\site-packages\\optuna\\distributions.py:515: UserWarning: Choices for a categorical distribution should be a tuple of None, bool, int, float and str for persistent storage but contains (1, 2) which is of type tuple.\n",
      "  warnings.warn(message)\n",
      "[I 2025-05-09 15:03:54,650] Trial 5 finished with value: 0.859942949641107 and parameters: {'stemmed': False, 'vectorizer': 'count', 'ngram_range': (1, 1), 'stop_words': None, 'max_features': 1561, 'min_df': 10, 'max_df': 0.9}. Best is trial 0 with value: 0.8947107370132352.\n",
      "\\\\?\\C:\\Users\\ASUS\\AppData\\Roaming\\jupyterlab-desktop\\jlab_server\\Lib\\site-packages\\optuna\\distributions.py:515: UserWarning: Choices for a categorical distribution should be a tuple of None, bool, int, float and str for persistent storage but contains (1, 1) which is of type tuple.\n",
      "  warnings.warn(message)\n",
      "\\\\?\\C:\\Users\\ASUS\\AppData\\Roaming\\jupyterlab-desktop\\jlab_server\\Lib\\site-packages\\optuna\\distributions.py:515: UserWarning: Choices for a categorical distribution should be a tuple of None, bool, int, float and str for persistent storage but contains (1, 2) which is of type tuple.\n",
      "  warnings.warn(message)\n",
      "[I 2025-05-09 15:04:27,540] Trial 6 finished with value: 0.8824728263353846 and parameters: {'stemmed': True, 'vectorizer': 'count', 'ngram_range': (1, 2), 'stop_words': None, 'max_features': 17850, 'min_df': 2, 'max_df': 0.9}. Best is trial 0 with value: 0.8947107370132352.\n",
      "\\\\?\\C:\\Users\\ASUS\\AppData\\Roaming\\jupyterlab-desktop\\jlab_server\\Lib\\site-packages\\optuna\\distributions.py:515: UserWarning: Choices for a categorical distribution should be a tuple of None, bool, int, float and str for persistent storage but contains (1, 1) which is of type tuple.\n",
      "  warnings.warn(message)\n",
      "\\\\?\\C:\\Users\\ASUS\\AppData\\Roaming\\jupyterlab-desktop\\jlab_server\\Lib\\site-packages\\optuna\\distributions.py:515: UserWarning: Choices for a categorical distribution should be a tuple of None, bool, int, float and str for persistent storage but contains (1, 2) which is of type tuple.\n",
      "  warnings.warn(message)\n",
      "[I 2025-05-09 15:04:59,130] Trial 7 finished with value: 0.8577415956548999 and parameters: {'stemmed': True, 'vectorizer': 'count', 'ngram_range': (1, 2), 'stop_words': None, 'max_features': 1667, 'min_df': 10, 'max_df': 1.0}. Best is trial 0 with value: 0.8947107370132352.\n",
      "\\\\?\\C:\\Users\\ASUS\\AppData\\Roaming\\jupyterlab-desktop\\jlab_server\\Lib\\site-packages\\optuna\\distributions.py:515: UserWarning: Choices for a categorical distribution should be a tuple of None, bool, int, float and str for persistent storage but contains (1, 1) which is of type tuple.\n",
      "  warnings.warn(message)\n",
      "\\\\?\\C:\\Users\\ASUS\\AppData\\Roaming\\jupyterlab-desktop\\jlab_server\\Lib\\site-packages\\optuna\\distributions.py:515: UserWarning: Choices for a categorical distribution should be a tuple of None, bool, int, float and str for persistent storage but contains (1, 2) which is of type tuple.\n",
      "  warnings.warn(message)\n",
      "[I 2025-05-09 15:05:08,280] Trial 8 finished with value: 0.8819409052054672 and parameters: {'stemmed': True, 'vectorizer': 'tfidf', 'ngram_range': (1, 1), 'stop_words': 'english', 'max_features': 14366, 'min_df': 2, 'max_df': 1.0}. Best is trial 0 with value: 0.8947107370132352.\n",
      "\\\\?\\C:\\Users\\ASUS\\AppData\\Roaming\\jupyterlab-desktop\\jlab_server\\Lib\\site-packages\\optuna\\distributions.py:515: UserWarning: Choices for a categorical distribution should be a tuple of None, bool, int, float and str for persistent storage but contains (1, 1) which is of type tuple.\n",
      "  warnings.warn(message)\n",
      "\\\\?\\C:\\Users\\ASUS\\AppData\\Roaming\\jupyterlab-desktop\\jlab_server\\Lib\\site-packages\\optuna\\distributions.py:515: UserWarning: Choices for a categorical distribution should be a tuple of None, bool, int, float and str for persistent storage but contains (1, 2) which is of type tuple.\n",
      "  warnings.warn(message)\n",
      "[I 2025-05-09 15:05:18,926] Trial 9 finished with value: 0.8575118044593323 and parameters: {'stemmed': True, 'vectorizer': 'count', 'ngram_range': (1, 1), 'stop_words': None, 'max_features': 1267, 'min_df': 10, 'max_df': 0.9}. Best is trial 0 with value: 0.8947107370132352.\n",
      "\\\\?\\C:\\Users\\ASUS\\AppData\\Roaming\\jupyterlab-desktop\\jlab_server\\Lib\\site-packages\\optuna\\distributions.py:515: UserWarning: Choices for a categorical distribution should be a tuple of None, bool, int, float and str for persistent storage but contains (1, 1) which is of type tuple.\n",
      "  warnings.warn(message)\n",
      "\\\\?\\C:\\Users\\ASUS\\AppData\\Roaming\\jupyterlab-desktop\\jlab_server\\Lib\\site-packages\\optuna\\distributions.py:515: UserWarning: Choices for a categorical distribution should be a tuple of None, bool, int, float and str for persistent storage but contains (1, 2) which is of type tuple.\n",
      "  warnings.warn(message)\n",
      "[I 2025-05-09 15:05:47,589] Trial 10 finished with value: 0.8852392265129755 and parameters: {'stemmed': False, 'vectorizer': 'tfidf', 'ngram_range': (1, 2), 'stop_words': 'english', 'max_features': 41351, 'min_df': 5, 'max_df': 0.85}. Best is trial 0 with value: 0.8947107370132352.\n",
      "\\\\?\\C:\\Users\\ASUS\\AppData\\Roaming\\jupyterlab-desktop\\jlab_server\\Lib\\site-packages\\optuna\\distributions.py:515: UserWarning: Choices for a categorical distribution should be a tuple of None, bool, int, float and str for persistent storage but contains (1, 1) which is of type tuple.\n",
      "  warnings.warn(message)\n",
      "\\\\?\\C:\\Users\\ASUS\\AppData\\Roaming\\jupyterlab-desktop\\jlab_server\\Lib\\site-packages\\optuna\\distributions.py:515: UserWarning: Choices for a categorical distribution should be a tuple of None, bool, int, float and str for persistent storage but contains (1, 2) which is of type tuple.\n",
      "  warnings.warn(message)\n",
      "[I 2025-05-09 15:06:15,123] Trial 11 finished with value: 0.8852194790958117 and parameters: {'stemmed': False, 'vectorizer': 'tfidf', 'ngram_range': (1, 2), 'stop_words': 'english', 'max_features': 46693, 'min_df': 5, 'max_df': 0.85}. Best is trial 0 with value: 0.8947107370132352.\n",
      "\\\\?\\C:\\Users\\ASUS\\AppData\\Roaming\\jupyterlab-desktop\\jlab_server\\Lib\\site-packages\\optuna\\distributions.py:515: UserWarning: Choices for a categorical distribution should be a tuple of None, bool, int, float and str for persistent storage but contains (1, 1) which is of type tuple.\n",
      "  warnings.warn(message)\n",
      "\\\\?\\C:\\Users\\ASUS\\AppData\\Roaming\\jupyterlab-desktop\\jlab_server\\Lib\\site-packages\\optuna\\distributions.py:515: UserWarning: Choices for a categorical distribution should be a tuple of None, bool, int, float and str for persistent storage but contains (1, 2) which is of type tuple.\n",
      "  warnings.warn(message)\n",
      "[I 2025-05-09 15:06:42,099] Trial 12 finished with value: 0.8849919285633755 and parameters: {'stemmed': False, 'vectorizer': 'tfidf', 'ngram_range': (1, 2), 'stop_words': 'english', 'max_features': 48604, 'min_df': 5, 'max_df': 0.85}. Best is trial 0 with value: 0.8947107370132352.\n",
      "\\\\?\\C:\\Users\\ASUS\\AppData\\Roaming\\jupyterlab-desktop\\jlab_server\\Lib\\site-packages\\optuna\\distributions.py:515: UserWarning: Choices for a categorical distribution should be a tuple of None, bool, int, float and str for persistent storage but contains (1, 1) which is of type tuple.\n",
      "  warnings.warn(message)\n",
      "\\\\?\\C:\\Users\\ASUS\\AppData\\Roaming\\jupyterlab-desktop\\jlab_server\\Lib\\site-packages\\optuna\\distributions.py:515: UserWarning: Choices for a categorical distribution should be a tuple of None, bool, int, float and str for persistent storage but contains (1, 2) which is of type tuple.\n",
      "  warnings.warn(message)\n",
      "[I 2025-05-09 15:07:09,581] Trial 13 finished with value: 0.8845729144156221 and parameters: {'stemmed': False, 'vectorizer': 'tfidf', 'ngram_range': (1, 2), 'stop_words': 'english', 'max_features': 29862, 'min_df': 5, 'max_df': 0.85}. Best is trial 0 with value: 0.8947107370132352.\n",
      "\\\\?\\C:\\Users\\ASUS\\AppData\\Roaming\\jupyterlab-desktop\\jlab_server\\Lib\\site-packages\\optuna\\distributions.py:515: UserWarning: Choices for a categorical distribution should be a tuple of None, bool, int, float and str for persistent storage but contains (1, 1) which is of type tuple.\n",
      "  warnings.warn(message)\n",
      "\\\\?\\C:\\Users\\ASUS\\AppData\\Roaming\\jupyterlab-desktop\\jlab_server\\Lib\\site-packages\\optuna\\distributions.py:515: UserWarning: Choices for a categorical distribution should be a tuple of None, bool, int, float and str for persistent storage but contains (1, 2) which is of type tuple.\n",
      "  warnings.warn(message)\n",
      "[I 2025-05-09 15:07:38,501] Trial 14 finished with value: 0.879572922535924 and parameters: {'stemmed': True, 'vectorizer': 'tfidf', 'ngram_range': (1, 2), 'stop_words': 'english', 'max_features': 4894, 'min_df': 5, 'max_df': 0.75}. Best is trial 0 with value: 0.8947107370132352.\n",
      "\\\\?\\C:\\Users\\ASUS\\AppData\\Roaming\\jupyterlab-desktop\\jlab_server\\Lib\\site-packages\\optuna\\distributions.py:515: UserWarning: Choices for a categorical distribution should be a tuple of None, bool, int, float and str for persistent storage but contains (1, 1) which is of type tuple.\n",
      "  warnings.warn(message)\n",
      "\\\\?\\C:\\Users\\ASUS\\AppData\\Roaming\\jupyterlab-desktop\\jlab_server\\Lib\\site-packages\\optuna\\distributions.py:515: UserWarning: Choices for a categorical distribution should be a tuple of None, bool, int, float and str for persistent storage but contains (1, 2) which is of type tuple.\n",
      "  warnings.warn(message)\n",
      "[I 2025-05-09 15:08:15,107] Trial 15 finished with value: 0.8847316283389702 and parameters: {'stemmed': False, 'vectorizer': 'tfidf', 'ngram_range': (1, 2), 'stop_words': 'english', 'max_features': 26387, 'min_df': 2, 'max_df': 0.85}. Best is trial 0 with value: 0.8947107370132352.\n",
      "\\\\?\\C:\\Users\\ASUS\\AppData\\Roaming\\jupyterlab-desktop\\jlab_server\\Lib\\site-packages\\optuna\\distributions.py:515: UserWarning: Choices for a categorical distribution should be a tuple of None, bool, int, float and str for persistent storage but contains (1, 1) which is of type tuple.\n",
      "  warnings.warn(message)\n",
      "\\\\?\\C:\\Users\\ASUS\\AppData\\Roaming\\jupyterlab-desktop\\jlab_server\\Lib\\site-packages\\optuna\\distributions.py:515: UserWarning: Choices for a categorical distribution should be a tuple of None, bool, int, float and str for persistent storage but contains (1, 2) which is of type tuple.\n",
      "  warnings.warn(message)\n",
      "[I 2025-05-09 15:08:47,541] Trial 16 finished with value: 0.880248246534963 and parameters: {'stemmed': False, 'vectorizer': 'tfidf', 'ngram_range': (1, 2), 'stop_words': 'english', 'max_features': 7706, 'min_df': 5, 'max_df': 0.85}. Best is trial 0 with value: 0.8947107370132352.\n",
      "\\\\?\\C:\\Users\\ASUS\\AppData\\Roaming\\jupyterlab-desktop\\jlab_server\\Lib\\site-packages\\optuna\\distributions.py:515: UserWarning: Choices for a categorical distribution should be a tuple of None, bool, int, float and str for persistent storage but contains (1, 1) which is of type tuple.\n",
      "  warnings.warn(message)\n",
      "\\\\?\\C:\\Users\\ASUS\\AppData\\Roaming\\jupyterlab-desktop\\jlab_server\\Lib\\site-packages\\optuna\\distributions.py:515: UserWarning: Choices for a categorical distribution should be a tuple of None, bool, int, float and str for persistent storage but contains (1, 2) which is of type tuple.\n",
      "  warnings.warn(message)\n",
      "[I 2025-05-09 15:09:25,405] Trial 17 finished with value: 0.8864392926340551 and parameters: {'stemmed': True, 'vectorizer': 'tfidf', 'ngram_range': (1, 2), 'stop_words': None, 'max_features': 4097, 'min_df': 2, 'max_df': 0.75}. Best is trial 0 with value: 0.8947107370132352.\n",
      "\\\\?\\C:\\Users\\ASUS\\AppData\\Roaming\\jupyterlab-desktop\\jlab_server\\Lib\\site-packages\\optuna\\distributions.py:515: UserWarning: Choices for a categorical distribution should be a tuple of None, bool, int, float and str for persistent storage but contains (1, 1) which is of type tuple.\n",
      "  warnings.warn(message)\n",
      "\\\\?\\C:\\Users\\ASUS\\AppData\\Roaming\\jupyterlab-desktop\\jlab_server\\Lib\\site-packages\\optuna\\distributions.py:515: UserWarning: Choices for a categorical distribution should be a tuple of None, bool, int, float and str for persistent storage but contains (1, 2) which is of type tuple.\n",
      "  warnings.warn(message)\n",
      "[I 2025-05-09 15:09:36,878] Trial 18 finished with value: 0.8823285776391673 and parameters: {'stemmed': True, 'vectorizer': 'tfidf', 'ngram_range': (1, 1), 'stop_words': None, 'max_features': 3967, 'min_df': 2, 'max_df': 0.75}. Best is trial 0 with value: 0.8947107370132352.\n",
      "\\\\?\\C:\\Users\\ASUS\\AppData\\Roaming\\jupyterlab-desktop\\jlab_server\\Lib\\site-packages\\optuna\\distributions.py:515: UserWarning: Choices for a categorical distribution should be a tuple of None, bool, int, float and str for persistent storage but contains (1, 1) which is of type tuple.\n",
      "  warnings.warn(message)\n",
      "\\\\?\\C:\\Users\\ASUS\\AppData\\Roaming\\jupyterlab-desktop\\jlab_server\\Lib\\site-packages\\optuna\\distributions.py:515: UserWarning: Choices for a categorical distribution should be a tuple of None, bool, int, float and str for persistent storage but contains (1, 2) which is of type tuple.\n",
      "  warnings.warn(message)\n",
      "[I 2025-05-09 15:10:14,416] Trial 19 finished with value: 0.8839866482711448 and parameters: {'stemmed': True, 'vectorizer': 'tfidf', 'ngram_range': (1, 2), 'stop_words': None, 'max_features': 3600, 'min_df': 2, 'max_df': 0.75}. Best is trial 0 with value: 0.8947107370132352.\n",
      "\\\\?\\C:\\Users\\ASUS\\AppData\\Roaming\\jupyterlab-desktop\\jlab_server\\Lib\\site-packages\\optuna\\distributions.py:515: UserWarning: Choices for a categorical distribution should be a tuple of None, bool, int, float and str for persistent storage but contains (1, 1) which is of type tuple.\n",
      "  warnings.warn(message)\n",
      "\\\\?\\C:\\Users\\ASUS\\AppData\\Roaming\\jupyterlab-desktop\\jlab_server\\Lib\\site-packages\\optuna\\distributions.py:515: UserWarning: Choices for a categorical distribution should be a tuple of None, bool, int, float and str for persistent storage but contains (1, 2) which is of type tuple.\n",
      "  warnings.warn(message)\n",
      "[I 2025-05-09 15:10:51,762] Trial 20 finished with value: 0.8903179387935213 and parameters: {'stemmed': True, 'vectorizer': 'tfidf', 'ngram_range': (1, 2), 'stop_words': None, 'max_features': 6252, 'min_df': 2, 'max_df': 0.75}. Best is trial 0 with value: 0.8947107370132352.\n",
      "\\\\?\\C:\\Users\\ASUS\\AppData\\Roaming\\jupyterlab-desktop\\jlab_server\\Lib\\site-packages\\optuna\\distributions.py:515: UserWarning: Choices for a categorical distribution should be a tuple of None, bool, int, float and str for persistent storage but contains (1, 1) which is of type tuple.\n",
      "  warnings.warn(message)\n",
      "\\\\?\\C:\\Users\\ASUS\\AppData\\Roaming\\jupyterlab-desktop\\jlab_server\\Lib\\site-packages\\optuna\\distributions.py:515: UserWarning: Choices for a categorical distribution should be a tuple of None, bool, int, float and str for persistent storage but contains (1, 2) which is of type tuple.\n",
      "  warnings.warn(message)\n",
      "[I 2025-05-09 15:11:29,073] Trial 21 finished with value: 0.8902322585303851 and parameters: {'stemmed': True, 'vectorizer': 'tfidf', 'ngram_range': (1, 2), 'stop_words': None, 'max_features': 6370, 'min_df': 2, 'max_df': 0.75}. Best is trial 0 with value: 0.8947107370132352.\n",
      "\\\\?\\C:\\Users\\ASUS\\AppData\\Roaming\\jupyterlab-desktop\\jlab_server\\Lib\\site-packages\\optuna\\distributions.py:515: UserWarning: Choices for a categorical distribution should be a tuple of None, bool, int, float and str for persistent storage but contains (1, 1) which is of type tuple.\n",
      "  warnings.warn(message)\n",
      "\\\\?\\C:\\Users\\ASUS\\AppData\\Roaming\\jupyterlab-desktop\\jlab_server\\Lib\\site-packages\\optuna\\distributions.py:515: UserWarning: Choices for a categorical distribution should be a tuple of None, bool, int, float and str for persistent storage but contains (1, 2) which is of type tuple.\n",
      "  warnings.warn(message)\n",
      "[I 2025-05-09 15:12:06,318] Trial 22 finished with value: 0.8897455480431863 and parameters: {'stemmed': True, 'vectorizer': 'tfidf', 'ngram_range': (1, 2), 'stop_words': None, 'max_features': 6033, 'min_df': 2, 'max_df': 0.75}. Best is trial 0 with value: 0.8947107370132352.\n",
      "\\\\?\\C:\\Users\\ASUS\\AppData\\Roaming\\jupyterlab-desktop\\jlab_server\\Lib\\site-packages\\optuna\\distributions.py:515: UserWarning: Choices for a categorical distribution should be a tuple of None, bool, int, float and str for persistent storage but contains (1, 1) which is of type tuple.\n",
      "  warnings.warn(message)\n",
      "\\\\?\\C:\\Users\\ASUS\\AppData\\Roaming\\jupyterlab-desktop\\jlab_server\\Lib\\site-packages\\optuna\\distributions.py:515: UserWarning: Choices for a categorical distribution should be a tuple of None, bool, int, float and str for persistent storage but contains (1, 2) which is of type tuple.\n",
      "  warnings.warn(message)\n",
      "[I 2025-05-09 15:12:43,742] Trial 23 finished with value: 0.8916449769356324 and parameters: {'stemmed': True, 'vectorizer': 'tfidf', 'ngram_range': (1, 2), 'stop_words': None, 'max_features': 9025, 'min_df': 2, 'max_df': 0.75}. Best is trial 0 with value: 0.8947107370132352.\n",
      "\\\\?\\C:\\Users\\ASUS\\AppData\\Roaming\\jupyterlab-desktop\\jlab_server\\Lib\\site-packages\\optuna\\distributions.py:515: UserWarning: Choices for a categorical distribution should be a tuple of None, bool, int, float and str for persistent storage but contains (1, 1) which is of type tuple.\n",
      "  warnings.warn(message)\n",
      "\\\\?\\C:\\Users\\ASUS\\AppData\\Roaming\\jupyterlab-desktop\\jlab_server\\Lib\\site-packages\\optuna\\distributions.py:515: UserWarning: Choices for a categorical distribution should be a tuple of None, bool, int, float and str for persistent storage but contains (1, 2) which is of type tuple.\n",
      "  warnings.warn(message)\n",
      "[I 2025-05-09 15:13:21,667] Trial 24 finished with value: 0.8922422107023117 and parameters: {'stemmed': True, 'vectorizer': 'tfidf', 'ngram_range': (1, 2), 'stop_words': None, 'max_features': 11701, 'min_df': 2, 'max_df': 0.75}. Best is trial 0 with value: 0.8947107370132352.\n",
      "\\\\?\\C:\\Users\\ASUS\\AppData\\Roaming\\jupyterlab-desktop\\jlab_server\\Lib\\site-packages\\optuna\\distributions.py:515: UserWarning: Choices for a categorical distribution should be a tuple of None, bool, int, float and str for persistent storage but contains (1, 1) which is of type tuple.\n",
      "  warnings.warn(message)\n",
      "\\\\?\\C:\\Users\\ASUS\\AppData\\Roaming\\jupyterlab-desktop\\jlab_server\\Lib\\site-packages\\optuna\\distributions.py:515: UserWarning: Choices for a categorical distribution should be a tuple of None, bool, int, float and str for persistent storage but contains (1, 2) which is of type tuple.\n",
      "  warnings.warn(message)\n",
      "[I 2025-05-09 15:13:59,677] Trial 25 finished with value: 0.8932575496073646 and parameters: {'stemmed': True, 'vectorizer': 'tfidf', 'ngram_range': (1, 2), 'stop_words': None, 'max_features': 10484, 'min_df': 2, 'max_df': 0.9}. Best is trial 0 with value: 0.8947107370132352.\n",
      "\\\\?\\C:\\Users\\ASUS\\AppData\\Roaming\\jupyterlab-desktop\\jlab_server\\Lib\\site-packages\\optuna\\distributions.py:515: UserWarning: Choices for a categorical distribution should be a tuple of None, bool, int, float and str for persistent storage but contains (1, 1) which is of type tuple.\n",
      "  warnings.warn(message)\n",
      "\\\\?\\C:\\Users\\ASUS\\AppData\\Roaming\\jupyterlab-desktop\\jlab_server\\Lib\\site-packages\\optuna\\distributions.py:515: UserWarning: Choices for a categorical distribution should be a tuple of None, bool, int, float and str for persistent storage but contains (1, 2) which is of type tuple.\n",
      "  warnings.warn(message)\n",
      "[I 2025-05-09 15:14:11,806] Trial 26 finished with value: 0.8841548795721857 and parameters: {'stemmed': True, 'vectorizer': 'tfidf', 'ngram_range': (1, 1), 'stop_words': None, 'max_features': 11664, 'min_df': 2, 'max_df': 0.9}. Best is trial 0 with value: 0.8947107370132352.\n",
      "\\\\?\\C:\\Users\\ASUS\\AppData\\Roaming\\jupyterlab-desktop\\jlab_server\\Lib\\site-packages\\optuna\\distributions.py:515: UserWarning: Choices for a categorical distribution should be a tuple of None, bool, int, float and str for persistent storage but contains (1, 1) which is of type tuple.\n",
      "  warnings.warn(message)\n",
      "\\\\?\\C:\\Users\\ASUS\\AppData\\Roaming\\jupyterlab-desktop\\jlab_server\\Lib\\site-packages\\optuna\\distributions.py:515: UserWarning: Choices for a categorical distribution should be a tuple of None, bool, int, float and str for persistent storage but contains (1, 2) which is of type tuple.\n",
      "  warnings.warn(message)\n",
      "[I 2025-05-09 15:14:49,881] Trial 27 finished with value: 0.8943445309826595 and parameters: {'stemmed': True, 'vectorizer': 'tfidf', 'ngram_range': (1, 2), 'stop_words': None, 'max_features': 24506, 'min_df': 2, 'max_df': 0.9}. Best is trial 0 with value: 0.8947107370132352.\n",
      "\\\\?\\C:\\Users\\ASUS\\AppData\\Roaming\\jupyterlab-desktop\\jlab_server\\Lib\\site-packages\\optuna\\distributions.py:515: UserWarning: Choices for a categorical distribution should be a tuple of None, bool, int, float and str for persistent storage but contains (1, 1) which is of type tuple.\n",
      "  warnings.warn(message)\n",
      "\\\\?\\C:\\Users\\ASUS\\AppData\\Roaming\\jupyterlab-desktop\\jlab_server\\Lib\\site-packages\\optuna\\distributions.py:515: UserWarning: Choices for a categorical distribution should be a tuple of None, bool, int, float and str for persistent storage but contains (1, 2) which is of type tuple.\n",
      "  warnings.warn(message)\n",
      "[I 2025-05-09 15:15:28,163] Trial 28 finished with value: 0.8943499194192636 and parameters: {'stemmed': True, 'vectorizer': 'tfidf', 'ngram_range': (1, 2), 'stop_words': None, 'max_features': 25036, 'min_df': 2, 'max_df': 0.9}. Best is trial 0 with value: 0.8947107370132352.\n",
      "\\\\?\\C:\\Users\\ASUS\\AppData\\Roaming\\jupyterlab-desktop\\jlab_server\\Lib\\site-packages\\optuna\\distributions.py:515: UserWarning: Choices for a categorical distribution should be a tuple of None, bool, int, float and str for persistent storage but contains (1, 1) which is of type tuple.\n",
      "  warnings.warn(message)\n",
      "\\\\?\\C:\\Users\\ASUS\\AppData\\Roaming\\jupyterlab-desktop\\jlab_server\\Lib\\site-packages\\optuna\\distributions.py:515: UserWarning: Choices for a categorical distribution should be a tuple of None, bool, int, float and str for persistent storage but contains (1, 2) which is of type tuple.\n",
      "  warnings.warn(message)\n",
      "[I 2025-05-09 15:15:40,218] Trial 29 finished with value: 0.8838449872965125 and parameters: {'stemmed': True, 'vectorizer': 'tfidf', 'ngram_range': (1, 1), 'stop_words': None, 'max_features': 28707, 'min_df': 2, 'max_df': 0.9}. Best is trial 0 with value: 0.8947107370132352.\n",
      "\\\\?\\C:\\Users\\ASUS\\AppData\\Roaming\\jupyterlab-desktop\\jlab_server\\Lib\\site-packages\\optuna\\distributions.py:515: UserWarning: Choices for a categorical distribution should be a tuple of None, bool, int, float and str for persistent storage but contains (1, 1) which is of type tuple.\n",
      "  warnings.warn(message)\n",
      "\\\\?\\C:\\Users\\ASUS\\AppData\\Roaming\\jupyterlab-desktop\\jlab_server\\Lib\\site-packages\\optuna\\distributions.py:515: UserWarning: Choices for a categorical distribution should be a tuple of None, bool, int, float and str for persistent storage but contains (1, 2) which is of type tuple.\n",
      "  warnings.warn(message)\n",
      "[I 2025-05-09 15:16:18,866] Trial 30 finished with value: 0.8937250503835324 and parameters: {'stemmed': True, 'vectorizer': 'tfidf', 'ngram_range': (1, 2), 'stop_words': None, 'max_features': 20769, 'min_df': 2, 'max_df': 0.9}. Best is trial 0 with value: 0.8947107370132352.\n",
      "\\\\?\\C:\\Users\\ASUS\\AppData\\Roaming\\jupyterlab-desktop\\jlab_server\\Lib\\site-packages\\optuna\\distributions.py:515: UserWarning: Choices for a categorical distribution should be a tuple of None, bool, int, float and str for persistent storage but contains (1, 1) which is of type tuple.\n",
      "  warnings.warn(message)\n",
      "\\\\?\\C:\\Users\\ASUS\\AppData\\Roaming\\jupyterlab-desktop\\jlab_server\\Lib\\site-packages\\optuna\\distributions.py:515: UserWarning: Choices for a categorical distribution should be a tuple of None, bool, int, float and str for persistent storage but contains (1, 2) which is of type tuple.\n",
      "  warnings.warn(message)\n",
      "[I 2025-05-09 15:16:57,039] Trial 31 finished with value: 0.8946540040270218 and parameters: {'stemmed': True, 'vectorizer': 'tfidf', 'ngram_range': (1, 2), 'stop_words': None, 'max_features': 22384, 'min_df': 2, 'max_df': 0.9}. Best is trial 0 with value: 0.8947107370132352.\n",
      "\\\\?\\C:\\Users\\ASUS\\AppData\\Roaming\\jupyterlab-desktop\\jlab_server\\Lib\\site-packages\\optuna\\distributions.py:515: UserWarning: Choices for a categorical distribution should be a tuple of None, bool, int, float and str for persistent storage but contains (1, 1) which is of type tuple.\n",
      "  warnings.warn(message)\n",
      "\\\\?\\C:\\Users\\ASUS\\AppData\\Roaming\\jupyterlab-desktop\\jlab_server\\Lib\\site-packages\\optuna\\distributions.py:515: UserWarning: Choices for a categorical distribution should be a tuple of None, bool, int, float and str for persistent storage but contains (1, 2) which is of type tuple.\n",
      "  warnings.warn(message)\n",
      "[I 2025-05-09 15:17:35,562] Trial 32 finished with value: 0.8952824412538423 and parameters: {'stemmed': True, 'vectorizer': 'tfidf', 'ngram_range': (1, 2), 'stop_words': None, 'max_features': 35815, 'min_df': 2, 'max_df': 0.9}. Best is trial 32 with value: 0.8952824412538423.\n",
      "\\\\?\\C:\\Users\\ASUS\\AppData\\Roaming\\jupyterlab-desktop\\jlab_server\\Lib\\site-packages\\optuna\\distributions.py:515: UserWarning: Choices for a categorical distribution should be a tuple of None, bool, int, float and str for persistent storage but contains (1, 1) which is of type tuple.\n",
      "  warnings.warn(message)\n",
      "\\\\?\\C:\\Users\\ASUS\\AppData\\Roaming\\jupyterlab-desktop\\jlab_server\\Lib\\site-packages\\optuna\\distributions.py:515: UserWarning: Choices for a categorical distribution should be a tuple of None, bool, int, float and str for persistent storage but contains (1, 2) which is of type tuple.\n",
      "  warnings.warn(message)\n",
      "[I 2025-05-09 15:18:14,146] Trial 33 finished with value: 0.8950728626708395 and parameters: {'stemmed': True, 'vectorizer': 'tfidf', 'ngram_range': (1, 2), 'stop_words': None, 'max_features': 35712, 'min_df': 2, 'max_df': 0.9}. Best is trial 32 with value: 0.8952824412538423.\n",
      "\\\\?\\C:\\Users\\ASUS\\AppData\\Roaming\\jupyterlab-desktop\\jlab_server\\Lib\\site-packages\\optuna\\distributions.py:515: UserWarning: Choices for a categorical distribution should be a tuple of None, bool, int, float and str for persistent storage but contains (1, 1) which is of type tuple.\n",
      "  warnings.warn(message)\n",
      "\\\\?\\C:\\Users\\ASUS\\AppData\\Roaming\\jupyterlab-desktop\\jlab_server\\Lib\\site-packages\\optuna\\distributions.py:515: UserWarning: Choices for a categorical distribution should be a tuple of None, bool, int, float and str for persistent storage but contains (1, 2) which is of type tuple.\n",
      "  warnings.warn(message)\n",
      "[I 2025-05-09 15:18:56,680] Trial 34 finished with value: 0.8882974689347195 and parameters: {'stemmed': True, 'vectorizer': 'count', 'ngram_range': (1, 2), 'stop_words': None, 'max_features': 36188, 'min_df': 2, 'max_df': 0.9}. Best is trial 32 with value: 0.8952824412538423.\n",
      "\\\\?\\C:\\Users\\ASUS\\AppData\\Roaming\\jupyterlab-desktop\\jlab_server\\Lib\\site-packages\\optuna\\distributions.py:515: UserWarning: Choices for a categorical distribution should be a tuple of None, bool, int, float and str for persistent storage but contains (1, 1) which is of type tuple.\n",
      "  warnings.warn(message)\n",
      "\\\\?\\C:\\Users\\ASUS\\AppData\\Roaming\\jupyterlab-desktop\\jlab_server\\Lib\\site-packages\\optuna\\distributions.py:515: UserWarning: Choices for a categorical distribution should be a tuple of None, bool, int, float and str for persistent storage but contains (1, 2) which is of type tuple.\n",
      "  warnings.warn(message)\n",
      "[I 2025-05-09 15:19:35,336] Trial 35 finished with value: 0.8951110018632348 and parameters: {'stemmed': True, 'vectorizer': 'tfidf', 'ngram_range': (1, 2), 'stop_words': None, 'max_features': 36468, 'min_df': 2, 'max_df': 0.9}. Best is trial 32 with value: 0.8952824412538423.\n",
      "\\\\?\\C:\\Users\\ASUS\\AppData\\Roaming\\jupyterlab-desktop\\jlab_server\\Lib\\site-packages\\optuna\\distributions.py:515: UserWarning: Choices for a categorical distribution should be a tuple of None, bool, int, float and str for persistent storage but contains (1, 1) which is of type tuple.\n",
      "  warnings.warn(message)\n",
      "\\\\?\\C:\\Users\\ASUS\\AppData\\Roaming\\jupyterlab-desktop\\jlab_server\\Lib\\site-packages\\optuna\\distributions.py:515: UserWarning: Choices for a categorical distribution should be a tuple of None, bool, int, float and str for persistent storage but contains (1, 2) which is of type tuple.\n",
      "  warnings.warn(message)\n",
      "[I 2025-05-09 15:20:17,495] Trial 36 finished with value: 0.8876152375938084 and parameters: {'stemmed': True, 'vectorizer': 'count', 'ngram_range': (1, 2), 'stop_words': None, 'max_features': 33181, 'min_df': 10, 'max_df': 0.9}. Best is trial 32 with value: 0.8952824412538423.\n",
      "\\\\?\\C:\\Users\\ASUS\\AppData\\Roaming\\jupyterlab-desktop\\jlab_server\\Lib\\site-packages\\optuna\\distributions.py:515: UserWarning: Choices for a categorical distribution should be a tuple of None, bool, int, float and str for persistent storage but contains (1, 1) which is of type tuple.\n",
      "  warnings.warn(message)\n",
      "\\\\?\\C:\\Users\\ASUS\\AppData\\Roaming\\jupyterlab-desktop\\jlab_server\\Lib\\site-packages\\optuna\\distributions.py:515: UserWarning: Choices for a categorical distribution should be a tuple of None, bool, int, float and str for persistent storage but contains (1, 2) which is of type tuple.\n",
      "  warnings.warn(message)\n",
      "[I 2025-05-09 15:20:55,530] Trial 37 finished with value: 0.8942773497456328 and parameters: {'stemmed': True, 'vectorizer': 'tfidf', 'ngram_range': (1, 2), 'stop_words': None, 'max_features': 16716, 'min_df': 2, 'max_df': 0.9}. Best is trial 32 with value: 0.8952824412538423.\n",
      "\\\\?\\C:\\Users\\ASUS\\AppData\\Roaming\\jupyterlab-desktop\\jlab_server\\Lib\\site-packages\\optuna\\distributions.py:515: UserWarning: Choices for a categorical distribution should be a tuple of None, bool, int, float and str for persistent storage but contains (1, 1) which is of type tuple.\n",
      "  warnings.warn(message)\n",
      "\\\\?\\C:\\Users\\ASUS\\AppData\\Roaming\\jupyterlab-desktop\\jlab_server\\Lib\\site-packages\\optuna\\distributions.py:515: UserWarning: Choices for a categorical distribution should be a tuple of None, bool, int, float and str for persistent storage but contains (1, 2) which is of type tuple.\n",
      "  warnings.warn(message)\n",
      "[I 2025-05-09 15:21:09,596] Trial 38 finished with value: 0.8666344468114843 and parameters: {'stemmed': True, 'vectorizer': 'count', 'ngram_range': (1, 1), 'stop_words': None, 'max_features': 37249, 'min_df': 10, 'max_df': 1.0}. Best is trial 32 with value: 0.8952824412538423.\n",
      "\\\\?\\C:\\Users\\ASUS\\AppData\\Roaming\\jupyterlab-desktop\\jlab_server\\Lib\\site-packages\\optuna\\distributions.py:515: UserWarning: Choices for a categorical distribution should be a tuple of None, bool, int, float and str for persistent storage but contains (1, 1) which is of type tuple.\n",
      "  warnings.warn(message)\n",
      "\\\\?\\C:\\Users\\ASUS\\AppData\\Roaming\\jupyterlab-desktop\\jlab_server\\Lib\\site-packages\\optuna\\distributions.py:515: UserWarning: Choices for a categorical distribution should be a tuple of None, bool, int, float and str for persistent storage but contains (1, 2) which is of type tuple.\n",
      "  warnings.warn(message)\n",
      "[I 2025-05-09 15:21:46,830] Trial 39 finished with value: 0.8946720731612046 and parameters: {'stemmed': True, 'vectorizer': 'tfidf', 'ngram_range': (1, 2), 'stop_words': None, 'max_features': 16036, 'min_df': 2, 'max_df': 0.9}. Best is trial 32 with value: 0.8952824412538423.\n",
      "\\\\?\\C:\\Users\\ASUS\\AppData\\Roaming\\jupyterlab-desktop\\jlab_server\\Lib\\site-packages\\optuna\\distributions.py:515: UserWarning: Choices for a categorical distribution should be a tuple of None, bool, int, float and str for persistent storage but contains (1, 1) which is of type tuple.\n",
      "  warnings.warn(message)\n",
      "\\\\?\\C:\\Users\\ASUS\\AppData\\Roaming\\jupyterlab-desktop\\jlab_server\\Lib\\site-packages\\optuna\\distributions.py:515: UserWarning: Choices for a categorical distribution should be a tuple of None, bool, int, float and str for persistent storage but contains (1, 2) which is of type tuple.\n",
      "  warnings.warn(message)\n",
      "[I 2025-05-09 15:22:26,963] Trial 40 finished with value: 0.884299252949857 and parameters: {'stemmed': True, 'vectorizer': 'count', 'ngram_range': (1, 2), 'stop_words': None, 'max_features': 20363, 'min_df': 2, 'max_df': 0.9}. Best is trial 32 with value: 0.8952824412538423.\n",
      "\\\\?\\C:\\Users\\ASUS\\AppData\\Roaming\\jupyterlab-desktop\\jlab_server\\Lib\\site-packages\\optuna\\distributions.py:515: UserWarning: Choices for a categorical distribution should be a tuple of None, bool, int, float and str for persistent storage but contains (1, 1) which is of type tuple.\n",
      "  warnings.warn(message)\n",
      "\\\\?\\C:\\Users\\ASUS\\AppData\\Roaming\\jupyterlab-desktop\\jlab_server\\Lib\\site-packages\\optuna\\distributions.py:515: UserWarning: Choices for a categorical distribution should be a tuple of None, bool, int, float and str for persistent storage but contains (1, 2) which is of type tuple.\n",
      "  warnings.warn(message)\n",
      "[I 2025-05-09 15:23:07,999] Trial 41 finished with value: 0.8945463935462602 and parameters: {'stemmed': True, 'vectorizer': 'tfidf', 'ngram_range': (1, 2), 'stop_words': None, 'max_features': 14534, 'min_df': 2, 'max_df': 0.9}. Best is trial 32 with value: 0.8952824412538423.\n",
      "\\\\?\\C:\\Users\\ASUS\\AppData\\Roaming\\jupyterlab-desktop\\jlab_server\\Lib\\site-packages\\optuna\\distributions.py:515: UserWarning: Choices for a categorical distribution should be a tuple of None, bool, int, float and str for persistent storage but contains (1, 1) which is of type tuple.\n",
      "  warnings.warn(message)\n",
      "\\\\?\\C:\\Users\\ASUS\\AppData\\Roaming\\jupyterlab-desktop\\jlab_server\\Lib\\site-packages\\optuna\\distributions.py:515: UserWarning: Choices for a categorical distribution should be a tuple of None, bool, int, float and str for persistent storage but contains (1, 2) which is of type tuple.\n",
      "  warnings.warn(message)\n",
      "[I 2025-05-09 15:23:49,831] Trial 42 finished with value: 0.8954923267578737 and parameters: {'stemmed': True, 'vectorizer': 'tfidf', 'ngram_range': (1, 2), 'stop_words': None, 'max_features': 40466, 'min_df': 2, 'max_df': 0.9}. Best is trial 42 with value: 0.8954923267578737.\n",
      "\\\\?\\C:\\Users\\ASUS\\AppData\\Roaming\\jupyterlab-desktop\\jlab_server\\Lib\\site-packages\\optuna\\distributions.py:515: UserWarning: Choices for a categorical distribution should be a tuple of None, bool, int, float and str for persistent storage but contains (1, 1) which is of type tuple.\n",
      "  warnings.warn(message)\n",
      "\\\\?\\C:\\Users\\ASUS\\AppData\\Roaming\\jupyterlab-desktop\\jlab_server\\Lib\\site-packages\\optuna\\distributions.py:515: UserWarning: Choices for a categorical distribution should be a tuple of None, bool, int, float and str for persistent storage but contains (1, 2) which is of type tuple.\n",
      "  warnings.warn(message)\n",
      "[I 2025-05-09 15:24:29,038] Trial 43 finished with value: 0.8953464796751796 and parameters: {'stemmed': True, 'vectorizer': 'tfidf', 'ngram_range': (1, 2), 'stop_words': None, 'max_features': 42156, 'min_df': 2, 'max_df': 0.9}. Best is trial 42 with value: 0.8954923267578737.\n",
      "\\\\?\\C:\\Users\\ASUS\\AppData\\Roaming\\jupyterlab-desktop\\jlab_server\\Lib\\site-packages\\optuna\\distributions.py:515: UserWarning: Choices for a categorical distribution should be a tuple of None, bool, int, float and str for persistent storage but contains (1, 1) which is of type tuple.\n",
      "  warnings.warn(message)\n",
      "\\\\?\\C:\\Users\\ASUS\\AppData\\Roaming\\jupyterlab-desktop\\jlab_server\\Lib\\site-packages\\optuna\\distributions.py:515: UserWarning: Choices for a categorical distribution should be a tuple of None, bool, int, float and str for persistent storage but contains (1, 2) which is of type tuple.\n",
      "  warnings.warn(message)\n",
      "[I 2025-05-09 15:25:07,982] Trial 44 finished with value: 0.8955051270370006 and parameters: {'stemmed': True, 'vectorizer': 'tfidf', 'ngram_range': (1, 2), 'stop_words': None, 'max_features': 41503, 'min_df': 2, 'max_df': 0.9}. Best is trial 44 with value: 0.8955051270370006.\n",
      "\\\\?\\C:\\Users\\ASUS\\AppData\\Roaming\\jupyterlab-desktop\\jlab_server\\Lib\\site-packages\\optuna\\distributions.py:515: UserWarning: Choices for a categorical distribution should be a tuple of None, bool, int, float and str for persistent storage but contains (1, 1) which is of type tuple.\n",
      "  warnings.warn(message)\n",
      "\\\\?\\C:\\Users\\ASUS\\AppData\\Roaming\\jupyterlab-desktop\\jlab_server\\Lib\\site-packages\\optuna\\distributions.py:515: UserWarning: Choices for a categorical distribution should be a tuple of None, bool, int, float and str for persistent storage but contains (1, 2) which is of type tuple.\n",
      "  warnings.warn(message)\n",
      "[I 2025-05-09 15:25:47,324] Trial 45 finished with value: 0.8930026158651233 and parameters: {'stemmed': True, 'vectorizer': 'tfidf', 'ngram_range': (1, 2), 'stop_words': None, 'max_features': 45048, 'min_df': 2, 'max_df': 1.0}. Best is trial 44 with value: 0.8955051270370006.\n",
      "\\\\?\\C:\\Users\\ASUS\\AppData\\Roaming\\jupyterlab-desktop\\jlab_server\\Lib\\site-packages\\optuna\\distributions.py:515: UserWarning: Choices for a categorical distribution should be a tuple of None, bool, int, float and str for persistent storage but contains (1, 1) which is of type tuple.\n",
      "  warnings.warn(message)\n",
      "\\\\?\\C:\\Users\\ASUS\\AppData\\Roaming\\jupyterlab-desktop\\jlab_server\\Lib\\site-packages\\optuna\\distributions.py:515: UserWarning: Choices for a categorical distribution should be a tuple of None, bool, int, float and str for persistent storage but contains (1, 2) which is of type tuple.\n",
      "  warnings.warn(message)\n",
      "[I 2025-05-09 15:26:26,488] Trial 46 finished with value: 0.8950638810420783 and parameters: {'stemmed': True, 'vectorizer': 'tfidf', 'ngram_range': (1, 2), 'stop_words': None, 'max_features': 41690, 'min_df': 10, 'max_df': 0.9}. Best is trial 44 with value: 0.8955051270370006.\n",
      "\\\\?\\C:\\Users\\ASUS\\AppData\\Roaming\\jupyterlab-desktop\\jlab_server\\Lib\\site-packages\\optuna\\distributions.py:515: UserWarning: Choices for a categorical distribution should be a tuple of None, bool, int, float and str for persistent storage but contains (1, 1) which is of type tuple.\n",
      "  warnings.warn(message)\n",
      "\\\\?\\C:\\Users\\ASUS\\AppData\\Roaming\\jupyterlab-desktop\\jlab_server\\Lib\\site-packages\\optuna\\distributions.py:515: UserWarning: Choices for a categorical distribution should be a tuple of None, bool, int, float and str for persistent storage but contains (1, 2) which is of type tuple.\n",
      "  warnings.warn(message)\n",
      "[I 2025-05-09 15:26:38,480] Trial 47 finished with value: 0.8838449872965125 and parameters: {'stemmed': True, 'vectorizer': 'tfidf', 'ngram_range': (1, 1), 'stop_words': None, 'max_features': 49717, 'min_df': 2, 'max_df': 0.9}. Best is trial 44 with value: 0.8955051270370006.\n",
      "\\\\?\\C:\\Users\\ASUS\\AppData\\Roaming\\jupyterlab-desktop\\jlab_server\\Lib\\site-packages\\optuna\\distributions.py:515: UserWarning: Choices for a categorical distribution should be a tuple of None, bool, int, float and str for persistent storage but contains (1, 1) which is of type tuple.\n",
      "  warnings.warn(message)\n",
      "\\\\?\\C:\\Users\\ASUS\\AppData\\Roaming\\jupyterlab-desktop\\jlab_server\\Lib\\site-packages\\optuna\\distributions.py:515: UserWarning: Choices for a categorical distribution should be a tuple of None, bool, int, float and str for persistent storage but contains (1, 2) which is of type tuple.\n",
      "  warnings.warn(message)\n",
      "[I 2025-05-09 15:27:20,361] Trial 48 finished with value: 0.8909915793918787 and parameters: {'stemmed': False, 'vectorizer': 'tfidf', 'ngram_range': (1, 2), 'stop_words': None, 'max_features': 30689, 'min_df': 2, 'max_df': 0.9}. Best is trial 44 with value: 0.8955051270370006.\n",
      "\\\\?\\C:\\Users\\ASUS\\AppData\\Roaming\\jupyterlab-desktop\\jlab_server\\Lib\\site-packages\\optuna\\distributions.py:515: UserWarning: Choices for a categorical distribution should be a tuple of None, bool, int, float and str for persistent storage but contains (1, 1) which is of type tuple.\n",
      "  warnings.warn(message)\n",
      "\\\\?\\C:\\Users\\ASUS\\AppData\\Roaming\\jupyterlab-desktop\\jlab_server\\Lib\\site-packages\\optuna\\distributions.py:515: UserWarning: Choices for a categorical distribution should be a tuple of None, bool, int, float and str for persistent storage but contains (1, 2) which is of type tuple.\n",
      "  warnings.warn(message)\n",
      "[I 2025-05-09 15:28:01,461] Trial 49 finished with value: 0.8954069238359411 and parameters: {'stemmed': True, 'vectorizer': 'tfidf', 'ngram_range': (1, 2), 'stop_words': None, 'max_features': 40482, 'min_df': 5, 'max_df': 0.9}. Best is trial 44 with value: 0.8955051270370006.\n",
      "\\\\?\\C:\\Users\\ASUS\\AppData\\Roaming\\jupyterlab-desktop\\jlab_server\\Lib\\site-packages\\optuna\\distributions.py:515: UserWarning: Choices for a categorical distribution should be a tuple of None, bool, int, float and str for persistent storage but contains (1, 1) which is of type tuple.\n",
      "  warnings.warn(message)\n",
      "\\\\?\\C:\\Users\\ASUS\\AppData\\Roaming\\jupyterlab-desktop\\jlab_server\\Lib\\site-packages\\optuna\\distributions.py:515: UserWarning: Choices for a categorical distribution should be a tuple of None, bool, int, float and str for persistent storage but contains (1, 2) which is of type tuple.\n",
      "  warnings.warn(message)\n",
      "[I 2025-05-09 15:28:33,248] Trial 50 finished with value: 0.8853689241212234 and parameters: {'stemmed': False, 'vectorizer': 'tfidf', 'ngram_range': (1, 2), 'stop_words': 'english', 'max_features': 40808, 'min_df': 5, 'max_df': 1.0}. Best is trial 44 with value: 0.8955051270370006.\n",
      "\\\\?\\C:\\Users\\ASUS\\AppData\\Roaming\\jupyterlab-desktop\\jlab_server\\Lib\\site-packages\\optuna\\distributions.py:515: UserWarning: Choices for a categorical distribution should be a tuple of None, bool, int, float and str for persistent storage but contains (1, 1) which is of type tuple.\n",
      "  warnings.warn(message)\n",
      "\\\\?\\C:\\Users\\ASUS\\AppData\\Roaming\\jupyterlab-desktop\\jlab_server\\Lib\\site-packages\\optuna\\distributions.py:515: UserWarning: Choices for a categorical distribution should be a tuple of None, bool, int, float and str for persistent storage but contains (1, 2) which is of type tuple.\n",
      "  warnings.warn(message)\n",
      "[I 2025-05-09 15:29:12,242] Trial 51 finished with value: 0.8944740974991477 and parameters: {'stemmed': True, 'vectorizer': 'tfidf', 'ngram_range': (1, 2), 'stop_words': None, 'max_features': 31529, 'min_df': 5, 'max_df': 0.9}. Best is trial 44 with value: 0.8955051270370006.\n",
      "\\\\?\\C:\\Users\\ASUS\\AppData\\Roaming\\jupyterlab-desktop\\jlab_server\\Lib\\site-packages\\optuna\\distributions.py:515: UserWarning: Choices for a categorical distribution should be a tuple of None, bool, int, float and str for persistent storage but contains (1, 1) which is of type tuple.\n",
      "  warnings.warn(message)\n",
      "\\\\?\\C:\\Users\\ASUS\\AppData\\Roaming\\jupyterlab-desktop\\jlab_server\\Lib\\site-packages\\optuna\\distributions.py:515: UserWarning: Choices for a categorical distribution should be a tuple of None, bool, int, float and str for persistent storage but contains (1, 2) which is of type tuple.\n",
      "  warnings.warn(message)\n",
      "[I 2025-05-09 15:29:51,381] Trial 52 finished with value: 0.895415659071904 and parameters: {'stemmed': True, 'vectorizer': 'tfidf', 'ngram_range': (1, 2), 'stop_words': None, 'max_features': 39699, 'min_df': 5, 'max_df': 0.9}. Best is trial 44 with value: 0.8955051270370006.\n",
      "\\\\?\\C:\\Users\\ASUS\\AppData\\Roaming\\jupyterlab-desktop\\jlab_server\\Lib\\site-packages\\optuna\\distributions.py:515: UserWarning: Choices for a categorical distribution should be a tuple of None, bool, int, float and str for persistent storage but contains (1, 1) which is of type tuple.\n",
      "  warnings.warn(message)\n",
      "\\\\?\\C:\\Users\\ASUS\\AppData\\Roaming\\jupyterlab-desktop\\jlab_server\\Lib\\site-packages\\optuna\\distributions.py:515: UserWarning: Choices for a categorical distribution should be a tuple of None, bool, int, float and str for persistent storage but contains (1, 2) which is of type tuple.\n",
      "  warnings.warn(message)\n",
      "[I 2025-05-09 15:30:31,808] Trial 53 finished with value: 0.8955230729076552 and parameters: {'stemmed': True, 'vectorizer': 'tfidf', 'ngram_range': (1, 2), 'stop_words': None, 'max_features': 48724, 'min_df': 5, 'max_df': 0.9}. Best is trial 53 with value: 0.8955230729076552.\n",
      "\\\\?\\C:\\Users\\ASUS\\AppData\\Roaming\\jupyterlab-desktop\\jlab_server\\Lib\\site-packages\\optuna\\distributions.py:515: UserWarning: Choices for a categorical distribution should be a tuple of None, bool, int, float and str for persistent storage but contains (1, 1) which is of type tuple.\n",
      "  warnings.warn(message)\n",
      "\\\\?\\C:\\Users\\ASUS\\AppData\\Roaming\\jupyterlab-desktop\\jlab_server\\Lib\\site-packages\\optuna\\distributions.py:515: UserWarning: Choices for a categorical distribution should be a tuple of None, bool, int, float and str for persistent storage but contains (1, 2) which is of type tuple.\n",
      "  warnings.warn(message)\n",
      "[I 2025-05-09 15:31:11,897] Trial 54 finished with value: 0.8949647889024633 and parameters: {'stemmed': True, 'vectorizer': 'tfidf', 'ngram_range': (1, 2), 'stop_words': None, 'max_features': 47998, 'min_df': 5, 'max_df': 0.9}. Best is trial 53 with value: 0.8955230729076552.\n",
      "\\\\?\\C:\\Users\\ASUS\\AppData\\Roaming\\jupyterlab-desktop\\jlab_server\\Lib\\site-packages\\optuna\\distributions.py:515: UserWarning: Choices for a categorical distribution should be a tuple of None, bool, int, float and str for persistent storage but contains (1, 1) which is of type tuple.\n",
      "  warnings.warn(message)\n",
      "\\\\?\\C:\\Users\\ASUS\\AppData\\Roaming\\jupyterlab-desktop\\jlab_server\\Lib\\site-packages\\optuna\\distributions.py:515: UserWarning: Choices for a categorical distribution should be a tuple of None, bool, int, float and str for persistent storage but contains (1, 2) which is of type tuple.\n",
      "  warnings.warn(message)\n",
      "[I 2025-05-09 15:31:50,841] Trial 55 finished with value: 0.8946393635083384 and parameters: {'stemmed': True, 'vectorizer': 'tfidf', 'ngram_range': (1, 2), 'stop_words': None, 'max_features': 26849, 'min_df': 5, 'max_df': 0.9}. Best is trial 53 with value: 0.8955230729076552.\n",
      "\\\\?\\C:\\Users\\ASUS\\AppData\\Roaming\\jupyterlab-desktop\\jlab_server\\Lib\\site-packages\\optuna\\distributions.py:515: UserWarning: Choices for a categorical distribution should be a tuple of None, bool, int, float and str for persistent storage but contains (1, 1) which is of type tuple.\n",
      "  warnings.warn(message)\n",
      "\\\\?\\C:\\Users\\ASUS\\AppData\\Roaming\\jupyterlab-desktop\\jlab_server\\Lib\\site-packages\\optuna\\distributions.py:515: UserWarning: Choices for a categorical distribution should be a tuple of None, bool, int, float and str for persistent storage but contains (1, 2) which is of type tuple.\n",
      "  warnings.warn(message)\n",
      "[I 2025-05-09 15:32:23,256] Trial 56 finished with value: 0.8859612480090084 and parameters: {'stemmed': True, 'vectorizer': 'tfidf', 'ngram_range': (1, 2), 'stop_words': 'english', 'max_features': 42322, 'min_df': 5, 'max_df': 0.9}. Best is trial 53 with value: 0.8955230729076552.\n",
      "\\\\?\\C:\\Users\\ASUS\\AppData\\Roaming\\jupyterlab-desktop\\jlab_server\\Lib\\site-packages\\optuna\\distributions.py:515: UserWarning: Choices for a categorical distribution should be a tuple of None, bool, int, float and str for persistent storage but contains (1, 1) which is of type tuple.\n",
      "  warnings.warn(message)\n",
      "\\\\?\\C:\\Users\\ASUS\\AppData\\Roaming\\jupyterlab-desktop\\jlab_server\\Lib\\site-packages\\optuna\\distributions.py:515: UserWarning: Choices for a categorical distribution should be a tuple of None, bool, int, float and str for persistent storage but contains (1, 2) which is of type tuple.\n",
      "  warnings.warn(message)\n",
      "[I 2025-05-09 15:33:06,402] Trial 57 finished with value: 0.888543610391956 and parameters: {'stemmed': True, 'vectorizer': 'count', 'ngram_range': (1, 2), 'stop_words': None, 'max_features': 41116, 'min_df': 5, 'max_df': 0.85}. Best is trial 53 with value: 0.8955230729076552.\n",
      "\\\\?\\C:\\Users\\ASUS\\AppData\\Roaming\\jupyterlab-desktop\\jlab_server\\Lib\\site-packages\\optuna\\distributions.py:515: UserWarning: Choices for a categorical distribution should be a tuple of None, bool, int, float and str for persistent storage but contains (1, 1) which is of type tuple.\n",
      "  warnings.warn(message)\n",
      "\\\\?\\C:\\Users\\ASUS\\AppData\\Roaming\\jupyterlab-desktop\\jlab_server\\Lib\\site-packages\\optuna\\distributions.py:515: UserWarning: Choices for a categorical distribution should be a tuple of None, bool, int, float and str for persistent storage but contains (1, 2) which is of type tuple.\n",
      "  warnings.warn(message)\n",
      "[I 2025-05-09 15:33:46,112] Trial 58 finished with value: 0.8690429920318916 and parameters: {'stemmed': False, 'vectorizer': 'tfidf', 'ngram_range': (1, 2), 'stop_words': None, 'max_features': 2026, 'min_df': 5, 'max_df': 0.9}. Best is trial 53 with value: 0.8955230729076552.\n",
      "\\\\?\\C:\\Users\\ASUS\\AppData\\Roaming\\jupyterlab-desktop\\jlab_server\\Lib\\site-packages\\optuna\\distributions.py:515: UserWarning: Choices for a categorical distribution should be a tuple of None, bool, int, float and str for persistent storage but contains (1, 1) which is of type tuple.\n",
      "  warnings.warn(message)\n",
      "\\\\?\\C:\\Users\\ASUS\\AppData\\Roaming\\jupyterlab-desktop\\jlab_server\\Lib\\site-packages\\optuna\\distributions.py:515: UserWarning: Choices for a categorical distribution should be a tuple of None, bool, int, float and str for persistent storage but contains (1, 2) which is of type tuple.\n",
      "  warnings.warn(message)\n",
      "[I 2025-05-09 15:33:58,688] Trial 59 finished with value: 0.8840144084529616 and parameters: {'stemmed': True, 'vectorizer': 'tfidf', 'ngram_range': (1, 1), 'stop_words': None, 'max_features': 49648, 'min_df': 5, 'max_df': 0.9}. Best is trial 53 with value: 0.8955230729076552.\n",
      "\\\\?\\C:\\Users\\ASUS\\AppData\\Roaming\\jupyterlab-desktop\\jlab_server\\Lib\\site-packages\\optuna\\distributions.py:515: UserWarning: Choices for a categorical distribution should be a tuple of None, bool, int, float and str for persistent storage but contains (1, 1) which is of type tuple.\n",
      "  warnings.warn(message)\n",
      "\\\\?\\C:\\Users\\ASUS\\AppData\\Roaming\\jupyterlab-desktop\\jlab_server\\Lib\\site-packages\\optuna\\distributions.py:515: UserWarning: Choices for a categorical distribution should be a tuple of None, bool, int, float and str for persistent storage but contains (1, 2) which is of type tuple.\n",
      "  warnings.warn(message)\n",
      "[I 2025-05-09 15:34:31,031] Trial 60 finished with value: 0.8855810185693244 and parameters: {'stemmed': True, 'vectorizer': 'tfidf', 'ngram_range': (1, 2), 'stop_words': 'english', 'max_features': 30146, 'min_df': 5, 'max_df': 0.9}. Best is trial 53 with value: 0.8955230729076552.\n",
      "\\\\?\\C:\\Users\\ASUS\\AppData\\Roaming\\jupyterlab-desktop\\jlab_server\\Lib\\site-packages\\optuna\\distributions.py:515: UserWarning: Choices for a categorical distribution should be a tuple of None, bool, int, float and str for persistent storage but contains (1, 1) which is of type tuple.\n",
      "  warnings.warn(message)\n",
      "\\\\?\\C:\\Users\\ASUS\\AppData\\Roaming\\jupyterlab-desktop\\jlab_server\\Lib\\site-packages\\optuna\\distributions.py:515: UserWarning: Choices for a categorical distribution should be a tuple of None, bool, int, float and str for persistent storage but contains (1, 2) which is of type tuple.\n",
      "  warnings.warn(message)\n",
      "[I 2025-05-09 15:35:11,878] Trial 61 finished with value: 0.8955143721986012 and parameters: {'stemmed': True, 'vectorizer': 'tfidf', 'ngram_range': (1, 2), 'stop_words': None, 'max_features': 33708, 'min_df': 5, 'max_df': 0.9}. Best is trial 53 with value: 0.8955230729076552.\n",
      "\\\\?\\C:\\Users\\ASUS\\AppData\\Roaming\\jupyterlab-desktop\\jlab_server\\Lib\\site-packages\\optuna\\distributions.py:515: UserWarning: Choices for a categorical distribution should be a tuple of None, bool, int, float and str for persistent storage but contains (1, 1) which is of type tuple.\n",
      "  warnings.warn(message)\n",
      "\\\\?\\C:\\Users\\ASUS\\AppData\\Roaming\\jupyterlab-desktop\\jlab_server\\Lib\\site-packages\\optuna\\distributions.py:515: UserWarning: Choices for a categorical distribution should be a tuple of None, bool, int, float and str for persistent storage but contains (1, 2) which is of type tuple.\n",
      "  warnings.warn(message)\n",
      "[I 2025-05-09 15:35:51,780] Trial 62 finished with value: 0.8956357116084647 and parameters: {'stemmed': True, 'vectorizer': 'tfidf', 'ngram_range': (1, 2), 'stop_words': None, 'max_features': 41498, 'min_df': 5, 'max_df': 0.9}. Best is trial 62 with value: 0.8956357116084647.\n",
      "\\\\?\\C:\\Users\\ASUS\\AppData\\Roaming\\jupyterlab-desktop\\jlab_server\\Lib\\site-packages\\optuna\\distributions.py:515: UserWarning: Choices for a categorical distribution should be a tuple of None, bool, int, float and str for persistent storage but contains (1, 1) which is of type tuple.\n",
      "  warnings.warn(message)\n",
      "\\\\?\\C:\\Users\\ASUS\\AppData\\Roaming\\jupyterlab-desktop\\jlab_server\\Lib\\site-packages\\optuna\\distributions.py:515: UserWarning: Choices for a categorical distribution should be a tuple of None, bool, int, float and str for persistent storage but contains (1, 2) which is of type tuple.\n",
      "  warnings.warn(message)\n",
      "[I 2025-05-09 15:36:31,122] Trial 63 finished with value: 0.8944820283160141 and parameters: {'stemmed': True, 'vectorizer': 'tfidf', 'ngram_range': (1, 2), 'stop_words': None, 'max_features': 26654, 'min_df': 5, 'max_df': 0.9}. Best is trial 62 with value: 0.8956357116084647.\n",
      "\\\\?\\C:\\Users\\ASUS\\AppData\\Roaming\\jupyterlab-desktop\\jlab_server\\Lib\\site-packages\\optuna\\distributions.py:515: UserWarning: Choices for a categorical distribution should be a tuple of None, bool, int, float and str for persistent storage but contains (1, 1) which is of type tuple.\n",
      "  warnings.warn(message)\n",
      "\\\\?\\C:\\Users\\ASUS\\AppData\\Roaming\\jupyterlab-desktop\\jlab_server\\Lib\\site-packages\\optuna\\distributions.py:515: UserWarning: Choices for a categorical distribution should be a tuple of None, bool, int, float and str for persistent storage but contains (1, 2) which is of type tuple.\n",
      "  warnings.warn(message)\n",
      "[I 2025-05-09 15:37:10,804] Trial 64 finished with value: 0.8952407710418709 and parameters: {'stemmed': True, 'vectorizer': 'tfidf', 'ngram_range': (1, 2), 'stop_words': None, 'max_features': 33285, 'min_df': 5, 'max_df': 0.9}. Best is trial 62 with value: 0.8956357116084647.\n",
      "\\\\?\\C:\\Users\\ASUS\\AppData\\Roaming\\jupyterlab-desktop\\jlab_server\\Lib\\site-packages\\optuna\\distributions.py:515: UserWarning: Choices for a categorical distribution should be a tuple of None, bool, int, float and str for persistent storage but contains (1, 1) which is of type tuple.\n",
      "  warnings.warn(message)\n",
      "\\\\?\\C:\\Users\\ASUS\\AppData\\Roaming\\jupyterlab-desktop\\jlab_server\\Lib\\site-packages\\optuna\\distributions.py:515: UserWarning: Choices for a categorical distribution should be a tuple of None, bool, int, float and str for persistent storage but contains (1, 2) which is of type tuple.\n",
      "  warnings.warn(message)\n",
      "[I 2025-05-09 15:37:50,762] Trial 65 finished with value: 0.8942649654876367 and parameters: {'stemmed': True, 'vectorizer': 'tfidf', 'ngram_range': (1, 2), 'stop_words': None, 'max_features': 22771, 'min_df': 5, 'max_df': 0.85}. Best is trial 62 with value: 0.8956357116084647.\n",
      "\\\\?\\C:\\Users\\ASUS\\AppData\\Roaming\\jupyterlab-desktop\\jlab_server\\Lib\\site-packages\\optuna\\distributions.py:515: UserWarning: Choices for a categorical distribution should be a tuple of None, bool, int, float and str for persistent storage but contains (1, 1) which is of type tuple.\n",
      "  warnings.warn(message)\n",
      "\\\\?\\C:\\Users\\ASUS\\AppData\\Roaming\\jupyterlab-desktop\\jlab_server\\Lib\\site-packages\\optuna\\distributions.py:515: UserWarning: Choices for a categorical distribution should be a tuple of None, bool, int, float and str for persistent storage but contains (1, 2) which is of type tuple.\n",
      "  warnings.warn(message)\n",
      "[I 2025-05-09 15:38:31,759] Trial 66 finished with value: 0.895223934597989 and parameters: {'stemmed': True, 'vectorizer': 'tfidf', 'ngram_range': (1, 2), 'stop_words': None, 'max_features': 39190, 'min_df': 5, 'max_df': 0.9}. Best is trial 62 with value: 0.8956357116084647.\n",
      "\\\\?\\C:\\Users\\ASUS\\AppData\\Roaming\\jupyterlab-desktop\\jlab_server\\Lib\\site-packages\\optuna\\distributions.py:515: UserWarning: Choices for a categorical distribution should be a tuple of None, bool, int, float and str for persistent storage but contains (1, 1) which is of type tuple.\n",
      "  warnings.warn(message)\n",
      "\\\\?\\C:\\Users\\ASUS\\AppData\\Roaming\\jupyterlab-desktop\\jlab_server\\Lib\\site-packages\\optuna\\distributions.py:515: UserWarning: Choices for a categorical distribution should be a tuple of None, bool, int, float and str for persistent storage but contains (1, 2) which is of type tuple.\n",
      "  warnings.warn(message)\n",
      "[I 2025-05-09 15:39:11,455] Trial 67 finished with value: 0.8929232520518058 and parameters: {'stemmed': True, 'vectorizer': 'tfidf', 'ngram_range': (1, 2), 'stop_words': None, 'max_features': 45127, 'min_df': 5, 'max_df': 1.0}. Best is trial 62 with value: 0.8956357116084647.\n",
      "\\\\?\\C:\\Users\\ASUS\\AppData\\Roaming\\jupyterlab-desktop\\jlab_server\\Lib\\site-packages\\optuna\\distributions.py:515: UserWarning: Choices for a categorical distribution should be a tuple of None, bool, int, float and str for persistent storage but contains (1, 1) which is of type tuple.\n",
      "  warnings.warn(message)\n",
      "\\\\?\\C:\\Users\\ASUS\\AppData\\Roaming\\jupyterlab-desktop\\jlab_server\\Lib\\site-packages\\optuna\\distributions.py:515: UserWarning: Choices for a categorical distribution should be a tuple of None, bool, int, float and str for persistent storage but contains (1, 2) which is of type tuple.\n",
      "  warnings.warn(message)\n",
      "[I 2025-05-09 15:39:51,149] Trial 68 finished with value: 0.8509625341094491 and parameters: {'stemmed': False, 'vectorizer': 'tfidf', 'ngram_range': (1, 2), 'stop_words': None, 'max_features': 1038, 'min_df': 5, 'max_df': 0.9}. Best is trial 62 with value: 0.8956357116084647.\n",
      "\\\\?\\C:\\Users\\ASUS\\AppData\\Roaming\\jupyterlab-desktop\\jlab_server\\Lib\\site-packages\\optuna\\distributions.py:515: UserWarning: Choices for a categorical distribution should be a tuple of None, bool, int, float and str for persistent storage but contains (1, 1) which is of type tuple.\n",
      "  warnings.warn(message)\n",
      "\\\\?\\C:\\Users\\ASUS\\AppData\\Roaming\\jupyterlab-desktop\\jlab_server\\Lib\\site-packages\\optuna\\distributions.py:515: UserWarning: Choices for a categorical distribution should be a tuple of None, bool, int, float and str for persistent storage but contains (1, 2) which is of type tuple.\n",
      "  warnings.warn(message)\n",
      "[I 2025-05-09 15:40:32,017] Trial 69 finished with value: 0.8947457517819664 and parameters: {'stemmed': True, 'vectorizer': 'tfidf', 'ngram_range': (1, 2), 'stop_words': None, 'max_features': 28533, 'min_df': 5, 'max_df': 0.9}. Best is trial 62 with value: 0.8956357116084647.\n",
      "\\\\?\\C:\\Users\\ASUS\\AppData\\Roaming\\jupyterlab-desktop\\jlab_server\\Lib\\site-packages\\optuna\\distributions.py:515: UserWarning: Choices for a categorical distribution should be a tuple of None, bool, int, float and str for persistent storage but contains (1, 1) which is of type tuple.\n",
      "  warnings.warn(message)\n",
      "\\\\?\\C:\\Users\\ASUS\\AppData\\Roaming\\jupyterlab-desktop\\jlab_server\\Lib\\site-packages\\optuna\\distributions.py:515: UserWarning: Choices for a categorical distribution should be a tuple of None, bool, int, float and str for persistent storage but contains (1, 2) which is of type tuple.\n",
      "  warnings.warn(message)\n",
      "[I 2025-05-09 15:40:43,901] Trial 70 finished with value: 0.8840144084529616 and parameters: {'stemmed': True, 'vectorizer': 'tfidf', 'ngram_range': (1, 1), 'stop_words': None, 'max_features': 31968, 'min_df': 5, 'max_df': 0.9}. Best is trial 62 with value: 0.8956357116084647.\n",
      "\\\\?\\C:\\Users\\ASUS\\AppData\\Roaming\\jupyterlab-desktop\\jlab_server\\Lib\\site-packages\\optuna\\distributions.py:515: UserWarning: Choices for a categorical distribution should be a tuple of None, bool, int, float and str for persistent storage but contains (1, 1) which is of type tuple.\n",
      "  warnings.warn(message)\n",
      "\\\\?\\C:\\Users\\ASUS\\AppData\\Roaming\\jupyterlab-desktop\\jlab_server\\Lib\\site-packages\\optuna\\distributions.py:515: UserWarning: Choices for a categorical distribution should be a tuple of None, bool, int, float and str for persistent storage but contains (1, 2) which is of type tuple.\n",
      "  warnings.warn(message)\n",
      "[I 2025-05-09 15:41:22,974] Trial 71 finished with value: 0.8954791847795863 and parameters: {'stemmed': True, 'vectorizer': 'tfidf', 'ngram_range': (1, 2), 'stop_words': None, 'max_features': 43869, 'min_df': 5, 'max_df': 0.9}. Best is trial 62 with value: 0.8956357116084647.\n",
      "\\\\?\\C:\\Users\\ASUS\\AppData\\Roaming\\jupyterlab-desktop\\jlab_server\\Lib\\site-packages\\optuna\\distributions.py:515: UserWarning: Choices for a categorical distribution should be a tuple of None, bool, int, float and str for persistent storage but contains (1, 1) which is of type tuple.\n",
      "  warnings.warn(message)\n",
      "\\\\?\\C:\\Users\\ASUS\\AppData\\Roaming\\jupyterlab-desktop\\jlab_server\\Lib\\site-packages\\optuna\\distributions.py:515: UserWarning: Choices for a categorical distribution should be a tuple of None, bool, int, float and str for persistent storage but contains (1, 2) which is of type tuple.\n",
      "  warnings.warn(message)\n",
      "[I 2025-05-09 15:42:00,045] Trial 72 finished with value: 0.8825951205322865 and parameters: {'stemmed': True, 'vectorizer': 'tfidf', 'ngram_range': (1, 2), 'stop_words': None, 'max_features': 3099, 'min_df': 5, 'max_df': 0.9}. Best is trial 62 with value: 0.8956357116084647.\n",
      "\\\\?\\C:\\Users\\ASUS\\AppData\\Roaming\\jupyterlab-desktop\\jlab_server\\Lib\\site-packages\\optuna\\distributions.py:515: UserWarning: Choices for a categorical distribution should be a tuple of None, bool, int, float and str for persistent storage but contains (1, 1) which is of type tuple.\n",
      "  warnings.warn(message)\n",
      "\\\\?\\C:\\Users\\ASUS\\AppData\\Roaming\\jupyterlab-desktop\\jlab_server\\Lib\\site-packages\\optuna\\distributions.py:515: UserWarning: Choices for a categorical distribution should be a tuple of None, bool, int, float and str for persistent storage but contains (1, 2) which is of type tuple.\n",
      "  warnings.warn(message)\n",
      "[I 2025-05-09 15:42:38,823] Trial 73 finished with value: 0.8948331229562624 and parameters: {'stemmed': True, 'vectorizer': 'tfidf', 'ngram_range': (1, 2), 'stop_words': None, 'max_features': 34593, 'min_df': 5, 'max_df': 0.9}. Best is trial 62 with value: 0.8956357116084647.\n",
      "\\\\?\\C:\\Users\\ASUS\\AppData\\Roaming\\jupyterlab-desktop\\jlab_server\\Lib\\site-packages\\optuna\\distributions.py:515: UserWarning: Choices for a categorical distribution should be a tuple of None, bool, int, float and str for persistent storage but contains (1, 1) which is of type tuple.\n",
      "  warnings.warn(message)\n",
      "\\\\?\\C:\\Users\\ASUS\\AppData\\Roaming\\jupyterlab-desktop\\jlab_server\\Lib\\site-packages\\optuna\\distributions.py:515: UserWarning: Choices for a categorical distribution should be a tuple of None, bool, int, float and str for persistent storage but contains (1, 2) which is of type tuple.\n",
      "  warnings.warn(message)\n",
      "[I 2025-05-09 15:43:17,689] Trial 74 finished with value: 0.895345394018896 and parameters: {'stemmed': True, 'vectorizer': 'tfidf', 'ngram_range': (1, 2), 'stop_words': None, 'max_features': 45655, 'min_df': 5, 'max_df': 0.9}. Best is trial 62 with value: 0.8956357116084647.\n",
      "\\\\?\\C:\\Users\\ASUS\\AppData\\Roaming\\jupyterlab-desktop\\jlab_server\\Lib\\site-packages\\optuna\\distributions.py:515: UserWarning: Choices for a categorical distribution should be a tuple of None, bool, int, float and str for persistent storage but contains (1, 1) which is of type tuple.\n",
      "  warnings.warn(message)\n",
      "\\\\?\\C:\\Users\\ASUS\\AppData\\Roaming\\jupyterlab-desktop\\jlab_server\\Lib\\site-packages\\optuna\\distributions.py:515: UserWarning: Choices for a categorical distribution should be a tuple of None, bool, int, float and str for persistent storage but contains (1, 2) which is of type tuple.\n",
      "  warnings.warn(message)\n",
      "[I 2025-05-09 15:43:56,942] Trial 75 finished with value: 0.8951711704211719 and parameters: {'stemmed': True, 'vectorizer': 'tfidf', 'ngram_range': (1, 2), 'stop_words': None, 'max_features': 38567, 'min_df': 5, 'max_df': 0.9}. Best is trial 62 with value: 0.8956357116084647.\n",
      "\\\\?\\C:\\Users\\ASUS\\AppData\\Roaming\\jupyterlab-desktop\\jlab_server\\Lib\\site-packages\\optuna\\distributions.py:515: UserWarning: Choices for a categorical distribution should be a tuple of None, bool, int, float and str for persistent storage but contains (1, 1) which is of type tuple.\n",
      "  warnings.warn(message)\n",
      "\\\\?\\C:\\Users\\ASUS\\AppData\\Roaming\\jupyterlab-desktop\\jlab_server\\Lib\\site-packages\\optuna\\distributions.py:515: UserWarning: Choices for a categorical distribution should be a tuple of None, bool, int, float and str for persistent storage but contains (1, 2) which is of type tuple.\n",
      "  warnings.warn(message)\n",
      "[I 2025-05-09 15:44:38,333] Trial 76 finished with value: 0.8857616911783368 and parameters: {'stemmed': True, 'vectorizer': 'count', 'ngram_range': (1, 2), 'stop_words': None, 'max_features': 23844, 'min_df': 5, 'max_df': 0.9}. Best is trial 62 with value: 0.8956357116084647.\n",
      "\\\\?\\C:\\Users\\ASUS\\AppData\\Roaming\\jupyterlab-desktop\\jlab_server\\Lib\\site-packages\\optuna\\distributions.py:515: UserWarning: Choices for a categorical distribution should be a tuple of None, bool, int, float and str for persistent storage but contains (1, 1) which is of type tuple.\n",
      "  warnings.warn(message)\n",
      "\\\\?\\C:\\Users\\ASUS\\AppData\\Roaming\\jupyterlab-desktop\\jlab_server\\Lib\\site-packages\\optuna\\distributions.py:515: UserWarning: Choices for a categorical distribution should be a tuple of None, bool, int, float and str for persistent storage but contains (1, 2) which is of type tuple.\n",
      "  warnings.warn(message)\n",
      "[I 2025-05-09 15:45:09,946] Trial 77 finished with value: 0.8854844202978871 and parameters: {'stemmed': True, 'vectorizer': 'tfidf', 'ngram_range': (1, 2), 'stop_words': 'english', 'max_features': 38642, 'min_df': 10, 'max_df': 0.85}. Best is trial 62 with value: 0.8956357116084647.\n",
      "\\\\?\\C:\\Users\\ASUS\\AppData\\Roaming\\jupyterlab-desktop\\jlab_server\\Lib\\site-packages\\optuna\\distributions.py:515: UserWarning: Choices for a categorical distribution should be a tuple of None, bool, int, float and str for persistent storage but contains (1, 1) which is of type tuple.\n",
      "  warnings.warn(message)\n",
      "\\\\?\\C:\\Users\\ASUS\\AppData\\Roaming\\jupyterlab-desktop\\jlab_server\\Lib\\site-packages\\optuna\\distributions.py:515: UserWarning: Choices for a categorical distribution should be a tuple of None, bool, int, float and str for persistent storage but contains (1, 2) which is of type tuple.\n",
      "  warnings.warn(message)\n",
      "[I 2025-05-09 15:45:48,692] Trial 78 finished with value: 0.8938044786850247 and parameters: {'stemmed': True, 'vectorizer': 'tfidf', 'ngram_range': (1, 2), 'stop_words': None, 'max_features': 19091, 'min_df': 5, 'max_df': 0.9}. Best is trial 62 with value: 0.8956357116084647.\n",
      "\\\\?\\C:\\Users\\ASUS\\AppData\\Roaming\\jupyterlab-desktop\\jlab_server\\Lib\\site-packages\\optuna\\distributions.py:515: UserWarning: Choices for a categorical distribution should be a tuple of None, bool, int, float and str for persistent storage but contains (1, 1) which is of type tuple.\n",
      "  warnings.warn(message)\n",
      "\\\\?\\C:\\Users\\ASUS\\AppData\\Roaming\\jupyterlab-desktop\\jlab_server\\Lib\\site-packages\\optuna\\distributions.py:515: UserWarning: Choices for a categorical distribution should be a tuple of None, bool, int, float and str for persistent storage but contains (1, 2) which is of type tuple.\n",
      "  warnings.warn(message)\n",
      "[I 2025-05-09 15:46:27,551] Trial 79 finished with value: 0.8948260205608723 and parameters: {'stemmed': True, 'vectorizer': 'tfidf', 'ngram_range': (1, 2), 'stop_words': None, 'max_features': 27918, 'min_df': 5, 'max_df': 0.9}. Best is trial 62 with value: 0.8956357116084647.\n",
      "\\\\?\\C:\\Users\\ASUS\\AppData\\Roaming\\jupyterlab-desktop\\jlab_server\\Lib\\site-packages\\optuna\\distributions.py:515: UserWarning: Choices for a categorical distribution should be a tuple of None, bool, int, float and str for persistent storage but contains (1, 1) which is of type tuple.\n",
      "  warnings.warn(message)\n",
      "\\\\?\\C:\\Users\\ASUS\\AppData\\Roaming\\jupyterlab-desktop\\jlab_server\\Lib\\site-packages\\optuna\\distributions.py:515: UserWarning: Choices for a categorical distribution should be a tuple of None, bool, int, float and str for persistent storage but contains (1, 2) which is of type tuple.\n",
      "  warnings.warn(message)\n",
      "[I 2025-05-09 15:47:07,174] Trial 80 finished with value: 0.8954793707931273 and parameters: {'stemmed': True, 'vectorizer': 'tfidf', 'ngram_range': (1, 2), 'stop_words': None, 'max_features': 44882, 'min_df': 5, 'max_df': 0.75}. Best is trial 62 with value: 0.8956357116084647.\n",
      "\\\\?\\C:\\Users\\ASUS\\AppData\\Roaming\\jupyterlab-desktop\\jlab_server\\Lib\\site-packages\\optuna\\distributions.py:515: UserWarning: Choices for a categorical distribution should be a tuple of None, bool, int, float and str for persistent storage but contains (1, 1) which is of type tuple.\n",
      "  warnings.warn(message)\n",
      "\\\\?\\C:\\Users\\ASUS\\AppData\\Roaming\\jupyterlab-desktop\\jlab_server\\Lib\\site-packages\\optuna\\distributions.py:515: UserWarning: Choices for a categorical distribution should be a tuple of None, bool, int, float and str for persistent storage but contains (1, 2) which is of type tuple.\n",
      "  warnings.warn(message)\n",
      "[I 2025-05-09 15:47:46,254] Trial 81 finished with value: 0.8953051530338415 and parameters: {'stemmed': True, 'vectorizer': 'tfidf', 'ngram_range': (1, 2), 'stop_words': None, 'max_features': 45457, 'min_df': 5, 'max_df': 0.75}. Best is trial 62 with value: 0.8956357116084647.\n",
      "\\\\?\\C:\\Users\\ASUS\\AppData\\Roaming\\jupyterlab-desktop\\jlab_server\\Lib\\site-packages\\optuna\\distributions.py:515: UserWarning: Choices for a categorical distribution should be a tuple of None, bool, int, float and str for persistent storage but contains (1, 1) which is of type tuple.\n",
      "  warnings.warn(message)\n",
      "\\\\?\\C:\\Users\\ASUS\\AppData\\Roaming\\jupyterlab-desktop\\jlab_server\\Lib\\site-packages\\optuna\\distributions.py:515: UserWarning: Choices for a categorical distribution should be a tuple of None, bool, int, float and str for persistent storage but contains (1, 2) which is of type tuple.\n",
      "  warnings.warn(message)\n",
      "[I 2025-05-09 15:48:25,437] Trial 82 finished with value: 0.8952371266326168 and parameters: {'stemmed': True, 'vectorizer': 'tfidf', 'ngram_range': (1, 2), 'stop_words': None, 'max_features': 35239, 'min_df': 5, 'max_df': 0.75}. Best is trial 62 with value: 0.8956357116084647.\n",
      "\\\\?\\C:\\Users\\ASUS\\AppData\\Roaming\\jupyterlab-desktop\\jlab_server\\Lib\\site-packages\\optuna\\distributions.py:515: UserWarning: Choices for a categorical distribution should be a tuple of None, bool, int, float and str for persistent storage but contains (1, 1) which is of type tuple.\n",
      "  warnings.warn(message)\n",
      "\\\\?\\C:\\Users\\ASUS\\AppData\\Roaming\\jupyterlab-desktop\\jlab_server\\Lib\\site-packages\\optuna\\distributions.py:515: UserWarning: Choices for a categorical distribution should be a tuple of None, bool, int, float and str for persistent storage but contains (1, 2) which is of type tuple.\n",
      "  warnings.warn(message)\n",
      "[I 2025-05-09 15:49:04,552] Trial 83 finished with value: 0.8958056048679669 and parameters: {'stemmed': True, 'vectorizer': 'tfidf', 'ngram_range': (1, 2), 'stop_words': None, 'max_features': 49948, 'min_df': 5, 'max_df': 0.75}. Best is trial 83 with value: 0.8958056048679669.\n",
      "\\\\?\\C:\\Users\\ASUS\\AppData\\Roaming\\jupyterlab-desktop\\jlab_server\\Lib\\site-packages\\optuna\\distributions.py:515: UserWarning: Choices for a categorical distribution should be a tuple of None, bool, int, float and str for persistent storage but contains (1, 1) which is of type tuple.\n",
      "  warnings.warn(message)\n",
      "\\\\?\\C:\\Users\\ASUS\\AppData\\Roaming\\jupyterlab-desktop\\jlab_server\\Lib\\site-packages\\optuna\\distributions.py:515: UserWarning: Choices for a categorical distribution should be a tuple of None, bool, int, float and str for persistent storage but contains (1, 2) which is of type tuple.\n",
      "  warnings.warn(message)\n",
      "[I 2025-05-09 15:49:43,731] Trial 84 finished with value: 0.8958943707878769 and parameters: {'stemmed': True, 'vectorizer': 'tfidf', 'ngram_range': (1, 2), 'stop_words': None, 'max_features': 49949, 'min_df': 5, 'max_df': 0.75}. Best is trial 84 with value: 0.8958943707878769.\n",
      "\\\\?\\C:\\Users\\ASUS\\AppData\\Roaming\\jupyterlab-desktop\\jlab_server\\Lib\\site-packages\\optuna\\distributions.py:515: UserWarning: Choices for a categorical distribution should be a tuple of None, bool, int, float and str for persistent storage but contains (1, 1) which is of type tuple.\n",
      "  warnings.warn(message)\n",
      "\\\\?\\C:\\Users\\ASUS\\AppData\\Roaming\\jupyterlab-desktop\\jlab_server\\Lib\\site-packages\\optuna\\distributions.py:515: UserWarning: Choices for a categorical distribution should be a tuple of None, bool, int, float and str for persistent storage but contains (1, 2) which is of type tuple.\n",
      "  warnings.warn(message)\n",
      "[I 2025-05-09 15:50:23,302] Trial 85 finished with value: 0.8953229121393739 and parameters: {'stemmed': True, 'vectorizer': 'tfidf', 'ngram_range': (1, 2), 'stop_words': None, 'max_features': 44884, 'min_df': 5, 'max_df': 0.75}. Best is trial 84 with value: 0.8958943707878769.\n",
      "\\\\?\\C:\\Users\\ASUS\\AppData\\Roaming\\jupyterlab-desktop\\jlab_server\\Lib\\site-packages\\optuna\\distributions.py:515: UserWarning: Choices for a categorical distribution should be a tuple of None, bool, int, float and str for persistent storage but contains (1, 1) which is of type tuple.\n",
      "  warnings.warn(message)\n",
      "\\\\?\\C:\\Users\\ASUS\\AppData\\Roaming\\jupyterlab-desktop\\jlab_server\\Lib\\site-packages\\optuna\\distributions.py:515: UserWarning: Choices for a categorical distribution should be a tuple of None, bool, int, float and str for persistent storage but contains (1, 2) which is of type tuple.\n",
      "  warnings.warn(message)\n",
      "[I 2025-05-09 15:51:02,987] Trial 86 finished with value: 0.8951420336061178 and parameters: {'stemmed': True, 'vectorizer': 'tfidf', 'ngram_range': (1, 2), 'stop_words': None, 'max_features': 47568, 'min_df': 10, 'max_df': 0.75}. Best is trial 84 with value: 0.8958943707878769.\n",
      "\\\\?\\C:\\Users\\ASUS\\AppData\\Roaming\\jupyterlab-desktop\\jlab_server\\Lib\\site-packages\\optuna\\distributions.py:515: UserWarning: Choices for a categorical distribution should be a tuple of None, bool, int, float and str for persistent storage but contains (1, 1) which is of type tuple.\n",
      "  warnings.warn(message)\n",
      "\\\\?\\C:\\Users\\ASUS\\AppData\\Roaming\\jupyterlab-desktop\\jlab_server\\Lib\\site-packages\\optuna\\distributions.py:515: UserWarning: Choices for a categorical distribution should be a tuple of None, bool, int, float and str for persistent storage but contains (1, 2) which is of type tuple.\n",
      "  warnings.warn(message)\n",
      "[I 2025-05-09 15:51:17,381] Trial 87 finished with value: 0.8722424382138249 and parameters: {'stemmed': False, 'vectorizer': 'count', 'ngram_range': (1, 1), 'stop_words': None, 'max_features': 33748, 'min_df': 5, 'max_df': 0.75}. Best is trial 84 with value: 0.8958943707878769.\n",
      "\\\\?\\C:\\Users\\ASUS\\AppData\\Roaming\\jupyterlab-desktop\\jlab_server\\Lib\\site-packages\\optuna\\distributions.py:515: UserWarning: Choices for a categorical distribution should be a tuple of None, bool, int, float and str for persistent storage but contains (1, 1) which is of type tuple.\n",
      "  warnings.warn(message)\n",
      "\\\\?\\C:\\Users\\ASUS\\AppData\\Roaming\\jupyterlab-desktop\\jlab_server\\Lib\\site-packages\\optuna\\distributions.py:515: UserWarning: Choices for a categorical distribution should be a tuple of None, bool, int, float and str for persistent storage but contains (1, 2) which is of type tuple.\n",
      "  warnings.warn(message)\n",
      "[I 2025-05-09 15:51:56,540] Trial 88 finished with value: 0.8954547215337852 and parameters: {'stemmed': True, 'vectorizer': 'tfidf', 'ngram_range': (1, 2), 'stop_words': None, 'max_features': 48872, 'min_df': 5, 'max_df': 0.75}. Best is trial 84 with value: 0.8958943707878769.\n",
      "\\\\?\\C:\\Users\\ASUS\\AppData\\Roaming\\jupyterlab-desktop\\jlab_server\\Lib\\site-packages\\optuna\\distributions.py:515: UserWarning: Choices for a categorical distribution should be a tuple of None, bool, int, float and str for persistent storage but contains (1, 1) which is of type tuple.\n",
      "  warnings.warn(message)\n",
      "\\\\?\\C:\\Users\\ASUS\\AppData\\Roaming\\jupyterlab-desktop\\jlab_server\\Lib\\site-packages\\optuna\\distributions.py:515: UserWarning: Choices for a categorical distribution should be a tuple of None, bool, int, float and str for persistent storage but contains (1, 2) which is of type tuple.\n",
      "  warnings.warn(message)\n",
      "[I 2025-05-09 15:52:36,253] Trial 89 finished with value: 0.8955325045041524 and parameters: {'stemmed': True, 'vectorizer': 'tfidf', 'ngram_range': (1, 2), 'stop_words': None, 'max_features': 49755, 'min_df': 5, 'max_df': 0.75}. Best is trial 84 with value: 0.8958943707878769.\n",
      "\\\\?\\C:\\Users\\ASUS\\AppData\\Roaming\\jupyterlab-desktop\\jlab_server\\Lib\\site-packages\\optuna\\distributions.py:515: UserWarning: Choices for a categorical distribution should be a tuple of None, bool, int, float and str for persistent storage but contains (1, 1) which is of type tuple.\n",
      "  warnings.warn(message)\n",
      "\\\\?\\C:\\Users\\ASUS\\AppData\\Roaming\\jupyterlab-desktop\\jlab_server\\Lib\\site-packages\\optuna\\distributions.py:515: UserWarning: Choices for a categorical distribution should be a tuple of None, bool, int, float and str for persistent storage but contains (1, 2) which is of type tuple.\n",
      "  warnings.warn(message)\n",
      "[I 2025-05-09 15:53:08,867] Trial 90 finished with value: 0.8857053106556001 and parameters: {'stemmed': True, 'vectorizer': 'tfidf', 'ngram_range': (1, 2), 'stop_words': 'english', 'max_features': 37239, 'min_df': 5, 'max_df': 0.75}. Best is trial 84 with value: 0.8958943707878769.\n",
      "\\\\?\\C:\\Users\\ASUS\\AppData\\Roaming\\jupyterlab-desktop\\jlab_server\\Lib\\site-packages\\optuna\\distributions.py:515: UserWarning: Choices for a categorical distribution should be a tuple of None, bool, int, float and str for persistent storage but contains (1, 1) which is of type tuple.\n",
      "  warnings.warn(message)\n",
      "\\\\?\\C:\\Users\\ASUS\\AppData\\Roaming\\jupyterlab-desktop\\jlab_server\\Lib\\site-packages\\optuna\\distributions.py:515: UserWarning: Choices for a categorical distribution should be a tuple of None, bool, int, float and str for persistent storage but contains (1, 2) which is of type tuple.\n",
      "  warnings.warn(message)\n",
      "[I 2025-05-09 15:53:48,463] Trial 91 finished with value: 0.8955534582820398 and parameters: {'stemmed': True, 'vectorizer': 'tfidf', 'ngram_range': (1, 2), 'stop_words': None, 'max_features': 49760, 'min_df': 5, 'max_df': 0.75}. Best is trial 84 with value: 0.8958943707878769.\n",
      "\\\\?\\C:\\Users\\ASUS\\AppData\\Roaming\\jupyterlab-desktop\\jlab_server\\Lib\\site-packages\\optuna\\distributions.py:515: UserWarning: Choices for a categorical distribution should be a tuple of None, bool, int, float and str for persistent storage but contains (1, 1) which is of type tuple.\n",
      "  warnings.warn(message)\n",
      "\\\\?\\C:\\Users\\ASUS\\AppData\\Roaming\\jupyterlab-desktop\\jlab_server\\Lib\\site-packages\\optuna\\distributions.py:515: UserWarning: Choices for a categorical distribution should be a tuple of None, bool, int, float and str for persistent storage but contains (1, 2) which is of type tuple.\n",
      "  warnings.warn(message)\n",
      "[I 2025-05-09 15:54:27,643] Trial 92 finished with value: 0.8955422324539266 and parameters: {'stemmed': True, 'vectorizer': 'tfidf', 'ngram_range': (1, 2), 'stop_words': None, 'max_features': 49284, 'min_df': 5, 'max_df': 0.75}. Best is trial 84 with value: 0.8958943707878769.\n",
      "\\\\?\\C:\\Users\\ASUS\\AppData\\Roaming\\jupyterlab-desktop\\jlab_server\\Lib\\site-packages\\optuna\\distributions.py:515: UserWarning: Choices for a categorical distribution should be a tuple of None, bool, int, float and str for persistent storage but contains (1, 1) which is of type tuple.\n",
      "  warnings.warn(message)\n",
      "\\\\?\\C:\\Users\\ASUS\\AppData\\Roaming\\jupyterlab-desktop\\jlab_server\\Lib\\site-packages\\optuna\\distributions.py:515: UserWarning: Choices for a categorical distribution should be a tuple of None, bool, int, float and str for persistent storage but contains (1, 2) which is of type tuple.\n",
      "  warnings.warn(message)\n",
      "[I 2025-05-09 15:55:06,793] Trial 93 finished with value: 0.8955720723009944 and parameters: {'stemmed': True, 'vectorizer': 'tfidf', 'ngram_range': (1, 2), 'stop_words': None, 'max_features': 49582, 'min_df': 5, 'max_df': 0.75}. Best is trial 84 with value: 0.8958943707878769.\n",
      "\\\\?\\C:\\Users\\ASUS\\AppData\\Roaming\\jupyterlab-desktop\\jlab_server\\Lib\\site-packages\\optuna\\distributions.py:515: UserWarning: Choices for a categorical distribution should be a tuple of None, bool, int, float and str for persistent storage but contains (1, 1) which is of type tuple.\n",
      "  warnings.warn(message)\n",
      "\\\\?\\C:\\Users\\ASUS\\AppData\\Roaming\\jupyterlab-desktop\\jlab_server\\Lib\\site-packages\\optuna\\distributions.py:515: UserWarning: Choices for a categorical distribution should be a tuple of None, bool, int, float and str for persistent storage but contains (1, 2) which is of type tuple.\n",
      "  warnings.warn(message)\n",
      "[I 2025-05-09 15:55:45,926] Trial 94 finished with value: 0.8956849996466892 and parameters: {'stemmed': True, 'vectorizer': 'tfidf', 'ngram_range': (1, 2), 'stop_words': None, 'max_features': 47625, 'min_df': 5, 'max_df': 0.75}. Best is trial 84 with value: 0.8958943707878769.\n",
      "\\\\?\\C:\\Users\\ASUS\\AppData\\Roaming\\jupyterlab-desktop\\jlab_server\\Lib\\site-packages\\optuna\\distributions.py:515: UserWarning: Choices for a categorical distribution should be a tuple of None, bool, int, float and str for persistent storage but contains (1, 1) which is of type tuple.\n",
      "  warnings.warn(message)\n",
      "\\\\?\\C:\\Users\\ASUS\\AppData\\Roaming\\jupyterlab-desktop\\jlab_server\\Lib\\site-packages\\optuna\\distributions.py:515: UserWarning: Choices for a categorical distribution should be a tuple of None, bool, int, float and str for persistent storage but contains (1, 2) which is of type tuple.\n",
      "  warnings.warn(message)\n",
      "[I 2025-05-09 15:56:25,444] Trial 95 finished with value: 0.8960449491861566 and parameters: {'stemmed': True, 'vectorizer': 'tfidf', 'ngram_range': (1, 2), 'stop_words': None, 'max_features': 47809, 'min_df': 5, 'max_df': 0.75}. Best is trial 95 with value: 0.8960449491861566.\n",
      "\\\\?\\C:\\Users\\ASUS\\AppData\\Roaming\\jupyterlab-desktop\\jlab_server\\Lib\\site-packages\\optuna\\distributions.py:515: UserWarning: Choices for a categorical distribution should be a tuple of None, bool, int, float and str for persistent storage but contains (1, 1) which is of type tuple.\n",
      "  warnings.warn(message)\n",
      "\\\\?\\C:\\Users\\ASUS\\AppData\\Roaming\\jupyterlab-desktop\\jlab_server\\Lib\\site-packages\\optuna\\distributions.py:515: UserWarning: Choices for a categorical distribution should be a tuple of None, bool, int, float and str for persistent storage but contains (1, 2) which is of type tuple.\n",
      "  warnings.warn(message)\n",
      "[I 2025-05-09 15:57:04,317] Trial 96 finished with value: 0.8960888950574208 and parameters: {'stemmed': True, 'vectorizer': 'tfidf', 'ngram_range': (1, 2), 'stop_words': None, 'max_features': 47815, 'min_df': 5, 'max_df': 0.75}. Best is trial 96 with value: 0.8960888950574208.\n",
      "\\\\?\\C:\\Users\\ASUS\\AppData\\Roaming\\jupyterlab-desktop\\jlab_server\\Lib\\site-packages\\optuna\\distributions.py:515: UserWarning: Choices for a categorical distribution should be a tuple of None, bool, int, float and str for persistent storage but contains (1, 1) which is of type tuple.\n",
      "  warnings.warn(message)\n",
      "\\\\?\\C:\\Users\\ASUS\\AppData\\Roaming\\jupyterlab-desktop\\jlab_server\\Lib\\site-packages\\optuna\\distributions.py:515: UserWarning: Choices for a categorical distribution should be a tuple of None, bool, int, float and str for persistent storage but contains (1, 2) which is of type tuple.\n",
      "  warnings.warn(message)\n",
      "[I 2025-05-09 15:57:43,271] Trial 97 finished with value: 0.8959386311421523 and parameters: {'stemmed': True, 'vectorizer': 'tfidf', 'ngram_range': (1, 2), 'stop_words': None, 'max_features': 48198, 'min_df': 5, 'max_df': 0.75}. Best is trial 96 with value: 0.8960888950574208.\n",
      "\\\\?\\C:\\Users\\ASUS\\AppData\\Roaming\\jupyterlab-desktop\\jlab_server\\Lib\\site-packages\\optuna\\distributions.py:515: UserWarning: Choices for a categorical distribution should be a tuple of None, bool, int, float and str for persistent storage but contains (1, 1) which is of type tuple.\n",
      "  warnings.warn(message)\n",
      "\\\\?\\C:\\Users\\ASUS\\AppData\\Roaming\\jupyterlab-desktop\\jlab_server\\Lib\\site-packages\\optuna\\distributions.py:515: UserWarning: Choices for a categorical distribution should be a tuple of None, bool, int, float and str for persistent storage but contains (1, 2) which is of type tuple.\n",
      "  warnings.warn(message)\n",
      "[I 2025-05-09 15:58:22,634] Trial 98 finished with value: 0.896096755294416 and parameters: {'stemmed': True, 'vectorizer': 'tfidf', 'ngram_range': (1, 2), 'stop_words': None, 'max_features': 43371, 'min_df': 5, 'max_df': 0.75}. Best is trial 98 with value: 0.896096755294416.\n",
      "\\\\?\\C:\\Users\\ASUS\\AppData\\Roaming\\jupyterlab-desktop\\jlab_server\\Lib\\site-packages\\optuna\\distributions.py:515: UserWarning: Choices for a categorical distribution should be a tuple of None, bool, int, float and str for persistent storage but contains (1, 1) which is of type tuple.\n",
      "  warnings.warn(message)\n",
      "\\\\?\\C:\\Users\\ASUS\\AppData\\Roaming\\jupyterlab-desktop\\jlab_server\\Lib\\site-packages\\optuna\\distributions.py:515: UserWarning: Choices for a categorical distribution should be a tuple of None, bool, int, float and str for persistent storage but contains (1, 2) which is of type tuple.\n",
      "  warnings.warn(message)\n",
      "[I 2025-05-09 15:59:01,501] Trial 99 finished with value: 0.8953239457267147 and parameters: {'stemmed': True, 'vectorizer': 'tfidf', 'ngram_range': (1, 2), 'stop_words': None, 'max_features': 36986, 'min_df': 5, 'max_df': 0.75}. Best is trial 98 with value: 0.896096755294416.\n",
      "\\\\?\\C:\\Users\\ASUS\\AppData\\Roaming\\jupyterlab-desktop\\jlab_server\\Lib\\site-packages\\optuna\\distributions.py:515: UserWarning: Choices for a categorical distribution should be a tuple of None, bool, int, float and str for persistent storage but contains (1, 1) which is of type tuple.\n",
      "  warnings.warn(message)\n",
      "\\\\?\\C:\\Users\\ASUS\\AppData\\Roaming\\jupyterlab-desktop\\jlab_server\\Lib\\site-packages\\optuna\\distributions.py:515: UserWarning: Choices for a categorical distribution should be a tuple of None, bool, int, float and str for persistent storage but contains (1, 2) which is of type tuple.\n",
      "  warnings.warn(message)\n",
      "[I 2025-05-09 15:59:40,701] Trial 100 finished with value: 0.8962479447128624 and parameters: {'stemmed': True, 'vectorizer': 'tfidf', 'ngram_range': (1, 2), 'stop_words': None, 'max_features': 43047, 'min_df': 5, 'max_df': 0.75}. Best is trial 100 with value: 0.8962479447128624.\n",
      "\\\\?\\C:\\Users\\ASUS\\AppData\\Roaming\\jupyterlab-desktop\\jlab_server\\Lib\\site-packages\\optuna\\distributions.py:515: UserWarning: Choices for a categorical distribution should be a tuple of None, bool, int, float and str for persistent storage but contains (1, 1) which is of type tuple.\n",
      "  warnings.warn(message)\n",
      "\\\\?\\C:\\Users\\ASUS\\AppData\\Roaming\\jupyterlab-desktop\\jlab_server\\Lib\\site-packages\\optuna\\distributions.py:515: UserWarning: Choices for a categorical distribution should be a tuple of None, bool, int, float and str for persistent storage but contains (1, 2) which is of type tuple.\n",
      "  warnings.warn(message)\n",
      "[I 2025-05-09 16:00:19,947] Trial 101 finished with value: 0.8955338133255787 and parameters: {'stemmed': True, 'vectorizer': 'tfidf', 'ngram_range': (1, 2), 'stop_words': None, 'max_features': 42839, 'min_df': 5, 'max_df': 0.75}. Best is trial 100 with value: 0.8962479447128624.\n",
      "\\\\?\\C:\\Users\\ASUS\\AppData\\Roaming\\jupyterlab-desktop\\jlab_server\\Lib\\site-packages\\optuna\\distributions.py:515: UserWarning: Choices for a categorical distribution should be a tuple of None, bool, int, float and str for persistent storage but contains (1, 1) which is of type tuple.\n",
      "  warnings.warn(message)\n",
      "\\\\?\\C:\\Users\\ASUS\\AppData\\Roaming\\jupyterlab-desktop\\jlab_server\\Lib\\site-packages\\optuna\\distributions.py:515: UserWarning: Choices for a categorical distribution should be a tuple of None, bool, int, float and str for persistent storage but contains (1, 2) which is of type tuple.\n",
      "  warnings.warn(message)\n",
      "[I 2025-05-09 16:01:00,338] Trial 102 finished with value: 0.8950948804954372 and parameters: {'stemmed': True, 'vectorizer': 'tfidf', 'ngram_range': (1, 2), 'stop_words': None, 'max_features': 43776, 'min_df': 5, 'max_df': 0.75}. Best is trial 100 with value: 0.8962479447128624.\n",
      "\\\\?\\C:\\Users\\ASUS\\AppData\\Roaming\\jupyterlab-desktop\\jlab_server\\Lib\\site-packages\\optuna\\distributions.py:515: UserWarning: Choices for a categorical distribution should be a tuple of None, bool, int, float and str for persistent storage but contains (1, 1) which is of type tuple.\n",
      "  warnings.warn(message)\n",
      "\\\\?\\C:\\Users\\ASUS\\AppData\\Roaming\\jupyterlab-desktop\\jlab_server\\Lib\\site-packages\\optuna\\distributions.py:515: UserWarning: Choices for a categorical distribution should be a tuple of None, bool, int, float and str for persistent storage but contains (1, 2) which is of type tuple.\n",
      "  warnings.warn(message)\n",
      "[I 2025-05-09 16:01:39,387] Trial 103 finished with value: 0.8958964604423897 and parameters: {'stemmed': True, 'vectorizer': 'tfidf', 'ngram_range': (1, 2), 'stop_words': None, 'max_features': 39079, 'min_df': 5, 'max_df': 0.75}. Best is trial 100 with value: 0.8962479447128624.\n",
      "\\\\?\\C:\\Users\\ASUS\\AppData\\Roaming\\jupyterlab-desktop\\jlab_server\\Lib\\site-packages\\optuna\\distributions.py:515: UserWarning: Choices for a categorical distribution should be a tuple of None, bool, int, float and str for persistent storage but contains (1, 1) which is of type tuple.\n",
      "  warnings.warn(message)\n",
      "\\\\?\\C:\\Users\\ASUS\\AppData\\Roaming\\jupyterlab-desktop\\jlab_server\\Lib\\site-packages\\optuna\\distributions.py:515: UserWarning: Choices for a categorical distribution should be a tuple of None, bool, int, float and str for persistent storage but contains (1, 2) which is of type tuple.\n",
      "  warnings.warn(message)\n",
      "[I 2025-05-09 16:02:19,698] Trial 104 finished with value: 0.8955259252982839 and parameters: {'stemmed': True, 'vectorizer': 'tfidf', 'ngram_range': (1, 2), 'stop_words': None, 'max_features': 37774, 'min_df': 5, 'max_df': 0.75}. Best is trial 100 with value: 0.8962479447128624.\n",
      "\\\\?\\C:\\Users\\ASUS\\AppData\\Roaming\\jupyterlab-desktop\\jlab_server\\Lib\\site-packages\\optuna\\distributions.py:515: UserWarning: Choices for a categorical distribution should be a tuple of None, bool, int, float and str for persistent storage but contains (1, 1) which is of type tuple.\n",
      "  warnings.warn(message)\n",
      "\\\\?\\C:\\Users\\ASUS\\AppData\\Roaming\\jupyterlab-desktop\\jlab_server\\Lib\\site-packages\\optuna\\distributions.py:515: UserWarning: Choices for a categorical distribution should be a tuple of None, bool, int, float and str for persistent storage but contains (1, 2) which is of type tuple.\n",
      "  warnings.warn(message)\n",
      "[I 2025-05-09 16:02:53,224] Trial 105 finished with value: 0.8957727594856207 and parameters: {'stemmed': True, 'vectorizer': 'tfidf', 'ngram_range': (1, 2), 'stop_words': None, 'max_features': 39434, 'min_df': 5, 'max_df': 0.75}. Best is trial 100 with value: 0.8962479447128624.\n",
      "\\\\?\\C:\\Users\\ASUS\\AppData\\Roaming\\jupyterlab-desktop\\jlab_server\\Lib\\site-packages\\optuna\\distributions.py:515: UserWarning: Choices for a categorical distribution should be a tuple of None, bool, int, float and str for persistent storage but contains (1, 1) which is of type tuple.\n",
      "  warnings.warn(message)\n",
      "\\\\?\\C:\\Users\\ASUS\\AppData\\Roaming\\jupyterlab-desktop\\jlab_server\\Lib\\site-packages\\optuna\\distributions.py:515: UserWarning: Choices for a categorical distribution should be a tuple of None, bool, int, float and str for persistent storage but contains (1, 2) which is of type tuple.\n",
      "  warnings.warn(message)\n",
      "[I 2025-05-09 16:03:05,163] Trial 106 finished with value: 0.8847980324154557 and parameters: {'stemmed': True, 'vectorizer': 'tfidf', 'ngram_range': (1, 1), 'stop_words': None, 'max_features': 29342, 'min_df': 5, 'max_df': 0.75}. Best is trial 100 with value: 0.8962479447128624.\n",
      "\\\\?\\C:\\Users\\ASUS\\AppData\\Roaming\\jupyterlab-desktop\\jlab_server\\Lib\\site-packages\\optuna\\distributions.py:515: UserWarning: Choices for a categorical distribution should be a tuple of None, bool, int, float and str for persistent storage but contains (1, 1) which is of type tuple.\n",
      "  warnings.warn(message)\n",
      "\\\\?\\C:\\Users\\ASUS\\AppData\\Roaming\\jupyterlab-desktop\\jlab_server\\Lib\\site-packages\\optuna\\distributions.py:515: UserWarning: Choices for a categorical distribution should be a tuple of None, bool, int, float and str for persistent storage but contains (1, 2) which is of type tuple.\n",
      "  warnings.warn(message)\n",
      "[I 2025-05-09 16:03:47,215] Trial 107 finished with value: 0.8860067400611956 and parameters: {'stemmed': False, 'vectorizer': 'count', 'ngram_range': (1, 2), 'stop_words': None, 'max_features': 30907, 'min_df': 5, 'max_df': 0.75}. Best is trial 100 with value: 0.8962479447128624.\n",
      "\\\\?\\C:\\Users\\ASUS\\AppData\\Roaming\\jupyterlab-desktop\\jlab_server\\Lib\\site-packages\\optuna\\distributions.py:515: UserWarning: Choices for a categorical distribution should be a tuple of None, bool, int, float and str for persistent storage but contains (1, 1) which is of type tuple.\n",
      "  warnings.warn(message)\n",
      "\\\\?\\C:\\Users\\ASUS\\AppData\\Roaming\\jupyterlab-desktop\\jlab_server\\Lib\\site-packages\\optuna\\distributions.py:515: UserWarning: Choices for a categorical distribution should be a tuple of None, bool, int, float and str for persistent storage but contains (1, 2) which is of type tuple.\n",
      "  warnings.warn(message)\n",
      "[I 2025-05-09 16:04:26,340] Trial 108 finished with value: 0.8957714599342129 and parameters: {'stemmed': True, 'vectorizer': 'tfidf', 'ngram_range': (1, 2), 'stop_words': None, 'max_features': 40706, 'min_df': 5, 'max_df': 0.75}. Best is trial 100 with value: 0.8962479447128624.\n",
      "\\\\?\\C:\\Users\\ASUS\\AppData\\Roaming\\jupyterlab-desktop\\jlab_server\\Lib\\site-packages\\optuna\\distributions.py:515: UserWarning: Choices for a categorical distribution should be a tuple of None, bool, int, float and str for persistent storage but contains (1, 1) which is of type tuple.\n",
      "  warnings.warn(message)\n",
      "\\\\?\\C:\\Users\\ASUS\\AppData\\Roaming\\jupyterlab-desktop\\jlab_server\\Lib\\site-packages\\optuna\\distributions.py:515: UserWarning: Choices for a categorical distribution should be a tuple of None, bool, int, float and str for persistent storage but contains (1, 2) which is of type tuple.\n",
      "  warnings.warn(message)\n",
      "[I 2025-05-09 16:04:59,909] Trial 109 finished with value: 0.8957125361909415 and parameters: {'stemmed': True, 'vectorizer': 'tfidf', 'ngram_range': (1, 2), 'stop_words': None, 'max_features': 35288, 'min_df': 5, 'max_df': 0.75}. Best is trial 100 with value: 0.8962479447128624.\n",
      "\\\\?\\C:\\Users\\ASUS\\AppData\\Roaming\\jupyterlab-desktop\\jlab_server\\Lib\\site-packages\\optuna\\distributions.py:515: UserWarning: Choices for a categorical distribution should be a tuple of None, bool, int, float and str for persistent storage but contains (1, 1) which is of type tuple.\n",
      "  warnings.warn(message)\n",
      "\\\\?\\C:\\Users\\ASUS\\AppData\\Roaming\\jupyterlab-desktop\\jlab_server\\Lib\\site-packages\\optuna\\distributions.py:515: UserWarning: Choices for a categorical distribution should be a tuple of None, bool, int, float and str for persistent storage but contains (1, 2) which is of type tuple.\n",
      "  warnings.warn(message)\n",
      "[I 2025-05-09 16:05:27,967] Trial 110 finished with value: 0.8849935528423294 and parameters: {'stemmed': True, 'vectorizer': 'tfidf', 'ngram_range': (1, 2), 'stop_words': 'english', 'max_features': 35577, 'min_df': 5, 'max_df': 0.75}. Best is trial 100 with value: 0.8962479447128624.\n",
      "\\\\?\\C:\\Users\\ASUS\\AppData\\Roaming\\jupyterlab-desktop\\jlab_server\\Lib\\site-packages\\optuna\\distributions.py:515: UserWarning: Choices for a categorical distribution should be a tuple of None, bool, int, float and str for persistent storage but contains (1, 1) which is of type tuple.\n",
      "  warnings.warn(message)\n",
      "\\\\?\\C:\\Users\\ASUS\\AppData\\Roaming\\jupyterlab-desktop\\jlab_server\\Lib\\site-packages\\optuna\\distributions.py:515: UserWarning: Choices for a categorical distribution should be a tuple of None, bool, int, float and str for persistent storage but contains (1, 2) which is of type tuple.\n",
      "  warnings.warn(message)\n",
      "[I 2025-05-09 16:06:00,519] Trial 111 finished with value: 0.8953477739522034 and parameters: {'stemmed': True, 'vectorizer': 'tfidf', 'ngram_range': (1, 2), 'stop_words': None, 'max_features': 39257, 'min_df': 5, 'max_df': 0.75}. Best is trial 100 with value: 0.8962479447128624.\n",
      "\\\\?\\C:\\Users\\ASUS\\AppData\\Roaming\\jupyterlab-desktop\\jlab_server\\Lib\\site-packages\\optuna\\distributions.py:515: UserWarning: Choices for a categorical distribution should be a tuple of None, bool, int, float and str for persistent storage but contains (1, 1) which is of type tuple.\n",
      "  warnings.warn(message)\n",
      "\\\\?\\C:\\Users\\ASUS\\AppData\\Roaming\\jupyterlab-desktop\\jlab_server\\Lib\\site-packages\\optuna\\distributions.py:515: UserWarning: Choices for a categorical distribution should be a tuple of None, bool, int, float and str for persistent storage but contains (1, 2) which is of type tuple.\n",
      "  warnings.warn(message)\n",
      "[I 2025-05-09 16:06:33,042] Trial 112 finished with value: 0.8953147891317247 and parameters: {'stemmed': True, 'vectorizer': 'tfidf', 'ngram_range': (1, 2), 'stop_words': None, 'max_features': 43300, 'min_df': 5, 'max_df': 0.75}. Best is trial 100 with value: 0.8962479447128624.\n",
      "\\\\?\\C:\\Users\\ASUS\\AppData\\Roaming\\jupyterlab-desktop\\jlab_server\\Lib\\site-packages\\optuna\\distributions.py:515: UserWarning: Choices for a categorical distribution should be a tuple of None, bool, int, float and str for persistent storage but contains (1, 1) which is of type tuple.\n",
      "  warnings.warn(message)\n",
      "\\\\?\\C:\\Users\\ASUS\\AppData\\Roaming\\jupyterlab-desktop\\jlab_server\\Lib\\site-packages\\optuna\\distributions.py:515: UserWarning: Choices for a categorical distribution should be a tuple of None, bool, int, float and str for persistent storage but contains (1, 2) which is of type tuple.\n",
      "  warnings.warn(message)\n",
      "[I 2025-05-09 16:07:05,443] Trial 113 finished with value: 0.895308380340771 and parameters: {'stemmed': True, 'vectorizer': 'tfidf', 'ngram_range': (1, 2), 'stop_words': None, 'max_features': 31813, 'min_df': 5, 'max_df': 0.75}. Best is trial 100 with value: 0.8962479447128624.\n",
      "\\\\?\\C:\\Users\\ASUS\\AppData\\Roaming\\jupyterlab-desktop\\jlab_server\\Lib\\site-packages\\optuna\\distributions.py:515: UserWarning: Choices for a categorical distribution should be a tuple of None, bool, int, float and str for persistent storage but contains (1, 1) which is of type tuple.\n",
      "  warnings.warn(message)\n",
      "\\\\?\\C:\\Users\\ASUS\\AppData\\Roaming\\jupyterlab-desktop\\jlab_server\\Lib\\site-packages\\optuna\\distributions.py:515: UserWarning: Choices for a categorical distribution should be a tuple of None, bool, int, float and str for persistent storage but contains (1, 2) which is of type tuple.\n",
      "  warnings.warn(message)\n",
      "[I 2025-05-09 16:07:37,802] Trial 114 finished with value: 0.8956527506176392 and parameters: {'stemmed': True, 'vectorizer': 'tfidf', 'ngram_range': (1, 2), 'stop_words': None, 'max_features': 45270, 'min_df': 5, 'max_df': 0.75}. Best is trial 100 with value: 0.8962479447128624.\n",
      "\\\\?\\C:\\Users\\ASUS\\AppData\\Roaming\\jupyterlab-desktop\\jlab_server\\Lib\\site-packages\\optuna\\distributions.py:515: UserWarning: Choices for a categorical distribution should be a tuple of None, bool, int, float and str for persistent storage but contains (1, 1) which is of type tuple.\n",
      "  warnings.warn(message)\n",
      "\\\\?\\C:\\Users\\ASUS\\AppData\\Roaming\\jupyterlab-desktop\\jlab_server\\Lib\\site-packages\\optuna\\distributions.py:515: UserWarning: Choices for a categorical distribution should be a tuple of None, bool, int, float and str for persistent storage but contains (1, 2) which is of type tuple.\n",
      "  warnings.warn(message)\n",
      "[I 2025-05-09 16:08:09,925] Trial 115 finished with value: 0.8952634806078872 and parameters: {'stemmed': True, 'vectorizer': 'tfidf', 'ngram_range': (1, 2), 'stop_words': None, 'max_features': 40571, 'min_df': 5, 'max_df': 0.75}. Best is trial 100 with value: 0.8962479447128624.\n",
      "\\\\?\\C:\\Users\\ASUS\\AppData\\Roaming\\jupyterlab-desktop\\jlab_server\\Lib\\site-packages\\optuna\\distributions.py:515: UserWarning: Choices for a categorical distribution should be a tuple of None, bool, int, float and str for persistent storage but contains (1, 1) which is of type tuple.\n",
      "  warnings.warn(message)\n",
      "\\\\?\\C:\\Users\\ASUS\\AppData\\Roaming\\jupyterlab-desktop\\jlab_server\\Lib\\site-packages\\optuna\\distributions.py:515: UserWarning: Choices for a categorical distribution should be a tuple of None, bool, int, float and str for persistent storage but contains (1, 2) which is of type tuple.\n",
      "  warnings.warn(message)\n",
      "[I 2025-05-09 16:08:42,088] Trial 116 finished with value: 0.89517255308337 and parameters: {'stemmed': True, 'vectorizer': 'tfidf', 'ngram_range': (1, 2), 'stop_words': None, 'max_features': 34513, 'min_df': 10, 'max_df': 0.75}. Best is trial 100 with value: 0.8962479447128624.\n",
      "\\\\?\\C:\\Users\\ASUS\\AppData\\Roaming\\jupyterlab-desktop\\jlab_server\\Lib\\site-packages\\optuna\\distributions.py:515: UserWarning: Choices for a categorical distribution should be a tuple of None, bool, int, float and str for persistent storage but contains (1, 1) which is of type tuple.\n",
      "  warnings.warn(message)\n",
      "\\\\?\\C:\\Users\\ASUS\\AppData\\Roaming\\jupyterlab-desktop\\jlab_server\\Lib\\site-packages\\optuna\\distributions.py:515: UserWarning: Choices for a categorical distribution should be a tuple of None, bool, int, float and str for persistent storage but contains (1, 2) which is of type tuple.\n",
      "  warnings.warn(message)\n",
      "[I 2025-05-09 16:09:13,944] Trial 117 finished with value: 0.8956832534225719 and parameters: {'stemmed': True, 'vectorizer': 'tfidf', 'ngram_range': (1, 2), 'stop_words': None, 'max_features': 37532, 'min_df': 5, 'max_df': 0.75}. Best is trial 100 with value: 0.8962479447128624.\n",
      "\\\\?\\C:\\Users\\ASUS\\AppData\\Roaming\\jupyterlab-desktop\\jlab_server\\Lib\\site-packages\\optuna\\distributions.py:515: UserWarning: Choices for a categorical distribution should be a tuple of None, bool, int, float and str for persistent storage but contains (1, 1) which is of type tuple.\n",
      "  warnings.warn(message)\n",
      "\\\\?\\C:\\Users\\ASUS\\AppData\\Roaming\\jupyterlab-desktop\\jlab_server\\Lib\\site-packages\\optuna\\distributions.py:515: UserWarning: Choices for a categorical distribution should be a tuple of None, bool, int, float and str for persistent storage but contains (1, 2) which is of type tuple.\n",
      "  warnings.warn(message)\n",
      "[I 2025-05-09 16:09:46,041] Trial 118 finished with value: 0.8960795904745709 and parameters: {'stemmed': True, 'vectorizer': 'tfidf', 'ngram_range': (1, 2), 'stop_words': None, 'max_features': 42120, 'min_df': 5, 'max_df': 0.75}. Best is trial 100 with value: 0.8962479447128624.\n",
      "\\\\?\\C:\\Users\\ASUS\\AppData\\Roaming\\jupyterlab-desktop\\jlab_server\\Lib\\site-packages\\optuna\\distributions.py:515: UserWarning: Choices for a categorical distribution should be a tuple of None, bool, int, float and str for persistent storage but contains (1, 1) which is of type tuple.\n",
      "  warnings.warn(message)\n",
      "\\\\?\\C:\\Users\\ASUS\\AppData\\Roaming\\jupyterlab-desktop\\jlab_server\\Lib\\site-packages\\optuna\\distributions.py:515: UserWarning: Choices for a categorical distribution should be a tuple of None, bool, int, float and str for persistent storage but contains (1, 2) which is of type tuple.\n",
      "  warnings.warn(message)\n",
      "[I 2025-05-09 16:10:18,859] Trial 119 finished with value: 0.8954634666803427 and parameters: {'stemmed': True, 'vectorizer': 'tfidf', 'ngram_range': (1, 2), 'stop_words': None, 'max_features': 41746, 'min_df': 5, 'max_df': 0.75}. Best is trial 100 with value: 0.8962479447128624.\n",
      "\\\\?\\C:\\Users\\ASUS\\AppData\\Roaming\\jupyterlab-desktop\\jlab_server\\Lib\\site-packages\\optuna\\distributions.py:515: UserWarning: Choices for a categorical distribution should be a tuple of None, bool, int, float and str for persistent storage but contains (1, 1) which is of type tuple.\n",
      "  warnings.warn(message)\n",
      "\\\\?\\C:\\Users\\ASUS\\AppData\\Roaming\\jupyterlab-desktop\\jlab_server\\Lib\\site-packages\\optuna\\distributions.py:515: UserWarning: Choices for a categorical distribution should be a tuple of None, bool, int, float and str for persistent storage but contains (1, 2) which is of type tuple.\n",
      "  warnings.warn(message)\n",
      "[I 2025-05-09 16:10:49,551] Trial 120 finished with value: 0.8883761146106267 and parameters: {'stemmed': True, 'vectorizer': 'tfidf', 'ngram_range': (1, 2), 'stop_words': None, 'max_features': 4706, 'min_df': 5, 'max_df': 0.75}. Best is trial 100 with value: 0.8962479447128624.\n",
      "\\\\?\\C:\\Users\\ASUS\\AppData\\Roaming\\jupyterlab-desktop\\jlab_server\\Lib\\site-packages\\optuna\\distributions.py:515: UserWarning: Choices for a categorical distribution should be a tuple of None, bool, int, float and str for persistent storage but contains (1, 1) which is of type tuple.\n",
      "  warnings.warn(message)\n",
      "\\\\?\\C:\\Users\\ASUS\\AppData\\Roaming\\jupyterlab-desktop\\jlab_server\\Lib\\site-packages\\optuna\\distributions.py:515: UserWarning: Choices for a categorical distribution should be a tuple of None, bool, int, float and str for persistent storage but contains (1, 2) which is of type tuple.\n",
      "  warnings.warn(message)\n",
      "[I 2025-05-09 16:11:23,809] Trial 121 finished with value: 0.8958441116857351 and parameters: {'stemmed': True, 'vectorizer': 'tfidf', 'ngram_range': (1, 2), 'stop_words': None, 'max_features': 45287, 'min_df': 5, 'max_df': 0.75}. Best is trial 100 with value: 0.8962479447128624.\n",
      "\\\\?\\C:\\Users\\ASUS\\AppData\\Roaming\\jupyterlab-desktop\\jlab_server\\Lib\\site-packages\\optuna\\distributions.py:515: UserWarning: Choices for a categorical distribution should be a tuple of None, bool, int, float and str for persistent storage but contains (1, 1) which is of type tuple.\n",
      "  warnings.warn(message)\n",
      "\\\\?\\C:\\Users\\ASUS\\AppData\\Roaming\\jupyterlab-desktop\\jlab_server\\Lib\\site-packages\\optuna\\distributions.py:515: UserWarning: Choices for a categorical distribution should be a tuple of None, bool, int, float and str for persistent storage but contains (1, 2) which is of type tuple.\n",
      "  warnings.warn(message)\n",
      "[I 2025-05-09 16:11:58,103] Trial 122 finished with value: 0.8954909079729133 and parameters: {'stemmed': True, 'vectorizer': 'tfidf', 'ngram_range': (1, 2), 'stop_words': None, 'max_features': 45463, 'min_df': 5, 'max_df': 0.75}. Best is trial 100 with value: 0.8962479447128624.\n",
      "\\\\?\\C:\\Users\\ASUS\\AppData\\Roaming\\jupyterlab-desktop\\jlab_server\\Lib\\site-packages\\optuna\\distributions.py:515: UserWarning: Choices for a categorical distribution should be a tuple of None, bool, int, float and str for persistent storage but contains (1, 1) which is of type tuple.\n",
      "  warnings.warn(message)\n",
      "\\\\?\\C:\\Users\\ASUS\\AppData\\Roaming\\jupyterlab-desktop\\jlab_server\\Lib\\site-packages\\optuna\\distributions.py:515: UserWarning: Choices for a categorical distribution should be a tuple of None, bool, int, float and str for persistent storage but contains (1, 2) which is of type tuple.\n",
      "  warnings.warn(message)\n",
      "[I 2025-05-09 16:12:32,319] Trial 123 finished with value: 0.8953919971055209 and parameters: {'stemmed': True, 'vectorizer': 'tfidf', 'ngram_range': (1, 2), 'stop_words': None, 'max_features': 39022, 'min_df': 5, 'max_df': 0.75}. Best is trial 100 with value: 0.8962479447128624.\n",
      "\\\\?\\C:\\Users\\ASUS\\AppData\\Roaming\\jupyterlab-desktop\\jlab_server\\Lib\\site-packages\\optuna\\distributions.py:515: UserWarning: Choices for a categorical distribution should be a tuple of None, bool, int, float and str for persistent storage but contains (1, 1) which is of type tuple.\n",
      "  warnings.warn(message)\n",
      "\\\\?\\C:\\Users\\ASUS\\AppData\\Roaming\\jupyterlab-desktop\\jlab_server\\Lib\\site-packages\\optuna\\distributions.py:515: UserWarning: Choices for a categorical distribution should be a tuple of None, bool, int, float and str for persistent storage but contains (1, 2) which is of type tuple.\n",
      "  warnings.warn(message)\n",
      "[I 2025-05-09 16:13:05,074] Trial 124 finished with value: 0.8916461460677519 and parameters: {'stemmed': True, 'vectorizer': 'tfidf', 'ngram_range': (1, 2), 'stop_words': None, 'max_features': 8950, 'min_df': 5, 'max_df': 0.75}. Best is trial 100 with value: 0.8962479447128624.\n",
      "\\\\?\\C:\\Users\\ASUS\\AppData\\Roaming\\jupyterlab-desktop\\jlab_server\\Lib\\site-packages\\optuna\\distributions.py:515: UserWarning: Choices for a categorical distribution should be a tuple of None, bool, int, float and str for persistent storage but contains (1, 1) which is of type tuple.\n",
      "  warnings.warn(message)\n",
      "\\\\?\\C:\\Users\\ASUS\\AppData\\Roaming\\jupyterlab-desktop\\jlab_server\\Lib\\site-packages\\optuna\\distributions.py:515: UserWarning: Choices for a categorical distribution should be a tuple of None, bool, int, float and str for persistent storage but contains (1, 2) which is of type tuple.\n",
      "  warnings.warn(message)\n",
      "[I 2025-05-09 16:13:39,082] Trial 125 finished with value: 0.8949574199605029 and parameters: {'stemmed': True, 'vectorizer': 'tfidf', 'ngram_range': (1, 2), 'stop_words': None, 'max_features': 32828, 'min_df': 5, 'max_df': 0.75}. Best is trial 100 with value: 0.8962479447128624.\n",
      "\\\\?\\C:\\Users\\ASUS\\AppData\\Roaming\\jupyterlab-desktop\\jlab_server\\Lib\\site-packages\\optuna\\distributions.py:515: UserWarning: Choices for a categorical distribution should be a tuple of None, bool, int, float and str for persistent storage but contains (1, 1) which is of type tuple.\n",
      "  warnings.warn(message)\n",
      "\\\\?\\C:\\Users\\ASUS\\AppData\\Roaming\\jupyterlab-desktop\\jlab_server\\Lib\\site-packages\\optuna\\distributions.py:515: UserWarning: Choices for a categorical distribution should be a tuple of None, bool, int, float and str for persistent storage but contains (1, 2) which is of type tuple.\n",
      "  warnings.warn(message)\n",
      "[I 2025-05-09 16:14:13,343] Trial 126 finished with value: 0.8956024005172146 and parameters: {'stemmed': True, 'vectorizer': 'tfidf', 'ngram_range': (1, 2), 'stop_words': None, 'max_features': 42792, 'min_df': 5, 'max_df': 0.75}. Best is trial 100 with value: 0.8962479447128624.\n",
      "\\\\?\\C:\\Users\\ASUS\\AppData\\Roaming\\jupyterlab-desktop\\jlab_server\\Lib\\site-packages\\optuna\\distributions.py:515: UserWarning: Choices for a categorical distribution should be a tuple of None, bool, int, float and str for persistent storage but contains (1, 1) which is of type tuple.\n",
      "  warnings.warn(message)\n",
      "\\\\?\\C:\\Users\\ASUS\\AppData\\Roaming\\jupyterlab-desktop\\jlab_server\\Lib\\site-packages\\optuna\\distributions.py:515: UserWarning: Choices for a categorical distribution should be a tuple of None, bool, int, float and str for persistent storage but contains (1, 2) which is of type tuple.\n",
      "  warnings.warn(message)\n",
      "[I 2025-05-09 16:14:25,174] Trial 127 finished with value: 0.8722424382138249 and parameters: {'stemmed': False, 'vectorizer': 'count', 'ngram_range': (1, 1), 'stop_words': None, 'max_features': 35280, 'min_df': 5, 'max_df': 0.75}. Best is trial 100 with value: 0.8962479447128624.\n",
      "\\\\?\\C:\\Users\\ASUS\\AppData\\Roaming\\jupyterlab-desktop\\jlab_server\\Lib\\site-packages\\optuna\\distributions.py:515: UserWarning: Choices for a categorical distribution should be a tuple of None, bool, int, float and str for persistent storage but contains (1, 1) which is of type tuple.\n",
      "  warnings.warn(message)\n",
      "\\\\?\\C:\\Users\\ASUS\\AppData\\Roaming\\jupyterlab-desktop\\jlab_server\\Lib\\site-packages\\optuna\\distributions.py:515: UserWarning: Choices for a categorical distribution should be a tuple of None, bool, int, float and str for persistent storage but contains (1, 2) which is of type tuple.\n",
      "  warnings.warn(message)\n",
      "[I 2025-05-09 16:14:59,601] Trial 128 finished with value: 0.895976091681486 and parameters: {'stemmed': True, 'vectorizer': 'tfidf', 'ngram_range': (1, 2), 'stop_words': None, 'max_features': 39942, 'min_df': 5, 'max_df': 0.75}. Best is trial 100 with value: 0.8962479447128624.\n",
      "\\\\?\\C:\\Users\\ASUS\\AppData\\Roaming\\jupyterlab-desktop\\jlab_server\\Lib\\site-packages\\optuna\\distributions.py:515: UserWarning: Choices for a categorical distribution should be a tuple of None, bool, int, float and str for persistent storage but contains (1, 1) which is of type tuple.\n",
      "  warnings.warn(message)\n",
      "\\\\?\\C:\\Users\\ASUS\\AppData\\Roaming\\jupyterlab-desktop\\jlab_server\\Lib\\site-packages\\optuna\\distributions.py:515: UserWarning: Choices for a categorical distribution should be a tuple of None, bool, int, float and str for persistent storage but contains (1, 2) which is of type tuple.\n",
      "  warnings.warn(message)\n",
      "[I 2025-05-09 16:15:34,040] Trial 129 finished with value: 0.8927474111449074 and parameters: {'stemmed': True, 'vectorizer': 'tfidf', 'ngram_range': (1, 2), 'stop_words': None, 'max_features': 39837, 'min_df': 5, 'max_df': 1.0}. Best is trial 100 with value: 0.8962479447128624.\n",
      "\\\\?\\C:\\Users\\ASUS\\AppData\\Roaming\\jupyterlab-desktop\\jlab_server\\Lib\\site-packages\\optuna\\distributions.py:515: UserWarning: Choices for a categorical distribution should be a tuple of None, bool, int, float and str for persistent storage but contains (1, 1) which is of type tuple.\n",
      "  warnings.warn(message)\n",
      "\\\\?\\C:\\Users\\ASUS\\AppData\\Roaming\\jupyterlab-desktop\\jlab_server\\Lib\\site-packages\\optuna\\distributions.py:515: UserWarning: Choices for a categorical distribution should be a tuple of None, bool, int, float and str for persistent storage but contains (1, 2) which is of type tuple.\n",
      "  warnings.warn(message)\n",
      "[I 2025-05-09 16:16:07,478] Trial 130 finished with value: 0.8944274740460422 and parameters: {'stemmed': True, 'vectorizer': 'tfidf', 'ngram_range': (1, 2), 'stop_words': None, 'max_features': 25710, 'min_df': 5, 'max_df': 0.75}. Best is trial 100 with value: 0.8962479447128624.\n",
      "\\\\?\\C:\\Users\\ASUS\\AppData\\Roaming\\jupyterlab-desktop\\jlab_server\\Lib\\site-packages\\optuna\\distributions.py:515: UserWarning: Choices for a categorical distribution should be a tuple of None, bool, int, float and str for persistent storage but contains (1, 1) which is of type tuple.\n",
      "  warnings.warn(message)\n",
      "\\\\?\\C:\\Users\\ASUS\\AppData\\Roaming\\jupyterlab-desktop\\jlab_server\\Lib\\site-packages\\optuna\\distributions.py:515: UserWarning: Choices for a categorical distribution should be a tuple of None, bool, int, float and str for persistent storage but contains (1, 2) which is of type tuple.\n",
      "  warnings.warn(message)\n",
      "[I 2025-05-09 16:16:41,517] Trial 131 finished with value: 0.8950690320835436 and parameters: {'stemmed': True, 'vectorizer': 'tfidf', 'ngram_range': (1, 2), 'stop_words': None, 'max_features': 45466, 'min_df': 5, 'max_df': 0.75}. Best is trial 100 with value: 0.8962479447128624.\n",
      "\\\\?\\C:\\Users\\ASUS\\AppData\\Roaming\\jupyterlab-desktop\\jlab_server\\Lib\\site-packages\\optuna\\distributions.py:515: UserWarning: Choices for a categorical distribution should be a tuple of None, bool, int, float and str for persistent storage but contains (1, 1) which is of type tuple.\n",
      "  warnings.warn(message)\n",
      "\\\\?\\C:\\Users\\ASUS\\AppData\\Roaming\\jupyterlab-desktop\\jlab_server\\Lib\\site-packages\\optuna\\distributions.py:515: UserWarning: Choices for a categorical distribution should be a tuple of None, bool, int, float and str for persistent storage but contains (1, 2) which is of type tuple.\n",
      "  warnings.warn(message)\n",
      "[I 2025-05-09 16:17:15,471] Trial 132 finished with value: 0.8955852804580914 and parameters: {'stemmed': True, 'vectorizer': 'tfidf', 'ngram_range': (1, 2), 'stop_words': None, 'max_features': 42791, 'min_df': 5, 'max_df': 0.75}. Best is trial 100 with value: 0.8962479447128624.\n",
      "\\\\?\\C:\\Users\\ASUS\\AppData\\Roaming\\jupyterlab-desktop\\jlab_server\\Lib\\site-packages\\optuna\\distributions.py:515: UserWarning: Choices for a categorical distribution should be a tuple of None, bool, int, float and str for persistent storage but contains (1, 1) which is of type tuple.\n",
      "  warnings.warn(message)\n",
      "\\\\?\\C:\\Users\\ASUS\\AppData\\Roaming\\jupyterlab-desktop\\jlab_server\\Lib\\site-packages\\optuna\\distributions.py:515: UserWarning: Choices for a categorical distribution should be a tuple of None, bool, int, float and str for persistent storage but contains (1, 2) which is of type tuple.\n",
      "  warnings.warn(message)\n",
      "[I 2025-05-09 16:17:48,964] Trial 133 finished with value: 0.8951560716493377 and parameters: {'stemmed': True, 'vectorizer': 'tfidf', 'ngram_range': (1, 2), 'stop_words': None, 'max_features': 37206, 'min_df': 5, 'max_df': 0.75}. Best is trial 100 with value: 0.8962479447128624.\n",
      "\\\\?\\C:\\Users\\ASUS\\AppData\\Roaming\\jupyterlab-desktop\\jlab_server\\Lib\\site-packages\\optuna\\distributions.py:515: UserWarning: Choices for a categorical distribution should be a tuple of None, bool, int, float and str for persistent storage but contains (1, 1) which is of type tuple.\n",
      "  warnings.warn(message)\n",
      "\\\\?\\C:\\Users\\ASUS\\AppData\\Roaming\\jupyterlab-desktop\\jlab_server\\Lib\\site-packages\\optuna\\distributions.py:515: UserWarning: Choices for a categorical distribution should be a tuple of None, bool, int, float and str for persistent storage but contains (1, 2) which is of type tuple.\n",
      "  warnings.warn(message)\n",
      "[I 2025-05-09 16:18:23,103] Trial 134 finished with value: 0.8958221292424567 and parameters: {'stemmed': True, 'vectorizer': 'tfidf', 'ngram_range': (1, 2), 'stop_words': None, 'max_features': 40723, 'min_df': 5, 'max_df': 0.75}. Best is trial 100 with value: 0.8962479447128624.\n",
      "\\\\?\\C:\\Users\\ASUS\\AppData\\Roaming\\jupyterlab-desktop\\jlab_server\\Lib\\site-packages\\optuna\\distributions.py:515: UserWarning: Choices for a categorical distribution should be a tuple of None, bool, int, float and str for persistent storage but contains (1, 1) which is of type tuple.\n",
      "  warnings.warn(message)\n",
      "\\\\?\\C:\\Users\\ASUS\\AppData\\Roaming\\jupyterlab-desktop\\jlab_server\\Lib\\site-packages\\optuna\\distributions.py:515: UserWarning: Choices for a categorical distribution should be a tuple of None, bool, int, float and str for persistent storage but contains (1, 2) which is of type tuple.\n",
      "  warnings.warn(message)\n",
      "[I 2025-05-09 16:18:57,271] Trial 135 finished with value: 0.8955973496853424 and parameters: {'stemmed': True, 'vectorizer': 'tfidf', 'ngram_range': (1, 2), 'stop_words': None, 'max_features': 46361, 'min_df': 5, 'max_df': 0.75}. Best is trial 100 with value: 0.8962479447128624.\n",
      "\\\\?\\C:\\Users\\ASUS\\AppData\\Roaming\\jupyterlab-desktop\\jlab_server\\Lib\\site-packages\\optuna\\distributions.py:515: UserWarning: Choices for a categorical distribution should be a tuple of None, bool, int, float and str for persistent storage but contains (1, 1) which is of type tuple.\n",
      "  warnings.warn(message)\n",
      "\\\\?\\C:\\Users\\ASUS\\AppData\\Roaming\\jupyterlab-desktop\\jlab_server\\Lib\\site-packages\\optuna\\distributions.py:515: UserWarning: Choices for a categorical distribution should be a tuple of None, bool, int, float and str for persistent storage but contains (1, 2) which is of type tuple.\n",
      "  warnings.warn(message)\n",
      "[I 2025-05-09 16:19:25,178] Trial 136 finished with value: 0.8854844202978871 and parameters: {'stemmed': True, 'vectorizer': 'tfidf', 'ngram_range': (1, 2), 'stop_words': 'english', 'max_features': 40653, 'min_df': 10, 'max_df': 0.75}. Best is trial 100 with value: 0.8962479447128624.\n",
      "\\\\?\\C:\\Users\\ASUS\\AppData\\Roaming\\jupyterlab-desktop\\jlab_server\\Lib\\site-packages\\optuna\\distributions.py:515: UserWarning: Choices for a categorical distribution should be a tuple of None, bool, int, float and str for persistent storage but contains (1, 1) which is of type tuple.\n",
      "  warnings.warn(message)\n",
      "\\\\?\\C:\\Users\\ASUS\\AppData\\Roaming\\jupyterlab-desktop\\jlab_server\\Lib\\site-packages\\optuna\\distributions.py:515: UserWarning: Choices for a categorical distribution should be a tuple of None, bool, int, float and str for persistent storage but contains (1, 2) which is of type tuple.\n",
      "  warnings.warn(message)\n",
      "[I 2025-05-09 16:19:58,666] Trial 137 finished with value: 0.8957718214242334 and parameters: {'stemmed': True, 'vectorizer': 'tfidf', 'ngram_range': (1, 2), 'stop_words': None, 'max_features': 49956, 'min_df': 5, 'max_df': 0.75}. Best is trial 100 with value: 0.8962479447128624.\n",
      "\\\\?\\C:\\Users\\ASUS\\AppData\\Roaming\\jupyterlab-desktop\\jlab_server\\Lib\\site-packages\\optuna\\distributions.py:515: UserWarning: Choices for a categorical distribution should be a tuple of None, bool, int, float and str for persistent storage but contains (1, 1) which is of type tuple.\n",
      "  warnings.warn(message)\n",
      "\\\\?\\C:\\Users\\ASUS\\AppData\\Roaming\\jupyterlab-desktop\\jlab_server\\Lib\\site-packages\\optuna\\distributions.py:515: UserWarning: Choices for a categorical distribution should be a tuple of None, bool, int, float and str for persistent storage but contains (1, 2) which is of type tuple.\n",
      "  warnings.warn(message)\n",
      "[I 2025-05-09 16:20:33,154] Trial 138 finished with value: 0.8956845559461372 and parameters: {'stemmed': True, 'vectorizer': 'tfidf', 'ngram_range': (1, 2), 'stop_words': None, 'max_features': 49587, 'min_df': 5, 'max_df': 0.75}. Best is trial 100 with value: 0.8962479447128624.\n",
      "\\\\?\\C:\\Users\\ASUS\\AppData\\Roaming\\jupyterlab-desktop\\jlab_server\\Lib\\site-packages\\optuna\\distributions.py:515: UserWarning: Choices for a categorical distribution should be a tuple of None, bool, int, float and str for persistent storage but contains (1, 1) which is of type tuple.\n",
      "  warnings.warn(message)\n",
      "\\\\?\\C:\\Users\\ASUS\\AppData\\Roaming\\jupyterlab-desktop\\jlab_server\\Lib\\site-packages\\optuna\\distributions.py:515: UserWarning: Choices for a categorical distribution should be a tuple of None, bool, int, float and str for persistent storage but contains (1, 2) which is of type tuple.\n",
      "  warnings.warn(message)\n",
      "[I 2025-05-09 16:21:06,938] Trial 139 finished with value: 0.8957453774403955 and parameters: {'stemmed': True, 'vectorizer': 'tfidf', 'ngram_range': (1, 2), 'stop_words': None, 'max_features': 45806, 'min_df': 5, 'max_df': 0.75}. Best is trial 100 with value: 0.8962479447128624.\n",
      "\\\\?\\C:\\Users\\ASUS\\AppData\\Roaming\\jupyterlab-desktop\\jlab_server\\Lib\\site-packages\\optuna\\distributions.py:515: UserWarning: Choices for a categorical distribution should be a tuple of None, bool, int, float and str for persistent storage but contains (1, 1) which is of type tuple.\n",
      "  warnings.warn(message)\n",
      "\\\\?\\C:\\Users\\ASUS\\AppData\\Roaming\\jupyterlab-desktop\\jlab_server\\Lib\\site-packages\\optuna\\distributions.py:515: UserWarning: Choices for a categorical distribution should be a tuple of None, bool, int, float and str for persistent storage but contains (1, 2) which is of type tuple.\n",
      "  warnings.warn(message)\n",
      "[I 2025-05-09 16:21:41,444] Trial 140 finished with value: 0.8957615149728196 and parameters: {'stemmed': True, 'vectorizer': 'tfidf', 'ngram_range': (1, 2), 'stop_words': None, 'max_features': 43509, 'min_df': 5, 'max_df': 0.85}. Best is trial 100 with value: 0.8962479447128624.\n",
      "\\\\?\\C:\\Users\\ASUS\\AppData\\Roaming\\jupyterlab-desktop\\jlab_server\\Lib\\site-packages\\optuna\\distributions.py:515: UserWarning: Choices for a categorical distribution should be a tuple of None, bool, int, float and str for persistent storage but contains (1, 1) which is of type tuple.\n",
      "  warnings.warn(message)\n",
      "\\\\?\\C:\\Users\\ASUS\\AppData\\Roaming\\jupyterlab-desktop\\jlab_server\\Lib\\site-packages\\optuna\\distributions.py:515: UserWarning: Choices for a categorical distribution should be a tuple of None, bool, int, float and str for persistent storage but contains (1, 2) which is of type tuple.\n",
      "  warnings.warn(message)\n",
      "[I 2025-05-09 16:22:15,708] Trial 141 finished with value: 0.8959902169311537 and parameters: {'stemmed': True, 'vectorizer': 'tfidf', 'ngram_range': (1, 2), 'stop_words': None, 'max_features': 39541, 'min_df': 5, 'max_df': 0.75}. Best is trial 100 with value: 0.8962479447128624.\n",
      "\\\\?\\C:\\Users\\ASUS\\AppData\\Roaming\\jupyterlab-desktop\\jlab_server\\Lib\\site-packages\\optuna\\distributions.py:515: UserWarning: Choices for a categorical distribution should be a tuple of None, bool, int, float and str for persistent storage but contains (1, 1) which is of type tuple.\n",
      "  warnings.warn(message)\n",
      "\\\\?\\C:\\Users\\ASUS\\AppData\\Roaming\\jupyterlab-desktop\\jlab_server\\Lib\\site-packages\\optuna\\distributions.py:515: UserWarning: Choices for a categorical distribution should be a tuple of None, bool, int, float and str for persistent storage but contains (1, 2) which is of type tuple.\n",
      "  warnings.warn(message)\n",
      "[I 2025-05-09 16:22:49,550] Trial 142 finished with value: 0.8952506122410723 and parameters: {'stemmed': True, 'vectorizer': 'tfidf', 'ngram_range': (1, 2), 'stop_words': None, 'max_features': 49681, 'min_df': 5, 'max_df': 0.75}. Best is trial 100 with value: 0.8962479447128624.\n",
      "\\\\?\\C:\\Users\\ASUS\\AppData\\Roaming\\jupyterlab-desktop\\jlab_server\\Lib\\site-packages\\optuna\\distributions.py:515: UserWarning: Choices for a categorical distribution should be a tuple of None, bool, int, float and str for persistent storage but contains (1, 1) which is of type tuple.\n",
      "  warnings.warn(message)\n",
      "\\\\?\\C:\\Users\\ASUS\\AppData\\Roaming\\jupyterlab-desktop\\jlab_server\\Lib\\site-packages\\optuna\\distributions.py:515: UserWarning: Choices for a categorical distribution should be a tuple of None, bool, int, float and str for persistent storage but contains (1, 2) which is of type tuple.\n",
      "  warnings.warn(message)\n",
      "[I 2025-05-09 16:23:24,384] Trial 143 finished with value: 0.8950832947896279 and parameters: {'stemmed': True, 'vectorizer': 'tfidf', 'ngram_range': (1, 2), 'stop_words': None, 'max_features': 38077, 'min_df': 5, 'max_df': 0.75}. Best is trial 100 with value: 0.8962479447128624.\n",
      "\\\\?\\C:\\Users\\ASUS\\AppData\\Roaming\\jupyterlab-desktop\\jlab_server\\Lib\\site-packages\\optuna\\distributions.py:515: UserWarning: Choices for a categorical distribution should be a tuple of None, bool, int, float and str for persistent storage but contains (1, 1) which is of type tuple.\n",
      "  warnings.warn(message)\n",
      "\\\\?\\C:\\Users\\ASUS\\AppData\\Roaming\\jupyterlab-desktop\\jlab_server\\Lib\\site-packages\\optuna\\distributions.py:515: UserWarning: Choices for a categorical distribution should be a tuple of None, bool, int, float and str for persistent storage but contains (1, 2) which is of type tuple.\n",
      "  warnings.warn(message)\n",
      "[I 2025-05-09 16:23:59,431] Trial 144 finished with value: 0.8956572985971761 and parameters: {'stemmed': True, 'vectorizer': 'tfidf', 'ngram_range': (1, 2), 'stop_words': None, 'max_features': 46065, 'min_df': 5, 'max_df': 0.75}. Best is trial 100 with value: 0.8962479447128624.\n",
      "\\\\?\\C:\\Users\\ASUS\\AppData\\Roaming\\jupyterlab-desktop\\jlab_server\\Lib\\site-packages\\optuna\\distributions.py:515: UserWarning: Choices for a categorical distribution should be a tuple of None, bool, int, float and str for persistent storage but contains (1, 1) which is of type tuple.\n",
      "  warnings.warn(message)\n",
      "\\\\?\\C:\\Users\\ASUS\\AppData\\Roaming\\jupyterlab-desktop\\jlab_server\\Lib\\site-packages\\optuna\\distributions.py:515: UserWarning: Choices for a categorical distribution should be a tuple of None, bool, int, float and str for persistent storage but contains (1, 2) which is of type tuple.\n",
      "  warnings.warn(message)\n",
      "[I 2025-05-09 16:24:33,391] Trial 145 finished with value: 0.8952688229737719 and parameters: {'stemmed': True, 'vectorizer': 'tfidf', 'ngram_range': (1, 2), 'stop_words': None, 'max_features': 32566, 'min_df': 5, 'max_df': 0.75}. Best is trial 100 with value: 0.8962479447128624.\n",
      "\\\\?\\C:\\Users\\ASUS\\AppData\\Roaming\\jupyterlab-desktop\\jlab_server\\Lib\\site-packages\\optuna\\distributions.py:515: UserWarning: Choices for a categorical distribution should be a tuple of None, bool, int, float and str for persistent storage but contains (1, 1) which is of type tuple.\n",
      "  warnings.warn(message)\n",
      "\\\\?\\C:\\Users\\ASUS\\AppData\\Roaming\\jupyterlab-desktop\\jlab_server\\Lib\\site-packages\\optuna\\distributions.py:515: UserWarning: Choices for a categorical distribution should be a tuple of None, bool, int, float and str for persistent storage but contains (1, 2) which is of type tuple.\n",
      "  warnings.warn(message)\n",
      "[I 2025-05-09 16:25:08,752] Trial 146 finished with value: 0.8956473583548356 and parameters: {'stemmed': True, 'vectorizer': 'tfidf', 'ngram_range': (1, 2), 'stop_words': None, 'max_features': 42569, 'min_df': 5, 'max_df': 0.75}. Best is trial 100 with value: 0.8962479447128624.\n",
      "\\\\?\\C:\\Users\\ASUS\\AppData\\Roaming\\jupyterlab-desktop\\jlab_server\\Lib\\site-packages\\optuna\\distributions.py:515: UserWarning: Choices for a categorical distribution should be a tuple of None, bool, int, float and str for persistent storage but contains (1, 1) which is of type tuple.\n",
      "  warnings.warn(message)\n",
      "\\\\?\\C:\\Users\\ASUS\\AppData\\Roaming\\jupyterlab-desktop\\jlab_server\\Lib\\site-packages\\optuna\\distributions.py:515: UserWarning: Choices for a categorical distribution should be a tuple of None, bool, int, float and str for persistent storage but contains (1, 2) which is of type tuple.\n",
      "  warnings.warn(message)\n",
      "[I 2025-05-09 16:25:46,159] Trial 147 finished with value: 0.895629974547601 and parameters: {'stemmed': True, 'vectorizer': 'tfidf', 'ngram_range': (1, 2), 'stop_words': None, 'max_features': 50000, 'min_df': 5, 'max_df': 0.75}. Best is trial 100 with value: 0.8962479447128624.\n",
      "\\\\?\\C:\\Users\\ASUS\\AppData\\Roaming\\jupyterlab-desktop\\jlab_server\\Lib\\site-packages\\optuna\\distributions.py:515: UserWarning: Choices for a categorical distribution should be a tuple of None, bool, int, float and str for persistent storage but contains (1, 1) which is of type tuple.\n",
      "  warnings.warn(message)\n",
      "\\\\?\\C:\\Users\\ASUS\\AppData\\Roaming\\jupyterlab-desktop\\jlab_server\\Lib\\site-packages\\optuna\\distributions.py:515: UserWarning: Choices for a categorical distribution should be a tuple of None, bool, int, float and str for persistent storage but contains (1, 2) which is of type tuple.\n",
      "  warnings.warn(message)\n",
      "[I 2025-05-09 16:25:58,554] Trial 148 finished with value: 0.8846811275259698 and parameters: {'stemmed': False, 'vectorizer': 'tfidf', 'ngram_range': (1, 1), 'stop_words': None, 'max_features': 38196, 'min_df': 5, 'max_df': 0.75}. Best is trial 100 with value: 0.8962479447128624.\n",
      "\\\\?\\C:\\Users\\ASUS\\AppData\\Roaming\\jupyterlab-desktop\\jlab_server\\Lib\\site-packages\\optuna\\distributions.py:515: UserWarning: Choices for a categorical distribution should be a tuple of None, bool, int, float and str for persistent storage but contains (1, 1) which is of type tuple.\n",
      "  warnings.warn(message)\n",
      "\\\\?\\C:\\Users\\ASUS\\AppData\\Roaming\\jupyterlab-desktop\\jlab_server\\Lib\\site-packages\\optuna\\distributions.py:515: UserWarning: Choices for a categorical distribution should be a tuple of None, bool, int, float and str for persistent storage but contains (1, 2) which is of type tuple.\n",
      "  warnings.warn(message)\n",
      "[I 2025-05-09 16:26:37,058] Trial 149 finished with value: 0.8876253624212569 and parameters: {'stemmed': True, 'vectorizer': 'count', 'ngram_range': (1, 2), 'stop_words': None, 'max_features': 30289, 'min_df': 5, 'max_df': 0.75}. Best is trial 100 with value: 0.8962479447128624.\n"
     ]
    },
    {
     "name": "stdout",
     "output_type": "stream",
     "text": [
      "CPU times: total: 1h 18min 24s\n",
      "Wall time: 1h 25min 34s\n"
     ]
    }
   ],
   "source": [
    "%%time\n",
    "# sampling 25K of data, stratifed\n",
    "X_sub, _, y_sub, _ = train_test_split(X_train, y_train, train_size=25000, stratify=y_train, random_state=42)\n",
    "X_sub, y_sub = pd.DataFrame(X_sub).reset_index(drop=True), pd.Series(y_sub).reset_index(drop=True)\n",
    "\n",
    "# to avoid stemming whole train data in each search combo, i'll fed trials a stemmed and non stemmed data\n",
    "X_train_stem = TextPreprocessor(n_jobs=-1, expand_contractions=True, stemming=True).fit_transform(X_sub)\n",
    "X_train_nostem = TextPreprocessor(n_jobs=-1, expand_contractions=True, stemming=False).fit_transform(X_sub)\n",
    "\n",
    "study = optuna.create_study(direction=\"maximize\",sampler=optuna.samplers.TPESampler(),pruner=optuna.pruners.MedianPruner(n_warmup_steps=5))\n",
    "study.optimize(objective, n_trials=150)"
   ]
  },
  {
   "cell_type": "code",
   "execution_count": null,
   "id": "12c2ee6d-fdfa-4453-a77f-324bc048b3de",
   "metadata": {
    "id": "12c2ee6d-fdfa-4453-a77f-324bc048b3de",
    "outputId": "a76e34ff-aaa8-4ac8-ee2e-03e16d9fe47a"
   },
   "outputs": [
    {
     "name": "stdout",
     "output_type": "stream",
     "text": [
      "Trial #100: Value = 0.8962479447128624\n",
      "Parameters: {'stemmed': True, 'vectorizer': 'tfidf', 'ngram_range': (1, 2), 'stop_words': None, 'max_features': 43047, 'min_df': 5, 'max_df': 0.75}\n",
      "--------------------------------------------------\n",
      "Trial #98: Value = 0.896096755294416\n",
      "Parameters: {'stemmed': True, 'vectorizer': 'tfidf', 'ngram_range': (1, 2), 'stop_words': None, 'max_features': 43371, 'min_df': 5, 'max_df': 0.75}\n",
      "--------------------------------------------------\n",
      "Trial #96: Value = 0.8960888950574208\n",
      "Parameters: {'stemmed': True, 'vectorizer': 'tfidf', 'ngram_range': (1, 2), 'stop_words': None, 'max_features': 47815, 'min_df': 5, 'max_df': 0.75}\n",
      "--------------------------------------------------\n",
      "Trial #118: Value = 0.8960795904745709\n",
      "Parameters: {'stemmed': True, 'vectorizer': 'tfidf', 'ngram_range': (1, 2), 'stop_words': None, 'max_features': 42120, 'min_df': 5, 'max_df': 0.75}\n",
      "--------------------------------------------------\n",
      "Trial #95: Value = 0.8960449491861566\n",
      "Parameters: {'stemmed': True, 'vectorizer': 'tfidf', 'ngram_range': (1, 2), 'stop_words': None, 'max_features': 47809, 'min_df': 5, 'max_df': 0.75}\n",
      "--------------------------------------------------\n"
     ]
    }
   ],
   "source": [
    "# prinint top 5 combos\n",
    "\n",
    "sorted_trials = sorted(study.trials, key=lambda t: t.value, reverse=True)\n",
    "\n",
    "top_n = 5\n",
    "for trial in sorted_trials[:top_n]:\n",
    "    print(f\"Trial #{trial.number}: Value = {trial.value}\")\n",
    "    print(f\"Parameters: {trial.params}\")\n",
    "    print(\"-\" * 50)"
   ]
  },
  {
   "cell_type": "markdown",
   "id": "6b312691-e402-41bf-8bc7-c5c4b0c142db",
   "metadata": {
    "id": "6b312691-e402-41bf-8bc7-c5c4b0c142db"
   },
   "source": [
    "Okay. Based on the top 5 trials: stemming is useful, TF-IDF performs best, bigrams work best, and removing stopwords didn’t help. There’s only slight variation in max_features.\n",
    "\n",
    "This seems to be due to Optuna’s behavior—it gets stuck in a narrow search space and mostly tweaks max_features, which might be leading to a suboptimal solution. I’ll take these parameters and, in the next step, tune the full logistic regression pipeline accordingly.\n",
    "\n",
    "Now fit a Pipeline based on mentioned settings on full training data and test it"
   ]
  },
  {
   "cell_type": "code",
   "execution_count": 18,
   "id": "3efa2317-f014-4330-a383-5d6e7a1a8551",
   "metadata": {},
   "outputs": [
    {
     "name": "stdout",
     "output_type": "stream",
     "text": [
      "==== TrainSet CV5 Out-of-Sample Classification Metrics ====\n",
      "              precision    recall  f1-score   support\n",
      "\n",
      "           0       0.91      0.89      0.90     21292\n",
      "           1       0.90      0.91      0.90     21208\n",
      "\n",
      "    accuracy                           0.90     42500\n",
      "   macro avg       0.90      0.90      0.90     42500\n",
      "weighted avg       0.90      0.90      0.90     42500\n",
      "\n"
     ]
    },
    {
     "data": {
      "image/png": "[encoded data removed]",
      "text/plain": [
       "<Figure size 640x480 with 2 Axes>"
      ]
     },
     "metadata": {},
     "output_type": "display_data"
    }
   ],
   "source": [
    "TUNED_TEXTPROCESSOR_PARAMS = {'expand_contractions': True, 'stemming': True, 'n_jobs': -1}\n",
    "TUNED_TFIDF_PARAMS = {'ngram_range': (1, 2), 'max_features': 43047, 'min_df': 5, 'max_df': 0.75}\n",
    "\n",
    "logr_tuned = make_pipeline(\n",
    "    TextPreprocessor(**TUNED_TEXTPROCESSOR_PARAMS),\n",
    "    TfidfVectorizer(**TUNED_TFIDF_PARAMS),\n",
    "    LogisticRegression(random_state=42, n_jobs=-1))\n",
    "\n",
    "clfeval(logr, X_train, y_train, conf_mtx=True)"
   ]
  },
  {
   "cell_type": "markdown",
   "id": "1b644b5b-2b81-4ff1-9236-c2216433f7d4",
   "metadata": {},
   "source": [
    "Alright. We've achieved a 2% reduction in false negatives, a 1% decrease in false positives, and nearly a 9% reduction in overall error compared to our baseline model. Let's continue tuning."
   ]
  },
  {
   "cell_type": "markdown",
   "id": "f0f4c9ca-91c7-43df-b70f-81426a2901c3",
   "metadata": {},
   "source": [
    "#### 3.4.2. Fine-Tuning Logistic Regression with Optuna"
   ]
  },
  {
   "cell_type": "markdown",
   "id": "59dd5110-78b5-4f2f-a5f7-0ada51f10c59",
   "metadata": {},
   "source": [
    "As we saw in Section 3.3.3 (Learning Curve), the model is overfitted. To address this overfitting and improve performance on unseen data, I will introduce regularization and fine-tune its parameters. Below is the search space for Logistic Regression, which includes regularization hyperparameters (such as intensity and L1/L2 type), options for early stopping, and settings to ensure guaranteed convergence (by adjusting tolerance for improvement and maximum iterations in gradient descent). I will also experiment with different solvers.\n",
    "\n",
    "These trials will use the tuned hyperparameters from the previous preprocessing step. Unlike the previous section, since these trials are relatively quick, I will apply a search over the entire training data with 150 trials."
   ]
  },
  {
   "cell_type": "code",
   "execution_count": 13,
   "id": "0c05092a-a0ee-4cf2-ab31-d82853650da5",
   "metadata": {},
   "outputs": [],
   "source": [
    "def objective(trial):\n",
    "    \n",
    "    # defining search space\n",
    "    params = {\n",
    "        'C': trial.suggest_float('C', 1e-4, 1e2, log=True),\n",
    "        'penalty': trial.suggest_categorical('penalty', ['l1', 'l2']),\n",
    "        'solver': trial.suggest_categorical('solver', ['liblinear', 'saga']),\n",
    "        'class_weight': trial.suggest_categorical('class_weight', [None, 'balanced']),\n",
    "        'tol': trial.suggest_float('tol', 1e-5, 1e-3, log=True),\n",
    "        'max_iter': 5000 }\n",
    "\n",
    "    # since liblinear only support l1 regularization, i also did not included saga as it takes LONG runtimes\n",
    "    if params['penalty'] == 'l1':\n",
    "        params['solver'] = trial.suggest_categorical('solver_for_l1', ['liblinear'])\n",
    "    else:\n",
    "        params['solver'] = trial.suggest_categorical('solver_for_l2', ['lbfgs', 'sag'])\n",
    "\n",
    "    score = cross_val_score(LogisticRegression(**params, random_state=42, n_jobs=-1), X_prep,  y_train,\n",
    "                            cv=5, scoring='accuracy',n_jobs=-1).mean()\n",
    "    return score"
   ]
  },
  {
   "cell_type": "code",
   "execution_count": 14,
   "id": "2a296253-677d-44a6-871e-7b06687d11e4",
   "metadata": {
    "scrolled": true
   },
   "outputs": [
    {
     "name": "stderr",
     "output_type": "stream",
     "text": [
      "[I 2025-05-13 13:10:00,854] A new study created in memory with name: no-name-acc7e078-c2bf-49d3-9114-763654e3ff36\n",
      "[I 2025-05-13 13:10:02,309] Trial 0 finished with value: 0.5009882352941177 and parameters: {'C': 0.0004956440000058563, 'penalty': 'l1', 'solver': 'saga', 'class_weight': 'balanced', 'tol': 1.9040234425473364e-05, 'solver_for_l1': 'liblinear'}. Best is trial 0 with value: 0.5009882352941177.\n",
      "[I 2025-05-13 13:10:04,473] Trial 1 finished with value: 0.8705411764705883 and parameters: {'C': 0.444673431419333, 'penalty': 'l1', 'solver': 'liblinear', 'class_weight': 'balanced', 'tol': 5.5359402862173156e-05, 'solver_for_l1': 'liblinear'}. Best is trial 1 with value: 0.8705411764705883.\n",
      "[I 2025-05-13 13:10:05,609] Trial 2 finished with value: 0.6155529411764705 and parameters: {'C': 0.010322821922640427, 'penalty': 'l1', 'solver': 'saga', 'class_weight': 'balanced', 'tol': 0.000964757218788938, 'solver_for_l1': 'liblinear'}. Best is trial 1 with value: 0.8705411764705883.\n",
      "[I 2025-05-13 13:10:06,167] Trial 3 finished with value: 0.5009882352941177 and parameters: {'C': 0.005766075673490389, 'penalty': 'l1', 'solver': 'saga', 'class_weight': 'balanced', 'tol': 9.254293740764415e-05, 'solver_for_l1': 'liblinear'}. Best is trial 1 with value: 0.8705411764705883.\n",
      "[I 2025-05-13 13:10:06,772] Trial 4 finished with value: 0.5009882352941177 and parameters: {'C': 0.005561499268564233, 'penalty': 'l1', 'solver': 'liblinear', 'class_weight': None, 'tol': 5.2049932095413754e-05, 'solver_for_l1': 'liblinear'}. Best is trial 1 with value: 0.8705411764705883.\n",
      "[I 2025-05-13 13:10:08,430] Trial 5 finished with value: 0.905035294117647 and parameters: {'C': 1.4466178522090631, 'penalty': 'l2', 'solver': 'saga', 'class_weight': None, 'tol': 0.0002607627526947728, 'solver_for_l2': 'sag'}. Best is trial 5 with value: 0.905035294117647.\n",
      "[I 2025-05-13 13:10:10,505] Trial 6 finished with value: 0.7873411764705882 and parameters: {'C': 0.00038936673139754733, 'penalty': 'l2', 'solver': 'liblinear', 'class_weight': None, 'tol': 6.355988663833661e-05, 'solver_for_l2': 'sag'}. Best is trial 5 with value: 0.905035294117647.\n",
      "[I 2025-05-13 13:10:12,789] Trial 7 finished with value: 0.908235294117647 and parameters: {'C': 3.6245533571003015, 'penalty': 'l2', 'solver': 'liblinear', 'class_weight': 'balanced', 'tol': 0.00014407854251667526, 'solver_for_l2': 'sag'}. Best is trial 7 with value: 0.908235294117647.\n",
      "[I 2025-05-13 13:10:14,138] Trial 8 finished with value: 0.8185882352941176 and parameters: {'C': 0.005482744210509465, 'penalty': 'l2', 'solver': 'liblinear', 'class_weight': None, 'tol': 7.414824880251552e-05, 'solver_for_l2': 'sag'}. Best is trial 7 with value: 0.908235294117647.\n",
      "[I 2025-05-13 13:10:15,269] Trial 9 finished with value: 0.7625647058823529 and parameters: {'C': 0.04487339804048048, 'penalty': 'l1', 'solver': 'liblinear', 'class_weight': 'balanced', 'tol': 0.0001471169235470643, 'solver_for_l1': 'liblinear'}. Best is trial 7 with value: 0.908235294117647.\n",
      "[I 2025-05-13 13:10:16,862] Trial 10 finished with value: 0.9048235294117648 and parameters: {'C': 52.68935171321996, 'penalty': 'l2', 'solver': 'liblinear', 'class_weight': 'balanced', 'tol': 0.0004625653208337625, 'solver_for_l2': 'lbfgs'}. Best is trial 7 with value: 0.908235294117647.\n",
      "[I 2025-05-13 13:10:18,706] Trial 11 finished with value: 0.9036470588235295 and parameters: {'C': 1.2301080965987046, 'penalty': 'l2', 'solver': 'saga', 'class_weight': None, 'tol': 0.00025693177185015753, 'solver_for_l2': 'sag'}. Best is trial 7 with value: 0.908235294117647.\n",
      "[I 2025-05-13 13:10:21,135] Trial 12 finished with value: 0.9081411764705882 and parameters: {'C': 8.826941168783907, 'penalty': 'l2', 'solver': 'saga', 'class_weight': None, 'tol': 0.00023818146231517954, 'solver_for_l2': 'sag'}. Best is trial 7 with value: 0.908235294117647.\n",
      "[I 2025-05-13 13:10:26,553] Trial 13 finished with value: 0.9056000000000001 and parameters: {'C': 33.861946338250554, 'penalty': 'l2', 'solver': 'saga', 'class_weight': None, 'tol': 0.0001994407731696619, 'solver_for_l2': 'sag'}. Best is trial 7 with value: 0.908235294117647.\n",
      "[I 2025-05-13 13:10:30,807] Trial 14 finished with value: 0.9082823529411763 and parameters: {'C': 8.61734964238758, 'penalty': 'l2', 'solver': 'saga', 'class_weight': 'balanced', 'tol': 2.5383264684863017e-05, 'solver_for_l2': 'lbfgs'}. Best is trial 14 with value: 0.9082823529411763.\n",
      "[I 2025-05-13 13:10:34,925] Trial 15 finished with value: 0.9085647058823529 and parameters: {'C': 5.622742965020892, 'penalty': 'l2', 'solver': 'liblinear', 'class_weight': 'balanced', 'tol': 1.4166267203466994e-05, 'solver_for_l2': 'lbfgs'}. Best is trial 15 with value: 0.9085647058823529.\n",
      "[I 2025-05-13 13:10:37,286] Trial 16 finished with value: 0.8912705882352941 and parameters: {'C': 0.32164398584111653, 'penalty': 'l2', 'solver': 'liblinear', 'class_weight': 'balanced', 'tol': 1.0085836879111412e-05, 'solver_for_l2': 'lbfgs'}. Best is trial 15 with value: 0.9085647058823529.\n",
      "[I 2025-05-13 13:10:40,956] Trial 17 finished with value: 0.9069411764705881 and parameters: {'C': 13.207851534877575, 'penalty': 'l2', 'solver': 'saga', 'class_weight': 'balanced', 'tol': 2.6139001713544964e-05, 'solver_for_l2': 'lbfgs'}. Best is trial 15 with value: 0.9085647058823529.\n",
      "[I 2025-05-13 13:10:47,149] Trial 18 finished with value: 0.9034823529411765 and parameters: {'C': 90.40365707919668, 'penalty': 'l2', 'solver': 'saga', 'class_weight': 'balanced', 'tol': 1.0241892442780059e-05, 'solver_for_l2': 'lbfgs'}. Best is trial 15 with value: 0.9085647058823529.\n",
      "[I 2025-05-13 13:10:48,590] Trial 19 finished with value: 0.8797176470588235 and parameters: {'C': 0.14366647853909006, 'penalty': 'l2', 'solver': 'liblinear', 'class_weight': 'balanced', 'tol': 2.844934869033937e-05, 'solver_for_l2': 'lbfgs'}. Best is trial 15 with value: 0.9085647058823529.\n",
      "[I 2025-05-13 13:10:51,727] Trial 20 finished with value: 0.9083764705882353 and parameters: {'C': 6.361578761251458, 'penalty': 'l2', 'solver': 'saga', 'class_weight': 'balanced', 'tol': 1.754653733644332e-05, 'solver_for_l2': 'lbfgs'}. Best is trial 15 with value: 0.9085647058823529.\n",
      "[I 2025-05-13 13:10:55,934] Trial 21 finished with value: 0.9083764705882353 and parameters: {'C': 6.47852399020022, 'penalty': 'l2', 'solver': 'saga', 'class_weight': 'balanced', 'tol': 1.6826077283247853e-05, 'solver_for_l2': 'lbfgs'}. Best is trial 15 with value: 0.9085647058823529.\n",
      "[I 2025-05-13 13:10:59,311] Trial 22 finished with value: 0.9075294117647059 and parameters: {'C': 2.7270515288159514, 'penalty': 'l2', 'solver': 'saga', 'class_weight': 'balanced', 'tol': 1.5282790908558423e-05, 'solver_for_l2': 'lbfgs'}. Best is trial 15 with value: 0.9085647058823529.\n",
      "[I 2025-05-13 13:11:02,955] Trial 23 finished with value: 0.9067294117647059 and parameters: {'C': 19.001684263481277, 'penalty': 'l2', 'solver': 'saga', 'class_weight': 'balanced', 'tol': 3.974836388182789e-05, 'solver_for_l2': 'lbfgs'}. Best is trial 15 with value: 0.9085647058823529.\n",
      "[I 2025-05-13 13:11:05,684] Trial 24 finished with value: 0.899764705882353 and parameters: {'C': 0.7320310863418941, 'penalty': 'l2', 'solver': 'saga', 'class_weight': 'balanced', 'tol': 1.4469926849688334e-05, 'solver_for_l2': 'lbfgs'}. Best is trial 15 with value: 0.9085647058823529.\n",
      "[I 2025-05-13 13:11:08,919] Trial 25 finished with value: 0.9082823529411765 and parameters: {'C': 4.005833544892865, 'penalty': 'l2', 'solver': 'saga', 'class_weight': 'balanced', 'tol': 1.7537395692113937e-05, 'solver_for_l2': 'lbfgs'}. Best is trial 15 with value: 0.9085647058823529.\n",
      "[I 2025-05-13 13:11:10,173] Trial 26 finished with value: 0.8566588235294118 and parameters: {'C': 0.04750111960160923, 'penalty': 'l2', 'solver': 'liblinear', 'class_weight': 'balanced', 'tol': 3.6714613697645485e-05, 'solver_for_l2': 'lbfgs'}. Best is trial 15 with value: 0.9085647058823529.\n",
      "[I 2025-05-13 13:11:11,799] Trial 27 finished with value: 0.881835294117647 and parameters: {'C': 0.15841979999983763, 'penalty': 'l2', 'solver': 'saga', 'class_weight': 'balanced', 'tol': 1.344552438611366e-05, 'solver_for_l2': 'lbfgs'}. Best is trial 15 with value: 0.9085647058823529.\n",
      "[I 2025-05-13 13:11:16,470] Trial 28 finished with value: 0.9057411764705883 and parameters: {'C': 27.478785541181846, 'penalty': 'l2', 'solver': 'liblinear', 'class_weight': 'balanced', 'tol': 2.142167588313981e-05, 'solver_for_l2': 'lbfgs'}. Best is trial 15 with value: 0.9085647058823529.\n",
      "[I 2025-05-13 13:11:17,260] Trial 29 finished with value: 0.5009882352941177 and parameters: {'C': 0.0011413686722472286, 'penalty': 'l1', 'solver': 'saga', 'class_weight': 'balanced', 'tol': 3.6520426882854595e-05, 'solver_for_l1': 'liblinear'}. Best is trial 15 with value: 0.9085647058823529.\n",
      "[I 2025-05-13 13:11:21,853] Trial 30 finished with value: 0.9082588235294118 and parameters: {'C': 6.923917570048612, 'penalty': 'l2', 'solver': 'saga', 'class_weight': 'balanced', 'tol': 1.8763216062795307e-05, 'solver_for_l2': 'lbfgs'}. Best is trial 15 with value: 0.9085647058823529.\n",
      "[I 2025-05-13 13:11:24,469] Trial 31 finished with value: 0.9071764705882351 and parameters: {'C': 2.446512146008142, 'penalty': 'l2', 'solver': 'saga', 'class_weight': 'balanced', 'tol': 1.824210467797846e-05, 'solver_for_l2': 'lbfgs'}. Best is trial 15 with value: 0.9085647058823529.\n",
      "[I 2025-05-13 13:11:24,943] Trial 32 finished with value: 0.805670588235294 and parameters: {'C': 0.00012243640411720925, 'penalty': 'l2', 'solver': 'saga', 'class_weight': 'balanced', 'tol': 1.286433853703308e-05, 'solver_for_l2': 'lbfgs'}. Best is trial 15 with value: 0.9085647058823529.\n",
      "[I 2025-05-13 13:11:29,126] Trial 33 finished with value: 0.9081411764705882 and parameters: {'C': 6.305793315666289, 'penalty': 'l2', 'solver': 'saga', 'class_weight': 'balanced', 'tol': 2.0984828151859536e-05, 'solver_for_l2': 'lbfgs'}. Best is trial 15 with value: 0.9085647058823529.\n",
      "[I 2025-05-13 13:11:30,748] Trial 34 finished with value: 0.8754352941176471 and parameters: {'C': 0.530302491104015, 'penalty': 'l1', 'solver': 'saga', 'class_weight': 'balanced', 'tol': 2.7454599033998836e-05, 'solver_for_l1': 'liblinear'}. Best is trial 15 with value: 0.9085647058823529.\n",
      "[I 2025-05-13 13:11:34,142] Trial 35 finished with value: 0.8902588235294118 and parameters: {'C': 85.08228479373334, 'penalty': 'l1', 'solver': 'saga', 'class_weight': 'balanced', 'tol': 4.553162321980395e-05, 'solver_for_l1': 'liblinear'}. Best is trial 15 with value: 0.9085647058823529.\n",
      "[I 2025-05-13 13:11:37,075] Trial 36 finished with value: 0.9039764705882354 and parameters: {'C': 1.3399953645306635, 'penalty': 'l2', 'solver': 'saga', 'class_weight': 'balanced', 'tol': 1.694242459159832e-05, 'solver_for_l2': 'lbfgs'}. Best is trial 15 with value: 0.9085647058823529.\n",
      "[I 2025-05-13 13:11:40,664] Trial 37 finished with value: 0.9085882352941177 and parameters: {'C': 3.7887823736934756, 'penalty': 'l2', 'solver': 'liblinear', 'class_weight': 'balanced', 'tol': 1.1899943513574165e-05, 'solver_for_l2': 'lbfgs'}. Best is trial 37 with value: 0.9085882352941177.\n",
      "[I 2025-05-13 13:11:43,724] Trial 38 finished with value: 0.8938588235294118 and parameters: {'C': 18.37672970427599, 'penalty': 'l1', 'solver': 'liblinear', 'class_weight': 'balanced', 'tol': 3.115205227668837e-05, 'solver_for_l1': 'liblinear'}. Best is trial 37 with value: 0.9085882352941177.\n",
      "[I 2025-05-13 13:11:45,529] Trial 39 finished with value: 0.8909176470588236 and parameters: {'C': 0.313874929253037, 'penalty': 'l2', 'solver': 'liblinear', 'class_weight': None, 'tol': 1.2619483717367983e-05, 'solver_for_l2': 'lbfgs'}. Best is trial 37 with value: 0.9085882352941177.\n",
      "[I 2025-05-13 13:11:46,972] Trial 40 finished with value: 0.9012470588235294 and parameters: {'C': 1.9528740405673755, 'penalty': 'l2', 'solver': 'liblinear', 'class_weight': 'balanced', 'tol': 0.0007652909768740108, 'solver_for_l2': 'lbfgs'}. Best is trial 37 with value: 0.9085882352941177.\n",
      "[I 2025-05-13 13:11:50,756] Trial 41 finished with value: 0.908164705882353 and parameters: {'C': 3.6588098351582747, 'penalty': 'l2', 'solver': 'liblinear', 'class_weight': 'balanced', 'tol': 1.133555667270943e-05, 'solver_for_l2': 'lbfgs'}. Best is trial 37 with value: 0.9085882352941177.\n",
      "[I 2025-05-13 13:11:54,513] Trial 42 finished with value: 0.9082588235294118 and parameters: {'C': 4.095459417264878, 'penalty': 'l2', 'solver': 'liblinear', 'class_weight': 'balanced', 'tol': 2.245841830711245e-05, 'solver_for_l2': 'lbfgs'}. Best is trial 37 with value: 0.9085882352941177.\n",
      "[I 2025-05-13 13:11:57,429] Trial 43 finished with value: 0.9018823529411766 and parameters: {'C': 0.9367756659866119, 'penalty': 'l2', 'solver': 'liblinear', 'class_weight': 'balanced', 'tol': 1.5704666972905373e-05, 'solver_for_l2': 'lbfgs'}. Best is trial 37 with value: 0.9085882352941177.\n",
      "[I 2025-05-13 13:12:00,696] Trial 44 finished with value: 0.9051058823529413 and parameters: {'C': 47.65866532707682, 'penalty': 'l2', 'solver': 'liblinear', 'class_weight': 'balanced', 'tol': 7.792804877216276e-05, 'solver_for_l2': 'lbfgs'}. Best is trial 37 with value: 0.9085882352941177.\n",
      "[I 2025-05-13 13:12:03,572] Trial 45 finished with value: 0.9077176470588235 and parameters: {'C': 10.329302690074933, 'penalty': 'l2', 'solver': 'saga', 'class_weight': None, 'tol': 5.303323180645234e-05, 'solver_for_l2': 'lbfgs'}. Best is trial 37 with value: 0.9085882352941177.\n",
      "[I 2025-05-13 13:12:05,171] Trial 46 finished with value: 0.9012941176470587 and parameters: {'C': 4.097571849876484, 'penalty': 'l1', 'solver': 'liblinear', 'class_weight': 'balanced', 'tol': 0.0001204441358238142, 'solver_for_l1': 'liblinear'}. Best is trial 37 with value: 0.9085882352941177.\n",
      "[I 2025-05-13 13:12:09,544] Trial 47 finished with value: 0.9073411764705881 and parameters: {'C': 14.406694713004692, 'penalty': 'l2', 'solver': 'saga', 'class_weight': 'balanced', 'tol': 1.743615725996964e-05, 'solver_for_l2': 'sag'}. Best is trial 37 with value: 0.9085882352941177.\n",
      "[I 2025-05-13 13:12:14,253] Trial 48 finished with value: 0.9060470588235294 and parameters: {'C': 27.64695773658724, 'penalty': 'l2', 'solver': 'liblinear', 'class_weight': None, 'tol': 1.1858378360395266e-05, 'solver_for_l2': 'lbfgs'}. Best is trial 37 with value: 0.9085882352941177.\n",
      "[I 2025-05-13 13:12:16,632] Trial 49 finished with value: 0.906164705882353 and parameters: {'C': 1.8361084657870734, 'penalty': 'l2', 'solver': 'saga', 'class_weight': 'balanced', 'tol': 2.1984907044962284e-05, 'solver_for_l2': 'sag'}. Best is trial 37 with value: 0.9085882352941177.\n",
      "[I 2025-05-13 13:12:17,424] Trial 50 finished with value: 0.8376470588235294 and parameters: {'C': 0.019997351692030957, 'penalty': 'l2', 'solver': 'liblinear', 'class_weight': 'balanced', 'tol': 0.00034245048346800825, 'solver_for_l2': 'lbfgs'}. Best is trial 37 with value: 0.9085882352941177.\n",
      "[I 2025-05-13 13:12:20,960] Trial 51 finished with value: 0.9084470588235295 and parameters: {'C': 6.468284516953073, 'penalty': 'l2', 'solver': 'saga', 'class_weight': 'balanced', 'tol': 2.331912700033021e-05, 'solver_for_l2': 'lbfgs'}. Best is trial 37 with value: 0.9085882352941177.\n",
      "[I 2025-05-13 13:12:24,764] Trial 52 finished with value: 0.908235294117647 and parameters: {'C': 5.011449402301179, 'penalty': 'l2', 'solver': 'saga', 'class_weight': 'balanced', 'tol': 1.5011093682299346e-05, 'solver_for_l2': 'lbfgs'}. Best is trial 37 with value: 0.9085882352941177.\n",
      "[I 2025-05-13 13:12:30,217] Trial 53 finished with value: 0.9074588235294117 and parameters: {'C': 11.524439909247361, 'penalty': 'l2', 'solver': 'saga', 'class_weight': 'balanced', 'tol': 1.0054392700463836e-05, 'solver_for_l2': 'lbfgs'}. Best is trial 37 with value: 0.9085882352941177.\n",
      "[I 2025-05-13 13:12:33,602] Trial 54 finished with value: 0.9081176470588235 and parameters: {'C': 6.969956419646939, 'penalty': 'l2', 'solver': 'saga', 'class_weight': 'balanced', 'tol': 3.162398249087432e-05, 'solver_for_l2': 'lbfgs'}. Best is trial 37 with value: 0.9085882352941177.\n",
      "[I 2025-05-13 13:12:35,693] Trial 55 finished with value: 0.8988705882352941 and parameters: {'C': 0.6619698930304437, 'penalty': 'l2', 'solver': 'saga', 'class_weight': 'balanced', 'tol': 2.435791423674428e-05, 'solver_for_l2': 'sag'}. Best is trial 37 with value: 0.9085882352941177.\n",
      "[I 2025-05-13 13:12:39,156] Trial 56 finished with value: 0.9073176470588237 and parameters: {'C': 2.605686230501191, 'penalty': 'l2', 'solver': 'saga', 'class_weight': 'balanced', 'tol': 1.866248046936918e-05, 'solver_for_l2': 'lbfgs'}. Best is trial 37 with value: 0.9085882352941177.\n",
      "[I 2025-05-13 13:12:44,456] Trial 57 finished with value: 0.9054352941176471 and parameters: {'C': 43.632387620612846, 'penalty': 'l2', 'solver': 'saga', 'class_weight': None, 'tol': 1.4393692237454388e-05, 'solver_for_l2': 'lbfgs'}. Best is trial 37 with value: 0.9085882352941177.\n",
      "[I 2025-05-13 13:12:46,635] Trial 58 finished with value: 0.8912470588235294 and parameters: {'C': 0.3193496786511692, 'penalty': 'l2', 'solver': 'saga', 'class_weight': 'balanced', 'tol': 1.1811590423797156e-05, 'solver_for_l2': 'lbfgs'}. Best is trial 37 with value: 0.9085882352941177.\n",
      "[I 2025-05-13 13:12:51,972] Trial 59 finished with value: 0.9066117647058822 and parameters: {'C': 20.87184707344262, 'penalty': 'l2', 'solver': 'liblinear', 'class_weight': 'balanced', 'tol': 3.193408535238011e-05, 'solver_for_l2': 'sag'}. Best is trial 37 with value: 0.9085882352941177.\n",
      "[I 2025-05-13 13:12:54,763] Trial 60 finished with value: 0.8968941176470588 and parameters: {'C': 9.665594025633645, 'penalty': 'l1', 'solver': 'saga', 'class_weight': 'balanced', 'tol': 6.760440383817808e-05, 'solver_for_l1': 'liblinear'}. Best is trial 37 with value: 0.9085882352941177.\n",
      "[I 2025-05-13 13:12:57,896] Trial 61 finished with value: 0.9044941176470587 and parameters: {'C': 1.4334060144605023, 'penalty': 'l2', 'solver': 'saga', 'class_weight': 'balanced', 'tol': 1.9456655128063297e-05, 'solver_for_l2': 'lbfgs'}. Best is trial 37 with value: 0.9085882352941177.\n",
      "[I 2025-05-13 13:13:01,146] Trial 62 finished with value: 0.9083294117647058 and parameters: {'C': 5.675768427465558, 'penalty': 'l2', 'solver': 'saga', 'class_weight': 'balanced', 'tol': 2.6243540162358235e-05, 'solver_for_l2': 'lbfgs'}. Best is trial 37 with value: 0.9085882352941177.\n",
      "[I 2025-05-13 13:13:04,752] Trial 63 finished with value: 0.9086117647058825 and parameters: {'C': 5.7794495513868185, 'penalty': 'l2', 'solver': 'saga', 'class_weight': 'balanced', 'tol': 4.2742177892216486e-05, 'solver_for_l2': 'lbfgs'}. Best is trial 63 with value: 0.9086117647058825.\n",
      "[I 2025-05-13 13:13:07,720] Trial 64 finished with value: 0.9081411764705882 and parameters: {'C': 6.1254651494109975, 'penalty': 'l2', 'solver': 'saga', 'class_weight': 'balanced', 'tol': 4.554934321727222e-05, 'solver_for_l2': 'lbfgs'}. Best is trial 63 with value: 0.9086117647058825.\n",
      "[I 2025-05-13 13:13:10,337] Trial 65 finished with value: 0.9023058823529413 and parameters: {'C': 1.0113823388088543, 'penalty': 'l2', 'solver': 'saga', 'class_weight': 'balanced', 'tol': 2.6189478330184007e-05, 'solver_for_l2': 'lbfgs'}. Best is trial 63 with value: 0.9086117647058825.\n",
      "[I 2025-05-13 13:13:13,982] Trial 66 finished with value: 0.9070823529411765 and parameters: {'C': 15.362325510010011, 'penalty': 'l2', 'solver': 'saga', 'class_weight': 'balanced', 'tol': 3.839452261857566e-05, 'solver_for_l2': 'lbfgs'}. Best is trial 63 with value: 0.9086117647058825.\n",
      "[I 2025-05-13 13:13:17,025] Trial 67 finished with value: 0.9074823529411764 and parameters: {'C': 2.7115366210861294, 'penalty': 'l2', 'solver': 'saga', 'class_weight': 'balanced', 'tol': 2.4149485546210913e-05, 'solver_for_l2': 'lbfgs'}. Best is trial 63 with value: 0.9086117647058825.\n",
      "[I 2025-05-13 13:13:22,026] Trial 68 finished with value: 0.9055529411764706 and parameters: {'C': 35.33875019216179, 'penalty': 'l2', 'solver': 'liblinear', 'class_weight': 'balanced', 'tol': 1.5693980993824205e-05, 'solver_for_l2': 'lbfgs'}. Best is trial 63 with value: 0.9086117647058825.\n",
      "[I 2025-05-13 13:13:25,841] Trial 69 finished with value: 0.9078352941176471 and parameters: {'C': 8.941348122249446, 'penalty': 'l2', 'solver': 'saga', 'class_weight': None, 'tol': 2.974418754698277e-05, 'solver_for_l2': 'lbfgs'}. Best is trial 63 with value: 0.9086117647058825.\n",
      "[I 2025-05-13 13:13:28,798] Trial 70 finished with value: 0.9071529411764706 and parameters: {'C': 23.00339411682545, 'penalty': 'l2', 'solver': 'saga', 'class_weight': 'balanced', 'tol': 9.273565116526408e-05, 'solver_for_l2': 'lbfgs'}. Best is trial 63 with value: 0.9086117647058825.\n",
      "[I 2025-05-13 13:13:32,269] Trial 71 finished with value: 0.9085411764705882 and parameters: {'C': 4.964081080001533, 'penalty': 'l2', 'solver': 'saga', 'class_weight': 'balanced', 'tol': 1.9267061806651076e-05, 'solver_for_l2': 'lbfgs'}. Best is trial 63 with value: 0.9086117647058825.\n",
      "[I 2025-05-13 13:13:36,073] Trial 72 finished with value: 0.9085411764705882 and parameters: {'C': 6.072082332539979, 'penalty': 'l2', 'solver': 'saga', 'class_weight': 'balanced', 'tol': 2.0546487947612734e-05, 'solver_for_l2': 'lbfgs'}. Best is trial 63 with value: 0.9086117647058825.\n",
      "[I 2025-05-13 13:13:39,162] Trial 73 finished with value: 0.9064 and parameters: {'C': 1.9546736605272115, 'penalty': 'l2', 'solver': 'saga', 'class_weight': 'balanced', 'tol': 2.00853467830481e-05, 'solver_for_l2': 'lbfgs'}. Best is trial 63 with value: 0.9086117647058825.\n",
      "[I 2025-05-13 13:13:42,604] Trial 74 finished with value: 0.9075999999999999 and parameters: {'C': 2.983696027594414, 'penalty': 'l2', 'solver': 'saga', 'class_weight': 'balanced', 'tol': 1.3042350296504707e-05, 'solver_for_l2': 'lbfgs'}. Best is trial 63 with value: 0.9086117647058825.\n",
      "[I 2025-05-13 13:13:47,795] Trial 75 finished with value: 0.9035058823529412 and parameters: {'C': 69.79602672837711, 'penalty': 'l2', 'solver': 'saga', 'class_weight': 'balanced', 'tol': 1.6312136536177728e-05, 'solver_for_l2': 'lbfgs'}. Best is trial 63 with value: 0.9086117647058825.\n",
      "[I 2025-05-13 13:13:51,860] Trial 76 finished with value: 0.8953882352941175 and parameters: {'C': 13.06414521499787, 'penalty': 'l1', 'solver': 'liblinear', 'class_weight': 'balanced', 'tol': 1.1184648269859817e-05, 'solver_for_l1': 'liblinear'}. Best is trial 63 with value: 0.9086117647058825.\n",
      "[I 2025-05-13 13:13:55,330] Trial 77 finished with value: 0.9082588235294118 and parameters: {'C': 5.349988225795272, 'penalty': 'l2', 'solver': 'saga', 'class_weight': 'balanced', 'tol': 2.1705359724677078e-05, 'solver_for_l2': 'lbfgs'}. Best is trial 63 with value: 0.9086117647058825.\n",
      "[I 2025-05-13 13:13:59,230] Trial 78 finished with value: 0.9083764705882352 and parameters: {'C': 3.7801669723497757, 'penalty': 'l2', 'solver': 'saga', 'class_weight': 'balanced', 'tol': 1.387702593558698e-05, 'solver_for_l2': 'lbfgs'}. Best is trial 63 with value: 0.9086117647058825.\n",
      "[I 2025-05-13 13:14:01,710] Trial 79 finished with value: 0.906 and parameters: {'C': 1.8143994774084073, 'penalty': 'l2', 'solver': 'liblinear', 'class_weight': 'balanced', 'tol': 4.694487025700636e-05, 'solver_for_l2': 'lbfgs'}. Best is trial 63 with value: 0.9086117647058825.\n",
      "[I 2025-05-13 13:14:03,221] Trial 80 finished with value: 0.8115294117647057 and parameters: {'C': 0.0026718008668622094, 'penalty': 'l2', 'solver': 'saga', 'class_weight': 'balanced', 'tol': 3.3911555090781176e-05, 'solver_for_l2': 'sag'}. Best is trial 63 with value: 0.9086117647058825.\n",
      "[I 2025-05-13 13:14:07,782] Trial 81 finished with value: 0.908235294117647 and parameters: {'C': 8.13010399923289, 'penalty': 'l2', 'solver': 'saga', 'class_weight': 'balanced', 'tol': 1.3767740080394726e-05, 'solver_for_l2': 'lbfgs'}. Best is trial 63 with value: 0.9086117647058825.\n",
      "[I 2025-05-13 13:14:10,782] Trial 82 finished with value: 0.9080941176470588 and parameters: {'C': 3.736976508942344, 'penalty': 'l2', 'solver': 'saga', 'class_weight': 'balanced', 'tol': 1.6691543768779753e-05, 'solver_for_l2': 'lbfgs'}. Best is trial 63 with value: 0.9086117647058825.\n",
      "[I 2025-05-13 13:14:14,833] Trial 83 finished with value: 0.9083529411764706 and parameters: {'C': 4.62138491626756, 'penalty': 'l2', 'solver': 'saga', 'class_weight': 'balanced', 'tol': 1.085849595948555e-05, 'solver_for_l2': 'lbfgs'}. Best is trial 63 with value: 0.9086117647058825.\n",
      "[I 2025-05-13 13:14:17,882] Trial 84 finished with value: 0.9017411764705884 and parameters: {'C': 0.9235270145650555, 'penalty': 'l2', 'solver': 'saga', 'class_weight': 'balanced', 'tol': 1.4169693513752107e-05, 'solver_for_l2': 'lbfgs'}. Best is trial 63 with value: 0.9086117647058825.\n",
      "[I 2025-05-13 13:14:22,668] Trial 85 finished with value: 0.9068235294117647 and parameters: {'C': 14.697641275012359, 'penalty': 'l2', 'solver': 'saga', 'class_weight': 'balanced', 'tol': 1.9157921550173858e-05, 'solver_for_l2': 'lbfgs'}. Best is trial 63 with value: 0.9086117647058825.\n",
      "[I 2025-05-13 13:14:27,059] Trial 86 finished with value: 0.9082588235294118 and parameters: {'C': 7.798652044617574, 'penalty': 'l2', 'solver': 'liblinear', 'class_weight': 'balanced', 'tol': 1.2927331703081364e-05, 'solver_for_l2': 'lbfgs'}. Best is trial 63 with value: 0.9086117647058825.\n",
      "[I 2025-05-13 13:14:29,766] Trial 87 finished with value: 0.9069411764705881 and parameters: {'C': 2.2131603758672207, 'penalty': 'l2', 'solver': 'saga', 'class_weight': None, 'tol': 2.2810675193394027e-05, 'solver_for_l2': 'lbfgs'}. Best is trial 63 with value: 0.9086117647058825.\n",
      "[I 2025-05-13 13:14:32,034] Trial 88 finished with value: 0.9021411764705881 and parameters: {'C': 3.188905751264091, 'penalty': 'l1', 'solver': 'saga', 'class_weight': 'balanced', 'tol': 1.745216485448499e-05, 'solver_for_l1': 'liblinear'}. Best is trial 63 with value: 0.9086117647058825.\n",
      "[I 2025-05-13 13:14:35,159] Trial 89 finished with value: 0.9042588235294119 and parameters: {'C': 1.401464058217096, 'penalty': 'l2', 'solver': 'liblinear', 'class_weight': 'balanced', 'tol': 1.5036424531855712e-05, 'solver_for_l2': 'lbfgs'}. Best is trial 63 with value: 0.9086117647058825.\n",
      "[I 2025-05-13 13:14:39,960] Trial 90 finished with value: 0.9072941176470588 and parameters: {'C': 12.011704676267223, 'penalty': 'l2', 'solver': 'saga', 'class_weight': 'balanced', 'tol': 1.1902054006975862e-05, 'solver_for_l2': 'lbfgs'}. Best is trial 63 with value: 0.9086117647058825.\n",
      "[I 2025-05-13 13:14:43,816] Trial 91 finished with value: 0.9084470588235295 and parameters: {'C': 4.54997828051159, 'penalty': 'l2', 'solver': 'saga', 'class_weight': 'balanced', 'tol': 1.069753393731841e-05, 'solver_for_l2': 'lbfgs'}. Best is trial 63 with value: 0.9086117647058825.\n",
      "[I 2025-05-13 13:14:48,438] Trial 92 finished with value: 0.9082823529411763 and parameters: {'C': 4.712593259448515, 'penalty': 'l2', 'solver': 'saga', 'class_weight': 'balanced', 'tol': 1.0429203381587345e-05, 'solver_for_l2': 'lbfgs'}. Best is trial 63 with value: 0.9086117647058825.\n",
      "[I 2025-05-13 13:14:52,561] Trial 93 finished with value: 0.9084470588235295 and parameters: {'C': 6.564401336952773, 'penalty': 'l2', 'solver': 'saga', 'class_weight': 'balanced', 'tol': 1.2729684298118523e-05, 'solver_for_l2': 'lbfgs'}. Best is trial 63 with value: 0.9086117647058825.\n",
      "[I 2025-05-13 13:14:54,731] Trial 94 finished with value: 0.9065882352941177 and parameters: {'C': 18.96508528778471, 'penalty': 'l2', 'solver': 'saga', 'class_weight': 'balanced', 'tol': 0.0001817951166064579, 'solver_for_l2': 'lbfgs'}. Best is trial 63 with value: 0.9086117647058825.\n",
      "[I 2025-05-13 13:14:58,787] Trial 95 finished with value: 0.9085411764705882 and parameters: {'C': 6.84005778399566, 'penalty': 'l2', 'solver': 'saga', 'class_weight': 'balanced', 'tol': 1.9854650354428094e-05, 'solver_for_l2': 'lbfgs'}. Best is trial 63 with value: 0.9086117647058825.\n",
      "[I 2025-05-13 13:15:03,891] Trial 96 finished with value: 0.9061176470588235 and parameters: {'C': 28.096313958925553, 'penalty': 'l2', 'solver': 'saga', 'class_weight': 'balanced', 'tol': 1.2292487580219389e-05, 'solver_for_l2': 'lbfgs'}. Best is trial 63 with value: 0.9086117647058825.\n",
      "[I 2025-05-13 13:15:08,086] Trial 97 finished with value: 0.9078588235294116 and parameters: {'C': 9.013656131111786, 'penalty': 'l2', 'solver': 'saga', 'class_weight': 'balanced', 'tol': 2.0383441361478524e-05, 'solver_for_l2': 'lbfgs'}. Best is trial 63 with value: 0.9086117647058825.\n",
      "[I 2025-05-13 13:15:11,127] Trial 98 finished with value: 0.9085411764705882 and parameters: {'C': 6.613250397455951, 'penalty': 'l2', 'solver': 'liblinear', 'class_weight': 'balanced', 'tol': 2.7731034671285427e-05, 'solver_for_l2': 'sag'}. Best is trial 63 with value: 0.9086117647058825.\n",
      "[I 2025-05-13 13:15:12,788] Trial 99 finished with value: 0.8955529411764704 and parameters: {'C': 0.47541628964507265, 'penalty': 'l2', 'solver': 'liblinear', 'class_weight': 'balanced', 'tol': 2.482860718126296e-05, 'solver_for_l2': 'sag'}. Best is trial 63 with value: 0.9086117647058825.\n",
      "[I 2025-05-13 13:15:16,213] Trial 100 finished with value: 0.9076000000000001 and parameters: {'C': 11.04166468530451, 'penalty': 'l2', 'solver': 'liblinear', 'class_weight': 'balanced', 'tol': 2.7302850872799356e-05, 'solver_for_l2': 'sag'}. Best is trial 63 with value: 0.9086117647058825.\n",
      "[I 2025-05-13 13:15:19,332] Trial 101 finished with value: 0.9084 and parameters: {'C': 5.701323696521548, 'penalty': 'l2', 'solver': 'liblinear', 'class_weight': 'balanced', 'tol': 1.795520634606008e-05, 'solver_for_l2': 'sag'}. Best is trial 63 with value: 0.9086117647058825.\n",
      "[I 2025-05-13 13:15:22,184] Trial 102 finished with value: 0.9077411764705883 and parameters: {'C': 3.0961731416706364, 'penalty': 'l2', 'solver': 'liblinear', 'class_weight': 'balanced', 'tol': 1.8128762052730807e-05, 'solver_for_l2': 'sag'}. Best is trial 63 with value: 0.9086117647058825.\n",
      "[I 2025-05-13 13:15:25,479] Trial 103 finished with value: 0.9083764705882353 and parameters: {'C': 5.860187619819926, 'penalty': 'l2', 'solver': 'liblinear', 'class_weight': 'balanced', 'tol': 1.584009555737456e-05, 'solver_for_l2': 'sag'}. Best is trial 63 with value: 0.9086117647058825.\n",
      "[I 2025-05-13 13:15:28,693] Trial 104 finished with value: 0.9084470588235295 and parameters: {'C': 6.90470341370893, 'penalty': 'l2', 'solver': 'liblinear', 'class_weight': 'balanced', 'tol': 2.3430985223245388e-05, 'solver_for_l2': 'sag'}. Best is trial 63 with value: 0.9086117647058825.\n",
      "[I 2025-05-13 13:15:31,713] Trial 105 finished with value: 0.9082588235294118 and parameters: {'C': 7.678022775772887, 'penalty': 'l2', 'solver': 'liblinear', 'class_weight': 'balanced', 'tol': 4.108086245351627e-05, 'solver_for_l2': 'sag'}. Best is trial 63 with value: 0.9086117647058825.\n",
      "[I 2025-05-13 13:15:36,654] Trial 106 finished with value: 0.9070823529411765 and parameters: {'C': 16.622661047235816, 'penalty': 'l2', 'solver': 'liblinear', 'class_weight': None, 'tol': 2.2235199521406063e-05, 'solver_for_l2': 'sag'}. Best is trial 63 with value: 0.9086117647058825.\n",
      "[I 2025-05-13 13:15:39,179] Trial 107 finished with value: 0.9070823529411765 and parameters: {'C': 2.303905324183817, 'penalty': 'l2', 'solver': 'liblinear', 'class_weight': 'balanced', 'tol': 3.4357063158846476e-05, 'solver_for_l2': 'sag'}. Best is trial 63 with value: 0.9086117647058825.\n",
      "[I 2025-05-13 13:15:43,237] Trial 108 finished with value: 0.8960470588235294 and parameters: {'C': 11.063358680318071, 'penalty': 'l1', 'solver': 'liblinear', 'class_weight': 'balanced', 'tol': 2.0200681473995035e-05, 'solver_for_l1': 'liblinear'}. Best is trial 63 with value: 0.9086117647058825.\n",
      "[I 2025-05-13 13:15:45,787] Trial 109 finished with value: 0.9084941176470588 and parameters: {'C': 4.26199405023438, 'penalty': 'l2', 'solver': 'liblinear', 'class_weight': 'balanced', 'tol': 2.8633367262857203e-05, 'solver_for_l2': 'sag'}. Best is trial 63 with value: 0.9086117647058825.\n",
      "[I 2025-05-13 13:15:48,715] Trial 110 finished with value: 0.9080235294117648 and parameters: {'C': 4.077406342761049, 'penalty': 'l2', 'solver': 'liblinear', 'class_weight': 'balanced', 'tol': 2.9639628178774384e-05, 'solver_for_l2': 'lbfgs'}. Best is trial 63 with value: 0.9086117647058825.\n",
      "[I 2025-05-13 13:15:51,673] Trial 111 finished with value: 0.9082588235294118 and parameters: {'C': 7.148616173349478, 'penalty': 'l2', 'solver': 'liblinear', 'class_weight': 'balanced', 'tol': 2.4280195598441267e-05, 'solver_for_l2': 'sag'}. Best is trial 63 with value: 0.9086117647058825.\n",
      "[I 2025-05-13 13:15:54,358] Trial 112 finished with value: 0.9083764705882352 and parameters: {'C': 4.685290539838314, 'penalty': 'l2', 'solver': 'liblinear', 'class_weight': 'balanced', 'tol': 2.7315801022821097e-05, 'solver_for_l2': 'sag'}. Best is trial 63 with value: 0.9086117647058825.\n",
      "[I 2025-05-13 13:15:56,608] Trial 113 finished with value: 0.905764705882353 and parameters: {'C': 1.7323438422271962, 'penalty': 'l2', 'solver': 'liblinear', 'class_weight': 'balanced', 'tol': 4.132348990126342e-05, 'solver_for_l2': 'sag'}. Best is trial 63 with value: 0.9086117647058825.\n",
      "[I 2025-05-13 13:15:59,349] Trial 114 finished with value: 0.9077411764705883 and parameters: {'C': 3.0957528174937954, 'penalty': 'l2', 'solver': 'liblinear', 'class_weight': 'balanced', 'tol': 3.353265969427763e-05, 'solver_for_l2': 'sag'}. Best is trial 63 with value: 0.9086117647058825.\n",
      "[I 2025-05-13 13:16:02,722] Trial 115 finished with value: 0.9079058823529411 and parameters: {'C': 9.769725453775454, 'penalty': 'l2', 'solver': 'liblinear', 'class_weight': 'balanced', 'tol': 2.2977773535315785e-05, 'solver_for_l2': 'sag'}. Best is trial 63 with value: 0.9086117647058825.\n",
      "[I 2025-05-13 13:16:03,765] Trial 116 finished with value: 0.8661647058823527 and parameters: {'C': 0.07620548387268188, 'penalty': 'l2', 'solver': 'liblinear', 'class_weight': 'balanced', 'tol': 1.1154114013216992e-05, 'solver_for_l2': 'lbfgs'}. Best is trial 63 with value: 0.9086117647058825.\n",
      "[I 2025-05-13 13:16:05,405] Trial 117 finished with value: 0.8364705882352942 and parameters: {'C': 0.018630405011235817, 'penalty': 'l2', 'solver': 'saga', 'class_weight': 'balanced', 'tol': 2.8809738065335738e-05, 'solver_for_l2': 'sag'}. Best is trial 63 with value: 0.9086117647058825.\n",
      "[I 2025-05-13 13:16:08,055] Trial 118 finished with value: 0.9027764705882353 and parameters: {'C': 1.0727078651663917, 'penalty': 'l2', 'solver': 'liblinear', 'class_weight': 'balanced', 'tol': 1.4969214606324148e-05, 'solver_for_l2': 'lbfgs'}. Best is trial 63 with value: 0.9086117647058825.\n",
      "[I 2025-05-13 13:16:11,982] Trial 119 finished with value: 0.9083529411764705 and parameters: {'C': 6.216247625249015, 'penalty': 'l2', 'solver': 'saga', 'class_weight': 'balanced', 'tol': 1.3361423203482488e-05, 'solver_for_l2': 'lbfgs'}. Best is trial 63 with value: 0.9086117647058825.\n",
      "[I 2025-05-13 13:16:15,664] Trial 120 finished with value: 0.9074117647058824 and parameters: {'C': 2.650240245986558, 'penalty': 'l2', 'solver': 'saga', 'class_weight': None, 'tol': 1.663608076764453e-05, 'solver_for_l2': 'lbfgs'}. Best is trial 63 with value: 0.9086117647058825.\n",
      "[I 2025-05-13 13:16:18,479] Trial 121 finished with value: 0.9084235294117647 and parameters: {'C': 5.654666353257954, 'penalty': 'l2', 'solver': 'liblinear', 'class_weight': 'balanced', 'tol': 5.800134703349358e-05, 'solver_for_l2': 'sag'}. Best is trial 63 with value: 0.9086117647058825.\n",
      "[I 2025-05-13 13:16:21,173] Trial 122 finished with value: 0.9083764705882352 and parameters: {'C': 4.938510708933382, 'penalty': 'l2', 'solver': 'liblinear', 'class_weight': 'balanced', 'tol': 7.810834037455202e-05, 'solver_for_l2': 'sag'}. Best is trial 63 with value: 0.9086117647058825.\n",
      "[I 2025-05-13 13:16:24,234] Trial 123 finished with value: 0.908235294117647 and parameters: {'C': 7.757589156913919, 'penalty': 'l2', 'solver': 'liblinear', 'class_weight': 'balanced', 'tol': 2.1212230595329608e-05, 'solver_for_l2': 'sag'}. Best is trial 63 with value: 0.9086117647058825.\n",
      "[I 2025-05-13 13:16:29,319] Trial 124 finished with value: 0.9065411764705882 and parameters: {'C': 22.388491516309482, 'penalty': 'l2', 'solver': 'liblinear', 'class_weight': 'balanced', 'tol': 5.942237070560043e-05, 'solver_for_l2': 'sag'}. Best is trial 63 with value: 0.9086117647058825.\n",
      "[I 2025-05-13 13:16:33,486] Trial 125 finished with value: 0.9072941176470589 and parameters: {'C': 14.143253964451391, 'penalty': 'l2', 'solver': 'liblinear', 'class_weight': 'balanced', 'tol': 3.625564393821044e-05, 'solver_for_l2': 'sag'}. Best is trial 63 with value: 0.9086117647058825.\n",
      "[I 2025-05-13 13:16:36,082] Trial 126 finished with value: 0.9080941176470588 and parameters: {'C': 3.737363268214749, 'penalty': 'l2', 'solver': 'liblinear', 'class_weight': 'balanced', 'tol': 5.4090805042085016e-05, 'solver_for_l2': 'lbfgs'}. Best is trial 63 with value: 0.9086117647058825.\n",
      "[I 2025-05-13 13:16:38,802] Trial 127 finished with value: 0.9075529411764706 and parameters: {'C': 9.889224963267933, 'penalty': 'l2', 'solver': 'saga', 'class_weight': 'balanced', 'tol': 0.00011099207688317262, 'solver_for_l2': 'lbfgs'}. Best is trial 63 with value: 0.9086117647058825.\n",
      "[I 2025-05-13 13:16:41,952] Trial 128 finished with value: 0.8925882352941177 and parameters: {'C': 35.20026802947592, 'penalty': 'l1', 'solver': 'saga', 'class_weight': 'balanced', 'tol': 6.845404403537643e-05, 'solver_for_l1': 'liblinear'}. Best is trial 63 with value: 0.9086117647058825.\n",
      "[I 2025-05-13 13:16:43,454] Trial 129 finished with value: 0.9054117647058824 and parameters: {'C': 5.48776867422042, 'penalty': 'l2', 'solver': 'liblinear', 'class_weight': 'balanced', 'tol': 0.0005964293406587616, 'solver_for_l2': 'lbfgs'}. Best is trial 63 with value: 0.9086117647058825.\n",
      "[I 2025-05-13 13:16:46,033] Trial 130 finished with value: 0.8062117647058823 and parameters: {'C': 0.0003825680619297924, 'penalty': 'l2', 'solver': 'saga', 'class_weight': 'balanced', 'tol': 1.0165240163853518e-05, 'solver_for_l2': 'sag'}. Best is trial 63 with value: 0.9086117647058825.\n",
      "[I 2025-05-13 13:16:49,058] Trial 131 finished with value: 0.9085647058823529 and parameters: {'C': 6.435462869095215, 'penalty': 'l2', 'solver': 'liblinear', 'class_weight': 'balanced', 'tol': 1.8777823017326833e-05, 'solver_for_l2': 'sag'}. Best is trial 63 with value: 0.9086117647058825.\n",
      "[I 2025-05-13 13:16:52,365] Trial 132 finished with value: 0.908164705882353 and parameters: {'C': 7.389049991085244, 'penalty': 'l2', 'solver': 'liblinear', 'class_weight': 'balanced', 'tol': 1.9546417187437166e-05, 'solver_for_l2': 'sag'}. Best is trial 63 with value: 0.9086117647058825.\n",
      "[I 2025-05-13 13:16:55,368] Trial 133 finished with value: 0.9084941176470588 and parameters: {'C': 3.81194759496551, 'penalty': 'l2', 'solver': 'liblinear', 'class_weight': 'balanced', 'tol': 2.5536497634065886e-05, 'solver_for_l2': 'sag'}. Best is trial 63 with value: 0.9086117647058825.\n",
      "[I 2025-05-13 13:16:58,129] Trial 134 finished with value: 0.9083058823529413 and parameters: {'C': 3.638160983170875, 'penalty': 'l2', 'solver': 'liblinear', 'class_weight': 'balanced', 'tol': 2.6550228389367292e-05, 'solver_for_l2': 'sag'}. Best is trial 63 with value: 0.9086117647058825.\n",
      "[I 2025-05-13 13:17:00,849] Trial 135 finished with value: 0.9073176470588236 and parameters: {'C': 2.456951363653301, 'penalty': 'l2', 'solver': 'liblinear', 'class_weight': 'balanced', 'tol': 2.4080822006701865e-05, 'solver_for_l2': 'lbfgs'}. Best is trial 63 with value: 0.9086117647058825.\n",
      "[I 2025-05-13 13:17:04,842] Trial 136 finished with value: 0.9071764705882354 and parameters: {'C': 13.419813977187102, 'penalty': 'l2', 'solver': 'liblinear', 'class_weight': 'balanced', 'tol': 3.065313124997828e-05, 'solver_for_l2': 'sag'}. Best is trial 63 with value: 0.9086117647058825.\n",
      "[I 2025-05-13 13:17:08,324] Trial 137 finished with value: 0.9084470588235295 and parameters: {'C': 4.267593324908788, 'penalty': 'l2', 'solver': 'saga', 'class_weight': 'balanced', 'tol': 1.8542054322782397e-05, 'solver_for_l2': 'lbfgs'}. Best is trial 63 with value: 0.9086117647058825.\n",
      "[I 2025-05-13 13:17:10,209] Trial 138 finished with value: 0.8861411764705883 and parameters: {'C': 0.2176562234943686, 'penalty': 'l2', 'solver': 'saga', 'class_weight': 'balanced', 'tol': 2.064450220909279e-05, 'solver_for_l2': 'lbfgs'}. Best is trial 63 with value: 0.9086117647058825.\n",
      "[I 2025-05-13 13:17:13,442] Trial 139 finished with value: 0.9056000000000001 and parameters: {'C': 1.6767938492411643, 'penalty': 'l2', 'solver': 'liblinear', 'class_weight': 'balanced', 'tol': 1.2028060058702395e-05, 'solver_for_l2': 'lbfgs'}. Best is trial 63 with value: 0.9086117647058825.\n",
      "[I 2025-05-13 13:17:16,642] Trial 140 finished with value: 0.9081411764705882 and parameters: {'C': 9.095014658179544, 'penalty': 'l2', 'solver': 'saga', 'class_weight': 'balanced', 'tol': 1.4360600965276285e-05, 'solver_for_l2': 'sag'}. Best is trial 63 with value: 0.9086117647058825.\n",
      "[I 2025-05-13 13:17:19,900] Trial 141 finished with value: 0.9084235294117647 and parameters: {'C': 3.7636165473024286, 'penalty': 'l2', 'solver': 'saga', 'class_weight': 'balanced', 'tol': 1.7318263130005787e-05, 'solver_for_l2': 'lbfgs'}. Best is trial 63 with value: 0.9086117647058825.\n",
      "[I 2025-05-13 13:17:23,083] Trial 142 finished with value: 0.9075764705882353 and parameters: {'C': 2.943544124011361, 'penalty': 'l2', 'solver': 'saga', 'class_weight': 'balanced', 'tol': 2.511883411497672e-05, 'solver_for_l2': 'lbfgs'}. Best is trial 63 with value: 0.9086117647058825.\n",
      "[I 2025-05-13 13:17:26,768] Trial 143 finished with value: 0.908235294117647 and parameters: {'C': 4.708810981231579, 'penalty': 'l2', 'solver': 'saga', 'class_weight': 'balanced', 'tol': 1.9143339419677375e-05, 'solver_for_l2': 'lbfgs'}. Best is trial 63 with value: 0.9086117647058825.\n",
      "[I 2025-05-13 13:17:30,784] Trial 144 finished with value: 0.9081882352941177 and parameters: {'C': 7.2320927038194265, 'penalty': 'l2', 'solver': 'saga', 'class_weight': 'balanced', 'tol': 2.1971440581239003e-05, 'solver_for_l2': 'lbfgs'}. Best is trial 63 with value: 0.9086117647058825.\n",
      "[I 2025-05-13 13:17:33,211] Trial 145 finished with value: 0.9070588235294119 and parameters: {'C': 2.308232738660422, 'penalty': 'l2', 'solver': 'saga', 'class_weight': 'balanced', 'tol': 1.6491495830653562e-05, 'solver_for_l2': 'lbfgs'}. Best is trial 63 with value: 0.9086117647058825.\n",
      "[I 2025-05-13 13:17:37,274] Trial 146 finished with value: 0.9081411764705882 and parameters: {'C': 4.359524604167503, 'penalty': 'l2', 'solver': 'saga', 'class_weight': 'balanced', 'tol': 1.5383877933604635e-05, 'solver_for_l2': 'lbfgs'}. Best is trial 63 with value: 0.9086117647058825.\n",
      "[I 2025-05-13 13:17:41,244] Trial 147 finished with value: 0.9083764705882352 and parameters: {'C': 6.286773109077975, 'penalty': 'l2', 'solver': 'liblinear', 'class_weight': None, 'tol': 1.2516783424598518e-05, 'solver_for_l2': 'lbfgs'}. Best is trial 63 with value: 0.9086117647058825.\n",
      "[I 2025-05-13 13:17:44,955] Trial 148 finished with value: 0.9074352941176471 and parameters: {'C': 11.29894907611979, 'penalty': 'l2', 'solver': 'saga', 'class_weight': 'balanced', 'tol': 2.28869070886637e-05, 'solver_for_l2': 'sag'}. Best is trial 63 with value: 0.9086117647058825.\n",
      "[I 2025-05-13 13:17:49,359] Trial 149 finished with value: 0.8943294117647058 and parameters: {'C': 16.087074812925884, 'penalty': 'l1', 'solver': 'liblinear', 'class_weight': 'balanced', 'tol': 1.8255801355034963e-05, 'solver_for_l1': 'liblinear'}. Best is trial 63 with value: 0.9086117647058825.\n"
     ]
    },
    {
     "name": "stdout",
     "output_type": "stream",
     "text": [
      "CPU times: total: 11.6 s\n",
      "Wall time: 7min 48s\n"
     ]
    }
   ],
   "source": [
    "%%time\n",
    "\n",
    "tuned_prep = make_pipeline(TextPreprocessor(**TUNED_TEXTPROCESSOR_PARAMS) , TfidfVectorizer(**TUNED_TFIDF_PARAMS))\n",
    "\n",
    "# feed Optuna with preprocessed data\n",
    "X_prep = tuned_prep.fit_transform(X_train)\n",
    "\n",
    "study_l = optuna.create_study(direction=\"maximize\",sampler=optuna.samplers.TPESampler())\n",
    "study_l.optimize(objective, n_trials=150)"
   ]
  },
  {
   "cell_type": "code",
   "execution_count": 15,
   "id": "71e2ec49-b4b5-469c-ac00-fbd161d682bf",
   "metadata": {},
   "outputs": [
    {
     "name": "stdout",
     "output_type": "stream",
     "text": [
      "Trial #63: Value = 0.9086117647058825\n",
      "Parameters: {'C': 5.7794495513868185, 'penalty': 'l2', 'solver': 'saga', 'class_weight': 'balanced', 'tol': 4.2742177892216486e-05, 'solver_for_l2': 'lbfgs'}\n",
      "--------------------------------------------------\n",
      "Trial #37: Value = 0.9085882352941177\n",
      "Parameters: {'C': 3.7887823736934756, 'penalty': 'l2', 'solver': 'liblinear', 'class_weight': 'balanced', 'tol': 1.1899943513574165e-05, 'solver_for_l2': 'lbfgs'}\n",
      "--------------------------------------------------\n",
      "Trial #15: Value = 0.9085647058823529\n",
      "Parameters: {'C': 5.622742965020892, 'penalty': 'l2', 'solver': 'liblinear', 'class_weight': 'balanced', 'tol': 1.4166267203466994e-05, 'solver_for_l2': 'lbfgs'}\n",
      "--------------------------------------------------\n",
      "Trial #131: Value = 0.9085647058823529\n",
      "Parameters: {'C': 6.435462869095215, 'penalty': 'l2', 'solver': 'liblinear', 'class_weight': 'balanced', 'tol': 1.8777823017326833e-05, 'solver_for_l2': 'sag'}\n",
      "--------------------------------------------------\n",
      "Trial #71: Value = 0.9085411764705882\n",
      "Parameters: {'C': 4.964081080001533, 'penalty': 'l2', 'solver': 'saga', 'class_weight': 'balanced', 'tol': 1.9267061806651076e-05, 'solver_for_l2': 'lbfgs'}\n",
      "--------------------------------------------------\n"
     ]
    }
   ],
   "source": [
    "sorted_trials = sorted(study_l.trials, key=lambda t: t.value, reverse=True)\n",
    "\n",
    "top_n = 5\n",
    "for trial in sorted_trials[:top_n]:\n",
    "    print(f\"Trial #{trial.number}: Value = {trial.value}\")\n",
    "    print(f\"Parameters: {trial.params}\")\n",
    "    print(\"-\" * 50)"
   ]
  },
  {
   "cell_type": "code",
   "execution_count": 17,
   "id": "31959833-aeda-4f28-b96d-55c5e0eef3fa",
   "metadata": {},
   "outputs": [
    {
     "name": "stdout",
     "output_type": "stream",
     "text": [
      "==== TrainSet CV5 Out-of-Sample Classification Metrics ====\n",
      "              precision    recall  f1-score   support\n",
      "\n",
      "           0       0.91      0.90      0.91     21292\n",
      "           1       0.90      0.92      0.91     21208\n",
      "\n",
      "    accuracy                           0.91     42500\n",
      "   macro avg       0.91      0.91      0.91     42500\n",
      "weighted avg       0.91      0.91      0.91     42500\n",
      "\n"
     ]
    },
    {
     "data": {
      "image/png": "[encoded data removed]",
      "text/plain": [
       "<Figure size 640x480 with 2 Axes>"
      ]
     },
     "metadata": {},
     "output_type": "display_data"
    }
   ],
   "source": [
    "TUNED_TEXTPROCESSOR_PARAMS = {'expand_contractions': True, 'stemming': True, 'n_jobs': -1}\n",
    "TUNED_TFIDF_PARAMS = {'ngram_range': (1, 2), 'max_features': 43047, 'min_df': 5, 'max_df': 0.75}\n",
    "LOGREG_PARAMS = {'C': 5.7794495513868185, 'penalty': 'l2', 'solver': 'saga', 'class_weight': 'balanced', \n",
    "                 'tol': 4.2742177892216486e-05, 'random_state':42 , 'n_jobs':-1}\n",
    "\n",
    "logr_tuned = make_pipeline(\n",
    "    TextPreprocessor(**TUNED_TEXTPROCESSOR_PARAMS),\n",
    "    TfidfVectorizer(**TUNED_TFIDF_PARAMS),\n",
    "    LogisticRegression(**LOGREG_PARAMS))\n",
    "\n",
    "clfeval(logr_tuned, X_train, y_train, conf_mtx=True)"
   ]
  },
  {
   "cell_type": "markdown",
   "id": "919d541d-a803-450a-bfb6-aef2369b6ecd",
   "metadata": {},
   "source": [
    "We’ve made another improvement! By fine-tuning both preprocessing and the classifier, we’ve achieved a 3% reduction in false negatives and a 2% reduction in false positives compared to our baseline model. This fine-tuning has resulted in an 18% decrease in overall error, leading to an 91% validation F1 score and accuracy."
   ]
  },
  {
   "cell_type": "markdown",
   "id": "d1da4a56-5ab4-40e9-bc23-445650df36ff",
   "metadata": {
    "id": "d1da4a56-5ab4-40e9-bc23-445650df36ff"
   },
   "source": [
    "#### 3.4.4. Sentiment Lexicon Ensembling"
   ]
  },
  {
   "cell_type": "markdown",
   "id": "b7ccb4be-5da8-4588-a7da-007ffb7c110f",
   "metadata": {},
   "source": [
    "**Can Sentiment Lexicons Help Correct Misclassifications?**\n",
    "\n",
    "In this section, I explore whether incorporating sentiment lexicons can help reduce misclassified samples and improve model performance.\n",
    "\n",
    "**What Are Sentiment Lexicons?**\n",
    "\n",
    "Before machine learning became dominant in sentiment analysis, most systems relied on rule-based approaches. These systems used predefined vocabularies—called *sentiment lexicons*—where each word was assigned a sentiment score based on its polarity (positive, negative, or neutral).\n",
    "\n",
    "To compute the sentiment of a sentence or paragraph, the scores of individual words were summed, and the overall score determined the sentiment polarity of the text. While this approach was limited in nuance and flexibility, it formed the foundation for modern sentiment analysis.\n",
    "\n",
    "\n",
    "**VADER**\n",
    "\n",
    "VADER (Valence Aware Dictionary and sEntiment Reasoner) is a widely used rule-based sentiment analysis tool designed specifically for social media text. It is lexicon-based and provides four scores: *positive*, *neutral*, *negative*, and *compound* (a normalized aggregate score). VADER is known for its ability to handle emoticons, slang, and negation.\n",
    "\n",
    "\n",
    "**How We Can Integrate Sentiment Lexicons to Improve Model Performance?**\n",
    "\n",
    "I examined two ways to integrate VADER scores into the current modeling pipeline:\n",
    "\n",
    "1. **Adding VADER as a Feature**\n",
    "\n",
    "My first approach was to include VADER’s compound score as an additional feature. I built a parallel pipeline that extracted this score and then combined it with the main feature set using `FeatureUnion`.\n",
    "\n",
    "However, this approach reduced performance, lowering accuracy to 0.83. I deliberately excluded the individual *positive*, *neutral*, and *negative* scores to avoid potential multicollinearity, especially since these components are highly correlated with the compound score and could negatively interact with Logistic Regression.\n",
    "\n",
    "2. **Ensembling a Separate VADER-Based Classifier**\n",
    "\n",
    "I will integrate VADER scores into prediction pipelines, using two techniques:"
   ]
  },
  {
   "cell_type": "markdown",
   "id": "8caa047f-4788-4392-a948-3ef0d87cd349",
   "metadata": {
    "jp-MarkdownHeadingCollapsed": true
   },
   "source": [
    "##### 3.4.4.1 Integrating VADER via Soft Voting Ensemble"
   ]
  },
  {
   "cell_type": "markdown",
   "id": "7f1cfde2-7ea9-4eae-a578-df47ada2d875",
   "metadata": {},
   "source": [
    "I built a custom transformer that converts raw text into a 4-dimensional vector of VADER sentiment scores. I then trained a LightGBM classifier on these features using the original labels—choosing LightGBM specifically to mitigate potential multicollinearity issues that can affect linear models.\n",
    "\n",
    "Next, I aggregated the predictions from both classifiers—the VADER-based LightGBM and the original Logistic Regression—using a soft voting approach. This method combines their predicted probabilities, and I experimented with different weight combinations to evaluate the impact of each classifier on the final prediction."
   ]
  },
  {
   "cell_type": "code",
   "execution_count": 5,
   "id": "0f38711a-84bf-4c28-8302-88923f9d3cd3",
   "metadata": {},
   "outputs": [],
   "source": [
    "class VaderTransformer(BaseEstimator, TransformerMixin):\n",
    "    \"\"\"\n",
    "    Transformer that extracts VADER sentiment scores (neg, neu, pos, compound)\n",
    "    from raw text. Supports parallel processing and is compatible with \n",
    "    Scikit-learn pipelines.\n",
    "\n",
    "    Parameters\n",
    "    ----------\n",
    "    n_jobs : int, default=-1\n",
    "        Number of parallel jobs to run. Set to 1 to disable parallelism.\n",
    "    \"\"\"\n",
    "    def __init__(self, n_jobs=-1):\n",
    "        self.vader = SentimentIntensityAnalyzer()\n",
    "        self.n_jobs = n_jobs\n",
    "\n",
    "    def fit(self, X, y=None):\n",
    "        self.n_features_in_ = 4\n",
    "        return self\n",
    "\n",
    "    def transform(self, X):\n",
    "        def get_scores(text):\n",
    "            scores = self.vader.polarity_scores(text)\n",
    "            return [scores['neg'], scores['neu'], scores['pos'], scores['compound']]\n",
    "        \n",
    "        if self.n_jobs == 1:\n",
    "            return np.array([get_scores(text) for text in X], dtype=np.float32)\n",
    "        else:\n",
    "            return np.array(Parallel(n_jobs=self.n_jobs)(delayed(get_scores)(text) for text in X), dtype=np.float32)"
   ]
  },
  {
   "cell_type": "code",
   "execution_count": null,
   "id": "9bd5876e-e2df-4924-895f-6758e08eb3e2",
   "metadata": {},
   "outputs": [],
   "source": [
    "# LGBM_Vader: classifier that transform corpus to vader scores & fit a LGBM on it\n",
    "\n",
    "# seprating training set into new train/val set to avoid k-fold cross validation\n",
    "X_tr,X_val,y_tr,y_val = train_test_split(X_train,y_train, train_size=0.8,random_state=42) # to evaluate on a val set\n",
    "\n",
    "lgbm_vader = make_pipeline(VaderTransformer() , LGBMClassifier(n_jobs=-1 , random_state=42, verbose = -1)).fit(X_tr,y_tr)\n",
    "logr_tuned.fit(X_tr,y_tr)"
   ]
  },
  {
   "cell_type": "code",
   "execution_count": 31,
   "id": "c4c44958-de75-427f-bcd9-78c133f49040",
   "metadata": {},
   "outputs": [
    {
     "name": "stdout",
     "output_type": "stream",
     "text": [
      "Weights: (0.1, 0.9) -> Accuracy: 0.7574\n",
      "Weights: (0.18888888888888888, 0.8111111111111111) -> Accuracy: 0.7884\n",
      "Weights: (0.2777777777777778, 0.7222222222222222) -> Accuracy: 0.8226\n",
      "Weights: (0.3666666666666667, 0.6333333333333333) -> Accuracy: 0.8507\n",
      "Weights: (0.4555555555555556, 0.5444444444444444) -> Accuracy: 0.8851\n",
      "Weights: (0.5444444444444445, 0.4555555555555555) -> Accuracy: 0.8985\n",
      "Weights: (0.6333333333333333, 0.3666666666666667) -> Accuracy: 0.9061\n",
      "Weights: (0.7222222222222222, 0.2777777777777778) -> Accuracy: 0.9093\n",
      "Weights: (0.8111111111111111, 0.18888888888888888) -> Accuracy: 0.9094\n",
      "Weights: (0.9, 0.09999999999999998) -> Accuracy: 0.9112\n",
      "Logistic Regression Performance: 0.9116470588235294\n"
     ]
    }
   ],
   "source": [
    "def SoftVotingClassifier(clf_list, weights, X_val):\n",
    "    \"\"\" accepts fitted estimators \"\"\"\n",
    "    weighted_probs = sum(w * clf.predict_proba(X_val)[:, 1] for clf, w in zip(clf_list, weights))\n",
    "    avg_prob = weighted_probs / sum(weights)\n",
    "    return np.where(avg_prob >= 0.5, 1, 0)\n",
    "\n",
    "weight_combos = [(w, 1 - w) for w in np.linspace(0.1, 0.9, 10)] # trying different weights for each classifier predicions\n",
    "clf_list = [logr_tuned , lgbm_vader]\n",
    "\n",
    "for weights in weight_combos:\n",
    "    yhat = SoftVotingClassifier(clf_list, weights, X_val)\n",
    "    acc = accuracy_score(y_val, yhat)\n",
    "    print(f\"Weights: {weights} -> Accuracy: {acc:.4f}\")\n",
    "\n",
    "print(f\"Logistic Regression Performance: {logr_tuned.score(X_val,y_val)}\")"
   ]
  },
  {
   "cell_type": "markdown",
   "id": "6ae14c2a-b501-43da-bc5a-12c5f3b98b2a",
   "metadata": {},
   "source": [
    "Comparing the best-performing weight ratio to using Logistic Regression alone, the voting classifier didn’t lead to any improvement. Let’s move on to the next approach."
   ]
  },
  {
   "cell_type": "markdown",
   "id": "3b32f16a-feee-4d77-849b-0b7b78fce847",
   "metadata": {
    "jp-MarkdownHeadingCollapsed": true
   },
   "source": [
    "##### 3.4.4.2 Integrating VADER via Stacking Ensemble"
   ]
  },
  {
   "cell_type": "markdown",
   "id": "bb5cbc7f-dbe1-41c6-8d96-095bb0aa7160",
   "metadata": {},
   "source": [
    "In this approach, we’ll fit a meta-learner—in this case, another Logistic Regression—on top of the predicted probabilities from our two base classifiers. This allows a machine learning model to learn how best to combine their outputs in order to optimize overall performance."
   ]
  },
  {
   "cell_type": "code",
   "execution_count": null,
   "id": "ae2a26d2-30c7-430a-b9dc-f6218d41aa0c",
   "metadata": {},
   "outputs": [],
   "source": [
    "stacking = StackingClassifier([(\"logreg\" , logr_tuned) , (\"vader\" , lgbm_vader)] ,\n",
    "                              final_estimator=LogisticRegression(n_jobs=-1),n_jobs=-1).fit(X_tr,y_tr)"
   ]
  },
  {
   "cell_type": "code",
   "execution_count": 33,
   "id": "a49ed793-c4f1-412f-9499-8f95f66c43b6",
   "metadata": {},
   "outputs": [
    {
     "name": "stdout",
     "output_type": "stream",
     "text": [
      "StackingClassifier Accuracy: 0.9094117647058824\n"
     ]
    }
   ],
   "source": [
    "print(f\"StackingClassifier Accuracy: {stacking.score(X_val,y_val)}\")"
   ]
  },
  {
   "cell_type": "markdown",
   "id": "abccc06c-cf42-4f97-a5dc-1eec3cf9a042",
   "metadata": {},
   "source": [
    "Since incorporating VADER scores didn’t lead to any performance improvement, we’ll skip integrating them into our final sentiment analysis pipeline."
   ]
  },
  {
   "cell_type": "markdown",
   "id": "28d05fe0-6bfc-4441-ac48-a2cb7f0824a8",
   "metadata": {},
   "source": [
    "### 3.5. Final Evaluations & Model Generalization"
   ]
  },
  {
   "cell_type": "markdown",
   "id": "02246c89-0c4d-4695-9c87-14c2be3a73ea",
   "metadata": {},
   "source": [
    "Now that we've selected our best-performing sentiment analysis pipeline—covering everything from text transformers to the final predictor—and fine-tuned its hyperparameters, it's time to test it. We'll start by evaluating its generalization performance on the test set we set aside at the beginning of the notebook. After that, we'll assess how well the model handles some generated sample texts to better understand its behavior in real-world scenarios."
   ]
  },
  {
   "cell_type": "markdown",
   "id": "b09ae95d-52b7-404e-a21b-d28f6c102642",
   "metadata": {},
   "source": [
    "#### 3.5.1. Model Generalization Performance"
   ]
  },
  {
   "cell_type": "code",
   "execution_count": 6,
   "id": "49f554fd-1fce-429e-a873-8f93ba953d51",
   "metadata": {},
   "outputs": [],
   "source": [
    "TUNED_TEXTPROCESSOR_PARAMS = {'expand_contractions': True, 'stemming': True, 'n_jobs': -1}\n",
    "TUNED_TFIDF_PARAMS = {'ngram_range': (1, 2), 'max_features': 43047, 'min_df': 5, 'max_df': 0.75}\n",
    "LOGREG_PARAMS = {'C': 5.7794495513868185, 'penalty': 'l2', 'solver': 'saga', 'class_weight': 'balanced', \n",
    "                 'tol': 4.2742177892216486e-05, 'random_state':42 , 'n_jobs':-1}\n",
    "\n",
    "logr_tuned = make_pipeline(\n",
    "    TextPreprocessor(**TUNED_TEXTPROCESSOR_PARAMS),\n",
    "    TfidfVectorizer(**TUNED_TFIDF_PARAMS),\n",
    "    LogisticRegression(**LOGREG_PARAMS)).fit(X_train,y_train)"
   ]
  },
  {
   "cell_type": "code",
   "execution_count": 60,
   "id": "fb17019d-0b68-4fbf-b19c-b033ec772341",
   "metadata": {},
   "outputs": [
    {
     "name": "stdout",
     "output_type": "stream",
     "text": [
      "Test Set Accuracy: 0.9167\n"
     ]
    }
   ],
   "source": [
    "print(f\"Test Set Accuracy: {logr_tuned.score(X_test,y_test):.4f}\")"
   ]
  },
  {
   "cell_type": "markdown",
   "id": "04834ea2-99c4-4655-9921-c9bf621bfd28",
   "metadata": {},
   "source": [
    "Well, that’s a great result! We successfully trained and fine-tuned a linear model, achieving 91.67% accuracy on our text classification task. This score reflects the model's strong ability to generalize and effectively distinguish between sentiment classes, even with a relatively simple and interpretable approach."
   ]
  },
  {
   "cell_type": "markdown",
   "id": "cdb07740-f416-43ca-bd93-94c8217d89bb",
   "metadata": {
    "jp-MarkdownHeadingCollapsed": true
   },
   "source": [
    "#### 3.5.2. Testing Sentiment Predictions on Movie Review Samples"
   ]
  },
  {
   "cell_type": "code",
   "execution_count": 74,
   "id": "c5892f95-f24d-4a3d-8a90-590f35e81ed4",
   "metadata": {},
   "outputs": [
    {
     "name": "stdout",
     "output_type": "stream",
     "text": [
      "Sentiment Prediction on Sample Reviews\n",
      "\n",
      "====\n",
      "Text Type: Clearly Positive\n",
      "Text: This movie was absolutely fantastic! I loved every moment of it. The acting was stellar and the plot kept me engaged until the very end.\n",
      "Predicted Probabilities -> Negative: 0.0275 | Positive: 0.9725\n",
      "Predicted Class: Positive \n",
      "====\n",
      "====\n",
      "Text Type: Clearly Negative\n",
      "Text: An utter waste of time. Horribly acted and painfully slow. I couldn't wait for it to end and regretted watching it.\n",
      "Predicted Probabilities -> Negative: 0.9965 | Positive: 0.0035\n",
      "Predicted Class: Negative \n",
      "====\n",
      "====\n",
      "Text Type: Mildly Positive\n",
      "Text: It was okay, not great but not terrible either. Kind of enjoyable in parts, but there were a lot of slow moments. I would say it's a 5/10.\n",
      "Predicted Probabilities -> Negative: 0.6132 | Positive: 0.3868\n",
      "Predicted Class: Negative \n",
      "====\n",
      "====\n",
      "Text Type: Mildly Negative\n",
      "Text: Some parts were good, but overall it fell flat and didn’t meet expectations. I was hoping for more, but it didn’t deliver.\n",
      "Predicted Probabilities -> Negative: 0.7016 | Positive: 0.2984\n",
      "Predicted Class: Negative \n",
      "====\n",
      "====\n",
      "Text Type: Ambiguous\n",
      "Text: The movie had moments that made me think, but I’m not sure how I feel about it. It was a mixed bag. Some scenes were interesting, but others left me confused.\n",
      "Predicted Probabilities -> Negative: 0.6427 | Positive: 0.3573\n",
      "Predicted Class: Negative \n",
      "====\n"
     ]
    }
   ],
   "source": [
    "sample_reviews = [\n",
    "    (\"This movie was absolutely fantastic! I loved every moment of it. The acting was stellar and the plot kept me engaged until the very end.\", \"Clearly Positive\"),\n",
    "    (\"An utter waste of time. Horribly acted and painfully slow. I couldn't wait for it to end and regretted watching it.\", \"Clearly Negative\"),\n",
    "    (\"It was okay, not great but not terrible either. Kind of enjoyable in parts, but there were a lot of slow moments. I would say it's a 5/10.\", \"Mildly Positive\"),\n",
    "    (\"Some parts were good, but overall it fell flat and didn’t meet expectations. I was hoping for more, but it didn’t deliver.\", \"Mildly Negative\"),\n",
    "    (\"The movie had moments that made me think, but I’m not sure how I feel about it. It was a mixed bag. Some scenes were interesting, but others left me confused.\", \"Ambiguous\")]\n",
    "\n",
    "print(\"Sentiment Prediction on Sample Reviews\\n\")\n",
    "\n",
    "for text, label in sample_reviews:\n",
    "    probs = logr_tuned.predict_proba([text])[0]  \n",
    "    pred_class = logr_tuned.predict([text])[0]\n",
    "    \n",
    "    print(f\"====\\nText Type: {label}\")\n",
    "    print(f\"Text: {text}\")\n",
    "    print(f\"Predicted Probabilities -> Negative: {probs[0]:.4f} | Positive: {probs[1]:.4f}\")\n",
    "    print(f\"Predicted Class: {'Positive' if pred_class == 1 else 'Negative'} \\n====\")"
   ]
  },
  {
   "cell_type": "markdown",
   "id": "dc99e4ba-b573-42d3-bfd5-06c74a47abbe",
   "metadata": {},
   "source": [
    "- **Clearly Positive Review**\n",
    "\n",
    "\n",
    "The model performed well on this sample. It confidently predicted a high positive probability (97%), which aligns with the strong positive tone of the text. This confirms that the model is effective at identifying explicit positivity.\n",
    "\n",
    "- **Clearly Negative Review**\n",
    "\n",
    "  \n",
    "Similarly, for a clearly negative review, the model assigned an extremely high negative probability (99.6%), which is accurate and expected. It shows the model has no trouble classifying strongly negative input.\n",
    "\n",
    "- **Mildly Positive Review**\n",
    "\n",
    "  \n",
    "This case was more nuanced, and the model misclassified it as negative. Although the tone is mixed and the score mentioned is 5/10, the overall sentiment leans slightly positive. However, the model predicted a higher probability for negative (61%) than positive. This suggests it's struggling to capture subtleties in less polarized reviews.\n",
    "\n",
    "- **Mildly Negative Review**\n",
    "\n",
    "  \n",
    "The model correctly classified this as negative, with about 70% confidence. This makes sense, as the review contained disappointment and unmet expectations. It's reassuring that the model handles mild negativity better than mild positivity.\n",
    "\n",
    "- **Ambiguous Review**\n",
    "  \n",
    "For this more balanced, uncertain review, the model again leaned toward negative (64%), likely due to phrases like “left me confused” and “mixed bag.” While this could go either way, the prediction seems reasonable. Still, it highlights the model’s tendency to lean negative when sentiment is unclear"
   ]
  },
  {
   "cell_type": "markdown",
   "id": "e9b48247-dda9-4093-9bc9-4926a20d6b3a",
   "metadata": {
    "jp-MarkdownHeadingCollapsed": true
   },
   "source": [
    "## Part 4: Prepare Optimized Pipeline for Deployment"
   ]
  },
  {
   "cell_type": "markdown",
   "id": "2e32c684-e095-4a56-a030-381824c3406d",
   "metadata": {},
   "source": [
    "**Deployment Preparation & Pipeline Saving**\n",
    "\n",
    "To facilitate smooth deployment and reuse of the best-performing sentiment analysis pipeline, I will save the **entire fitted pipeline** using `joblib`. This allows the model, including all preprocessing steps, to be easily loaded and used in production environments.\n",
    "I will refit pipeline using whole dataset as well\n",
    "\n",
    "---\n",
    "\n",
    "**Packaging `TextPreprocessor` for Reusability**\n",
    "\n",
    "To simplify the use of the `TextPreprocessor` class in other projects and production pipelines, I have published it as a Python package:\n",
    "\n",
    "* **PyPI**:\n",
    "\n",
    "  `pip install hoomanmltk`\n",
    "\n",
    "* **GitHub**:\n",
    "\n",
    "  `pip install git+https://github.com/hoom4n/HoomanMLTK.git`\n",
    "\n",
    "You can then import and use it in your projects as: `from hoomanmltk.nlp import TextPreprocessor`\n",
    "\n",
    "This packaging makes it easier to integrate preprocessing into any ML or NLP workflow without needing to manually copy the class.\n",
    "\n",
    "---\n",
    "\n",
    "**Saving the Pipeline**\n",
    "\n",
    "The full prediction pipeline (including the text preprocessor, vectorizer, and trained model) will be saved using `joblib`, This serialized file can later be loaded and used for inference without retraining:\n",
    "\n",
    "`joblib.load(\"sentiment_pipeline.joblib\")`\n",
    "\n",
    "---\n",
    "\n",
    "**Deployment Options**\n",
    "\n",
    "This project is available for deployment on GitHub:\n",
    "🔗 **[https://github.com/Hoom4n/SentiMDB](https://github.com/Hoom4n/SentiMDB)**\n",
    "\n",
    "There are multiple deployment options:\n",
    "\n",
    "* **Flask Web Server**\n",
    "  Clone the repository, navigate to the `app` folder, and run the app:\n",
    "\n",
    "\n",
    "  `python app.py`\n",
    "\n",
    "  Then open the specified `http://<host>:<port>` in your browser to access the web interface.\n",
    "\n",
    "* **Dockerized Web App**\n",
    "  A Dockerized version of the app is available. You can either:\n",
    "\n",
    "  * Build the image manually following the repo instructions\n",
    "  * Or use the provided `docker-compose.yml` for quick setup"
   ]
  },
  {
   "cell_type": "code",
   "execution_count": 5,
   "id": "bbabd7a2-9c2e-46f2-be61-f4a59e2f1b8e",
   "metadata": {},
   "outputs": [],
   "source": [
    "from sklearn.feature_extraction.text import TfidfVectorizer\n",
    "from sklearn.linear_model import LogisticRegression\n",
    "from hoomanmltk.nlp import TextPreprocessor\n",
    "\n",
    "TUNED_TEXTPROCESSOR_PARAMS = {'expand_contractions': True, 'stemming': True, 'n_jobs': -1}\n",
    "TUNED_TFIDF_PARAMS = {'ngram_range': (1, 2), 'max_features': 43047, 'min_df': 5, 'max_df': 0.75}\n",
    "LOGREG_PARAMS = {'C': 5.7794495513868185, 'penalty': 'l2', 'solver': 'saga', 'class_weight': 'balanced', \n",
    "                 'tol': 4.2742177892216486e-05, 'random_state':42 , 'n_jobs':-1}\n",
    "\n",
    "logr_tuned = make_pipeline(\n",
    "    TextPreprocessor(**TUNED_TEXTPROCESSOR_PARAMS),\n",
    "    TfidfVectorizer(**TUNED_TFIDF_PARAMS),\n",
    "    LogisticRegression(**LOGREG_PARAMS))"
   ]
  },
  {
   "cell_type": "code",
   "execution_count": null,
   "id": "1b2bd1bc-0fbe-46c3-a88e-4dbb789900ea",
   "metadata": {},
   "outputs": [],
   "source": [
    "# fitting pipeline on whole dataset\n",
    "\n",
    "encoder = LabelEncoder()\n",
    "y = encoder.fit_transform(imdb_df[\"sentiment\"])\n",
    "\n",
    "logr_tuned.fit(imdb_df[\"review\"] ,y)"
   ]
  },
  {
   "cell_type": "code",
   "execution_count": 7,
   "id": "e0d6e515-dd01-4c83-8595-73ae6b7faf4e",
   "metadata": {},
   "outputs": [
    {
     "data": {
      "text/plain": [
       "['sentiment_pipeline.joblib']"
      ]
     },
     "execution_count": 7,
     "metadata": {},
     "output_type": "execute_result"
    }
   ],
   "source": [
    "from joblib import dump\n",
    "dump(logr_tuned,\"sentiment_pipeline.joblib\")"
   ]
  }
 ],
 "metadata": {
  "colab": {
   "provenance": []
  },
  "kernelspec": {
   "display_name": "Python 3 (ipykernel)",
   "language": "python",
   "name": "python3"
  },
  "language_info": {
   "codemirror_mode": {
    "name": "ipython",
    "version": 3
   },
   "file_extension": ".py",
   "mimetype": "text/x-python",
   "name": "python",
   "nbconvert_exporter": "python",
   "pygments_lexer": "ipython3",
   "version": "3.12.5"
  },
  "widgets": {
   "application/vnd.jupyter.widget-state+json": {
    "044f398bf4d243da965254f6282c9746": {
     "model_module": "@jupyter-widgets/controls",
     "model_module_version": "1.5.0",
     "model_name": "HTMLModel",
     "state": {
      "_dom_classes": [],
      "_model_module": "@jupyter-widgets/controls",
      "_model_module_version": "1.5.0",
      "_model_name": "HTMLModel",
      "_view_count": null,
      "_view_module": "@jupyter-widgets/controls",
      "_view_module_version": "1.5.0",
      "_view_name": "HTMLView",
      "description": "",
      "description_tooltip": null,
      "layout": "IPY_MODEL_0f6bfabfc6ac43cd832c18cec4c49afe",
      "placeholder": "​",
      "style": "IPY_MODEL_20b444cb85f744f2a985dc176c2fd676",
      "value": " 499M/499M [00:04&lt;00:00, 102MB/s]"
     }
    },
    "04700b793bca468dbef66ab4d276db8f": {
     "model_module": "@jupyter-widgets/base",
     "model_module_version": "1.2.0",
     "model_name": "LayoutModel",
     "state": {
      "_model_module": "@jupyter-widgets/base",
      "_model_module_version": "1.2.0",
      "_model_name": "LayoutModel",
      "_view_count": null,
      "_view_module": "@jupyter-widgets/base",
      "_view_module_version": "1.2.0",
      "_view_name": "LayoutView",
      "align_content": null,
      "align_items": null,
      "align_self": null,
      "border": null,
      "bottom": null,
      "display": null,
      "flex": null,
      "flex_flow": null,
      "grid_area": null,
      "grid_auto_columns": null,
      "grid_auto_flow": null,
      "grid_auto_rows": null,
      "grid_column": null,
      "grid_gap": null,
      "grid_row": null,
      "grid_template_areas": null,
      "grid_template_columns": null,
      "grid_template_rows": null,
      "height": null,
      "justify_content": null,
      "justify_items": null,
      "left": null,
      "margin": null,
      "max_height": null,
      "max_width": null,
      "min_height": null,
      "min_width": null,
      "object_fit": null,
      "object_position": null,
      "order": null,
      "overflow": null,
      "overflow_x": null,
      "overflow_y": null,
      "padding": null,
      "right": null,
      "top": null,
      "visibility": null,
      "width": null
     }
    },
    "07aba085ce91474bb3786d3c174dfe5e": {
     "model_module": "@jupyter-widgets/controls",
     "model_module_version": "1.5.0",
     "model_name": "HBoxModel",
     "state": {
      "_dom_classes": [],
      "_model_module": "@jupyter-widgets/controls",
      "_model_module_version": "1.5.0",
      "_model_name": "HBoxModel",
      "_view_count": null,
      "_view_module": "@jupyter-widgets/controls",
      "_view_module_version": "1.5.0",
      "_view_name": "HBoxView",
      "box_style": "",
      "children": [
       "IPY_MODEL_ef720fb323d941de9af435cd6dd2936f",
       "IPY_MODEL_ce7d9188c0fe40e7b8bec23a9b8c43d5",
       "IPY_MODEL_7d9b993f06b64a09b9e9e9bde1815ba5"
      ],
      "layout": "IPY_MODEL_470c1b38efcc48beb96aa062602927eb"
     }
    },
    "0ac12ff145514f449e3eea46a8de30f1": {
     "model_module": "@jupyter-widgets/base",
     "model_module_version": "1.2.0",
     "model_name": "LayoutModel",
     "state": {
      "_model_module": "@jupyter-widgets/base",
      "_model_module_version": "1.2.0",
      "_model_name": "LayoutModel",
      "_view_count": null,
      "_view_module": "@jupyter-widgets/base",
      "_view_module_version": "1.2.0",
      "_view_name": "LayoutView",
      "align_content": null,
      "align_items": null,
      "align_self": null,
      "border": null,
      "bottom": null,
      "display": null,
      "flex": null,
      "flex_flow": null,
      "grid_area": null,
      "grid_auto_columns": null,
      "grid_auto_flow": null,
      "grid_auto_rows": null,
      "grid_column": null,
      "grid_gap": null,
      "grid_row": null,
      "grid_template_areas": null,
      "grid_template_columns": null,
      "grid_template_rows": null,
      "height": null,
      "justify_content": null,
      "justify_items": null,
      "left": null,
      "margin": null,
      "max_height": null,
      "max_width": null,
      "min_height": null,
      "min_width": null,
      "object_fit": null,
      "object_position": null,
      "order": null,
      "overflow": null,
      "overflow_x": null,
      "overflow_y": null,
      "padding": null,
      "right": null,
      "top": null,
      "visibility": null,
      "width": null
     }
    },
    "0e80d93ea7ae4cd8b45d7b03b87c602e": {
     "model_module": "@jupyter-widgets/controls",
     "model_module_version": "1.5.0",
     "model_name": "FloatProgressModel",
     "state": {
      "_dom_classes": [],
      "_model_module": "@jupyter-widgets/controls",
      "_model_module_version": "1.5.0",
      "_model_name": "FloatProgressModel",
      "_view_count": null,
      "_view_module": "@jupyter-widgets/controls",
      "_view_module_version": "1.5.0",
      "_view_name": "ProgressView",
      "bar_style": "success",
      "description": "",
      "description_tooltip": null,
      "layout": "IPY_MODEL_bc9e3b9031644d5ea0305d9b2d4d1c21",
      "max": 456318,
      "min": 0,
      "orientation": "horizontal",
      "style": "IPY_MODEL_5f87c383c3c04e89aec21c1836aed5be",
      "value": 456318
     }
    },
    "0f6bfabfc6ac43cd832c18cec4c49afe": {
     "model_module": "@jupyter-widgets/base",
     "model_module_version": "1.2.0",
     "model_name": "LayoutModel",
     "state": {
      "_model_module": "@jupyter-widgets/base",
      "_model_module_version": "1.2.0",
      "_model_name": "LayoutModel",
      "_view_count": null,
      "_view_module": "@jupyter-widgets/base",
      "_view_module_version": "1.2.0",
      "_view_name": "LayoutView",
      "align_content": null,
      "align_items": null,
      "align_self": null,
      "border": null,
      "bottom": null,
      "display": null,
      "flex": null,
      "flex_flow": null,
      "grid_area": null,
      "grid_auto_columns": null,
      "grid_auto_flow": null,
      "grid_auto_rows": null,
      "grid_column": null,
      "grid_gap": null,
      "grid_row": null,
      "grid_template_areas": null,
      "grid_template_columns": null,
      "grid_template_rows": null,
      "height": null,
      "justify_content": null,
      "justify_items": null,
      "left": null,
      "margin": null,
      "max_height": null,
      "max_width": null,
      "min_height": null,
      "min_width": null,
      "object_fit": null,
      "object_position": null,
      "order": null,
      "overflow": null,
      "overflow_x": null,
      "overflow_y": null,
      "padding": null,
      "right": null,
      "top": null,
      "visibility": null,
      "width": null
     }
    },
    "10353671a6874d44bcb42c812b3186a1": {
     "model_module": "@jupyter-widgets/controls",
     "model_module_version": "1.5.0",
     "model_name": "HTMLModel",
     "state": {
      "_dom_classes": [],
      "_model_module": "@jupyter-widgets/controls",
      "_model_module_version": "1.5.0",
      "_model_name": "HTMLModel",
      "_view_count": null,
      "_view_module": "@jupyter-widgets/controls",
      "_view_module_version": "1.5.0",
      "_view_name": "HTMLView",
      "description": "",
      "description_tooltip": null,
      "layout": "IPY_MODEL_4ce19564f91e4b2a94dc0156e6a29ecb",
      "placeholder": "​",
      "style": "IPY_MODEL_39402822a8cb465487009c56ed0b8012",
      "value": "special_tokens_map.json: 100%"
     }
    },
    "20b444cb85f744f2a985dc176c2fd676": {
     "model_module": "@jupyter-widgets/controls",
     "model_module_version": "1.5.0",
     "model_name": "DescriptionStyleModel",
     "state": {
      "_model_module": "@jupyter-widgets/controls",
      "_model_module_version": "1.5.0",
      "_model_name": "DescriptionStyleModel",
      "_view_count": null,
      "_view_module": "@jupyter-widgets/base",
      "_view_module_version": "1.2.0",
      "_view_name": "StyleView",
      "description_width": ""
     }
    },
    "250f08c191514a108209296f47f6d154": {
     "model_module": "@jupyter-widgets/base",
     "model_module_version": "1.2.0",
     "model_name": "LayoutModel",
     "state": {
      "_model_module": "@jupyter-widgets/base",
      "_model_module_version": "1.2.0",
      "_model_name": "LayoutModel",
      "_view_count": null,
      "_view_module": "@jupyter-widgets/base",
      "_view_module_version": "1.2.0",
      "_view_name": "LayoutView",
      "align_content": null,
      "align_items": null,
      "align_self": null,
      "border": null,
      "bottom": null,
      "display": null,
      "flex": null,
      "flex_flow": null,
      "grid_area": null,
      "grid_auto_columns": null,
      "grid_auto_flow": null,
      "grid_auto_rows": null,
      "grid_column": null,
      "grid_gap": null,
      "grid_row": null,
      "grid_template_areas": null,
      "grid_template_columns": null,
      "grid_template_rows": null,
      "height": null,
      "justify_content": null,
      "justify_items": null,
      "left": null,
      "margin": null,
      "max_height": null,
      "max_width": null,
      "min_height": null,
      "min_width": null,
      "object_fit": null,
      "object_position": null,
      "order": null,
      "overflow": null,
      "overflow_x": null,
      "overflow_y": null,
      "padding": null,
      "right": null,
      "top": null,
      "visibility": null,
      "width": null
     }
    },
    "2c5342f64e20401d9d90ae6d0e981b74": {
     "model_module": "@jupyter-widgets/controls",
     "model_module_version": "1.5.0",
     "model_name": "ProgressStyleModel",
     "state": {
      "_model_module": "@jupyter-widgets/controls",
      "_model_module_version": "1.5.0",
      "_model_name": "ProgressStyleModel",
      "_view_count": null,
      "_view_module": "@jupyter-widgets/base",
      "_view_module_version": "1.2.0",
      "_view_name": "StyleView",
      "bar_color": null,
      "description_width": ""
     }
    },
    "2e6b867c9a174927bfdec2cbfab83e0a": {
     "model_module": "@jupyter-widgets/base",
     "model_module_version": "1.2.0",
     "model_name": "LayoutModel",
     "state": {
      "_model_module": "@jupyter-widgets/base",
      "_model_module_version": "1.2.0",
      "_model_name": "LayoutModel",
      "_view_count": null,
      "_view_module": "@jupyter-widgets/base",
      "_view_module_version": "1.2.0",
      "_view_name": "LayoutView",
      "align_content": null,
      "align_items": null,
      "align_self": null,
      "border": null,
      "bottom": null,
      "display": null,
      "flex": null,
      "flex_flow": null,
      "grid_area": null,
      "grid_auto_columns": null,
      "grid_auto_flow": null,
      "grid_auto_rows": null,
      "grid_column": null,
      "grid_gap": null,
      "grid_row": null,
      "grid_template_areas": null,
      "grid_template_columns": null,
      "grid_template_rows": null,
      "height": null,
      "justify_content": null,
      "justify_items": null,
      "left": null,
      "margin": null,
      "max_height": null,
      "max_width": null,
      "min_height": null,
      "min_width": null,
      "object_fit": null,
      "object_position": null,
      "order": null,
      "overflow": null,
      "overflow_x": null,
      "overflow_y": null,
      "padding": null,
      "right": null,
      "top": null,
      "visibility": null,
      "width": null
     }
    },
    "2ee60bc5d45a4824900a32ad00e3bf8a": {
     "model_module": "@jupyter-widgets/base",
     "model_module_version": "1.2.0",
     "model_name": "LayoutModel",
     "state": {
      "_model_module": "@jupyter-widgets/base",
      "_model_module_version": "1.2.0",
      "_model_name": "LayoutModel",
      "_view_count": null,
      "_view_module": "@jupyter-widgets/base",
      "_view_module_version": "1.2.0",
      "_view_name": "LayoutView",
      "align_content": null,
      "align_items": null,
      "align_self": null,
      "border": null,
      "bottom": null,
      "display": null,
      "flex": null,
      "flex_flow": null,
      "grid_area": null,
      "grid_auto_columns": null,
      "grid_auto_flow": null,
      "grid_auto_rows": null,
      "grid_column": null,
      "grid_gap": null,
      "grid_row": null,
      "grid_template_areas": null,
      "grid_template_columns": null,
      "grid_template_rows": null,
      "height": null,
      "justify_content": null,
      "justify_items": null,
      "left": null,
      "margin": null,
      "max_height": null,
      "max_width": null,
      "min_height": null,
      "min_width": null,
      "object_fit": null,
      "object_position": null,
      "order": null,
      "overflow": null,
      "overflow_x": null,
      "overflow_y": null,
      "padding": null,
      "right": null,
      "top": null,
      "visibility": null,
      "width": null
     }
    },
    "321dbe3466cd44cdac7cf859c8fbb6aa": {
     "model_module": "@jupyter-widgets/base",
     "model_module_version": "1.2.0",
     "model_name": "LayoutModel",
     "state": {
      "_model_module": "@jupyter-widgets/base",
      "_model_module_version": "1.2.0",
      "_model_name": "LayoutModel",
      "_view_count": null,
      "_view_module": "@jupyter-widgets/base",
      "_view_module_version": "1.2.0",
      "_view_name": "LayoutView",
      "align_content": null,
      "align_items": null,
      "align_self": null,
      "border": null,
      "bottom": null,
      "display": null,
      "flex": null,
      "flex_flow": null,
      "grid_area": null,
      "grid_auto_columns": null,
      "grid_auto_flow": null,
      "grid_auto_rows": null,
      "grid_column": null,
      "grid_gap": null,
      "grid_row": null,
      "grid_template_areas": null,
      "grid_template_columns": null,
      "grid_template_rows": null,
      "height": null,
      "justify_content": null,
      "justify_items": null,
      "left": null,
      "margin": null,
      "max_height": null,
      "max_width": null,
      "min_height": null,
      "min_width": null,
      "object_fit": null,
      "object_position": null,
      "order": null,
      "overflow": null,
      "overflow_x": null,
      "overflow_y": null,
      "padding": null,
      "right": null,
      "top": null,
      "visibility": null,
      "width": null
     }
    },
    "351a97a1d6a5433b972b32a75772366f": {
     "model_module": "@jupyter-widgets/controls",
     "model_module_version": "1.5.0",
     "model_name": "HBoxModel",
     "state": {
      "_dom_classes": [],
      "_model_module": "@jupyter-widgets/controls",
      "_model_module_version": "1.5.0",
      "_model_name": "HBoxModel",
      "_view_count": null,
      "_view_module": "@jupyter-widgets/controls",
      "_view_module_version": "1.5.0",
      "_view_name": "HBoxView",
      "box_style": "",
      "children": [
       "IPY_MODEL_44b2574722f443f3986c14a776490a78",
       "IPY_MODEL_8aa911a9b8c748a8a6db135fa6e28a68",
       "IPY_MODEL_a198f05436754de9b03b3152492221f3"
      ],
      "layout": "IPY_MODEL_f17679f3a7f24664b21eb2332750a16d"
     }
    },
    "39402822a8cb465487009c56ed0b8012": {
     "model_module": "@jupyter-widgets/controls",
     "model_module_version": "1.5.0",
     "model_name": "DescriptionStyleModel",
     "state": {
      "_model_module": "@jupyter-widgets/controls",
      "_model_module_version": "1.5.0",
      "_model_name": "DescriptionStyleModel",
      "_view_count": null,
      "_view_module": "@jupyter-widgets/base",
      "_view_module_version": "1.2.0",
      "_view_name": "StyleView",
      "description_width": ""
     }
    },
    "3afb7bd1445e43ba8a4c0b4f6d8ced41": {
     "model_module": "@jupyter-widgets/controls",
     "model_module_version": "1.5.0",
     "model_name": "DescriptionStyleModel",
     "state": {
      "_model_module": "@jupyter-widgets/controls",
      "_model_module_version": "1.5.0",
      "_model_name": "DescriptionStyleModel",
      "_view_count": null,
      "_view_module": "@jupyter-widgets/base",
      "_view_module_version": "1.2.0",
      "_view_name": "StyleView",
      "description_width": ""
     }
    },
    "3b6165967aee420aa60decebf0a193aa": {
     "model_module": "@jupyter-widgets/controls",
     "model_module_version": "1.5.0",
     "model_name": "HTMLModel",
     "state": {
      "_dom_classes": [],
      "_model_module": "@jupyter-widgets/controls",
      "_model_module_version": "1.5.0",
      "_model_name": "HTMLModel",
      "_view_count": null,
      "_view_module": "@jupyter-widgets/controls",
      "_view_module_version": "1.5.0",
      "_view_name": "HTMLView",
      "description": "",
      "description_tooltip": null,
      "layout": "IPY_MODEL_563807510b7647c985d1145bb2a56216",
      "placeholder": "​",
      "style": "IPY_MODEL_7f15865d23f146c5ae50b6b48f76db12",
      "value": " 899k/899k [00:00&lt;00:00, 25.8MB/s]"
     }
    },
    "44b2574722f443f3986c14a776490a78": {
     "model_module": "@jupyter-widgets/controls",
     "model_module_version": "1.5.0",
     "model_name": "HTMLModel",
     "state": {
      "_dom_classes": [],
      "_model_module": "@jupyter-widgets/controls",
      "_model_module_version": "1.5.0",
      "_model_name": "HTMLModel",
      "_view_count": null,
      "_view_module": "@jupyter-widgets/controls",
      "_view_module_version": "1.5.0",
      "_view_name": "HTMLView",
      "description": "",
      "description_tooltip": null,
      "layout": "IPY_MODEL_2e6b867c9a174927bfdec2cbfab83e0a",
      "placeholder": "​",
      "style": "IPY_MODEL_4881888a73b3417bac599fbc9ddc23fc",
      "value": "pytorch_model.bin: 100%"
     }
    },
    "470c1b38efcc48beb96aa062602927eb": {
     "model_module": "@jupyter-widgets/base",
     "model_module_version": "1.2.0",
     "model_name": "LayoutModel",
     "state": {
      "_model_module": "@jupyter-widgets/base",
      "_model_module_version": "1.2.0",
      "_model_name": "LayoutModel",
      "_view_count": null,
      "_view_module": "@jupyter-widgets/base",
      "_view_module_version": "1.2.0",
      "_view_name": "LayoutView",
      "align_content": null,
      "align_items": null,
      "align_self": null,
      "border": null,
      "bottom": null,
      "display": null,
      "flex": null,
      "flex_flow": null,
      "grid_area": null,
      "grid_auto_columns": null,
      "grid_auto_flow": null,
      "grid_auto_rows": null,
      "grid_column": null,
      "grid_gap": null,
      "grid_row": null,
      "grid_template_areas": null,
      "grid_template_columns": null,
      "grid_template_rows": null,
      "height": null,
      "justify_content": null,
      "justify_items": null,
      "left": null,
      "margin": null,
      "max_height": null,
      "max_width": null,
      "min_height": null,
      "min_width": null,
      "object_fit": null,
      "object_position": null,
      "order": null,
      "overflow": null,
      "overflow_x": null,
      "overflow_y": null,
      "padding": null,
      "right": null,
      "top": null,
      "visibility": null,
      "width": null
     }
    },
    "476c040b18e64c90a19559f3b3abaa0b": {
     "model_module": "@jupyter-widgets/controls",
     "model_module_version": "1.5.0",
     "model_name": "FloatProgressModel",
     "state": {
      "_dom_classes": [],
      "_model_module": "@jupyter-widgets/controls",
      "_model_module_version": "1.5.0",
      "_model_name": "FloatProgressModel",
      "_view_count": null,
      "_view_module": "@jupyter-widgets/controls",
      "_view_module_version": "1.5.0",
      "_view_name": "ProgressView",
      "bar_style": "success",
      "description": "",
      "description_tooltip": null,
      "layout": "IPY_MODEL_49cfab55d6074432bd89af32fbdd87c1",
      "max": 898822,
      "min": 0,
      "orientation": "horizontal",
      "style": "IPY_MODEL_c9dfdf4df10e428d98ecffb427ec35a2",
      "value": 898822
     }
    },
    "4881888a73b3417bac599fbc9ddc23fc": {
     "model_module": "@jupyter-widgets/controls",
     "model_module_version": "1.5.0",
     "model_name": "DescriptionStyleModel",
     "state": {
      "_model_module": "@jupyter-widgets/controls",
      "_model_module_version": "1.5.0",
      "_model_name": "DescriptionStyleModel",
      "_view_count": null,
      "_view_module": "@jupyter-widgets/base",
      "_view_module_version": "1.2.0",
      "_view_name": "StyleView",
      "description_width": ""
     }
    },
    "49cfab55d6074432bd89af32fbdd87c1": {
     "model_module": "@jupyter-widgets/base",
     "model_module_version": "1.2.0",
     "model_name": "LayoutModel",
     "state": {
      "_model_module": "@jupyter-widgets/base",
      "_model_module_version": "1.2.0",
      "_model_name": "LayoutModel",
      "_view_count": null,
      "_view_module": "@jupyter-widgets/base",
      "_view_module_version": "1.2.0",
      "_view_name": "LayoutView",
      "align_content": null,
      "align_items": null,
      "align_self": null,
      "border": null,
      "bottom": null,
      "display": null,
      "flex": null,
      "flex_flow": null,
      "grid_area": null,
      "grid_auto_columns": null,
      "grid_auto_flow": null,
      "grid_auto_rows": null,
      "grid_column": null,
      "grid_gap": null,
      "grid_row": null,
      "grid_template_areas": null,
      "grid_template_columns": null,
      "grid_template_rows": null,
      "height": null,
      "justify_content": null,
      "justify_items": null,
      "left": null,
      "margin": null,
      "max_height": null,
      "max_width": null,
      "min_height": null,
      "min_width": null,
      "object_fit": null,
      "object_position": null,
      "order": null,
      "overflow": null,
      "overflow_x": null,
      "overflow_y": null,
      "padding": null,
      "right": null,
      "top": null,
      "visibility": null,
      "width": null
     }
    },
    "4ce19564f91e4b2a94dc0156e6a29ecb": {
     "model_module": "@jupyter-widgets/base",
     "model_module_version": "1.2.0",
     "model_name": "LayoutModel",
     "state": {
      "_model_module": "@jupyter-widgets/base",
      "_model_module_version": "1.2.0",
      "_model_name": "LayoutModel",
      "_view_count": null,
      "_view_module": "@jupyter-widgets/base",
      "_view_module_version": "1.2.0",
      "_view_name": "LayoutView",
      "align_content": null,
      "align_items": null,
      "align_self": null,
      "border": null,
      "bottom": null,
      "display": null,
      "flex": null,
      "flex_flow": null,
      "grid_area": null,
      "grid_auto_columns": null,
      "grid_auto_flow": null,
      "grid_auto_rows": null,
      "grid_column": null,
      "grid_gap": null,
      "grid_row": null,
      "grid_template_areas": null,
      "grid_template_columns": null,
      "grid_template_rows": null,
      "height": null,
      "justify_content": null,
      "justify_items": null,
      "left": null,
      "margin": null,
      "max_height": null,
      "max_width": null,
      "min_height": null,
      "min_width": null,
      "object_fit": null,
      "object_position": null,
      "order": null,
      "overflow": null,
      "overflow_x": null,
      "overflow_y": null,
      "padding": null,
      "right": null,
      "top": null,
      "visibility": null,
      "width": null
     }
    },
    "563807510b7647c985d1145bb2a56216": {
     "model_module": "@jupyter-widgets/base",
     "model_module_version": "1.2.0",
     "model_name": "LayoutModel",
     "state": {
      "_model_module": "@jupyter-widgets/base",
      "_model_module_version": "1.2.0",
      "_model_name": "LayoutModel",
      "_view_count": null,
      "_view_module": "@jupyter-widgets/base",
      "_view_module_version": "1.2.0",
      "_view_name": "LayoutView",
      "align_content": null,
      "align_items": null,
      "align_self": null,
      "border": null,
      "bottom": null,
      "display": null,
      "flex": null,
      "flex_flow": null,
      "grid_area": null,
      "grid_auto_columns": null,
      "grid_auto_flow": null,
      "grid_auto_rows": null,
      "grid_column": null,
      "grid_gap": null,
      "grid_row": null,
      "grid_template_areas": null,
      "grid_template_columns": null,
      "grid_template_rows": null,
      "height": null,
      "justify_content": null,
      "justify_items": null,
      "left": null,
      "margin": null,
      "max_height": null,
      "max_width": null,
      "min_height": null,
      "min_width": null,
      "object_fit": null,
      "object_position": null,
      "order": null,
      "overflow": null,
      "overflow_x": null,
      "overflow_y": null,
      "padding": null,
      "right": null,
      "top": null,
      "visibility": null,
      "width": null
     }
    },
    "5ab58f227e6646eebd8da881343ded32": {
     "model_module": "@jupyter-widgets/base",
     "model_module_version": "1.2.0",
     "model_name": "LayoutModel",
     "state": {
      "_model_module": "@jupyter-widgets/base",
      "_model_module_version": "1.2.0",
      "_model_name": "LayoutModel",
      "_view_count": null,
      "_view_module": "@jupyter-widgets/base",
      "_view_module_version": "1.2.0",
      "_view_name": "LayoutView",
      "align_content": null,
      "align_items": null,
      "align_self": null,
      "border": null,
      "bottom": null,
      "display": null,
      "flex": null,
      "flex_flow": null,
      "grid_area": null,
      "grid_auto_columns": null,
      "grid_auto_flow": null,
      "grid_auto_rows": null,
      "grid_column": null,
      "grid_gap": null,
      "grid_row": null,
      "grid_template_areas": null,
      "grid_template_columns": null,
      "grid_template_rows": null,
      "height": null,
      "justify_content": null,
      "justify_items": null,
      "left": null,
      "margin": null,
      "max_height": null,
      "max_width": null,
      "min_height": null,
      "min_width": null,
      "object_fit": null,
      "object_position": null,
      "order": null,
      "overflow": null,
      "overflow_x": null,
      "overflow_y": null,
      "padding": null,
      "right": null,
      "top": null,
      "visibility": null,
      "width": null
     }
    },
    "5d068df1275947a4af1011e2c73c9bb8": {
     "model_module": "@jupyter-widgets/controls",
     "model_module_version": "1.5.0",
     "model_name": "HBoxModel",
     "state": {
      "_dom_classes": [],
      "_model_module": "@jupyter-widgets/controls",
      "_model_module_version": "1.5.0",
      "_model_name": "HBoxModel",
      "_view_count": null,
      "_view_module": "@jupyter-widgets/controls",
      "_view_module_version": "1.5.0",
      "_view_name": "HBoxView",
      "box_style": "",
      "children": [
       "IPY_MODEL_e0d8c8c921ed4c9ab75e5b6fa4c4ffe7",
       "IPY_MODEL_a14ee5e27e9a43e290e24c279959d6dd",
       "IPY_MODEL_044f398bf4d243da965254f6282c9746"
      ],
      "layout": "IPY_MODEL_04700b793bca468dbef66ab4d276db8f"
     }
    },
    "5f87c383c3c04e89aec21c1836aed5be": {
     "model_module": "@jupyter-widgets/controls",
     "model_module_version": "1.5.0",
     "model_name": "ProgressStyleModel",
     "state": {
      "_model_module": "@jupyter-widgets/controls",
      "_model_module_version": "1.5.0",
      "_model_name": "ProgressStyleModel",
      "_view_count": null,
      "_view_module": "@jupyter-widgets/base",
      "_view_module_version": "1.2.0",
      "_view_name": "StyleView",
      "bar_color": null,
      "description_width": ""
     }
    },
    "5fca5241b9f243b4a365a34d1693797e": {
     "model_module": "@jupyter-widgets/base",
     "model_module_version": "1.2.0",
     "model_name": "LayoutModel",
     "state": {
      "_model_module": "@jupyter-widgets/base",
      "_model_module_version": "1.2.0",
      "_model_name": "LayoutModel",
      "_view_count": null,
      "_view_module": "@jupyter-widgets/base",
      "_view_module_version": "1.2.0",
      "_view_name": "LayoutView",
      "align_content": null,
      "align_items": null,
      "align_self": null,
      "border": null,
      "bottom": null,
      "display": null,
      "flex": null,
      "flex_flow": null,
      "grid_area": null,
      "grid_auto_columns": null,
      "grid_auto_flow": null,
      "grid_auto_rows": null,
      "grid_column": null,
      "grid_gap": null,
      "grid_row": null,
      "grid_template_areas": null,
      "grid_template_columns": null,
      "grid_template_rows": null,
      "height": null,
      "justify_content": null,
      "justify_items": null,
      "left": null,
      "margin": null,
      "max_height": null,
      "max_width": null,
      "min_height": null,
      "min_width": null,
      "object_fit": null,
      "object_position": null,
      "order": null,
      "overflow": null,
      "overflow_x": null,
      "overflow_y": null,
      "padding": null,
      "right": null,
      "top": null,
      "visibility": null,
      "width": null
     }
    },
    "60134134637a41498902bac6a72c6575": {
     "model_module": "@jupyter-widgets/controls",
     "model_module_version": "1.5.0",
     "model_name": "FloatProgressModel",
     "state": {
      "_dom_classes": [],
      "_model_module": "@jupyter-widgets/controls",
      "_model_module_version": "1.5.0",
      "_model_name": "FloatProgressModel",
      "_view_count": null,
      "_view_module": "@jupyter-widgets/controls",
      "_view_module_version": "1.5.0",
      "_view_name": "ProgressView",
      "bar_style": "success",
      "description": "",
      "description_tooltip": null,
      "layout": "IPY_MODEL_e0eaaca824aa44c4b91788bbb4b6dcd1",
      "max": 150,
      "min": 0,
      "orientation": "horizontal",
      "style": "IPY_MODEL_2c5342f64e20401d9d90ae6d0e981b74",
      "value": 150
     }
    },
    "67d4db57de02467b9f2b01d6d64845cd": {
     "model_module": "@jupyter-widgets/controls",
     "model_module_version": "1.5.0",
     "model_name": "ProgressStyleModel",
     "state": {
      "_model_module": "@jupyter-widgets/controls",
      "_model_module_version": "1.5.0",
      "_model_name": "ProgressStyleModel",
      "_view_count": null,
      "_view_module": "@jupyter-widgets/base",
      "_view_module_version": "1.2.0",
      "_view_name": "StyleView",
      "bar_color": null,
      "description_width": ""
     }
    },
    "6e5f9b0a985e457ea041d8105081db15": {
     "model_module": "@jupyter-widgets/controls",
     "model_module_version": "1.5.0",
     "model_name": "DescriptionStyleModel",
     "state": {
      "_model_module": "@jupyter-widgets/controls",
      "_model_module_version": "1.5.0",
      "_model_name": "DescriptionStyleModel",
      "_view_count": null,
      "_view_module": "@jupyter-widgets/base",
      "_view_module_version": "1.2.0",
      "_view_name": "StyleView",
      "description_width": ""
     }
    },
    "6f547382098641f5986f4950b4317c2b": {
     "model_module": "@jupyter-widgets/base",
     "model_module_version": "1.2.0",
     "model_name": "LayoutModel",
     "state": {
      "_model_module": "@jupyter-widgets/base",
      "_model_module_version": "1.2.0",
      "_model_name": "LayoutModel",
      "_view_count": null,
      "_view_module": "@jupyter-widgets/base",
      "_view_module_version": "1.2.0",
      "_view_name": "LayoutView",
      "align_content": null,
      "align_items": null,
      "align_self": null,
      "border": null,
      "bottom": null,
      "display": null,
      "flex": null,
      "flex_flow": null,
      "grid_area": null,
      "grid_auto_columns": null,
      "grid_auto_flow": null,
      "grid_auto_rows": null,
      "grid_column": null,
      "grid_gap": null,
      "grid_row": null,
      "grid_template_areas": null,
      "grid_template_columns": null,
      "grid_template_rows": null,
      "height": null,
      "justify_content": null,
      "justify_items": null,
      "left": null,
      "margin": null,
      "max_height": null,
      "max_width": null,
      "min_height": null,
      "min_width": null,
      "object_fit": null,
      "object_position": null,
      "order": null,
      "overflow": null,
      "overflow_x": null,
      "overflow_y": null,
      "padding": null,
      "right": null,
      "top": null,
      "visibility": null,
      "width": null
     }
    },
    "6f7a1400d31b48ce95501a8239cb23ba": {
     "model_module": "@jupyter-widgets/controls",
     "model_module_version": "1.5.0",
     "model_name": "HBoxModel",
     "state": {
      "_dom_classes": [],
      "_model_module": "@jupyter-widgets/controls",
      "_model_module_version": "1.5.0",
      "_model_name": "HBoxModel",
      "_view_count": null,
      "_view_module": "@jupyter-widgets/controls",
      "_view_module_version": "1.5.0",
      "_view_name": "HBoxView",
      "box_style": "",
      "children": [
       "IPY_MODEL_c703e1a908334ce18ce1bf5e437dddec",
       "IPY_MODEL_476c040b18e64c90a19559f3b3abaa0b",
       "IPY_MODEL_3b6165967aee420aa60decebf0a193aa"
      ],
      "layout": "IPY_MODEL_5ab58f227e6646eebd8da881343ded32"
     }
    },
    "7739e366695648ff8791405a4e28a15a": {
     "model_module": "@jupyter-widgets/base",
     "model_module_version": "1.2.0",
     "model_name": "LayoutModel",
     "state": {
      "_model_module": "@jupyter-widgets/base",
      "_model_module_version": "1.2.0",
      "_model_name": "LayoutModel",
      "_view_count": null,
      "_view_module": "@jupyter-widgets/base",
      "_view_module_version": "1.2.0",
      "_view_name": "LayoutView",
      "align_content": null,
      "align_items": null,
      "align_self": null,
      "border": null,
      "bottom": null,
      "display": null,
      "flex": null,
      "flex_flow": null,
      "grid_area": null,
      "grid_auto_columns": null,
      "grid_auto_flow": null,
      "grid_auto_rows": null,
      "grid_column": null,
      "grid_gap": null,
      "grid_row": null,
      "grid_template_areas": null,
      "grid_template_columns": null,
      "grid_template_rows": null,
      "height": null,
      "justify_content": null,
      "justify_items": null,
      "left": null,
      "margin": null,
      "max_height": null,
      "max_width": null,
      "min_height": null,
      "min_width": null,
      "object_fit": null,
      "object_position": null,
      "order": null,
      "overflow": null,
      "overflow_x": null,
      "overflow_y": null,
      "padding": null,
      "right": null,
      "top": null,
      "visibility": null,
      "width": null
     }
    },
    "79acd1dc931741909dedd0d30a644301": {
     "model_module": "@jupyter-widgets/controls",
     "model_module_version": "1.5.0",
     "model_name": "HTMLModel",
     "state": {
      "_dom_classes": [],
      "_model_module": "@jupyter-widgets/controls",
      "_model_module_version": "1.5.0",
      "_model_name": "HTMLModel",
      "_view_count": null,
      "_view_module": "@jupyter-widgets/controls",
      "_view_module_version": "1.5.0",
      "_view_name": "HTMLView",
      "description": "",
      "description_tooltip": null,
      "layout": "IPY_MODEL_ae5bfa2a7b9c4a8e9b21e79c8612a69c",
      "placeholder": "​",
      "style": "IPY_MODEL_ae3790e4d60b44baa8bda64a08ea125d",
      "value": "merges.txt: 100%"
     }
    },
    "7bd7db74dd68435dbdb9ff9aa89e94a4": {
     "model_module": "@jupyter-widgets/base",
     "model_module_version": "1.2.0",
     "model_name": "LayoutModel",
     "state": {
      "_model_module": "@jupyter-widgets/base",
      "_model_module_version": "1.2.0",
      "_model_name": "LayoutModel",
      "_view_count": null,
      "_view_module": "@jupyter-widgets/base",
      "_view_module_version": "1.2.0",
      "_view_name": "LayoutView",
      "align_content": null,
      "align_items": null,
      "align_self": null,
      "border": null,
      "bottom": null,
      "display": null,
      "flex": null,
      "flex_flow": null,
      "grid_area": null,
      "grid_auto_columns": null,
      "grid_auto_flow": null,
      "grid_auto_rows": null,
      "grid_column": null,
      "grid_gap": null,
      "grid_row": null,
      "grid_template_areas": null,
      "grid_template_columns": null,
      "grid_template_rows": null,
      "height": null,
      "justify_content": null,
      "justify_items": null,
      "left": null,
      "margin": null,
      "max_height": null,
      "max_width": null,
      "min_height": null,
      "min_width": null,
      "object_fit": null,
      "object_position": null,
      "order": null,
      "overflow": null,
      "overflow_x": null,
      "overflow_y": null,
      "padding": null,
      "right": null,
      "top": null,
      "visibility": null,
      "width": null
     }
    },
    "7d9b993f06b64a09b9e9e9bde1815ba5": {
     "model_module": "@jupyter-widgets/controls",
     "model_module_version": "1.5.0",
     "model_name": "HTMLModel",
     "state": {
      "_dom_classes": [],
      "_model_module": "@jupyter-widgets/controls",
      "_model_module_version": "1.5.0",
      "_model_name": "HTMLModel",
      "_view_count": null,
      "_view_module": "@jupyter-widgets/controls",
      "_view_module_version": "1.5.0",
      "_view_name": "HTMLView",
      "description": "",
      "description_tooltip": null,
      "layout": "IPY_MODEL_f2e8dd4edbf444bd953e575c9766a704",
      "placeholder": "​",
      "style": "IPY_MODEL_3afb7bd1445e43ba8a4c0b4f6d8ced41",
      "value": " 747/747 [00:00&lt;00:00, 41.4kB/s]"
     }
    },
    "7f15865d23f146c5ae50b6b48f76db12": {
     "model_module": "@jupyter-widgets/controls",
     "model_module_version": "1.5.0",
     "model_name": "DescriptionStyleModel",
     "state": {
      "_model_module": "@jupyter-widgets/controls",
      "_model_module_version": "1.5.0",
      "_model_name": "DescriptionStyleModel",
      "_view_count": null,
      "_view_module": "@jupyter-widgets/base",
      "_view_module_version": "1.2.0",
      "_view_name": "StyleView",
      "description_width": ""
     }
    },
    "8aa911a9b8c748a8a6db135fa6e28a68": {
     "model_module": "@jupyter-widgets/controls",
     "model_module_version": "1.5.0",
     "model_name": "FloatProgressModel",
     "state": {
      "_dom_classes": [],
      "_model_module": "@jupyter-widgets/controls",
      "_model_module_version": "1.5.0",
      "_model_name": "FloatProgressModel",
      "_view_count": null,
      "_view_module": "@jupyter-widgets/controls",
      "_view_module_version": "1.5.0",
      "_view_name": "ProgressView",
      "bar_style": "success",
      "description": "",
      "description_tooltip": null,
      "layout": "IPY_MODEL_dd5392447ced4017893ab2e17442c625",
      "max": 498679497,
      "min": 0,
      "orientation": "horizontal",
      "style": "IPY_MODEL_67d4db57de02467b9f2b01d6d64845cd",
      "value": 498679497
     }
    },
    "986b8947a90a46ba9e319662fa89210d": {
     "model_module": "@jupyter-widgets/controls",
     "model_module_version": "1.5.0",
     "model_name": "DescriptionStyleModel",
     "state": {
      "_model_module": "@jupyter-widgets/controls",
      "_model_module_version": "1.5.0",
      "_model_name": "DescriptionStyleModel",
      "_view_count": null,
      "_view_module": "@jupyter-widgets/base",
      "_view_module_version": "1.2.0",
      "_view_name": "StyleView",
      "description_width": ""
     }
    },
    "9b636d8765b641f7a7f78bfb323d6a60": {
     "model_module": "@jupyter-widgets/base",
     "model_module_version": "1.2.0",
     "model_name": "LayoutModel",
     "state": {
      "_model_module": "@jupyter-widgets/base",
      "_model_module_version": "1.2.0",
      "_model_name": "LayoutModel",
      "_view_count": null,
      "_view_module": "@jupyter-widgets/base",
      "_view_module_version": "1.2.0",
      "_view_name": "LayoutView",
      "align_content": null,
      "align_items": null,
      "align_self": null,
      "border": null,
      "bottom": null,
      "display": null,
      "flex": null,
      "flex_flow": null,
      "grid_area": null,
      "grid_auto_columns": null,
      "grid_auto_flow": null,
      "grid_auto_rows": null,
      "grid_column": null,
      "grid_gap": null,
      "grid_row": null,
      "grid_template_areas": null,
      "grid_template_columns": null,
      "grid_template_rows": null,
      "height": null,
      "justify_content": null,
      "justify_items": null,
      "left": null,
      "margin": null,
      "max_height": null,
      "max_width": null,
      "min_height": null,
      "min_width": null,
      "object_fit": null,
      "object_position": null,
      "order": null,
      "overflow": null,
      "overflow_x": null,
      "overflow_y": null,
      "padding": null,
      "right": null,
      "top": null,
      "visibility": null,
      "width": null
     }
    },
    "a14ee5e27e9a43e290e24c279959d6dd": {
     "model_module": "@jupyter-widgets/controls",
     "model_module_version": "1.5.0",
     "model_name": "FloatProgressModel",
     "state": {
      "_dom_classes": [],
      "_model_module": "@jupyter-widgets/controls",
      "_model_module_version": "1.5.0",
      "_model_name": "FloatProgressModel",
      "_view_count": null,
      "_view_module": "@jupyter-widgets/controls",
      "_view_module_version": "1.5.0",
      "_view_name": "ProgressView",
      "bar_style": "success",
      "description": "",
      "description_tooltip": null,
      "layout": "IPY_MODEL_7bd7db74dd68435dbdb9ff9aa89e94a4",
      "max": 498620100,
      "min": 0,
      "orientation": "horizontal",
      "style": "IPY_MODEL_ada751f7abee4eb6adb2ac123541f597",
      "value": 498620100
     }
    },
    "a198f05436754de9b03b3152492221f3": {
     "model_module": "@jupyter-widgets/controls",
     "model_module_version": "1.5.0",
     "model_name": "HTMLModel",
     "state": {
      "_dom_classes": [],
      "_model_module": "@jupyter-widgets/controls",
      "_model_module_version": "1.5.0",
      "_model_name": "HTMLModel",
      "_view_count": null,
      "_view_module": "@jupyter-widgets/controls",
      "_view_module_version": "1.5.0",
      "_view_name": "HTMLView",
      "description": "",
      "description_tooltip": null,
      "layout": "IPY_MODEL_7739e366695648ff8791405a4e28a15a",
      "placeholder": "​",
      "style": "IPY_MODEL_b86760f46b3b4140b21f5965fc2beee1",
      "value": " 499M/499M [00:02&lt;00:00, 239MB/s]"
     }
    },
    "abb20940028d43578a9b52549d556306": {
     "model_module": "@jupyter-widgets/controls",
     "model_module_version": "1.5.0",
     "model_name": "DescriptionStyleModel",
     "state": {
      "_model_module": "@jupyter-widgets/controls",
      "_model_module_version": "1.5.0",
      "_model_name": "DescriptionStyleModel",
      "_view_count": null,
      "_view_module": "@jupyter-widgets/base",
      "_view_module_version": "1.2.0",
      "_view_name": "StyleView",
      "description_width": ""
     }
    },
    "ada751f7abee4eb6adb2ac123541f597": {
     "model_module": "@jupyter-widgets/controls",
     "model_module_version": "1.5.0",
     "model_name": "ProgressStyleModel",
     "state": {
      "_model_module": "@jupyter-widgets/controls",
      "_model_module_version": "1.5.0",
      "_model_name": "ProgressStyleModel",
      "_view_count": null,
      "_view_module": "@jupyter-widgets/base",
      "_view_module_version": "1.2.0",
      "_view_name": "StyleView",
      "bar_color": null,
      "description_width": ""
     }
    },
    "ae3790e4d60b44baa8bda64a08ea125d": {
     "model_module": "@jupyter-widgets/controls",
     "model_module_version": "1.5.0",
     "model_name": "DescriptionStyleModel",
     "state": {
      "_model_module": "@jupyter-widgets/controls",
      "_model_module_version": "1.5.0",
      "_model_name": "DescriptionStyleModel",
      "_view_count": null,
      "_view_module": "@jupyter-widgets/base",
      "_view_module_version": "1.2.0",
      "_view_name": "StyleView",
      "description_width": ""
     }
    },
    "ae5bfa2a7b9c4a8e9b21e79c8612a69c": {
     "model_module": "@jupyter-widgets/base",
     "model_module_version": "1.2.0",
     "model_name": "LayoutModel",
     "state": {
      "_model_module": "@jupyter-widgets/base",
      "_model_module_version": "1.2.0",
      "_model_name": "LayoutModel",
      "_view_count": null,
      "_view_module": "@jupyter-widgets/base",
      "_view_module_version": "1.2.0",
      "_view_name": "LayoutView",
      "align_content": null,
      "align_items": null,
      "align_self": null,
      "border": null,
      "bottom": null,
      "display": null,
      "flex": null,
      "flex_flow": null,
      "grid_area": null,
      "grid_auto_columns": null,
      "grid_auto_flow": null,
      "grid_auto_rows": null,
      "grid_column": null,
      "grid_gap": null,
      "grid_row": null,
      "grid_template_areas": null,
      "grid_template_columns": null,
      "grid_template_rows": null,
      "height": null,
      "justify_content": null,
      "justify_items": null,
      "left": null,
      "margin": null,
      "max_height": null,
      "max_width": null,
      "min_height": null,
      "min_width": null,
      "object_fit": null,
      "object_position": null,
      "order": null,
      "overflow": null,
      "overflow_x": null,
      "overflow_y": null,
      "padding": null,
      "right": null,
      "top": null,
      "visibility": null,
      "width": null
     }
    },
    "b3c554f35076457683849f3ce5679313": {
     "model_module": "@jupyter-widgets/controls",
     "model_module_version": "1.5.0",
     "model_name": "HBoxModel",
     "state": {
      "_dom_classes": [],
      "_model_module": "@jupyter-widgets/controls",
      "_model_module_version": "1.5.0",
      "_model_name": "HBoxModel",
      "_view_count": null,
      "_view_module": "@jupyter-widgets/controls",
      "_view_module_version": "1.5.0",
      "_view_name": "HBoxView",
      "box_style": "",
      "children": [
       "IPY_MODEL_10353671a6874d44bcb42c812b3186a1",
       "IPY_MODEL_60134134637a41498902bac6a72c6575",
       "IPY_MODEL_bfd4450e9f764c8bbe27d18505134b9f"
      ],
      "layout": "IPY_MODEL_cde90cf5aebf49fbb19cd93e46d94ae6"
     }
    },
    "b86760f46b3b4140b21f5965fc2beee1": {
     "model_module": "@jupyter-widgets/controls",
     "model_module_version": "1.5.0",
     "model_name": "DescriptionStyleModel",
     "state": {
      "_model_module": "@jupyter-widgets/controls",
      "_model_module_version": "1.5.0",
      "_model_name": "DescriptionStyleModel",
      "_view_count": null,
      "_view_module": "@jupyter-widgets/base",
      "_view_module_version": "1.2.0",
      "_view_name": "StyleView",
      "description_width": ""
     }
    },
    "b98e6f312f204d0981111a355a70d655": {
     "model_module": "@jupyter-widgets/controls",
     "model_module_version": "1.5.0",
     "model_name": "ProgressStyleModel",
     "state": {
      "_model_module": "@jupyter-widgets/controls",
      "_model_module_version": "1.5.0",
      "_model_name": "ProgressStyleModel",
      "_view_count": null,
      "_view_module": "@jupyter-widgets/base",
      "_view_module_version": "1.2.0",
      "_view_name": "StyleView",
      "bar_color": null,
      "description_width": ""
     }
    },
    "bc9e3b9031644d5ea0305d9b2d4d1c21": {
     "model_module": "@jupyter-widgets/base",
     "model_module_version": "1.2.0",
     "model_name": "LayoutModel",
     "state": {
      "_model_module": "@jupyter-widgets/base",
      "_model_module_version": "1.2.0",
      "_model_name": "LayoutModel",
      "_view_count": null,
      "_view_module": "@jupyter-widgets/base",
      "_view_module_version": "1.2.0",
      "_view_name": "LayoutView",
      "align_content": null,
      "align_items": null,
      "align_self": null,
      "border": null,
      "bottom": null,
      "display": null,
      "flex": null,
      "flex_flow": null,
      "grid_area": null,
      "grid_auto_columns": null,
      "grid_auto_flow": null,
      "grid_auto_rows": null,
      "grid_column": null,
      "grid_gap": null,
      "grid_row": null,
      "grid_template_areas": null,
      "grid_template_columns": null,
      "grid_template_rows": null,
      "height": null,
      "justify_content": null,
      "justify_items": null,
      "left": null,
      "margin": null,
      "max_height": null,
      "max_width": null,
      "min_height": null,
      "min_width": null,
      "object_fit": null,
      "object_position": null,
      "order": null,
      "overflow": null,
      "overflow_x": null,
      "overflow_y": null,
      "padding": null,
      "right": null,
      "top": null,
      "visibility": null,
      "width": null
     }
    },
    "bdbecb98715f405798b5a9bac0ebb083": {
     "model_module": "@jupyter-widgets/controls",
     "model_module_version": "1.5.0",
     "model_name": "HTMLModel",
     "state": {
      "_dom_classes": [],
      "_model_module": "@jupyter-widgets/controls",
      "_model_module_version": "1.5.0",
      "_model_name": "HTMLModel",
      "_view_count": null,
      "_view_module": "@jupyter-widgets/controls",
      "_view_module_version": "1.5.0",
      "_view_name": "HTMLView",
      "description": "",
      "description_tooltip": null,
      "layout": "IPY_MODEL_5fca5241b9f243b4a365a34d1693797e",
      "placeholder": "​",
      "style": "IPY_MODEL_986b8947a90a46ba9e319662fa89210d",
      "value": " 456k/456k [00:00&lt;00:00, 30.5MB/s]"
     }
    },
    "bfd4450e9f764c8bbe27d18505134b9f": {
     "model_module": "@jupyter-widgets/controls",
     "model_module_version": "1.5.0",
     "model_name": "HTMLModel",
     "state": {
      "_dom_classes": [],
      "_model_module": "@jupyter-widgets/controls",
      "_model_module_version": "1.5.0",
      "_model_name": "HTMLModel",
      "_view_count": null,
      "_view_module": "@jupyter-widgets/controls",
      "_view_module_version": "1.5.0",
      "_view_name": "HTMLView",
      "description": "",
      "description_tooltip": null,
      "layout": "IPY_MODEL_9b636d8765b641f7a7f78bfb323d6a60",
      "placeholder": "​",
      "style": "IPY_MODEL_ea4e7008b5274ef28c7a8f312081a3d5",
      "value": " 150/150 [00:00&lt;00:00, 13.8kB/s]"
     }
    },
    "c32d7093d7914012b114d7f6cafbdc55": {
     "model_module": "@jupyter-widgets/controls",
     "model_module_version": "1.5.0",
     "model_name": "HBoxModel",
     "state": {
      "_dom_classes": [],
      "_model_module": "@jupyter-widgets/controls",
      "_model_module_version": "1.5.0",
      "_model_name": "HBoxModel",
      "_view_count": null,
      "_view_module": "@jupyter-widgets/controls",
      "_view_module_version": "1.5.0",
      "_view_name": "HBoxView",
      "box_style": "",
      "children": [
       "IPY_MODEL_79acd1dc931741909dedd0d30a644301",
       "IPY_MODEL_0e80d93ea7ae4cd8b45d7b03b87c602e",
       "IPY_MODEL_bdbecb98715f405798b5a9bac0ebb083"
      ],
      "layout": "IPY_MODEL_250f08c191514a108209296f47f6d154"
     }
    },
    "c703e1a908334ce18ce1bf5e437dddec": {
     "model_module": "@jupyter-widgets/controls",
     "model_module_version": "1.5.0",
     "model_name": "HTMLModel",
     "state": {
      "_dom_classes": [],
      "_model_module": "@jupyter-widgets/controls",
      "_model_module_version": "1.5.0",
      "_model_name": "HTMLModel",
      "_view_count": null,
      "_view_module": "@jupyter-widgets/controls",
      "_view_module_version": "1.5.0",
      "_view_name": "HTMLView",
      "description": "",
      "description_tooltip": null,
      "layout": "IPY_MODEL_321dbe3466cd44cdac7cf859c8fbb6aa",
      "placeholder": "​",
      "style": "IPY_MODEL_abb20940028d43578a9b52549d556306",
      "value": "vocab.json: 100%"
     }
    },
    "c9dfdf4df10e428d98ecffb427ec35a2": {
     "model_module": "@jupyter-widgets/controls",
     "model_module_version": "1.5.0",
     "model_name": "ProgressStyleModel",
     "state": {
      "_model_module": "@jupyter-widgets/controls",
      "_model_module_version": "1.5.0",
      "_model_name": "ProgressStyleModel",
      "_view_count": null,
      "_view_module": "@jupyter-widgets/base",
      "_view_module_version": "1.2.0",
      "_view_name": "StyleView",
      "bar_color": null,
      "description_width": ""
     }
    },
    "cde90cf5aebf49fbb19cd93e46d94ae6": {
     "model_module": "@jupyter-widgets/base",
     "model_module_version": "1.2.0",
     "model_name": "LayoutModel",
     "state": {
      "_model_module": "@jupyter-widgets/base",
      "_model_module_version": "1.2.0",
      "_model_name": "LayoutModel",
      "_view_count": null,
      "_view_module": "@jupyter-widgets/base",
      "_view_module_version": "1.2.0",
      "_view_name": "LayoutView",
      "align_content": null,
      "align_items": null,
      "align_self": null,
      "border": null,
      "bottom": null,
      "display": null,
      "flex": null,
      "flex_flow": null,
      "grid_area": null,
      "grid_auto_columns": null,
      "grid_auto_flow": null,
      "grid_auto_rows": null,
      "grid_column": null,
      "grid_gap": null,
      "grid_row": null,
      "grid_template_areas": null,
      "grid_template_columns": null,
      "grid_template_rows": null,
      "height": null,
      "justify_content": null,
      "justify_items": null,
      "left": null,
      "margin": null,
      "max_height": null,
      "max_width": null,
      "min_height": null,
      "min_width": null,
      "object_fit": null,
      "object_position": null,
      "order": null,
      "overflow": null,
      "overflow_x": null,
      "overflow_y": null,
      "padding": null,
      "right": null,
      "top": null,
      "visibility": null,
      "width": null
     }
    },
    "ce3f137556924c729b33c67398edf59c": {
     "model_module": "@jupyter-widgets/controls",
     "model_module_version": "1.5.0",
     "model_name": "DescriptionStyleModel",
     "state": {
      "_model_module": "@jupyter-widgets/controls",
      "_model_module_version": "1.5.0",
      "_model_name": "DescriptionStyleModel",
      "_view_count": null,
      "_view_module": "@jupyter-widgets/base",
      "_view_module_version": "1.2.0",
      "_view_name": "StyleView",
      "description_width": ""
     }
    },
    "ce7d9188c0fe40e7b8bec23a9b8c43d5": {
     "model_module": "@jupyter-widgets/controls",
     "model_module_version": "1.5.0",
     "model_name": "FloatProgressModel",
     "state": {
      "_dom_classes": [],
      "_model_module": "@jupyter-widgets/controls",
      "_model_module_version": "1.5.0",
      "_model_name": "FloatProgressModel",
      "_view_count": null,
      "_view_module": "@jupyter-widgets/controls",
      "_view_module_version": "1.5.0",
      "_view_name": "ProgressView",
      "bar_style": "success",
      "description": "",
      "description_tooltip": null,
      "layout": "IPY_MODEL_6f547382098641f5986f4950b4317c2b",
      "max": 747,
      "min": 0,
      "orientation": "horizontal",
      "style": "IPY_MODEL_b98e6f312f204d0981111a355a70d655",
      "value": 747
     }
    },
    "dd5392447ced4017893ab2e17442c625": {
     "model_module": "@jupyter-widgets/base",
     "model_module_version": "1.2.0",
     "model_name": "LayoutModel",
     "state": {
      "_model_module": "@jupyter-widgets/base",
      "_model_module_version": "1.2.0",
      "_model_name": "LayoutModel",
      "_view_count": null,
      "_view_module": "@jupyter-widgets/base",
      "_view_module_version": "1.2.0",
      "_view_name": "LayoutView",
      "align_content": null,
      "align_items": null,
      "align_self": null,
      "border": null,
      "bottom": null,
      "display": null,
      "flex": null,
      "flex_flow": null,
      "grid_area": null,
      "grid_auto_columns": null,
      "grid_auto_flow": null,
      "grid_auto_rows": null,
      "grid_column": null,
      "grid_gap": null,
      "grid_row": null,
      "grid_template_areas": null,
      "grid_template_columns": null,
      "grid_template_rows": null,
      "height": null,
      "justify_content": null,
      "justify_items": null,
      "left": null,
      "margin": null,
      "max_height": null,
      "max_width": null,
      "min_height": null,
      "min_width": null,
      "object_fit": null,
      "object_position": null,
      "order": null,
      "overflow": null,
      "overflow_x": null,
      "overflow_y": null,
      "padding": null,
      "right": null,
      "top": null,
      "visibility": null,
      "width": null
     }
    },
    "e0d8c8c921ed4c9ab75e5b6fa4c4ffe7": {
     "model_module": "@jupyter-widgets/controls",
     "model_module_version": "1.5.0",
     "model_name": "HTMLModel",
     "state": {
      "_dom_classes": [],
      "_model_module": "@jupyter-widgets/controls",
      "_model_module_version": "1.5.0",
      "_model_name": "HTMLModel",
      "_view_count": null,
      "_view_module": "@jupyter-widgets/controls",
      "_view_module_version": "1.5.0",
      "_view_name": "HTMLView",
      "description": "",
      "description_tooltip": null,
      "layout": "IPY_MODEL_2ee60bc5d45a4824900a32ad00e3bf8a",
      "placeholder": "​",
      "style": "IPY_MODEL_ce3f137556924c729b33c67398edf59c",
      "value": "model.safetensors: 100%"
     }
    },
    "e0eaaca824aa44c4b91788bbb4b6dcd1": {
     "model_module": "@jupyter-widgets/base",
     "model_module_version": "1.2.0",
     "model_name": "LayoutModel",
     "state": {
      "_model_module": "@jupyter-widgets/base",
      "_model_module_version": "1.2.0",
      "_model_name": "LayoutModel",
      "_view_count": null,
      "_view_module": "@jupyter-widgets/base",
      "_view_module_version": "1.2.0",
      "_view_name": "LayoutView",
      "align_content": null,
      "align_items": null,
      "align_self": null,
      "border": null,
      "bottom": null,
      "display": null,
      "flex": null,
      "flex_flow": null,
      "grid_area": null,
      "grid_auto_columns": null,
      "grid_auto_flow": null,
      "grid_auto_rows": null,
      "grid_column": null,
      "grid_gap": null,
      "grid_row": null,
      "grid_template_areas": null,
      "grid_template_columns": null,
      "grid_template_rows": null,
      "height": null,
      "justify_content": null,
      "justify_items": null,
      "left": null,
      "margin": null,
      "max_height": null,
      "max_width": null,
      "min_height": null,
      "min_width": null,
      "object_fit": null,
      "object_position": null,
      "order": null,
      "overflow": null,
      "overflow_x": null,
      "overflow_y": null,
      "padding": null,
      "right": null,
      "top": null,
      "visibility": null,
      "width": null
     }
    },
    "ea4e7008b5274ef28c7a8f312081a3d5": {
     "model_module": "@jupyter-widgets/controls",
     "model_module_version": "1.5.0",
     "model_name": "DescriptionStyleModel",
     "state": {
      "_model_module": "@jupyter-widgets/controls",
      "_model_module_version": "1.5.0",
      "_model_name": "DescriptionStyleModel",
      "_view_count": null,
      "_view_module": "@jupyter-widgets/base",
      "_view_module_version": "1.2.0",
      "_view_name": "StyleView",
      "description_width": ""
     }
    },
    "ef720fb323d941de9af435cd6dd2936f": {
     "model_module": "@jupyter-widgets/controls",
     "model_module_version": "1.5.0",
     "model_name": "HTMLModel",
     "state": {
      "_dom_classes": [],
      "_model_module": "@jupyter-widgets/controls",
      "_model_module_version": "1.5.0",
      "_model_name": "HTMLModel",
      "_view_count": null,
      "_view_module": "@jupyter-widgets/controls",
      "_view_module_version": "1.5.0",
      "_view_name": "HTMLView",
      "description": "",
      "description_tooltip": null,
      "layout": "IPY_MODEL_0ac12ff145514f449e3eea46a8de30f1",
      "placeholder": "​",
      "style": "IPY_MODEL_6e5f9b0a985e457ea041d8105081db15",
      "value": "config.json: 100%"
     }
    },
    "f17679f3a7f24664b21eb2332750a16d": {
     "model_module": "@jupyter-widgets/base",
     "model_module_version": "1.2.0",
     "model_name": "LayoutModel",
     "state": {
      "_model_module": "@jupyter-widgets/base",
      "_model_module_version": "1.2.0",
      "_model_name": "LayoutModel",
      "_view_count": null,
      "_view_module": "@jupyter-widgets/base",
      "_view_module_version": "1.2.0",
      "_view_name": "LayoutView",
      "align_content": null,
      "align_items": null,
      "align_self": null,
      "border": null,
      "bottom": null,
      "display": null,
      "flex": null,
      "flex_flow": null,
      "grid_area": null,
      "grid_auto_columns": null,
      "grid_auto_flow": null,
      "grid_auto_rows": null,
      "grid_column": null,
      "grid_gap": null,
      "grid_row": null,
      "grid_template_areas": null,
      "grid_template_columns": null,
      "grid_template_rows": null,
      "height": null,
      "justify_content": null,
      "justify_items": null,
      "left": null,
      "margin": null,
      "max_height": null,
      "max_width": null,
      "min_height": null,
      "min_width": null,
      "object_fit": null,
      "object_position": null,
      "order": null,
      "overflow": null,
      "overflow_x": null,
      "overflow_y": null,
      "padding": null,
      "right": null,
      "top": null,
      "visibility": null,
      "width": null
     }
    },
    "f2e8dd4edbf444bd953e575c9766a704": {
     "model_module": "@jupyter-widgets/base",
     "model_module_version": "1.2.0",
     "model_name": "LayoutModel",
     "state": {
      "_model_module": "@jupyter-widgets/base",
      "_model_module_version": "1.2.0",
      "_model_name": "LayoutModel",
      "_view_count": null,
      "_view_module": "@jupyter-widgets/base",
      "_view_module_version": "1.2.0",
      "_view_name": "LayoutView",
      "align_content": null,
      "align_items": null,
      "align_self": null,
      "border": null,
      "bottom": null,
      "display": null,
      "flex": null,
      "flex_flow": null,
      "grid_area": null,
      "grid_auto_columns": null,
      "grid_auto_flow": null,
      "grid_auto_rows": null,
      "grid_column": null,
      "grid_gap": null,
      "grid_row": null,
      "grid_template_areas": null,
      "grid_template_columns": null,
      "grid_template_rows": null,
      "height": null,
      "justify_content": null,
      "justify_items": null,
      "left": null,
      "margin": null,
      "max_height": null,
      "max_width": null,
      "min_height": null,
      "min_width": null,
      "object_fit": null,
      "object_position": null,
      "order": null,
      "overflow": null,
      "overflow_x": null,
      "overflow_y": null,
      "padding": null,
      "right": null,
      "top": null,
      "visibility": null,
      "width": null
     }
    }
   }
  }
 },
 "nbformat": 4,
 "nbformat_minor": 5
}
